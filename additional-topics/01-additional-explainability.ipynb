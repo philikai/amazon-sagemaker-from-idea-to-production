{
 "cells": [
  {
   "cell_type": "markdown",
   "id": "e6b39bb5-1408-45ab-af98-fa786ce6d55f",
   "metadata": {},
   "source": [
    "# Model Explainability\n",
    "In this step we reuse some code [from step 2](../02-sagemaker-containers.ipynb) to inspect our model with SageMaker Clarify both in batch inference as in a real-time endpoint. \n",
    "\n",
    "![](../img/six-steps-2.png)\n",
    "\n",
    "Model explainability has become a critical topic in the field of artificial intelligence, as the complexity of machine learning models has increased rapidly. Explainability refers to the ability to understand and interpret the decision-making process of a model, which is essential in making informed decisions and gaining trust in the model's predictions. SHAP (Shapley Additive Explanations) is a popular method for model explainability that has gained significant attention in recent years.\n",
    "\n",
    "SHAP is a unified framework that provides a game-theoretic approach to explain the output of any machine learning model. It uses Shapley values, a concept from cooperative game theory, to attribute the contribution of each feature to the model's output. SHAP has been shown to be effective in providing both global and local interpretability, allowing users to understand the overall behavior of the model and the reasoning behind specific predictions.\n",
    "\n",
    "However, the computational problem of SHAP lies in its complexity. SHAP values require the computation of all possible coalitions of features, which is an NP-hard problem. To address this challenge, several approximation methods have been proposed, including Kernel SHAP, Tree SHAP, and Deep SHAP. These methods use different techniques to approximate the SHAP values efficiently and accurately, making SHAP a practical solution for model explainability in real-world scenarios.\n",
    "\n",
    "SageMaker Clarify addresses this issue by providing a distributed and scalable implementation of SHAP that runs on Apache Spark in the background. It uses a processing job to run the SHAP algorithm on a cluster of EC2 instances, enabling the computation of SHAP values to be distributed across multiple nodes. This greatly reduces the time required for SHAP computations, making it practical to use for large datasets and complex models."
   ]
  },
  {
   "cell_type": "code",
   "execution_count": 88,
   "id": "b2166dfd-e044-46cf-9bd5-edf3ac28a067",
   "metadata": {},
   "outputs": [],
   "source": [
    "# use sys executable to install shap via pip if not installed already\n",
    "\n",
    "try:\n",
    "    import shap\n",
    "except:\n",
    "    print(\"shap not found, installing...\")\n",
    "    import sys\n",
    "    import subprocess\n",
    "    subprocess.check_call([sys.executable, \"-m\", \"pip\", \"install\", \"shap\"])\n",
    "    print(\"shap installed\")"
   ]
  },
  {
   "cell_type": "code",
   "execution_count": 1,
   "id": "f6e4e390-2278-4a1c-8886-13d67507c818",
   "metadata": {
    "tags": []
   },
   "outputs": [
    {
     "data": {
      "text/plain": [
       "'2.142.0'"
      ]
     },
     "execution_count": 1,
     "metadata": {},
     "output_type": "execute_result"
    }
   ],
   "source": [
    "import time\n",
    "import boto3\n",
    "import botocore\n",
    "import numpy as np  \n",
    "import pandas as pd  \n",
    "import sagemaker\n",
    "import io\n",
    "from collections import OrderedDict\n",
    "from time import gmtime, strftime\n",
    "from sklearn.metrics import roc_auc_score\n",
    "from sagemaker.experiments.run import Run\n",
    "from sagemaker.serializers import CSVSerializer\n",
    "from sagemaker.deserializers import JSONDeserializer, CSVDeserializer\n",
    "\n",
    "json_deserializer = JSONDeserializer()\n",
    "csv_serializer = CSVSerializer()\n",
    "csv_deserializer = CSVDeserializer()\n",
    "\n",
    "sagemaker.__version__"
   ]
  },
  {
   "cell_type": "code",
   "execution_count": 2,
   "id": "1c357f9a-0df7-4358-a231-62aaaeec605f",
   "metadata": {
    "tags": []
   },
   "outputs": [
    {
     "name": "stdout",
     "output_type": "stream",
     "text": [
      "Stored variables and their in-db values:\n",
      "baseline_s3_url                        -> 's3://sagemaker-us-east-1-510646607739/from-idea-t\n",
      "baseline_s3_url_catboost               -> 's3://sagemaker-us-east-1-510646607739/from-idea-t\n",
      "bucket_name                            -> 'sagemaker-us-east-1-510646607739'\n",
      "bucket_prefix                          -> 'from-idea-to-prod/xgboost'\n",
      "bucket_prefix_catboost                 -> 'from-idea-to-prod/catboost'\n",
      "domain_id                              -> None\n",
      "experiment_name                        -> 'Model-Improvement-Efforts-04-13-17-21'\n",
      "initialized                            -> True\n",
      "input_s3_url_catboost                  -> 's3://sagemaker-us-east-1-510646607739/from-idea-t\n",
      "output_s3_url                          -> 's3://sagemaker-us-east-1-510646607739/from-idea-t\n",
      "region                                 -> 'us-east-1'\n",
      "sm_role                                -> 'arn:aws:iam::510646607739:role/service-role/Amazo\n",
      "test_s3_url                            -> 's3://sagemaker-us-east-1-510646607739/from-idea-t\n",
      "test_s3_url_catboost                   -> 's3://sagemaker-us-east-1-510646607739/from-idea-t\n",
      "train_s3_url                           -> 's3://sagemaker-us-east-1-510646607739/from-idea-t\n",
      "train_s3_url_catboost                  -> 's3://sagemaker-us-east-1-510646607739/from-idea-t\n",
      "training_job_name                      -> 'from-idea-to-prod-training-2023-04-19-14-11-04-14\n",
      "validation_s3_url                      -> 's3://sagemaker-us-east-1-510646607739/from-idea-t\n",
      "validation_s3_url_catboost             -> 's3://sagemaker-us-east-1-510646607739/from-idea-t\n"
     ]
    }
   ],
   "source": [
    "%store -r \n",
    "\n",
    "%store\n",
    "\n",
    "try:\n",
    "    initialized\n",
    "except NameError:\n",
    "    print(\"+++++++++++++++++++++++++++++++++++++++++++++++++\")\n",
    "    print(\"[ERROR] YOU HAVE TO RUN 00-start-here notebook   \")\n",
    "    print(\"+++++++++++++++++++++++++++++++++++++++++++++++++\")"
   ]
  },
  {
   "cell_type": "code",
   "execution_count": 3,
   "id": "5214e551-4800-47c2-9eae-337f4fc5ed7f",
   "metadata": {
    "tags": []
   },
   "outputs": [
    {
     "name": "stderr",
     "output_type": "stream",
     "text": [
      "INFO:botocore.credentials:Found credentials in shared credentials file: ~/.aws/credentials\n"
     ]
    }
   ],
   "source": [
    "session = sagemaker.Session()\n",
    "sm = session.sagemaker_client"
   ]
  },
  {
   "cell_type": "markdown",
   "id": "70ee5a09-46fd-4d7a-9037-9b6247a1f21d",
   "metadata": {},
   "source": [
    "Set the Amazon S3 paths:\n"
   ]
  },
  {
   "cell_type": "code",
   "execution_count": 4,
   "id": "54fa1abd-c0ae-4e55-901c-7250c227ccbb",
   "metadata": {
    "tags": []
   },
   "outputs": [],
   "source": [
    "train_s3_url = f\"s3://{bucket_name}/{bucket_prefix}/train\"\n",
    "validation_s3_url = f\"s3://{bucket_name}/{bucket_prefix}/validation\"\n",
    "test_s3_url = f\"s3://{bucket_name}/{bucket_prefix}/test\"\n",
    "baseline_s3_url = f\"s3://{bucket_name}/{bucket_prefix}/baseline\"\n",
    "output_s3_url = f\"s3://{bucket_name}/{bucket_prefix}/output\""
   ]
  },
  {
   "cell_type": "code",
   "execution_count": 5,
   "id": "ed6a2d8e-acde-48a8-9f12-a1cd0d703a41",
   "metadata": {
    "tags": []
   },
   "outputs": [
    {
     "name": "stdout",
     "output_type": "stream",
     "text": [
      "Stored 'train_s3_url' (str)\n",
      "Stored 'validation_s3_url' (str)\n",
      "Stored 'test_s3_url' (str)\n",
      "Stored 'baseline_s3_url' (str)\n",
      "Stored 'output_s3_url' (str)\n"
     ]
    }
   ],
   "source": [
    "%store train_s3_url\n",
    "%store validation_s3_url\n",
    "%store test_s3_url\n",
    "%store baseline_s3_url\n",
    "%store output_s3_url"
   ]
  },
  {
   "cell_type": "markdown",
   "id": "1d25d03a-e988-4a73-acdd-874718d03a74",
   "metadata": {},
   "source": [
    "## Model training\n",
    "Follow the same approach and now run the model training as a [SageMaker training job](https://sagemaker.readthedocs.io/en/stable/overview.html#using-estimators)."
   ]
  },
  {
   "cell_type": "code",
   "execution_count": 6,
   "id": "dfbeec6d-419d-4d88-a3f6-194440dd0124",
   "metadata": {
    "tags": []
   },
   "outputs": [
    {
     "name": "stderr",
     "output_type": "stream",
     "text": [
      "INFO:sagemaker.image_uris:Ignoring unnecessary instance type: None.\n"
     ]
    },
    {
     "name": "stdout",
     "output_type": "stream",
     "text": [
      "683313688378.dkr.ecr.us-east-1.amazonaws.com/sagemaker-xgboost:1.5-1\n"
     ]
    }
   ],
   "source": [
    "# get training container uri\n",
    "training_image = sagemaker.image_uris.retrieve(\"xgboost\", region=region, version=\"1.5-1\")\n",
    "\n",
    "print(training_image)"
   ]
  },
  {
   "cell_type": "markdown",
   "id": "64034359-5102-4678-af52-aba7f21a4212",
   "metadata": {},
   "source": [
    "Define the data input channels for the training job. Set _train_ and _validation_ channels via the SageMaker SDK [`TrainingInput`](https://sagemaker.readthedocs.io/en/stable/api/utility/inputs.html#sagemaker.inputs.TrainingInput) class:"
   ]
  },
  {
   "cell_type": "code",
   "execution_count": 7,
   "id": "82550351-737f-4a55-9578-0ae58ca1c156",
   "metadata": {
    "tags": []
   },
   "outputs": [],
   "source": [
    "s3_input_train = sagemaker.inputs.TrainingInput(train_s3_url, content_type='csv')\n",
    "s3_input_validation = sagemaker.inputs.TrainingInput(validation_s3_url, content_type='csv')"
   ]
  },
  {
   "cell_type": "code",
   "execution_count": 8,
   "id": "86c9a303-928a-4053-9002-cd618cffa6dd",
   "metadata": {
    "tags": []
   },
   "outputs": [],
   "source": [
    "train_instance_count = 1\n",
    "train_instance_type = \"ml.m5.xlarge\""
   ]
  },
  {
   "cell_type": "markdown",
   "id": "54807668-6a2d-44ac-9007-d945ec19198a",
   "metadata": {},
   "source": [
    "Instantiate an [Estimator](https://sagemaker.readthedocs.io/en/stable/api/training/estimators.html) object and set algorithm's hyperparameters. Refer to [XGBoost hyperparameters](https://docs.aws.amazon.com/sagemaker/latest/dg/xgboost_hyperparameters.html) for more information."
   ]
  },
  {
   "cell_type": "code",
   "execution_count": 9,
   "id": "db1a89cc-c841-4e5d-99b3-d4fe5b6435cc",
   "metadata": {
    "tags": []
   },
   "outputs": [],
   "source": [
    "# Instantiate an XGBoost estimator object\n",
    "estimator = sagemaker.estimator.Estimator(\n",
    "    image_uri=training_image,  # XGBoost algorithm container\n",
    "    instance_type=train_instance_type,  # type of training instance\n",
    "    instance_count=train_instance_count,  # number of instances to be used\n",
    "    role=sm_role,  # IAM execution role to be used\n",
    "    max_run=20 * 60,  # Maximum allowed active runtime\n",
    "    use_spot_instances=True,  # Use spot instances to reduce cost\n",
    "    max_wait=30 * 60,  # Maximum clock time (including spot delays)\n",
    "    output_path=output_s3_url, # S3 location for saving the training result\n",
    "    sagemaker_session=session, # Session object which manages interactions with SageMaker API and AWS services\n",
    "    base_job_name=\"from-idea-to-prod-training\", # Prefix for training job name\n",
    ")\n",
    "\n",
    "# define its hyperparameters\n",
    "estimator.set_hyperparameters(\n",
    "    num_round=150, # the number of rounds to run the training\n",
    "    max_depth=7, # maximum depth of a tree\n",
    "    eta=0.318, # step size shrinkage used in updates to prevent overfitting\n",
    "    alpha=2.5, # L1 regularization term on weights\n",
    "    objective=\"binary:logistic\",\n",
    "    eval_metric=\"auc\", # evaluation metrics for validation data\n",
    "    subsample=0.8, # subsample ratio of the training instance\n",
    "    colsample_bytree=0.8, # subsample ratio of columns when constructing each tree\n",
    "    min_child_weight=8.1, # minimum sum of instance weight (hessian) needed in a child\n",
    "    early_stopping_rounds=10, # the model trains until the validation score stops improving\n",
    "    verbosity=1, # verbosity of printing messages\n",
    ")"
   ]
  },
  {
   "cell_type": "markdown",
   "id": "a3022218-4f87-4e59-8f58-9bab2a44bb96",
   "metadata": {},
   "source": [
    "Now we can either train a model, or retrieve our last training job from the workshop before. "
   ]
  },
  {
   "cell_type": "code",
   "execution_count": 11,
   "id": "856cde4f-c1a3-436e-ad17-daeb77ebd60f",
   "metadata": {
    "tags": []
   },
   "outputs": [],
   "source": [
    "training_inputs = {'train': s3_input_train, 'validation': s3_input_validation}"
   ]
  },
  {
   "cell_type": "code",
   "execution_count": 12,
   "id": "ef0aadab-6161-485a-8bbe-7ad07ceef393",
   "metadata": {
    "tags": []
   },
   "outputs": [],
   "source": [
    "try:\n",
    "    experiment_name\n",
    "except NameError:\n",
    "    print(\"the experiment name was not set, therefore defining a new one!\")\n",
    "    experiment_name = f\"from-idea-to-prod-experiment-{strftime('%d-%H-%M-%S', gmtime())}\"\n",
    "    print(f\"new experiment name is: {experiment_name}\")"
   ]
  },
  {
   "cell_type": "code",
   "execution_count": 13,
   "id": "287da7a9-c0ca-479e-8677-24176d91f95f",
   "metadata": {
    "tags": []
   },
   "outputs": [
    {
     "name": "stderr",
     "output_type": "stream",
     "text": [
      "INFO:sagemaker:Creating training-job with name: from-idea-to-prod-training-2023-04-24-13-02-44-917\n"
     ]
    },
    {
     "name": "stdout",
     "output_type": "stream",
     "text": [
      "\n",
      "2023-04-24 13:02:46 Starting - Starting the training job..\n",
      "2023-04-24 13:03:02 Starting - Preparing the instances for training........\n",
      "2023-04-24 13:03:50 Downloading - Downloading input data.....\n",
      "2023-04-24 13:04:21 Training - Downloading the training image...\n",
      "2023-04-24 13:04:42 Training - Training image download completed. Training in progress...\n",
      "2023-04-24 13:04:57 Uploading - Uploading generated training model..\n",
      "2023-04-24 13:05:13 Completed - Training job completed\n"
     ]
    }
   ],
   "source": [
    "try:\n",
    "    run_suffix = strftime('%Y-%m-%M-%S', gmtime())\n",
    "    run_name = f\"container-training-{run_suffix}\"\n",
    "\n",
    "    with Run(experiment_name=experiment_name,\n",
    "             run_name=run_name,\n",
    "             run_display_name=\"training-model-explainability\",\n",
    "             sagemaker_session=session\n",
    "            ) as run:\n",
    "        \n",
    "        estimator.fit(\n",
    "            training_inputs,\n",
    "            wait=True,\n",
    "            logs=False,\n",
    "        ) \n",
    "except botocore.exceptions.ClientError as e:\n",
    "    if e.response['Error']['Code'] == 'AccessDeniedException':\n",
    "        print(f\"Ignore AccessDeniedException: {e.response['Error']['Message']} because of the slow resource tag auto propagation\")\n",
    "    else:\n",
    "        raise e"
   ]
  },
  {
   "cell_type": "markdown",
   "id": "a7b9af81-09c1-45b1-b59b-489a0d14fa76",
   "metadata": {},
   "source": [
    "### Output model performance"
   ]
  },
  {
   "cell_type": "code",
   "execution_count": 15,
   "id": "052e9640-3a0b-4a30-a897-ecd2ee102ca4",
   "metadata": {
    "tags": []
   },
   "outputs": [],
   "source": [
    "if estimator._current_job_name:\n",
    "    training_job_name = estimator._current_job_name"
   ]
  },
  {
   "cell_type": "code",
   "execution_count": 16,
   "id": "a69d7a0c-8cbe-4fd1-af44-9677107b5229",
   "metadata": {
    "tags": []
   },
   "outputs": [
    {
     "name": "stdout",
     "output_type": "stream",
     "text": [
      "Train-auc:0.82, Validate-auc:0.78\n"
     ]
    }
   ],
   "source": [
    "metrics = None\n",
    "while not metrics:\n",
    "    metrics = sm.describe_training_job(\n",
    "        TrainingJobName=training_job_name\n",
    "        ).get(\"FinalMetricDataList\")\n",
    "\n",
    "    if not metrics:\n",
    "        print(f\"Training job {training_job_name} hasn't finished yet!\")\n",
    "        time.sleep(10)\n",
    "    \n",
    "train_auc = float([m['Value'] for m in metrics if m['MetricName'] == 'train:auc'][0])\n",
    "validate_auc = float([m['Value'] for m in metrics if m['MetricName'] == 'validation:auc'][0])\n",
    "\n",
    "print(f\"Train-auc:{train_auc:.2f}, Validate-auc:{validate_auc:.2f}\")"
   ]
  },
  {
   "cell_type": "code",
   "execution_count": 17,
   "id": "e83a2509-8e2c-4e1c-874f-215745be46e2",
   "metadata": {
    "tags": []
   },
   "outputs": [
    {
     "name": "stdout",
     "output_type": "stream",
     "text": [
      "Stored 'training_job_name' (str)\n"
     ]
    }
   ],
   "source": [
    "%store training_job_name"
   ]
  },
  {
   "cell_type": "code",
   "execution_count": 18,
   "id": "05a41f7a-4f7e-413b-9f5f-a7557bf4060a",
   "metadata": {
    "tags": []
   },
   "outputs": [
    {
     "name": "stdout",
     "output_type": "stream",
     "text": [
      "s3://sagemaker-us-east-1-510646607739/from-idea-to-prod/xgboost/output/from-idea-to-prod-training-2023-04-24-13-02-44-917/output/model.tar.gz\n",
      "from-idea-to-prod-transform-24-13-16-41\n"
     ]
    }
   ],
   "source": [
    "# Print the S3 path to the model artifact:\n",
    "print(estimator.model_data)\n",
    "\n",
    "model_name = f\"from-idea-to-prod-transform-{strftime('%d-%H-%M-%S', gmtime())}\"\n",
    "print(model_name)\n"
   ]
  },
  {
   "cell_type": "markdown",
   "id": "308bf26f-403c-4433-8805-feff82311721",
   "metadata": {},
   "source": [
    "### Loading the model from the training job\n",
    "Alternatively, you can load a model from a model artifact produced by a training job. You create a transformer with that model."
   ]
  },
  {
   "cell_type": "code",
   "execution_count": 19,
   "id": "e971d76c-8e06-4b94-9b25-6eaec8703622",
   "metadata": {
    "tags": []
   },
   "outputs": [
    {
     "name": "stderr",
     "output_type": "stream",
     "text": [
      "INFO:sagemaker:Creating model with name: from-idea-to-prod-transform-24-13-16-41\n"
     ]
    }
   ],
   "source": [
    "model = session.create_model_from_job(\n",
    "    training_job_name=training_job_name, \n",
    "    name=model_name,\n",
    ")"
   ]
  },
  {
   "cell_type": "code",
   "execution_count": 20,
   "id": "50993f97-dce2-4084-a1de-22658fc8b669",
   "metadata": {
    "tags": []
   },
   "outputs": [],
   "source": [
    "transform_s3_url = f\"s3://{bucket_name}/{bucket_prefix}/transform\"\n",
    "\n",
    "transformer = sagemaker.transformer.Transformer(\n",
    "    model_name=model,\n",
    "    instance_count=1,\n",
    "    instance_type=train_instance_type,\n",
    "    accept=\"text/csv\",\n",
    "    assemble_with=\"Line\",\n",
    "    output_path=transform_s3_url,\n",
    "    base_transform_job_name=\"from-idea-to-prod-trasform\",\n",
    "    sagemaker_session=session,\n",
    ")"
   ]
  },
  {
   "cell_type": "markdown",
   "id": "701ce9a6-89c8-4db6-b657-b9437ca12ad7",
   "metadata": {},
   "source": [
    "#### Run transform job"
   ]
  },
  {
   "cell_type": "code",
   "execution_count": 21,
   "id": "4b50377c-0196-41a3-9c8c-70ee2266c160",
   "metadata": {
    "collapsed": true,
    "jupyter": {
     "outputs_hidden": true
    },
    "tags": []
   },
   "outputs": [
    {
     "name": "stderr",
     "output_type": "stream",
     "text": [
      "INFO:sagemaker:Creating transform job with name: from-idea-to-prod-transform-24-13-16-48\n"
     ]
    },
    {
     "name": "stdout",
     "output_type": "stream",
     "text": [
      ".........................[2023-04-24:13:21:17:INFO] No GPUs detected (normal if no gpus installed)\n",
      "[2023-04-24:13:21:17:INFO] No GPUs detected (normal if no gpus installed)\n",
      "[2023-04-24:13:21:17:INFO] nginx config: \n",
      "worker_processes auto;\n",
      "daemon off;\n",
      "pid /tmp/nginx.pid;\n",
      "error_log  /dev/stderr;\n",
      "worker_rlimit_nofile 4096;\n",
      "events {\n",
      "  worker_connections 2048;\n",
      "}\n",
      "http {\n",
      "  include /etc/nginx/mime.types;\n",
      "  default_type application/octet-stream;\n",
      "  access_log /dev/stdout combined;\n",
      "  upstream gunicorn {\n",
      "    server unix:/tmp/gunicorn.sock;\n",
      "  }\n",
      "  server {\n",
      "    listen 8080 deferred;\n",
      "    client_max_body_size 0;\n",
      "    keepalive_timeout 3;\n",
      "    location ~ ^/(ping|invocations|execution-parameters) {\n",
      "      proxy_set_header X-Forwarded-For $proxy_add_x_forwarded_for;\n",
      "      proxy_set_header Host $http_host;\n",
      "      proxy_redirect off;\n",
      "      proxy_read_timeout 60s;\n",
      "      proxy_pass http://gunicorn;\n",
      "    }\n",
      "    location / {\n",
      "      return 404 \"{}\";\n",
      "    }\n",
      "  }\n",
      "}\n",
      "[2023-04-24 13:21:17 +0000] [19] [INFO] Starting gunicorn 19.10.0\n",
      "[2023-04-24 13:21:17 +0000] [19] [INFO] Listening at: unix:/tmp/gunicorn.sock (19)\n",
      "[2023-04-24 13:21:17 +0000] [19] [INFO] Using worker: gevent\n",
      "/miniconda3/lib/python3.8/os.py:1023: RuntimeWarning: line buffering (buffering=1) isn't supported in binary mode, the default buffer size will be used\n",
      "  return io.open(fd, *args, **kwargs)\n",
      "[2023-04-24 13:21:17 +0000] [25] [INFO] Booting worker with pid: 25\n",
      "[2023-04-24 13:21:17 +0000] [26] [INFO] Booting worker with pid: 26\n",
      "[2023-04-24 13:21:17 +0000] [27] [INFO] Booting worker with pid: 27\n",
      "[2023-04-24 13:21:17 +0000] [28] [INFO] Booting worker with pid: 28\n",
      "[2023-04-24:13:21:18:INFO] No GPUs detected (normal if no gpus installed)\n",
      "[2023-04-24:13:21:18:INFO] No GPUs detected (normal if no gpus installed)\n",
      "[2023-04-24:13:21:18:INFO] Loading the model from /opt/ml/model/xgboost-model\n",
      "[2023-04-24:13:21:18:INFO] Loading the model from /opt/ml/model/xgboost-model\n",
      "[2023-04-24:13:21:18:INFO] Model objective : binary:logistic\n",
      "[2023-04-24:13:21:18:INFO] Model objective : binary:logistic\n",
      "[2023-04-24:13:21:18:INFO] No GPUs detected (normal if no gpus installed)\n",
      "[2023-04-24:13:21:18:INFO] Loading the model from /opt/ml/model/xgboost-model\n",
      "[2023-04-24:13:21:18:INFO] Model objective : binary:logistic\n",
      "[2023-04-24:13:21:19:INFO] No GPUs detected (normal if no gpus installed)\n",
      "[2023-04-24:13:21:19:INFO] Loading the model from /opt/ml/model/xgboost-model\n",
      "[2023-04-24:13:21:19:INFO] Model objective : binary:logistic\n",
      "[2023-04-24:13:21:21:INFO] No GPUs detected (normal if no gpus installed)\n",
      "169.254.255.130 - - [24/Apr/2023:13:21:21 +0000] \"GET /ping HTTP/1.1\" 200 0 \"-\" \"Go-http-client/1.1\"\n",
      "169.254.255.130 - - [24/Apr/2023:13:21:21 +0000] \"GET /execution-parameters HTTP/1.1\" 200 84 \"-\" \"Go-http-client/1.1\"\n",
      "[2023-04-24:13:21:22:INFO] No GPUs detected (normal if no gpus installed)\n",
      "[2023-04-24:13:21:22:INFO] Determined delimiter of CSV input is ','\n",
      "/miniconda3/lib/python3.8/site-packages/xgboost/core.py:105: UserWarning: ntree_limit is deprecated, use `iteration_range` or model slicing instead.\n",
      "  warnings.warn(\n",
      "169.254.255.130 - - [24/Apr/2023:13:21:22 +0000] \"POST /invocations HTTP/1.1\" 200 81989 \"-\" \"Go-http-client/1.1\"\n",
      "2023-04-24T13:21:21.956:[sagemaker logs]: MaxConcurrentTransforms=4, MaxPayloadInMB=6, BatchStrategy=MULTI_RECORD\n",
      "\n"
     ]
    }
   ],
   "source": [
    "transform_job_name = f\"from-idea-to-prod-transform-{strftime('%d-%H-%M-%S', gmtime())}\"\n",
    "\n",
    "try:\n",
    "    run_suffix = strftime('%Y-%m-%M-%S', gmtime())\n",
    "    run_name = f\"batch-transform-{run_suffix}\"\n",
    "\n",
    "    with Run(experiment_name=experiment_name,\n",
    "             run_name=run_name,\n",
    "             run_display_name=\"batch-transform\",\n",
    "             sagemaker_session=session\n",
    "            ) as run:\n",
    "        transformer.transform(    \n",
    "            data=f\"{test_s3_url}/test_x.csv\",\n",
    "            content_type=\"text/csv\",\n",
    "            split_type=\"Line\", \n",
    "            job_name=transform_job_name,\n",
    "            wait=True,\n",
    "            # experiment_config=experiment_config,\n",
    "        )\n",
    "except botocore.exceptions.ClientError as e:\n",
    "    if e.response['Error']['Code'] == 'AccessDeniedException':\n",
    "        print(f\"Ignore AccessDeniedException: {e.response['Error']['Message']} because of the slow resource tag auto propagation\")\n",
    "    else:\n",
    "        raise e"
   ]
  },
  {
   "cell_type": "code",
   "execution_count": 22,
   "id": "1f11a902-1306-430f-8925-2ddd17741609",
   "metadata": {
    "tags": []
   },
   "outputs": [],
   "source": [
    "while sm.describe_transform_job(\n",
    "        TransformJobName=transformer._current_job_name\n",
    "    )[\"TransformJobStatus\"] != \"Completed\":\n",
    "    time.sleep(10)\n",
    "    print(f\"Wait until {transformer._current_job_name} completed\")"
   ]
  },
  {
   "cell_type": "code",
   "execution_count": 23,
   "id": "29c80898-b328-4413-bee2-34faf29f5f22",
   "metadata": {
    "tags": []
   },
   "outputs": [
    {
     "data": {
      "text/plain": [
       "'s3://sagemaker-us-east-1-510646607739/from-idea-to-prod/xgboost/transform'"
      ]
     },
     "execution_count": 23,
     "metadata": {},
     "output_type": "execute_result"
    }
   ],
   "source": [
    "transformer.output_path"
   ]
  },
  {
   "attachments": {},
   "cell_type": "markdown",
   "id": "56f25995-e542-4f04-9130-1ea489a4cce0",
   "metadata": {},
   "source": [
    "### Evaluate Predictions"
   ]
  },
  {
   "cell_type": "code",
   "execution_count": 24,
   "id": "cc287aa8-de90-4de3-b59c-d7fc0e9aad2f",
   "metadata": {
    "tags": []
   },
   "outputs": [
    {
     "name": "stdout",
     "output_type": "stream",
     "text": [
      "2023-04-24 15:21:23      81989 test_x.csv.out\n"
     ]
    }
   ],
   "source": [
    "!aws s3 ls {transformer.output_path}/"
   ]
  },
  {
   "cell_type": "code",
   "execution_count": 25,
   "id": "ec638017-8bc3-498a-8b0d-26b5e85c0cde",
   "metadata": {
    "tags": []
   },
   "outputs": [
    {
     "name": "stdout",
     "output_type": "stream",
     "text": [
      "download: s3://sagemaker-us-east-1-510646607739/from-idea-to-prod/xgboost/transform/test_x.csv.out to tmp/predictions.csv\n",
      "download: s3://sagemaker-us-east-1-510646607739/from-idea-to-prod/xgboost/test/test_y.csv to tmp/test_y.csv\n"
     ]
    }
   ],
   "source": [
    "!aws s3 cp {transformer.output_path}/test_x.csv.out tmp/predictions.csv\n",
    "!aws s3 cp $test_s3_url/test_y.csv tmp/test_y.csv"
   ]
  },
  {
   "cell_type": "code",
   "execution_count": 26,
   "id": "4d5e4e16-4739-437c-8237-2083aae150be",
   "metadata": {
    "tags": []
   },
   "outputs": [],
   "source": [
    "predictions = pd.read_csv(\"tmp/predictions.csv\", names=[\"y_prob\"])\n",
    "test_y = pd.read_csv(\"tmp/test_y.csv\", names=['y'])"
   ]
  },
  {
   "cell_type": "markdown",
   "id": "99c3e10d-4541-410a-9c78-965bbcb05c5f",
   "metadata": {},
   "source": [
    "#### Crosstab"
   ]
  },
  {
   "cell_type": "code",
   "execution_count": 27,
   "id": "5f5e150c-1bf7-414c-af9d-54ed108117aa",
   "metadata": {
    "tags": []
   },
   "outputs": [
    {
     "data": {
      "text/html": [
       "<div>\n",
       "<style scoped>\n",
       "    .dataframe tbody tr th:only-of-type {\n",
       "        vertical-align: middle;\n",
       "    }\n",
       "\n",
       "    .dataframe tbody tr th {\n",
       "        vertical-align: top;\n",
       "    }\n",
       "\n",
       "    .dataframe thead th {\n",
       "        text-align: right;\n",
       "    }\n",
       "</style>\n",
       "<table border=\"1\" class=\"dataframe\">\n",
       "  <thead>\n",
       "    <tr style=\"text-align: right;\">\n",
       "      <th>predictions</th>\n",
       "      <th>0.0</th>\n",
       "      <th>1.0</th>\n",
       "    </tr>\n",
       "    <tr>\n",
       "      <th>actuals</th>\n",
       "      <th></th>\n",
       "      <th></th>\n",
       "    </tr>\n",
       "  </thead>\n",
       "  <tbody>\n",
       "    <tr>\n",
       "      <th>0</th>\n",
       "      <td>3596</td>\n",
       "      <td>40</td>\n",
       "    </tr>\n",
       "    <tr>\n",
       "      <th>1</th>\n",
       "      <td>385</td>\n",
       "      <td>98</td>\n",
       "    </tr>\n",
       "  </tbody>\n",
       "</table>\n",
       "</div>"
      ],
      "text/plain": [
       "predictions   0.0  1.0\n",
       "actuals               \n",
       "0            3596   40\n",
       "1             385   98"
      ]
     },
     "execution_count": 27,
     "metadata": {},
     "output_type": "execute_result"
    }
   ],
   "source": [
    "pd.crosstab(\n",
    "    index=test_y['y'].values,\n",
    "    columns=np.array(np.round(predictions), dtype=float).squeeze(), \n",
    "    rownames=['actuals'], \n",
    "    colnames=['predictions']\n",
    ")"
   ]
  },
  {
   "cell_type": "code",
   "execution_count": 28,
   "id": "bd11aa9b-9bcc-4e70-a508-93f02781fa73",
   "metadata": {
    "tags": []
   },
   "outputs": [
    {
     "name": "stdout",
     "output_type": "stream",
     "text": [
      "Test-auc: 0.7715\n"
     ]
    }
   ],
   "source": [
    "test_auc = roc_auc_score(test_y, predictions)\n",
    "print(f\"Test-auc: {test_auc:.4f}\")"
   ]
  },
  {
   "cell_type": "code",
   "execution_count": 29,
   "id": "f95b723e-de4a-4699-a6c0-07687d57f809",
   "metadata": {
    "tags": []
   },
   "outputs": [
    {
     "name": "stdout",
     "output_type": "stream",
     "text": [
      "['y', 'age', 'campaign', 'pdays', 'previous', 'no_previous_contact', 'not_working', 'job_admin.', 'job_blue-collar', 'job_entrepreneur', 'job_housemaid', 'job_management', 'job_retired', 'job_self-employed', 'job_services', 'job_student', 'job_technician', 'job_unemployed', 'job_unknown', 'marital_divorced', 'marital_married', 'marital_single', 'marital_unknown', 'education_basic.4y', 'education_basic.6y', 'education_basic.9y', 'education_high.school', 'education_illiterate', 'education_professional.course', 'education_university.degree', 'education_unknown', 'default_no', 'default_unknown', 'default_yes', 'housing_no', 'housing_unknown', 'housing_yes', 'loan_no', 'loan_unknown', 'loan_yes', 'contact_cellular', 'contact_telephone', 'month_apr', 'month_aug', 'month_dec', 'month_jul', 'month_jun', 'month_mar', 'month_may', 'month_nov', 'month_oct', 'month_sep', 'day_of_week_fri', 'day_of_week_mon', 'day_of_week_thu', 'day_of_week_tue', 'day_of_week_wed', 'poutcome_failure', 'poutcome_nonexistent', 'poutcome_success']\n"
     ]
    }
   ],
   "source": [
    "# reading the feature headers from the feature_headers.txt file \n",
    "# opening the file in read mode\n",
    "feature_header_file = open(\"feature_headers.txt\", \"r\")\n",
    "\n",
    "# reading the file\n",
    "data = feature_header_file.read()\n",
    "\n",
    "# replacing end splitting the text\n",
    "# when newline ('\\n') is seen.\n",
    "feature_headers_list = data.split(\",\")\n",
    "print(feature_headers_list)\n",
    "feature_header_file.close()"
   ]
  },
  {
   "attachments": {},
   "cell_type": "markdown",
   "id": "b9544978-c5dc-47e2-aaeb-66cd792c1a07",
   "metadata": {},
   "source": [
    "## Model Bias and Explainability with SageMaker Clarify \n",
    "You can use SageMaker Clarify to analyze your datasets and models for explainability and bias. A SageMaker Clarify Processing job uses the SageMaker Clarify Processing container to interact with an Amazon S3 bucket containing your input datasets. You can also use SageMaker Clarify to analyze a customer model that is deployed to a SageMaker inference endpoint.\n",
    "\n",
    "The following graphic shows how a SageMaker Clarify Processing job interacts with your input data and optionally, with a customer model. This interaction depends on the specific type of analysis being performed. The SageMaker Clarify Processing container obtains the input dataset and configuration for analysis from an S3 bucket. For certain analysis types, including feature analysis, the SageMaker Clarify Processing container must send requests to the model container. Then it retrieves the model predictions from the response that the model container sends. After that, the SageMaker Clarify Processing container computes and saves analysis results to the S3 bucket. Please note that Clarify will automatically create and tear down inference endpoints for batch processes. Online explainability shows a different architecture and will be covered at the end of the section. \n",
    "\n",
    "![Clarify Processor Image](../img/clarify-processor.png)\n",
    "\n",
    "You can run a SageMaker Clarify Processing job at multiple stages in the lifecycle of the machine learning workflow. SageMaker Clarify can help you compute the following analysis types:\n",
    "\n",
    "[Pre-training bias metrics](https://docs.aws.amazon.com/sagemaker/latest/dg/clarify-measure-data-bias) can help you understand the bias in your data so that you can address it and train your model on a more fair dataset. To run a job to analyze pre-training bias metrics, you must provide the dataset and a JSON analysis configuration file to Configure the Analysis.\n",
    "\n",
    "[Post-training bias metrics](https://docs.aws.amazon.com/sagemaker/latest/dg/clarify-measure-post-training-bias.html) can help you understand any bias introduced by an algorithm, hyperparameter choices, or any bias that wasn't apparent earlier in the flow. SageMaker Clarify uses the model predictions in addition to the data and labels to identify bias. To run a job to analyze post-training bias metrics, you must provide the dataset and a JSON analysis configuration file. The configuration should include the model or endpoint name.\n",
    "\n",
    "[SHAP values for explainability](https://docs.aws.amazon.com/sagemaker/latest/dg/clarify-shapley-values.html) can help you understand what impact your feature has on what your model predicts. This feature requires a trained model.\n",
    "\n",
    "[Online Explainability with SageMaker Clarify](https://docs.aws.amazon.com/sagemaker/latest/dg/clarify-online-explainability.html) lets you analyze explainability for SageMaker real-time inference endpoints in real time, continuously. The online explainability function fits into the Deploy to production part of the Amazon SageMaker Machine Learning workflow.\n",
    "\n",
    "[Partial dependence plots (PDP)](https://docs.aws.amazon.com/sagemaker/latest/dg/clarify-partial-dependence-plots.html) can help you understand how much your predicted target variable would change if you varied the value of one feature. This feature requires a trained model.\n",
    "\n",
    "In the following section we will deep dive into the first four options presented. \n"
   ]
  },
  {
   "cell_type": "markdown",
   "id": "bdd00833-5dc1-41b2-8313-68adfbc7a18d",
   "metadata": {},
   "source": [
    "### Pre- and post training bias\n",
    "To inspect pre-and post data we can use the SageMaker Clarify bias report. \n",
    "\n",
    "We will run through the example with our dataset at hand, however it should be noted, that in our example, we are not really running the risk of putting a customer in a disadvantage as we are trying to sell them a term deposit. "
   ]
  },
  {
   "cell_type": "code",
   "execution_count": 30,
   "id": "ed6f794e-f217-426f-ad24-e0681b4b628e",
   "metadata": {
    "tags": []
   },
   "outputs": [
    {
     "name": "stderr",
     "output_type": "stream",
     "text": [
      "INFO:sagemaker.image_uris:Defaulting to the only supported framework/algorithm version: 1.0.\n",
      "INFO:sagemaker.image_uris:Ignoring unnecessary instance type: None.\n"
     ]
    }
   ],
   "source": [
    "from sagemaker import clarify\n",
    "\n",
    "# Initialize a SageMakerClarifyProcessor to compute bias metrics and model explanations.\n",
    "clarify_processor = clarify.SageMakerClarifyProcessor(\n",
    "    role=sm_role, instance_count=2, instance_type=\"ml.m5.xlarge\", sagemaker_session=session\n",
    ")"
   ]
  },
  {
   "cell_type": "markdown",
   "id": "d82c9b89-4915-4f15-8c6f-4c45e371b37e",
   "metadata": {
    "tags": []
   },
   "source": [
    "^^^ \n",
    "\n",
    "Above already gives a hint, why SageMaker Clarify has a clear advantage over the regular implemenation of SHAP that many data scientists are using. It is running on Spark and can therefore ideally take adavantage of the distributed computing possibilities of Spark. \n"
   ]
  },
  {
   "cell_type": "code",
   "execution_count": 31,
   "id": "3b6191f3",
   "metadata": {},
   "outputs": [
    {
     "name": "stderr",
     "output_type": "stream",
     "text": [
      "INFO:botocore.credentials:Found credentials in shared credentials file: ~/.aws/credentials\n"
     ]
    },
    {
     "name": "stdout",
     "output_type": "stream",
     "text": [
      "sagemaker-us-east-1-510646607739\n",
      "from-idea-to-prod/xgboost/train/train.csv\n"
     ]
    }
   ],
   "source": [
    "s3 = boto3.client('s3')\n",
    "input_df_url = \"s3://sagemaker-us-east-1-510646607739/from-idea-to-prod/xgboost/train/train.csv\"\n",
    "\n",
    "bucket_name = input_df_url.split(\"//\")[1].split(\"/\")[0]\n",
    "print(bucket_name)\n",
    "file_name = \"/\".join(input_df_url.split(\"/\")[3:])\n",
    "print(file_name)\n",
    "obj = s3.get_object(Bucket=bucket_name, Key=file_name)\n",
    "df = pd.read_csv(obj['Body'])"
   ]
  },
  {
   "cell_type": "code",
   "execution_count": 76,
   "id": "e28f7239",
   "metadata": {},
   "outputs": [],
   "source": [
    "# from io import BytesIO\n",
    "\n",
    "# def download_dataset_subsample_and_upload(train_s3_url, output_s3_url, sample_size):\n",
    "#     s3 = boto3.client('s3')\n",
    "\n",
    "#     bucket_name = input_df_url.split(\"//\")[1].split(\"/\")[0]\n",
    "#     file_name = \"/\".join(input_df_url.split(\"/\")[3:])\n",
    "\n",
    "#     obj = s3.get_object(Bucket=bucket_name, Key=file_name)\n",
    "#     df = pd.read_csv(obj['Body'])\n",
    "        \n",
    "#     df_sample = df.sample(frac=sample_size)\n",
    "#     # Upload the file to S3 without saving it to disk first\n",
    "\n",
    "#     output_bucket_name = output_s3_url.split(\"//\")[1].split(\"/\")[0]\n",
    "#     output_file_name = \"/\".join(input_df_url.split(\"/\")[3:])\n",
    "#     print(output_bucket_name)\n",
    "#     s3.upload_fileobj(BytesIO(df_sample), bucket_name, output_file_name)\n",
    "\n",
    "#     return output_s3_url\n",
    "\n",
    "# input_df_url = \"s3://sagemaker-us-east-1-510646607739/from-idea-to-prod/xgboost/train/train.csv\"\n",
    "# # split train_s3_url after and take everything before .csv; rename to _sampled_data.csv\n",
    "# output_s3_url = train_s3_url.rsplit('.', 1)[0] + '_sampled_data.csv'\n",
    "\n",
    "# downsampled_trainset_url = download_dataset_subsample_and_upload(input_df_url, output_s3_url,  sample_size=0.1)\n"
   ]
  },
  {
   "cell_type": "code",
   "execution_count": 32,
   "id": "f929c7ae-c81a-485f-bd2c-057f8f144fd2",
   "metadata": {
    "tags": []
   },
   "outputs": [],
   "source": [
    "# setting the bias report output path\n",
    "bias_report_output_path =  f\"s3://{bucket_name}/{bucket_prefix}/ClarifyBiasReport\"\n",
    "\n",
    "bias_data_config = clarify.DataConfig(\n",
    "    s3_data_input_path=train_s3_url,\n",
    "    s3_output_path=bias_report_output_path,\n",
    "    label=\"y\",\n",
    "    headers=feature_headers_list,\n",
    "    dataset_type=\"text/csv\",\n",
    ")"
   ]
  },
  {
   "cell_type": "code",
   "execution_count": 33,
   "id": "cbcccb62-3121-4bcc-ac46-3dc86beabad7",
   "metadata": {
    "tags": []
   },
   "outputs": [],
   "source": [
    "model_config = clarify.ModelConfig(\n",
    "    model_name=model_name,\n",
    "    instance_type=\"ml.m5.xlarge\",\n",
    "    instance_count=1,\n",
    "    accept_type=\"text/csv\",\n",
    "    content_type=\"text/csv\",\n",
    ")"
   ]
  },
  {
   "cell_type": "code",
   "execution_count": 34,
   "id": "951a724f-b522-4368-988e-5ff2595f3e2c",
   "metadata": {
    "tags": []
   },
   "outputs": [],
   "source": [
    "# setting the threshold for the probability that should be used to decide if a loan gets accepted or not\n",
    "predictions_config = clarify.ModelPredictedLabelConfig(probability_threshold=0.5)"
   ]
  },
  {
   "cell_type": "markdown",
   "id": "ba98eeb2-a7a9-4120-953c-584de309326f",
   "metadata": {},
   "source": [
    "Although we could inspect mutliple attributes, and even create subgroups for e.g. the marital status, for the sake of the demo, we will only inspect for a bias in age. \n",
    "Please refer to the [documentation](https://sagemaker-examples.readthedocs.io/en/latest/sagemaker-clarify/fairness_and_explainability/fairness_and_explainability.html#Writing-BiasConfig) for bias in subgroups. "
   ]
  },
  {
   "cell_type": "code",
   "execution_count": 35,
   "id": "edac4d6b-4ee7-42b1-bf1b-7d0fa09e08be",
   "metadata": {
    "tags": []
   },
   "outputs": [],
   "source": [
    "bias_config = clarify.BiasConfig(\n",
    "    label_values_or_threshold=[1], facet_name=\"age\"\n",
    ")"
   ]
  },
  {
   "cell_type": "code",
   "execution_count": 36,
   "id": "4213e055-9490-4af1-977a-e7ee01e3b891",
   "metadata": {
    "collapsed": true,
    "jupyter": {
     "outputs_hidden": true
    },
    "tags": []
   },
   "outputs": [
    {
     "name": "stderr",
     "output_type": "stream",
     "text": [
      "INFO:sagemaker.image_uris:Defaulting to the only supported framework/algorithm version: 1.0.\n",
      "INFO:sagemaker.image_uris:Ignoring unnecessary instance type: None.\n",
      "INFO:sagemaker.clarify:Analysis Config: {'dataset_type': 'text/csv', 'headers': ['y', 'age', 'campaign', 'pdays', 'previous', 'no_previous_contact', 'not_working', 'job_admin.', 'job_blue-collar', 'job_entrepreneur', 'job_housemaid', 'job_management', 'job_retired', 'job_self-employed', 'job_services', 'job_student', 'job_technician', 'job_unemployed', 'job_unknown', 'marital_divorced', 'marital_married', 'marital_single', 'marital_unknown', 'education_basic.4y', 'education_basic.6y', 'education_basic.9y', 'education_high.school', 'education_illiterate', 'education_professional.course', 'education_university.degree', 'education_unknown', 'default_no', 'default_unknown', 'default_yes', 'housing_no', 'housing_unknown', 'housing_yes', 'loan_no', 'loan_unknown', 'loan_yes', 'contact_cellular', 'contact_telephone', 'month_apr', 'month_aug', 'month_dec', 'month_jul', 'month_jun', 'month_mar', 'month_may', 'month_nov', 'month_oct', 'month_sep', 'day_of_week_fri', 'day_of_week_mon', 'day_of_week_thu', 'day_of_week_tue', 'day_of_week_wed', 'poutcome_failure', 'poutcome_nonexistent', 'poutcome_success'], 'label': 'y', 'label_values_or_threshold': [1], 'facet': [{'name_or_index': 'age'}], 'methods': {'report': {'name': 'report', 'title': 'Analysis Report'}, 'pre_training_bias': {'methods': ['DI', 'DCA']}, 'post_training_bias': {'methods': ['DI', 'DCA']}}, 'predictor': {'model_name': 'from-idea-to-prod-transform-24-13-16-41', 'instance_type': 'ml.m5.xlarge', 'initial_instance_count': 1, 'accept_type': 'text/csv', 'content_type': 'text/csv'}, 'probability_threshold': 0.5}\n",
      "INFO:sagemaker:Creating processing-job with name Clarify-Bias-2023-04-24-13-26-32-547\n"
     ]
    }
   ],
   "source": [
    "# Initialize a SageMakerClarifyProcessor to compute bias metrics and model explanations.\n",
    "clarify_processor = clarify.SageMakerClarifyProcessor(\n",
    "    role=sm_role, instance_count=2, instance_type=\"ml.m5.2xlarge\", sagemaker_session=session\n",
    ")\n",
    "\n",
    "# The job takes about 10 minutes to run\n",
    "clarify_processor.run_bias(\n",
    "    data_config=bias_data_config,\n",
    "    bias_config=bias_config,\n",
    "    model_config=model_config,\n",
    "    model_predicted_label_config=predictions_config,\n",
    "    pre_training_methods=['DI', 'DCA'],\n",
    "    post_training_methods=['DI', 'DCA'],\n",
    "    wait=False,\n",
    "    logs=False,\n",
    ")"
   ]
  },
  {
   "cell_type": "markdown",
   "id": "0bb5c3e9-f616-44a3-a572-333bcf050438",
   "metadata": {
    "tags": []
   },
   "source": [
    "## Model Explainability of batch tranforms  \n",
    "SageMaker Clarify has been based on the Spark distributed  computation framework. Therefore we can scale out our efforts for model explainablity as SHAPELY value calculations can be very time and compute intensive. "
   ]
  },
  {
   "cell_type": "markdown",
   "id": "034946e9-5577-4c32-96ae-223de1e4b8bb",
   "metadata": {},
   "source": [
    "There are expanding business needs and legislative regulations that require explanations of why a model made the decision it did. SageMaker Clarify uses Kernel SHAP to explain the contribution that each input feature makes to the final decision.\n",
    "\n",
    "For run_explainability API call we need similar DataConfig and ModelConfig objects we defined above. SHAPConfig here is the config class for Kernel SHAP algorithm.\n",
    "\n",
    "For our demo we pass the following information in SHAPConfig:\n",
    "\n",
    "- `baseline`: Kernel SHAP algorithm requires a baseline (also known as background dataset). If not provided, a baseline is calculated automatically by SageMaker Clarify using K-means or K-prototypes in the input dataset. Baseline dataset type shall be the same as dataset_type, and baseline samples shall only include features. By definition, baseline should either be a S3 URI to the baseline dataset file, or an in-place list of samples. In this case we chose the latter, and put the mean of the train dataset to the list. For more details on baseline selection please refer this [documentation](https://docs.aws.amazon.com/en_us/sagemaker/latest/dg/clarify-feature-attribute-shap-baselines.html).\n",
    "- `num_samples`: Number of samples to be used in the Kernel SHAP algorithm. This number determines the size of the generated synthetic dataset to compute the SHAP values.\n",
    "- `agg_method`: Aggregation method for global SHAP values. For our example here we are using mean_abs i.e. mean of absolute SHAP values for all instances\n",
    "- `save_local_shap_values`: Indicates whether to save the local SHAP values in the output location. Default is True.\n",
    "\n",
    "\n",
    "First we must generate a baseline for the model predictions"
   ]
  },
  {
   "cell_type": "code",
   "execution_count": 37,
   "id": "172896e9-eec8-43f7-878c-10716f1f2ec6",
   "metadata": {
    "tags": []
   },
   "outputs": [],
   "source": [
    "explainability_output_path =  f\"s3://{bucket_name}/{bucket_prefix}/Clarify-Explainability\"\n",
    "explainability_data_config = clarify.DataConfig(\n",
    "    s3_data_input_path=train_s3_url,\n",
    "    s3_output_path=explainability_output_path,\n",
    "    label=\"y\",\n",
    "    headers=feature_headers_list,\n",
    "    dataset_type=\"text/csv\",\n",
    ")\n",
    "\n",
    "# baseline = [training_data.mean().iloc[1:].values.tolist()]\n",
    "shap_config = clarify.SHAPConfig(\n",
    "    baseline=None,\n",
    "    num_samples=15,\n",
    "    agg_method=\"mean_abs\",\n",
    "    save_local_shap_values=True,\n",
    ")"
   ]
  },
  {
   "cell_type": "code",
   "execution_count": 40,
   "id": "cba7e9b2-3087-4a53-8432-f3db1fb3c29c",
   "metadata": {
    "collapsed": true,
    "jupyter": {
     "outputs_hidden": true
    },
    "tags": []
   },
   "outputs": [
    {
     "name": "stderr",
     "output_type": "stream",
     "text": [
      "INFO:sagemaker.clarify:Analysis Config: {'dataset_type': 'text/csv', 'headers': ['y', 'age', 'campaign', 'pdays', 'previous', 'no_previous_contact', 'not_working', 'job_admin.', 'job_blue-collar', 'job_entrepreneur', 'job_housemaid', 'job_management', 'job_retired', 'job_self-employed', 'job_services', 'job_student', 'job_technician', 'job_unemployed', 'job_unknown', 'marital_divorced', 'marital_married', 'marital_single', 'marital_unknown', 'education_basic.4y', 'education_basic.6y', 'education_basic.9y', 'education_high.school', 'education_illiterate', 'education_professional.course', 'education_university.degree', 'education_unknown', 'default_no', 'default_unknown', 'default_yes', 'housing_no', 'housing_unknown', 'housing_yes', 'loan_no', 'loan_unknown', 'loan_yes', 'contact_cellular', 'contact_telephone', 'month_apr', 'month_aug', 'month_dec', 'month_jul', 'month_jun', 'month_mar', 'month_may', 'month_nov', 'month_oct', 'month_sep', 'day_of_week_fri', 'day_of_week_mon', 'day_of_week_thu', 'day_of_week_tue', 'day_of_week_wed', 'poutcome_failure', 'poutcome_nonexistent', 'poutcome_success'], 'label': 'y', 'predictor': {'model_name': 'from-idea-to-prod-transform-24-13-16-41', 'instance_type': 'ml.m5.xlarge', 'initial_instance_count': 1, 'accept_type': 'text/csv', 'content_type': 'text/csv'}, 'methods': {'report': {'name': 'report', 'title': 'Analysis Report'}, 'shap': {'use_logit': False, 'save_local_shap_values': True, 'num_samples': 15, 'agg_method': 'mean_abs'}}}\n",
      "INFO:sagemaker:Creating processing-job with name Clarify-Explainability-2023-04-24-13-36-21-006\n"
     ]
    },
    {
     "name": "stdout",
     "output_type": "stream",
     "text": [
      "Started the Clarify Explainer Job. Please check the logs for more details\n"
     ]
    }
   ],
   "source": [
    "clarify_explainer_job_name = f\"from-idea-to-prod-clarify-explainer-{strftime('%d-%H-%M-%S', gmtime())}\"\n",
    "\n",
    "wait_for_clarify = False\n",
    "\n",
    "try:\n",
    "    run_suffix = strftime('%Y-%m-%M-%S', gmtime())\n",
    "    run_name = f\"clarify-explainer-{run_suffix}\"\n",
    "\n",
    "    with Run(experiment_name=experiment_name,\n",
    "             run_name=run_name,\n",
    "             run_display_name=\"clarify-explainer\",\n",
    "             sagemaker_session=session\n",
    "            ) as run:\n",
    "        if wait_for_clarify:\n",
    "            clarify_processor.run_explainability(\n",
    "                data_config=explainability_data_config,\n",
    "                model_config=model_config,\n",
    "                explainability_config=shap_config,\n",
    "            )\n",
    "        else:\n",
    "            clarify_processor.run_explainability(\n",
    "                data_config=explainability_data_config,\n",
    "                model_config=model_config,\n",
    "                explainability_config=shap_config,\n",
    "                wait=False,\n",
    "                logs=False\n",
    "            )\n",
    "            print(\"Started the Clarify Explainer Job. Please check the logs for more details\")\n",
    "except botocore.exceptions.ClientError as e:\n",
    "    if e.response['Error']['Code'] == 'AccessDeniedException':\n",
    "        print(f\"Ignore AccessDeniedException: {e.response['Error']['Message']} because of the slow resource tag auto propagation\")\n",
    "    else:\n",
    "        raise e\n"
   ]
  },
  {
   "cell_type": "markdown",
   "id": "1aa43bd9-7cab-48da-b128-635b90c49971",
   "metadata": {},
   "source": [
    "## Model-Explainability of a real-time endpoint\n",
    "The training job saved a model in the specified location on Amazon S3.\n",
    "\n",
    "You can deploy the model as a [real-time endpoint](https://docs.aws.amazon.com/sagemaker/latest/dg/realtime-endpoints.html), which is just one [function call](https://sagemaker.readthedocs.io/en/stable/api/training/estimators.html#sagemaker.estimator.Estimator.deploy), or create a [batch transform](https://docs.aws.amazon.com/sagemaker/latest/dg/batch-transform.html) to predict a label for a large dataset.\n",
    "\n",
    "First we are going to look at real-time endpoint predictions. SageMaker Clarify gives you the option to explain every call to the endpoint. First, lets create an endpoint without SageMaker Clarify to investigate the difference in response. \n"
   ]
  },
  {
   "cell_type": "markdown",
   "id": "d2b02426-0b29-4b42-a182-7e62ba951767",
   "metadata": {},
   "source": [
    "### Creating a real-time inference endpoint \n",
    "To test [real-time inference](https://docs.aws.amazon.com/sagemaker/latest/dg/realtime-endpoints.html) you create a real-time endpoint using the trained estimator."
   ]
  },
  {
   "cell_type": "code",
   "execution_count": 41,
   "id": "feb0d417-99e8-480d-baa4-7ab18d9b5427",
   "metadata": {
    "tags": []
   },
   "outputs": [
    {
     "name": "stderr",
     "output_type": "stream",
     "text": [
      "INFO:sagemaker:Creating model with name: from-idea-to-prod-training-2023-04-24-13-36-36-043\n",
      "INFO:sagemaker:Creating endpoint-config with name from-idea-to-prod-endpoint-24-13-36-36\n",
      "INFO:sagemaker:Creating endpoint with name from-idea-to-prod-endpoint-24-13-36-36\n"
     ]
    }
   ],
   "source": [
    "# Real-time endpoint\n",
    "endpoint_name = f\"from-idea-to-prod-endpoint-{strftime('%d-%H-%M-%S', gmtime())}\"\n",
    "\n",
    "try:\n",
    "    predictor = estimator.deploy(\n",
    "        initial_instance_count=1,\n",
    "        instance_type=\"ml.m5.large\",\n",
    "        wait=False,  # Remember, predictor.predict() won't work until deployment finishes!\n",
    "        # Turn on data capture here, in case you want to experiment with monitoring:\n",
    "        data_capture_config=sagemaker.model_monitor.DataCaptureConfig(\n",
    "            enable_capture=True,\n",
    "            sampling_percentage=100,\n",
    "            destination_s3_uri=f\"s3://{bucket_name}/{bucket_prefix}/data-capture\",\n",
    "        ),\n",
    "        endpoint_name=endpoint_name,\n",
    "        serializer=csv_serializer,\n",
    "        deserializer=csv_deserializer,\n",
    "    )\n",
    "except botocore.exceptions.ClientError as e:\n",
    "    if e.response['Error']['Code'] == 'AccessDeniedException':\n",
    "        print(f\"Ignore AccessDeniedException: {e.response['Error']['Message']} because of the slow resource tag auto propagation\")\n",
    "        predictor = sagemaker.predictor.Predictor(endpoint_name=endpoint_name,\n",
    "                                                  sagemaker_session=session,\n",
    "                                                  serializer=csv_serializer,\n",
    "                                                  deserializer=csv_deserializer,\n",
    "                                                 )\n",
    "    else:\n",
    "        raise e\n",
    "        "
   ]
  },
  {
   "cell_type": "code",
   "execution_count": 43,
   "id": "a1714f00-78da-4d99-b665-77822581f50a",
   "metadata": {
    "tags": []
   },
   "outputs": [],
   "source": [
    "# Wait until the endpoint has the status InService\n",
    "waiter = session.sagemaker_client.get_waiter('endpoint_in_service')\n",
    "waiter.wait(EndpointName=endpoint_name)"
   ]
  },
  {
   "cell_type": "markdown",
   "id": "9e2e7b68-7b53-420d-b716-c62a98bd0c5d",
   "metadata": {},
   "source": [
    "#### Predict"
   ]
  },
  {
   "cell_type": "code",
   "execution_count": 44,
   "id": "afe4d085-0c98-49db-bc61-b14e93e9f21e",
   "metadata": {
    "tags": []
   },
   "outputs": [
    {
     "name": "stdout",
     "output_type": "stream",
     "text": [
      "download: s3://sagemaker-us-east-1-510646607739/from-idea-to-prod/xgboost/test/test_x.csv to tmp/test_x.csv\n",
      "download: s3://sagemaker-us-east-1-510646607739/from-idea-to-prod/xgboost/test/test_y.csv to tmp/test_y.csv\n"
     ]
    }
   ],
   "source": [
    "!aws s3 cp $test_s3_url/test_x.csv tmp/test_x.csv\n",
    "!aws s3 cp $test_s3_url/test_y.csv tmp/test_y.csv"
   ]
  },
  {
   "cell_type": "code",
   "execution_count": 45,
   "id": "cbfeb79b-014e-4784-a7bd-52f88b9957db",
   "metadata": {
    "tags": []
   },
   "outputs": [
    {
     "data": {
      "text/html": [
       "<div>\n",
       "<style scoped>\n",
       "    .dataframe tbody tr th:only-of-type {\n",
       "        vertical-align: middle;\n",
       "    }\n",
       "\n",
       "    .dataframe tbody tr th {\n",
       "        vertical-align: top;\n",
       "    }\n",
       "\n",
       "    .dataframe thead th {\n",
       "        text-align: right;\n",
       "    }\n",
       "</style>\n",
       "<table border=\"1\" class=\"dataframe\">\n",
       "  <thead>\n",
       "    <tr style=\"text-align: right;\">\n",
       "      <th></th>\n",
       "      <th>0</th>\n",
       "      <th>1</th>\n",
       "      <th>2</th>\n",
       "      <th>3</th>\n",
       "      <th>4</th>\n",
       "      <th>5</th>\n",
       "      <th>6</th>\n",
       "      <th>7</th>\n",
       "      <th>8</th>\n",
       "      <th>9</th>\n",
       "      <th>...</th>\n",
       "      <th>49</th>\n",
       "      <th>50</th>\n",
       "      <th>51</th>\n",
       "      <th>52</th>\n",
       "      <th>53</th>\n",
       "      <th>54</th>\n",
       "      <th>55</th>\n",
       "      <th>56</th>\n",
       "      <th>57</th>\n",
       "      <th>58</th>\n",
       "    </tr>\n",
       "  </thead>\n",
       "  <tbody>\n",
       "    <tr>\n",
       "      <th>0</th>\n",
       "      <td>25</td>\n",
       "      <td>1</td>\n",
       "      <td>999</td>\n",
       "      <td>0</td>\n",
       "      <td>1</td>\n",
       "      <td>0</td>\n",
       "      <td>0</td>\n",
       "      <td>0</td>\n",
       "      <td>0</td>\n",
       "      <td>0</td>\n",
       "      <td>...</td>\n",
       "      <td>0</td>\n",
       "      <td>0</td>\n",
       "      <td>0</td>\n",
       "      <td>1</td>\n",
       "      <td>0</td>\n",
       "      <td>0</td>\n",
       "      <td>0</td>\n",
       "      <td>0</td>\n",
       "      <td>1</td>\n",
       "      <td>0</td>\n",
       "    </tr>\n",
       "    <tr>\n",
       "      <th>1</th>\n",
       "      <td>28</td>\n",
       "      <td>3</td>\n",
       "      <td>999</td>\n",
       "      <td>0</td>\n",
       "      <td>1</td>\n",
       "      <td>0</td>\n",
       "      <td>0</td>\n",
       "      <td>0</td>\n",
       "      <td>0</td>\n",
       "      <td>0</td>\n",
       "      <td>...</td>\n",
       "      <td>0</td>\n",
       "      <td>0</td>\n",
       "      <td>0</td>\n",
       "      <td>0</td>\n",
       "      <td>0</td>\n",
       "      <td>1</td>\n",
       "      <td>0</td>\n",
       "      <td>0</td>\n",
       "      <td>1</td>\n",
       "      <td>0</td>\n",
       "    </tr>\n",
       "    <tr>\n",
       "      <th>2</th>\n",
       "      <td>38</td>\n",
       "      <td>1</td>\n",
       "      <td>999</td>\n",
       "      <td>0</td>\n",
       "      <td>1</td>\n",
       "      <td>0</td>\n",
       "      <td>1</td>\n",
       "      <td>0</td>\n",
       "      <td>0</td>\n",
       "      <td>0</td>\n",
       "      <td>...</td>\n",
       "      <td>0</td>\n",
       "      <td>0</td>\n",
       "      <td>0</td>\n",
       "      <td>1</td>\n",
       "      <td>0</td>\n",
       "      <td>0</td>\n",
       "      <td>0</td>\n",
       "      <td>0</td>\n",
       "      <td>1</td>\n",
       "      <td>0</td>\n",
       "    </tr>\n",
       "    <tr>\n",
       "      <th>3</th>\n",
       "      <td>32</td>\n",
       "      <td>1</td>\n",
       "      <td>999</td>\n",
       "      <td>1</td>\n",
       "      <td>1</td>\n",
       "      <td>0</td>\n",
       "      <td>1</td>\n",
       "      <td>0</td>\n",
       "      <td>0</td>\n",
       "      <td>0</td>\n",
       "      <td>...</td>\n",
       "      <td>0</td>\n",
       "      <td>0</td>\n",
       "      <td>0</td>\n",
       "      <td>1</td>\n",
       "      <td>0</td>\n",
       "      <td>0</td>\n",
       "      <td>0</td>\n",
       "      <td>1</td>\n",
       "      <td>0</td>\n",
       "      <td>0</td>\n",
       "    </tr>\n",
       "    <tr>\n",
       "      <th>4</th>\n",
       "      <td>40</td>\n",
       "      <td>1</td>\n",
       "      <td>999</td>\n",
       "      <td>0</td>\n",
       "      <td>1</td>\n",
       "      <td>0</td>\n",
       "      <td>0</td>\n",
       "      <td>0</td>\n",
       "      <td>0</td>\n",
       "      <td>0</td>\n",
       "      <td>...</td>\n",
       "      <td>0</td>\n",
       "      <td>0</td>\n",
       "      <td>0</td>\n",
       "      <td>0</td>\n",
       "      <td>0</td>\n",
       "      <td>1</td>\n",
       "      <td>0</td>\n",
       "      <td>0</td>\n",
       "      <td>1</td>\n",
       "      <td>0</td>\n",
       "    </tr>\n",
       "  </tbody>\n",
       "</table>\n",
       "<p>5 rows × 59 columns</p>\n",
       "</div>"
      ],
      "text/plain": [
       "    0  1    2  3  4  5  6  7  8  9  ...  49  50  51  52  53  54  55  56  57  \\\n",
       "0  25  1  999  0  1  0  0  0  0  0  ...   0   0   0   1   0   0   0   0   1   \n",
       "1  28  3  999  0  1  0  0  0  0  0  ...   0   0   0   0   0   1   0   0   1   \n",
       "2  38  1  999  0  1  0  1  0  0  0  ...   0   0   0   1   0   0   0   0   1   \n",
       "3  32  1  999  1  1  0  1  0  0  0  ...   0   0   0   1   0   0   0   1   0   \n",
       "4  40  1  999  0  1  0  0  0  0  0  ...   0   0   0   0   0   1   0   0   1   \n",
       "\n",
       "   58  \n",
       "0   0  \n",
       "1   0  \n",
       "2   0  \n",
       "3   0  \n",
       "4   0  \n",
       "\n",
       "[5 rows x 59 columns]"
      ]
     },
     "execution_count": 45,
     "metadata": {},
     "output_type": "execute_result"
    }
   ],
   "source": [
    "test_x = pd.read_csv(\"tmp/test_x.csv\", names=[f'{i}' for i in range(59)])\n",
    "test_y = pd.read_csv(\"tmp/test_y.csv\", names=['y'])\n",
    "test_x.head()"
   ]
  },
  {
   "cell_type": "code",
   "execution_count": 46,
   "id": "b5d420ff-2e3e-466a-b8e4-91a2f407f26d",
   "metadata": {
    "tags": []
   },
   "outputs": [
    {
     "name": "stdout",
     "output_type": "stream",
     "text": [
      "Number of predictions made by the endpoint:(4119,)\n",
      "\n",
      "Predictions made by the endpoint:[0.05007133 0.08709648 0.21951182 ... 0.04024194 0.03798791 0.037095  ]\n",
      "CPU times: user 166 ms, sys: 28.6 ms, total: 195 ms\n",
      "Wall time: 1.69 s\n"
     ]
    }
   ],
   "source": [
    "%%time\n",
    "predictions = np.array(predictor.predict(test_x.values), dtype=float).squeeze()\n",
    "print(f'Number of predictions made by the endpoint:{predictions.shape}\\n')\n",
    "print(f'Predictions made by the endpoint:{predictions}')"
   ]
  },
  {
   "cell_type": "markdown",
   "id": "772ebdad-ab4a-4cf1-bda5-82618d6d6261",
   "metadata": {},
   "source": [
    "#### Evaluate predictions"
   ]
  },
  {
   "cell_type": "code",
   "execution_count": 47,
   "id": "ce21400a-6cbd-4817-869d-89e289fa165b",
   "metadata": {
    "tags": []
   },
   "outputs": [
    {
     "data": {
      "text/html": [
       "<div>\n",
       "<style scoped>\n",
       "    .dataframe tbody tr th:only-of-type {\n",
       "        vertical-align: middle;\n",
       "    }\n",
       "\n",
       "    .dataframe tbody tr th {\n",
       "        vertical-align: top;\n",
       "    }\n",
       "\n",
       "    .dataframe thead th {\n",
       "        text-align: right;\n",
       "    }\n",
       "</style>\n",
       "<table border=\"1\" class=\"dataframe\">\n",
       "  <thead>\n",
       "    <tr style=\"text-align: right;\">\n",
       "      <th></th>\n",
       "      <th>y_pred</th>\n",
       "      <th>0</th>\n",
       "      <th>1</th>\n",
       "      <th>2</th>\n",
       "      <th>3</th>\n",
       "      <th>4</th>\n",
       "      <th>5</th>\n",
       "      <th>6</th>\n",
       "      <th>7</th>\n",
       "      <th>8</th>\n",
       "      <th>...</th>\n",
       "      <th>49</th>\n",
       "      <th>50</th>\n",
       "      <th>51</th>\n",
       "      <th>52</th>\n",
       "      <th>53</th>\n",
       "      <th>54</th>\n",
       "      <th>55</th>\n",
       "      <th>56</th>\n",
       "      <th>57</th>\n",
       "      <th>58</th>\n",
       "    </tr>\n",
       "  </thead>\n",
       "  <tbody>\n",
       "    <tr>\n",
       "      <th>0</th>\n",
       "      <td>0.050071</td>\n",
       "      <td>25</td>\n",
       "      <td>1</td>\n",
       "      <td>999</td>\n",
       "      <td>0</td>\n",
       "      <td>1</td>\n",
       "      <td>0</td>\n",
       "      <td>0</td>\n",
       "      <td>0</td>\n",
       "      <td>0</td>\n",
       "      <td>...</td>\n",
       "      <td>0</td>\n",
       "      <td>0</td>\n",
       "      <td>0</td>\n",
       "      <td>1</td>\n",
       "      <td>0</td>\n",
       "      <td>0</td>\n",
       "      <td>0</td>\n",
       "      <td>0</td>\n",
       "      <td>1</td>\n",
       "      <td>0</td>\n",
       "    </tr>\n",
       "    <tr>\n",
       "      <th>1</th>\n",
       "      <td>0.087096</td>\n",
       "      <td>28</td>\n",
       "      <td>3</td>\n",
       "      <td>999</td>\n",
       "      <td>0</td>\n",
       "      <td>1</td>\n",
       "      <td>0</td>\n",
       "      <td>0</td>\n",
       "      <td>0</td>\n",
       "      <td>0</td>\n",
       "      <td>...</td>\n",
       "      <td>0</td>\n",
       "      <td>0</td>\n",
       "      <td>0</td>\n",
       "      <td>0</td>\n",
       "      <td>0</td>\n",
       "      <td>1</td>\n",
       "      <td>0</td>\n",
       "      <td>0</td>\n",
       "      <td>1</td>\n",
       "      <td>0</td>\n",
       "    </tr>\n",
       "    <tr>\n",
       "      <th>2</th>\n",
       "      <td>0.219512</td>\n",
       "      <td>38</td>\n",
       "      <td>1</td>\n",
       "      <td>999</td>\n",
       "      <td>0</td>\n",
       "      <td>1</td>\n",
       "      <td>0</td>\n",
       "      <td>1</td>\n",
       "      <td>0</td>\n",
       "      <td>0</td>\n",
       "      <td>...</td>\n",
       "      <td>0</td>\n",
       "      <td>0</td>\n",
       "      <td>0</td>\n",
       "      <td>1</td>\n",
       "      <td>0</td>\n",
       "      <td>0</td>\n",
       "      <td>0</td>\n",
       "      <td>0</td>\n",
       "      <td>1</td>\n",
       "      <td>0</td>\n",
       "    </tr>\n",
       "    <tr>\n",
       "      <th>3</th>\n",
       "      <td>0.235661</td>\n",
       "      <td>32</td>\n",
       "      <td>1</td>\n",
       "      <td>999</td>\n",
       "      <td>1</td>\n",
       "      <td>1</td>\n",
       "      <td>0</td>\n",
       "      <td>1</td>\n",
       "      <td>0</td>\n",
       "      <td>0</td>\n",
       "      <td>...</td>\n",
       "      <td>0</td>\n",
       "      <td>0</td>\n",
       "      <td>0</td>\n",
       "      <td>1</td>\n",
       "      <td>0</td>\n",
       "      <td>0</td>\n",
       "      <td>0</td>\n",
       "      <td>1</td>\n",
       "      <td>0</td>\n",
       "      <td>0</td>\n",
       "    </tr>\n",
       "    <tr>\n",
       "      <th>4</th>\n",
       "      <td>0.033749</td>\n",
       "      <td>40</td>\n",
       "      <td>1</td>\n",
       "      <td>999</td>\n",
       "      <td>0</td>\n",
       "      <td>1</td>\n",
       "      <td>0</td>\n",
       "      <td>0</td>\n",
       "      <td>0</td>\n",
       "      <td>0</td>\n",
       "      <td>...</td>\n",
       "      <td>0</td>\n",
       "      <td>0</td>\n",
       "      <td>0</td>\n",
       "      <td>0</td>\n",
       "      <td>0</td>\n",
       "      <td>1</td>\n",
       "      <td>0</td>\n",
       "      <td>0</td>\n",
       "      <td>1</td>\n",
       "      <td>0</td>\n",
       "    </tr>\n",
       "  </tbody>\n",
       "</table>\n",
       "<p>5 rows × 60 columns</p>\n",
       "</div>"
      ],
      "text/plain": [
       "     y_pred   0  1    2  3  4  5  6  7  8  ...  49  50  51  52  53  54  55  \\\n",
       "0  0.050071  25  1  999  0  1  0  0  0  0  ...   0   0   0   1   0   0   0   \n",
       "1  0.087096  28  3  999  0  1  0  0  0  0  ...   0   0   0   0   0   1   0   \n",
       "2  0.219512  38  1  999  0  1  0  1  0  0  ...   0   0   0   1   0   0   0   \n",
       "3  0.235661  32  1  999  1  1  0  1  0  0  ...   0   0   0   1   0   0   0   \n",
       "4  0.033749  40  1  999  0  1  0  0  0  0  ...   0   0   0   0   0   1   0   \n",
       "\n",
       "   56  57  58  \n",
       "0   0   1   0  \n",
       "1   0   1   0  \n",
       "2   0   1   0  \n",
       "3   1   0   0  \n",
       "4   0   1   0  \n",
       "\n",
       "[5 rows x 60 columns]"
      ]
     },
     "execution_count": 47,
     "metadata": {},
     "output_type": "execute_result"
    }
   ],
   "source": [
    "test_results = pd.concat(\n",
    "    [\n",
    "        pd.Series(predictions, name=\"y_pred\", index=test_x.index),\n",
    "        test_x,\n",
    "    ],\n",
    "    axis=1,\n",
    ")\n",
    "test_results.head()"
   ]
  },
  {
   "cell_type": "code",
   "execution_count": 48,
   "id": "91b8ef37-c50d-465d-bf54-2b104ace6fe7",
   "metadata": {
    "tags": []
   },
   "outputs": [
    {
     "data": {
      "text/html": [
       "<div>\n",
       "<style scoped>\n",
       "    .dataframe tbody tr th:only-of-type {\n",
       "        vertical-align: middle;\n",
       "    }\n",
       "\n",
       "    .dataframe tbody tr th {\n",
       "        vertical-align: top;\n",
       "    }\n",
       "\n",
       "    .dataframe thead th {\n",
       "        text-align: right;\n",
       "    }\n",
       "</style>\n",
       "<table border=\"1\" class=\"dataframe\">\n",
       "  <thead>\n",
       "    <tr style=\"text-align: right;\">\n",
       "      <th>predictions</th>\n",
       "      <th>0.0</th>\n",
       "      <th>1.0</th>\n",
       "    </tr>\n",
       "    <tr>\n",
       "      <th>actuals</th>\n",
       "      <th></th>\n",
       "      <th></th>\n",
       "    </tr>\n",
       "  </thead>\n",
       "  <tbody>\n",
       "    <tr>\n",
       "      <th>0</th>\n",
       "      <td>3596</td>\n",
       "      <td>40</td>\n",
       "    </tr>\n",
       "    <tr>\n",
       "      <th>1</th>\n",
       "      <td>385</td>\n",
       "      <td>98</td>\n",
       "    </tr>\n",
       "  </tbody>\n",
       "</table>\n",
       "</div>"
      ],
      "text/plain": [
       "predictions   0.0  1.0\n",
       "actuals               \n",
       "0            3596   40\n",
       "1             385   98"
      ]
     },
     "execution_count": 48,
     "metadata": {},
     "output_type": "execute_result"
    }
   ],
   "source": [
    "pd.crosstab(\n",
    "    index=test_y['y'].values,\n",
    "    columns=np.round(predictions), \n",
    "    rownames=['actuals'], \n",
    "    colnames=['predictions']\n",
    ")"
   ]
  },
  {
   "cell_type": "code",
   "execution_count": 49,
   "id": "f994e5e0-b83f-4c39-b9fe-9e0c74b2b4f6",
   "metadata": {
    "tags": []
   },
   "outputs": [
    {
     "name": "stdout",
     "output_type": "stream",
     "text": [
      "Test-auc: 0.77\n"
     ]
    }
   ],
   "source": [
    "test_auc = roc_auc_score(test_y, test_results[\"y_pred\"])\n",
    "print(f\"Test-auc: {test_auc:.2f}\")"
   ]
  },
  {
   "cell_type": "markdown",
   "id": "27bdfaa2",
   "metadata": {
    "tags": []
   },
   "source": [
    "### Online explainability of an real-time inference endpoint\n",
    "For applications when using a human-in-the-loop, calculations need to be made at inference time. E.g. when human experts interact with customers, we want out model predictions to be as recent as possible, and the same holds ture for our model explanations. Therefore, we need to calculate those metrics at inference time. \n",
    "\n",
    "In our example, call center outbound calls, it is essential to provide the agent with information on what drives the customer to be targeted for marketing calls. Using machine learning models for this purpose can lead to improved targeting and better results. However, it is critical to explain the model's prediction to the agent to gain their trust and help them make informed decisions. "
   ]
  },
  {
   "cell_type": "markdown",
   "id": "dcc246df",
   "metadata": {},
   "source": [
    "Explanations are typically contrastive (that is, they account for deviations from a baseline). As a result, for the same model prediction, you can expect to get different explanations with respect to different baselines. Therefore, your choice of a baseline is crucial. In an ML context, the baseline corresponds to a hypothetical instance that can be either uninformative or informative. During the computation of Shapley values, SageMaker Clarify generates several new instances between the baseline and the given instance, in which the absence of a feature, is modeled by setting the feature value to that of the baseline and the presence of a feature is modeled by setting the feature value to that of the given instance. Thus, the absence of all features corresponds to the baseline and the presence of all features corresponds to the given instance.\n",
    "\n",
    "How can you choose good baselines? Often it is desirable to select a baseline with very low information content. For example, you can construct an average instance from the training dataset by taking either the median or average for numerical features and the mode for categorical features. For the college admissions example, you might be interested in explaining why a particular applicant was accepted as compared to a baseline acceptances based on an average applicant. If not provided, a baseline is calculated automatically by SageMaker Clarify using K-means or K-prototypes in the input dataset.\n",
    "\n",
    "Alternatively, you can choose to generate explanations with respect to informative baselines. For the college admissions scenario, you might want to explain why a particular applicant was rejected when compared with other applicants from similar demographic backgrounds. In this case, you can choose a baseline that represents the applicants of interest, namely those from a similar demographic background. Thus, you can use informative baselines to concentrate the analysis on the specific aspects of a particular model prediction. You can isolate the features for assessment by setting demographic attributes and other features that you can't act on to the same value as in the given instance.\n",
    "\n",
    "Amazon Web Services. (n.d.). SageMaker Clarify SHAP: Choosing baselines and feature attributes. Retrieved April 6, 2023, from https://docs.aws.amazon.com/sagemaker/latest/dg/clarify-feature-attribute-shap-baselines.html \n",
    "\n",
    "For our case with the realtime inference we want to use the validation set as a baseline, as we would not have the test data available. "
   ]
  },
  {
   "cell_type": "code",
   "execution_count": 50,
   "id": "e4d12c0e",
   "metadata": {
    "tags": []
   },
   "outputs": [
    {
     "name": "stdout",
     "output_type": "stream",
     "text": [
      "download: s3://sagemaker-us-east-1-510646607739/from-idea-to-prod/xgboost/validation/validation.csv to tmp/validation.csv\n"
     ]
    }
   ],
   "source": [
    "# use the aws cli to get the validation testset downloaded with the s3 downloader\n",
    "!aws s3 cp $validation_s3_url/validation.csv tmp/validation.csv"
   ]
  },
  {
   "cell_type": "code",
   "execution_count": 51,
   "id": "6fa2ff8e",
   "metadata": {
    "tags": []
   },
   "outputs": [
    {
     "name": "stdout",
     "output_type": "stream",
     "text": [
      "(8238, 59)\n"
     ]
    }
   ],
   "source": [
    "# read the validation testset into a pandas dataframe. there is no header in the csv file rename the columns by column number\n",
    "validation_x = pd.read_csv(\"tmp/validation.csv\", header=None).drop(0, axis=1)\n",
    "print(validation_x.shape)"
   ]
  },
  {
   "cell_type": "code",
   "execution_count": 52,
   "id": "fc7eb533",
   "metadata": {
    "tags": []
   },
   "outputs": [
    {
     "name": "stdout",
     "output_type": "stream",
     "text": [
      "Baseline array shape to check: (59,)\n",
      "Use the mean of the test data as the SHAP baseline - showing first 5 entries: [40.09662539451323, 2.5648215586307357, 965.7171643602816, 0.16436028162175284, 0.9664967225054625]\n"
     ]
    }
   ],
   "source": [
    "baseline = validation_x.mean().to_list()  # Inline baseline data\n",
    "print(f\"Baseline array shape to check: {np.array(baseline).shape}\")\n",
    "print(f\"Use the mean of the test data as the SHAP baseline - showing first 5 entries: {baseline[:5]}\")"
   ]
  },
  {
   "cell_type": "code",
   "execution_count": 53,
   "id": "38a0b293",
   "metadata": {
    "tags": []
   },
   "outputs": [],
   "source": [
    "from botocore.config import Config\n",
    "sagemaker_client = boto3.client('sagemaker')"
   ]
  },
  {
   "cell_type": "code",
   "execution_count": 54,
   "id": "af2b4fa6",
   "metadata": {
    "tags": []
   },
   "outputs": [],
   "source": [
    "# in case you lost the endpoint name, you can get it from the sagemaker client\n",
    "endpoint_list = sagemaker_client.list_endpoints()\n",
    "\n",
    "# filter the endpoints list to get the endpoint name that has \"from-idea-to-prod-endpoint\" in the name\n",
    "endpoint_name = [endpoint['EndpointName'] for endpoint in endpoint_list['Endpoints'] if 'from-idea-to-prod-endpoint' in endpoint['EndpointName']][0]\n",
    "clarify_config_name = 'realtime-clarify-config'\n",
    "\n",
    "# get the endpoint config name from the endpoint name\n",
    "response = sagemaker_client.describe_endpoint(EndpointName=endpoint_name)\n",
    "endpoint_config_name = response['EndpointConfigName']\n"
   ]
  },
  {
   "cell_type": "code",
   "execution_count": 55,
   "id": "95edfdf6",
   "metadata": {
    "tags": []
   },
   "outputs": [
    {
     "data": {
      "text/plain": [
       "{'EndpointConfigName': 'from-idea-to-prod-endpoint-24-13-36-36',\n",
       " 'EndpointConfigArn': 'arn:aws:sagemaker:us-east-1:510646607739:endpoint-config/from-idea-to-prod-endpoint-24-13-36-36',\n",
       " 'ProductionVariants': [{'VariantName': 'AllTraffic',\n",
       "   'ModelName': 'from-idea-to-prod-training-2023-04-24-13-36-36-043',\n",
       "   'InitialInstanceCount': 1,\n",
       "   'InstanceType': 'ml.m5.large',\n",
       "   'InitialVariantWeight': 1.0,\n",
       "   'VolumeSizeInGB': 8}],\n",
       " 'DataCaptureConfig': {'EnableCapture': True,\n",
       "  'InitialSamplingPercentage': 100,\n",
       "  'DestinationS3Uri': 's3://sagemaker-us-east-1-510646607739/from-idea-to-prod/xgboost/data-capture',\n",
       "  'CaptureOptions': [{'CaptureMode': 'Input'}, {'CaptureMode': 'Output'}],\n",
       "  'CaptureContentTypeHeader': {'CsvContentTypes': ['text/csv'],\n",
       "   'JsonContentTypes': ['application/json']}},\n",
       " 'CreationTime': datetime.datetime(2023, 4, 24, 15, 36, 37, 257000, tzinfo=tzlocal()),\n",
       " 'ResponseMetadata': {'RequestId': 'c5891de8-7dac-43ee-9b41-6576526c9b62',\n",
       "  'HTTPStatusCode': 200,\n",
       "  'HTTPHeaders': {'x-amzn-requestid': 'c5891de8-7dac-43ee-9b41-6576526c9b62',\n",
       "   'content-type': 'application/x-amz-json-1.1',\n",
       "   'content-length': '771',\n",
       "   'date': 'Mon, 24 Apr 2023 14:01:27 GMT'},\n",
       "  'RetryAttempts': 0}}"
      ]
     },
     "execution_count": 55,
     "metadata": {},
     "output_type": "execute_result"
    }
   ],
   "source": [
    "# lets take a look at the endpoint config\n",
    "sagemaker_client.describe_endpoint_config(EndpointConfigName=endpoint_config_name)"
   ]
  },
  {
   "cell_type": "markdown",
   "id": "ef547fb8",
   "metadata": {},
   "source": [
    "To acutally have human readable descriptions of the features, we need to tell clarify what are the feature header labels. Remember, we only pass a payload to the endpoint, that has no feature column namings. \n",
    "<br> Please also remember that we one-hot-encoded all the columns, so we are getting the drivers per split category. "
   ]
  },
  {
   "cell_type": "markdown",
   "id": "5e04459f-a0d4-4f92-a48b-b8cb214c9c3b",
   "metadata": {},
   "source": [
    "#### Updating the endpoint config to incorporate the Clarify Config \n",
    "As Clarify is a running as a service that is coupled to the endpoint, we do not run the Clarify-SHAP calculations on the same instance that our endpoint is running on. \n",
    "<br>Therefore, we do not update the endpoint itself, but update the endpoint config to point to a SageMaker Clarify Explainer Container. \n",
    "Please see belows architecture for the <i>Clarify Online Explainablity</i>.<br>\n",
    "![onlineExplainabilityArchitectureFromAWSDocumentation](../img/online-explainability.png)\n",
    "\n"
   ]
  },
  {
   "cell_type": "code",
   "execution_count": 67,
   "id": "d7c8c844",
   "metadata": {
    "tags": []
   },
   "outputs": [
    {
     "name": "stdout",
     "output_type": "stream",
     "text": [
      "[{'VariantName': 'AllTraffic', 'ModelName': 'from-idea-to-prod-training-2023-04-24-13-36-36-043', 'InitialInstanceCount': 1, 'InstanceType': 'ml.m5.large', 'InitialVariantWeight': 1.0, 'VolumeSizeInGB': 8}]\n",
      "{'EnableCapture': True, 'InitialSamplingPercentage': 100, 'DestinationS3Uri': 's3://sagemaker-us-east-1-510646607739/from-idea-to-prod/xgboost/data-capture', 'CaptureOptions': [{'CaptureMode': 'Input'}, {'CaptureMode': 'Output'}], 'CaptureContentTypeHeader': {'CsvContentTypes': ['text/csv'], 'JsonContentTypes': ['application/json']}}\n",
      "{'ClarifyExplainerConfig': {'InferenceConfig': {'FeatureHeaders': ['age', 'campaign', 'pdays', 'previous', 'no_previous_contact', 'not_working', 'job_admin.', 'job_blue-collar', 'job_entrepreneur', 'job_housemaid', 'job_management', 'job_retired', 'job_self-employed', 'job_services', 'job_student', 'job_technician', 'job_unemployed', 'job_unknown', 'marital_divorced', 'marital_married', 'marital_single', 'marital_unknown', 'education_basic.4y', 'education_basic.6y', 'education_basic.9y', 'education_high.school', 'education_illiterate', 'education_professional.course', 'education_university.degree', 'education_unknown', 'default_no', 'default_unknown', 'default_yes', 'housing_no', 'housing_unknown', 'housing_yes', 'loan_no', 'loan_unknown', 'loan_yes', 'contact_cellular', 'contact_telephone', 'month_apr', 'month_aug', 'month_dec', 'month_jul', 'month_jun', 'month_mar', 'month_may', 'month_nov', 'month_oct', 'month_sep', 'day_of_week_fri', 'day_of_week_mon', 'day_of_week_thu', 'day_of_week_tue', 'day_of_week_wed', 'poutcome_failure', 'poutcome_nonexistent', 'poutcome_success']}, 'ShapConfig': {'ShapBaselineConfig': {'ShapBaseline': '40.09662539451323,2.5648215586307357,965.7171643602816,0.16436028162175284,0.9664967225054625,0.08970623937848993,0.2562515173585822,0.22032046613255646,0.03459577567370721,0.027191065792668122,0.07076960427288177,0.042850206360767175,0.03653799465889779,0.09359067734887108,0.023306627822286964,0.16326778344258316,0.023549405195435785,0.007768875940762321,0.11046370478271425,0.6076717649915028,0.27980092255401795,0.0020636076717649916,0.09747511531925225,0.05741684874969653,0.1455450352027191,0.23112405923767904,0.00024277737314882253,0.12636562272396212,0.3001942218985191,0.04163631949502306,0.7935178441369264,0.20636076717649915,0.00012138868657441127,0.448045642146152,0.025491624180626365,0.5264627336732216,0.8165816945860646,0.025491624180626365,0.15792668123330905,0.6364408837096382,0.36355911629036175,0.06130128672007769,0.14675892206846322,0.004855547462976451,0.1766205389657684,0.12624423403738771,0.012138868657441126,0.33988832240835154,0.09966011167759165,0.018086914299587278,0.01444525370235494,0.18657441126487012,0.20538965768390385,0.20587521243020152,0.20296188395241563,0.19919883466860888,0.10330177227482398,0.8657441126487011,0.030954115076474872'}}}}\n"
     ]
    }
   ],
   "source": [
    "response = sagemaker_client.describe_endpoint_config(EndpointConfigName=endpoint_config_name)\n",
    "production_variants = response['ProductionVariants']\n",
    "data_config = response['DataCaptureConfig']\n",
    "explainer_config={\n",
    "        \"ClarifyExplainerConfig\": {\n",
    "            # \"EnableExplanations\": \"`false`\",  # By default explanations are enabled, but you can change the condition by this parameter.\n",
    "            \"InferenceConfig\": {\n",
    "                \"FeatureHeaders\": feature_headers_list[1:],\n",
    "            },\n",
    "            \"ShapConfig\": {\n",
    "                \"ShapBaselineConfig\": {\n",
    "                    \"ShapBaseline\": CSVSerializer().serialize(baseline),  # inline baseline data\n",
    "                }\n",
    "            },\n",
    "        }\n",
    "    }\n",
    "    \n",
    "print(production_variants)\n",
    "print(data_config)\n",
    "print(explainer_config)\n"
   ]
  },
  {
   "cell_type": "markdown",
   "id": "5d6602ab-8d8f-4cea-94c4-c76eb6646040",
   "metadata": {},
   "source": [
    "Now we can update the endpoint config to incorporate the ExplainerConfig"
   ]
  },
  {
   "cell_type": "code",
   "execution_count": 68,
   "id": "d38d39e3",
   "metadata": {
    "tags": []
   },
   "outputs": [
    {
     "data": {
      "text/plain": [
       "{'EndpointConfigArn': 'arn:aws:sagemaker:us-east-1:510646607739:endpoint-config/from-idea-to-prod-endpoint-24-13-36-36-new-config',\n",
       " 'ResponseMetadata': {'RequestId': 'cf59557a-8a7c-4bee-8b49-a0876e80fc97',\n",
       "  'HTTPStatusCode': 200,\n",
       "  'HTTPHeaders': {'x-amzn-requestid': 'cf59557a-8a7c-4bee-8b49-a0876e80fc97',\n",
       "   'content-type': 'application/x-amz-json-1.1',\n",
       "   'content-length': '130',\n",
       "   'date': 'Mon, 24 Apr 2023 14:28:59 GMT'},\n",
       "  'RetryAttempts': 0}}"
      ]
     },
     "execution_count": 68,
     "metadata": {},
     "output_type": "execute_result"
    }
   ],
   "source": [
    "new_endpoint_config_name = f\"{endpoint_name}-new-config\"\n",
    "create_config_response = sagemaker_client.create_endpoint_config(\n",
    "    EndpointConfigName=new_endpoint_config_name,\n",
    "    ProductionVariants=production_variants,\n",
    "    ExplainerConfig=explainer_config,\n",
    "    )\n",
    "create_config_response"
   ]
  },
  {
   "cell_type": "code",
   "execution_count": 69,
   "id": "964a6091",
   "metadata": {
    "tags": []
   },
   "outputs": [
    {
     "data": {
      "text/plain": [
       "{'EndpointArn': 'arn:aws:sagemaker:us-east-1:510646607739:endpoint/from-idea-to-prod-endpoint-24-13-36-36',\n",
       " 'ResponseMetadata': {'RequestId': '6e8673fd-e9e2-4fae-aa43-ad29a3721d1d',\n",
       "  'HTTPStatusCode': 200,\n",
       "  'HTTPHeaders': {'x-amzn-requestid': '6e8673fd-e9e2-4fae-aa43-ad29a3721d1d',\n",
       "   'content-type': 'application/x-amz-json-1.1',\n",
       "   'content-length': '106',\n",
       "   'date': 'Mon, 24 Apr 2023 14:29:02 GMT'},\n",
       "  'RetryAttempts': 0}}"
      ]
     },
     "execution_count": 69,
     "metadata": {},
     "output_type": "execute_result"
    }
   ],
   "source": [
    "sagemaker_client.update_endpoint(EndpointName=endpoint_name, EndpointConfigName=new_endpoint_config_name)"
   ]
  },
  {
   "cell_type": "code",
   "execution_count": 71,
   "id": "b3aaac1f",
   "metadata": {},
   "outputs": [
    {
     "name": "stdout",
     "output_type": "stream",
     "text": [
      "Endpoint from-idea-to-prod-endpoint-24-13-36-36 is in service.\n"
     ]
    }
   ],
   "source": [
    "while sagemaker_client.describe_endpoint(EndpointName=endpoint_name)['EndpointStatus'] != 'InService':\n",
    "    endpoint_status=sagemaker_client.describe_endpoint(EndpointName=endpoint_name)['EndpointStatus']\n",
    "    print(f'Endpoint {endpoint_name} is not in service yet and status is \\\"{endpoint_status}\\\". Sleeping for 15 seconds.')\n",
    "\n",
    "    time.sleep(15)\n",
    "print(f'Endpoint {endpoint_name} is in service.')"
   ]
  },
  {
   "cell_type": "code",
   "execution_count": 72,
   "id": "7dc46c59",
   "metadata": {
    "tags": []
   },
   "outputs": [],
   "source": [
    "def force_plot(expected_value, shap_values, feature_data, feature_headers):\n",
    "    \"\"\"\n",
    "    Visualize the given SHAP values with an additive force layout.\n",
    "\n",
    "    For more information: https://shap.readthedocs.io/en/latest/example_notebooks/tabular_examples/tree_based_models/Force%20Plot%20Colors.html\n",
    "    \"\"\"\n",
    "    force_plot_display = shap.plots.force(\n",
    "        base_value=expected_value,\n",
    "        shap_values=shap_values,\n",
    "        features=feature_data,\n",
    "        feature_names=feature_headers,\n",
    "        matplotlib=True,\n",
    "    )\n",
    "\n",
    "\n",
    "def display_plots(explanations, expected_value, request_records, predictions):\n",
    "    \"\"\"\n",
    "    Display the Model Explainability plots\n",
    "    \"\"\"\n",
    "    per_request_shap_values = OrderedDict()\n",
    "    feature_headers = []\n",
    "    for i, record_output in enumerate(explanations):\n",
    "        per_record_shap_values = []\n",
    "        if record_output is not None:\n",
    "            feature_headers = []\n",
    "            for feature_attribution in record_output:\n",
    "                per_record_shap_values.append(\n",
    "                    feature_attribution[\"attributions\"][0][\"attribution\"][0]\n",
    "                )\n",
    "                feature_headers.append(feature_attribution[\"feature_header\"])\n",
    "            per_request_shap_values[i] = per_record_shap_values\n",
    "\n",
    "    for record_index, shap_values in per_request_shap_values.items():\n",
    "        print(\n",
    "            f\"Visualize the SHAP values for Record number {record_index + 1} with Model Prediction: {predictions[record_index][0]}\"\n",
    "        )\n",
    "        force_plot(\n",
    "            expected_value,\n",
    "            np.array(shap_values),\n",
    "            request_records.iloc[record_index],\n",
    "            feature_headers,\n",
    "        )\n",
    "\n",
    "\n",
    "def visualize_result(result, request_records, expected_value):\n",
    "    \"\"\"\n",
    "    Visualize the output from the endpoint.\n",
    "    \"\"\"\n",
    "    predictions = pd.read_csv(io.StringIO(result[\"predictions\"][\"data\"]), header=None)\n",
    "    predictions = predictions.values.tolist()\n",
    "    print(f\"Model Inference output: \")\n",
    "    for i, model_output in enumerate(predictions):\n",
    "        print(f\"Record: {i + 1}\\tModel Prediction: {model_output[0]}\")\n",
    "\n",
    "    if \"kernel_shap\" in result[\"explanations\"]:\n",
    "        explanations = result[\"explanations\"][\"kernel_shap\"]\n",
    "        display_plots(explanations, expected_value, request_records, predictions)\n",
    "    else:\n",
    "        print(f\"No Clarify explanations for the record(s)\")"
   ]
  },
  {
   "cell_type": "code",
   "execution_count": 81,
   "id": "da6ee8d5",
   "metadata": {
    "tags": []
   },
   "outputs": [
    {
     "name": "stdout",
     "output_type": "stream",
     "text": [
      "{'Body': <botocore.response.StreamingBody object at 0x7f8c1e00fa00>,\n",
      " 'ContentType': 'application/json',\n",
      " 'InvokedProductionVariant': 'AllTraffic',\n",
      " 'ResponseMetadata': {'HTTPHeaders': {'content-length': '11139',\n",
      "                                      'content-type': 'application/json',\n",
      "                                      'date': 'Mon, 24 Apr 2023 14:40:31 GMT',\n",
      "                                      'x-amzn-invoked-production-variant': 'AllTraffic',\n",
      "                                      'x-amzn-requestid': '3246b1c7-bf5c-4aa8-a6a2-eb404df15bf8'},\n",
      "                      'HTTPStatusCode': 200,\n",
      "                      'RequestId': '3246b1c7-bf5c-4aa8-a6a2-eb404df15bf8',\n",
      "                      'RetryAttempts': 0}}\n"
     ]
    }
   ],
   "source": [
    "import pprint\n",
    "sagemaker_runtime_client = boto3.client(\"sagemaker-runtime\")\n",
    "\n",
    "request_records = test_x.iloc[3:5, :]\n",
    "response = sagemaker_runtime_client.invoke_endpoint(\n",
    "    EndpointName=endpoint_name,\n",
    "    ContentType=\"text/csv\",\n",
    "    Body=csv_serializer.serialize(request_records.values),\n",
    ")\n",
    "pprint.pprint(response)"
   ]
  },
  {
   "cell_type": "code",
   "execution_count": 82,
   "id": "0c57d1a2",
   "metadata": {
    "collapsed": true,
    "jupyter": {
     "outputs_hidden": true
    },
    "tags": []
   },
   "outputs": [
    {
     "name": "stdout",
     "output_type": "stream",
     "text": [
      "{'explanations': {'kernel_shap': [[{'attributions': [{'attribution': [0.0025643709892341922]}],\n",
      "                                    'feature_header': 'age'},\n",
      "                                   {'attributions': [{'attribution': [-0.03673431297845242]}],\n",
      "                                    'feature_header': 'campaign'},\n",
      "                                   {'attributions': [{'attribution': [0.00036605077853188277]}],\n",
      "                                    'feature_header': 'pdays'},\n",
      "                                   {'attributions': [{'attribution': [0.0017453997188660482]}],\n",
      "                                    'feature_header': 'previous'},\n",
      "                                   {'attributions': [{'attribution': [0.0004921413782777457]}],\n",
      "                                    'feature_header': 'no_previous_contact'},\n",
      "                                   {'attributions': [{'attribution': [9.869730403416765e-05]}],\n",
      "                                    'feature_header': 'not_working'},\n",
      "                                   {'attributions': [{'attribution': [0.00011094465056766395]}],\n",
      "                                    'feature_header': 'job_admin.'},\n",
      "                                   {'attributions': [{'attribution': [1.7117785597979551e-06]}],\n",
      "                                    'feature_header': 'job_blue-collar'},\n",
      "                                   {'attributions': [{'attribution': [-0.0002183274858592564]}],\n",
      "                                    'feature_header': 'job_entrepreneur'},\n",
      "                                   {'attributions': [{'attribution': [0.00012457117053388082]}],\n",
      "                                    'feature_header': 'job_housemaid'},\n",
      "                                   {'attributions': [{'attribution': [4.134782928244714e-05]}],\n",
      "                                    'feature_header': 'job_management'},\n",
      "                                   {'attributions': [{'attribution': [-0.000171071889755757]}],\n",
      "                                    'feature_header': 'job_retired'},\n",
      "                                   {'attributions': [{'attribution': [-0.0002676574600318782]}],\n",
      "                                    'feature_header': 'job_self-employed'},\n",
      "                                   {'attributions': [{'attribution': [0.0002551483119130095]}],\n",
      "                                    'feature_header': 'job_services'},\n",
      "                                   {'attributions': [{'attribution': [-0.00033334692004459605]}],\n",
      "                                    'feature_header': 'job_student'},\n",
      "                                   {'attributions': [{'attribution': [0.00013433806855203938]}],\n",
      "                                    'feature_header': 'job_technician'},\n",
      "                                   {'attributions': [{'attribution': [0.00019892653575771801]}],\n",
      "                                    'feature_header': 'job_unemployed'},\n",
      "                                   {'attributions': [{'attribution': [0.00012047483138916733]}],\n",
      "                                    'feature_header': 'job_unknown'},\n",
      "                                   {'attributions': [{'attribution': [3.398980791737005e-05]}],\n",
      "                                    'feature_header': 'marital_divorced'},\n",
      "                                   {'attributions': [{'attribution': [2.828342810173856e-05]}],\n",
      "                                    'feature_header': 'marital_married'},\n",
      "                                   {'attributions': [{'attribution': [1.5208220219206647e-06]}],\n",
      "                                    'feature_header': 'marital_single'},\n",
      "                                   {'attributions': [{'attribution': [4.507751681811188e-05]}],\n",
      "                                    'feature_header': 'marital_unknown'},\n",
      "                                   {'attributions': [{'attribution': [0.00010943743899678726]}],\n",
      "                                    'feature_header': 'education_basic.4y'},\n",
      "                                   {'attributions': [{'attribution': [-0.00011172304563171476]}],\n",
      "                                    'feature_header': 'education_basic.6y'},\n",
      "                                   {'attributions': [{'attribution': [0.0002597431683143969]}],\n",
      "                                    'feature_header': 'education_basic.9y'},\n",
      "                                   {'attributions': [{'attribution': [0.0002460143989684205]}],\n",
      "                                    'feature_header': 'education_high.school'},\n",
      "                                   {'attributions': [{'attribution': [-4.207119271650711e-05]}],\n",
      "                                    'feature_header': 'education_illiterate'},\n",
      "                                   {'attributions': [{'attribution': [-6.307830516067738e-05]}],\n",
      "                                    'feature_header': 'education_professional.course'},\n",
      "                                   {'attributions': [{'attribution': [0.008364093342876022]}],\n",
      "                                    'feature_header': 'education_university.degree'},\n",
      "                                   {'attributions': [{'attribution': [-0.00027880010268469674]}],\n",
      "                                    'feature_header': 'education_unknown'},\n",
      "                                   {'attributions': [{'attribution': [0.00022778250670708877]}],\n",
      "                                    'feature_header': 'default_no'},\n",
      "                                   {'attributions': [{'attribution': [9.28292110504189e-05]}],\n",
      "                                    'feature_header': 'default_unknown'},\n",
      "                                   {'attributions': [{'attribution': [-0.0002599971609344356]}],\n",
      "                                    'feature_header': 'default_yes'},\n",
      "                                   {'attributions': [{'attribution': [-0.00026139710015320606]}],\n",
      "                                    'feature_header': 'housing_no'},\n",
      "                                   {'attributions': [{'attribution': [6.89413225423742e-05]}],\n",
      "                                    'feature_header': 'housing_unknown'},\n",
      "                                   {'attributions': [{'attribution': [-0.0005164567716969676]}],\n",
      "                                    'feature_header': 'housing_yes'},\n",
      "                                   {'attributions': [{'attribution': [-0.00021953587293048818]}],\n",
      "                                    'feature_header': 'loan_no'},\n",
      "                                   {'attributions': [{'attribution': [0.0002694301792747905]}],\n",
      "                                    'feature_header': 'loan_unknown'},\n",
      "                                   {'attributions': [{'attribution': [-2.77186222547611e-05]}],\n",
      "                                    'feature_header': 'loan_yes'},\n",
      "                                   {'attributions': [{'attribution': [-0.0005434393253528798]}],\n",
      "                                    'feature_header': 'contact_cellular'},\n",
      "                                   {'attributions': [{'attribution': [0.00016203994934360297]}],\n",
      "                                    'feature_header': 'contact_telephone'},\n",
      "                                   {'attributions': [{'attribution': [0.00014200329661438575]}],\n",
      "                                    'feature_header': 'month_apr'},\n",
      "                                   {'attributions': [{'attribution': [-3.939381363241793e-05]}],\n",
      "                                    'feature_header': 'month_aug'},\n",
      "                                   {'attributions': [{'attribution': [-9.240196533571651e-05]}],\n",
      "                                    'feature_header': 'month_dec'},\n",
      "                                   {'attributions': [{'attribution': [-0.000137087858360389]}],\n",
      "                                    'feature_header': 'month_jul'},\n",
      "                                   {'attributions': [{'attribution': [0.19042130454622297]}],\n",
      "                                    'feature_header': 'month_jun'},\n",
      "                                   {'attributions': [{'attribution': [-1.3144659985296972e-05]}],\n",
      "                                    'feature_header': 'month_mar'},\n",
      "                                   {'attributions': [{'attribution': [0.0004337826455337677]}],\n",
      "                                    'feature_header': 'month_may'},\n",
      "                                   {'attributions': [{'attribution': [-0.0006551853952270238]}],\n",
      "                                    'feature_header': 'month_nov'},\n",
      "                                   {'attributions': [{'attribution': [0.00011940642061873674]}],\n",
      "                                    'feature_header': 'month_oct'},\n",
      "                                   {'attributions': [{'attribution': [-3.6441769739065794e-05]}],\n",
      "                                    'feature_header': 'month_sep'},\n",
      "                                   {'attributions': [{'attribution': [2.2435752118892677e-05]}],\n",
      "                                    'feature_header': 'day_of_week_fri'},\n",
      "                                   {'attributions': [{'attribution': [-0.002847526794503376]}],\n",
      "                                    'feature_header': 'day_of_week_mon'},\n",
      "                                   {'attributions': [{'attribution': [-0.0001444843179889358]}],\n",
      "                                    'feature_header': 'day_of_week_thu'},\n",
      "                                   {'attributions': [{'attribution': [-0.0001746756003044237]}],\n",
      "                                    'feature_header': 'day_of_week_tue'},\n",
      "                                   {'attributions': [{'attribution': [0.00012510088253460047]}],\n",
      "                                    'feature_header': 'day_of_week_wed'},\n",
      "                                   {'attributions': [{'attribution': [-0.01852453909937148]}],\n",
      "                                    'feature_header': 'poutcome_failure'},\n",
      "                                   {'attributions': [{'attribution': [-2.095577653181413e-05]}],\n",
      "                                    'feature_header': 'poutcome_nonexistent'},\n",
      "                                   {'attributions': [{'attribution': [0.000475519679086156]}],\n",
      "                                    'feature_header': 'poutcome_success'}],\n",
      "                                  [{'attributions': [{'attribution': [1.5653159820916345e-05]}],\n",
      "                                    'feature_header': 'age'},\n",
      "                                   {'attributions': [{'attribution': [-0.003844521420924679]}],\n",
      "                                    'feature_header': 'campaign'},\n",
      "                                   {'attributions': [{'attribution': [-3.211047228170519e-06]}],\n",
      "                                    'feature_header': 'pdays'},\n",
      "                                   {'attributions': [{'attribution': [-7.94759162489958e-06]}],\n",
      "                                    'feature_header': 'previous'},\n",
      "                                   {'attributions': [{'attribution': [-6.803148329074388e-05]}],\n",
      "                                    'feature_header': 'no_previous_contact'},\n",
      "                                   {'attributions': [{'attribution': [4.7632078012470325e-05]}],\n",
      "                                    'feature_header': 'not_working'},\n",
      "                                   {'attributions': [{'attribution': [0.00014250897188747275]}],\n",
      "                                    'feature_header': 'job_admin.'},\n",
      "                                   {'attributions': [{'attribution': [5.944502583861682e-05]}],\n",
      "                                    'feature_header': 'job_blue-collar'},\n",
      "                                   {'attributions': [{'attribution': [5.522773035211443e-05]}],\n",
      "                                    'feature_header': 'job_entrepreneur'},\n",
      "                                   {'attributions': [{'attribution': [-4.4009496088116135e-06]}],\n",
      "                                    'feature_header': 'job_housemaid'},\n",
      "                                   {'attributions': [{'attribution': [-0.00012468268801214648]}],\n",
      "                                    'feature_header': 'job_management'},\n",
      "                                   {'attributions': [{'attribution': [-3.545229885378032e-05]}],\n",
      "                                    'feature_header': 'job_retired'},\n",
      "                                   {'attributions': [{'attribution': [2.191177114447705e-05]}],\n",
      "                                    'feature_header': 'job_self-employed'},\n",
      "                                   {'attributions': [{'attribution': [-4.656011336312462e-05]}],\n",
      "                                    'feature_header': 'job_services'},\n",
      "                                   {'attributions': [{'attribution': [1.3835546689107414e-05]}],\n",
      "                                    'feature_header': 'job_student'},\n",
      "                                   {'attributions': [{'attribution': [5.09412392026079e-05]}],\n",
      "                                    'feature_header': 'job_technician'},\n",
      "                                   {'attributions': [{'attribution': [-1.0710733616691413e-05]}],\n",
      "                                    'feature_header': 'job_unemployed'},\n",
      "                                   {'attributions': [{'attribution': [0.00011068919767703292]}],\n",
      "                                    'feature_header': 'job_unknown'},\n",
      "                                   {'attributions': [{'attribution': [-4.276802868218282e-05]}],\n",
      "                                    'feature_header': 'marital_divorced'},\n",
      "                                   {'attributions': [{'attribution': [-0.0009003203236623331]}],\n",
      "                                    'feature_header': 'marital_married'},\n",
      "                                   {'attributions': [{'attribution': [0.0006288879876568698]}],\n",
      "                                    'feature_header': 'marital_single'},\n",
      "                                   {'attributions': [{'attribution': [9.232331068245204e-05]}],\n",
      "                                    'feature_header': 'marital_unknown'},\n",
      "                                   {'attributions': [{'attribution': [4.941610522592177e-06]}],\n",
      "                                    'feature_header': 'education_basic.4y'},\n",
      "                                   {'attributions': [{'attribution': [-1.8335836673238903e-05]}],\n",
      "                                    'feature_header': 'education_basic.6y'},\n",
      "                                   {'attributions': [{'attribution': [1.836486627243561e-06]}],\n",
      "                                    'feature_header': 'education_basic.9y'},\n",
      "                                   {'attributions': [{'attribution': [-3.358164412780055e-05]}],\n",
      "                                    'feature_header': 'education_high.school'},\n",
      "                                   {'attributions': [{'attribution': [-2.726499674922389e-05]}],\n",
      "                                    'feature_header': 'education_illiterate'},\n",
      "                                   {'attributions': [{'attribution': [-8.880859455235451e-06]}],\n",
      "                                    'feature_header': 'education_professional.course'},\n",
      "                                   {'attributions': [{'attribution': [-6.851821827094607e-05]}],\n",
      "                                    'feature_header': 'education_university.degree'},\n",
      "                                   {'attributions': [{'attribution': [-1.6531083202011437e-05]}],\n",
      "                                    'feature_header': 'education_unknown'},\n",
      "                                   {'attributions': [{'attribution': [-8.480821622144398e-06]}],\n",
      "                                    'feature_header': 'default_no'},\n",
      "                                   {'attributions': [{'attribution': [6.062446677215761e-06]}],\n",
      "                                    'feature_header': 'default_unknown'},\n",
      "                                   {'attributions': [{'attribution': [-2.337596055654919e-05]}],\n",
      "                                    'feature_header': 'default_yes'},\n",
      "                                   {'attributions': [{'attribution': [-9.443856300807687e-05]}],\n",
      "                                    'feature_header': 'housing_no'},\n",
      "                                   {'attributions': [{'attribution': [7.607219657807755e-05]}],\n",
      "                                    'feature_header': 'housing_unknown'},\n",
      "                                   {'attributions': [{'attribution': [-1.7196044766957424e-05]}],\n",
      "                                    'feature_header': 'housing_yes'},\n",
      "                                   {'attributions': [{'attribution': [0.002600010442681808]}],\n",
      "                                    'feature_header': 'loan_no'},\n",
      "                                   {'attributions': [{'attribution': [-6.414606254677262e-05]}],\n",
      "                                    'feature_header': 'loan_unknown'},\n",
      "                                   {'attributions': [{'attribution': [-7.08614118161326e-05]}],\n",
      "                                    'feature_header': 'loan_yes'},\n",
      "                                   {'attributions': [{'attribution': [-0.03645623059669924]}],\n",
      "                                    'feature_header': 'contact_cellular'},\n",
      "                                   {'attributions': [{'attribution': [-0.0050118151938829516]}],\n",
      "                                    'feature_header': 'contact_telephone'},\n",
      "                                   {'attributions': [{'attribution': [-4.154784129123878e-05]}],\n",
      "                                    'feature_header': 'month_apr'},\n",
      "                                   {'attributions': [{'attribution': [-6.0343038098564696e-05]}],\n",
      "                                    'feature_header': 'month_aug'},\n",
      "                                   {'attributions': [{'attribution': [4.249029167522657e-05]}],\n",
      "                                    'feature_header': 'month_dec'},\n",
      "                                   {'attributions': [{'attribution': [9.731087196628019e-05]}],\n",
      "                                    'feature_header': 'month_jul'},\n",
      "                                   {'attributions': [{'attribution': [2.3691669748995142e-06]}],\n",
      "                                    'feature_header': 'month_jun'},\n",
      "                                   {'attributions': [{'attribution': [8.397306489418594e-05]}],\n",
      "                                    'feature_header': 'month_mar'},\n",
      "                                   {'attributions': [{'attribution': [-0.013594573596898366]}],\n",
      "                                    'feature_header': 'month_may'},\n",
      "                                   {'attributions': [{'attribution': [-3.787716714959339e-05]}],\n",
      "                                    'feature_header': 'month_nov'},\n",
      "                                   {'attributions': [{'attribution': [-4.966785048432336e-05]}],\n",
      "                                    'feature_header': 'month_oct'},\n",
      "                                   {'attributions': [{'attribution': [-0.00010977129826937517]}],\n",
      "                                    'feature_header': 'month_sep'},\n",
      "                                   {'attributions': [{'attribution': [-4.4267571422899193e-05]}],\n",
      "                                    'feature_header': 'day_of_week_fri'},\n",
      "                                   {'attributions': [{'attribution': [3.419467207106414e-05]}],\n",
      "                                    'feature_header': 'day_of_week_mon'},\n",
      "                                   {'attributions': [{'attribution': [-5.268477134166404e-05]}],\n",
      "                                    'feature_header': 'day_of_week_thu'},\n",
      "                                   {'attributions': [{'attribution': [3.444093097960954e-05]}],\n",
      "                                    'feature_header': 'day_of_week_tue'},\n",
      "                                   {'attributions': [{'attribution': [4.542976179732752e-05]}],\n",
      "                                    'feature_header': 'day_of_week_wed'},\n",
      "                                   {'attributions': [{'attribution': [-6.826039164926304e-05]}],\n",
      "                                    'feature_header': 'poutcome_failure'},\n",
      "                                   {'attributions': [{'attribution': [9.695232520075115e-05]}],\n",
      "                                    'feature_header': 'poutcome_nonexistent'},\n",
      "                                   {'attributions': [{'attribution': [-4.237633286200554e-05]}],\n",
      "                                    'feature_header': 'poutcome_success'}]]},\n",
      " 'predictions': {'content_type': 'text/csv; charset=utf-8',\n",
      "                 'data': '0.23566143214702606\\n0.03374885022640228\\n'},\n",
      " 'version': '1.0'}\n"
     ]
    }
   ],
   "source": [
    "result = json_deserializer.deserialize(response[\"Body\"], content_type=response[\"ContentType\"])\n",
    "pprint.pprint(result)"
   ]
  },
  {
   "cell_type": "markdown",
   "id": "d49c3787-5365-43a2-b30b-877d949c8523",
   "metadata": {},
   "source": [
    "#### Visualizing the prediction drivers over the baseline\n",
    "A intuitive visualisation of the drivers the drivers for the prediction can be achieved by using force plots from the SHAP library. "
   ]
  },
  {
   "cell_type": "code",
   "execution_count": 83,
   "id": "b29abfa1",
   "metadata": {
    "tags": []
   },
   "outputs": [
    {
     "name": "stdout",
     "output_type": "stream",
     "text": [
      "expected value: 0.090493343770504\n"
     ]
    }
   ],
   "source": [
    "response = sagemaker_runtime_client.invoke_endpoint(\n",
    "    EndpointName=endpoint_name,\n",
    "    ContentType=\"text/csv\",\n",
    "    Body=csv_serializer.serialize(baseline),\n",
    "    EnableExplanations=\"`false`\",  # Do not provide explanations\n",
    ")\n",
    "json_object = json_deserializer.deserialize(response[\"Body\"], content_type=response[\"ContentType\"])\n",
    "expected_value = float(\n",
    "    pd.read_csv(io.StringIO(json_object[\"predictions\"][\"data\"]), header=None)\n",
    "    .astype(float)\n",
    "    .mean(axis=1)\n",
    ")\n",
    "print(f\"expected value: {expected_value}\")"
   ]
  },
  {
   "cell_type": "code",
   "execution_count": 84,
   "id": "e88193c0",
   "metadata": {
    "tags": []
   },
   "outputs": [
    {
     "name": "stdout",
     "output_type": "stream",
     "text": [
      "Model Inference output: \n",
      "Record: 1\tModel Prediction: 0.235661432147026\n",
      "Record: 2\tModel Prediction: 0.0337488502264022\n",
      "Visualize the SHAP values for Record number 1 with Model Prediction: 0.235661432147026\n"
     ]
    },
    {
     "data": {
      "image/png": "[encoded data removed]",
      "text/plain": [
       "<Figure size 2000x300 with 1 Axes>"
      ]
     },
     "metadata": {},
     "output_type": "display_data"
    },
    {
     "name": "stdout",
     "output_type": "stream",
     "text": [
      "Visualize the SHAP values for Record number 2 with Model Prediction: 0.0337488502264022\n"
     ]
    },
    {
     "data": {
      "image/png": "[encoded data removed]",
      "text/plain": [
       "<Figure size 2000x300 with 1 Axes>"
      ]
     },
     "metadata": {},
     "output_type": "display_data"
    }
   ],
   "source": [
    "import shap \n",
    "visualize_result(result, request_records, expected_value)"
   ]
  },
  {
   "cell_type": "markdown",
   "id": "7efc15f6-aa75-429f-9aed-c42572a06e7f",
   "metadata": {},
   "source": [
    "To create a transformer, use either option 1 or option 2."
   ]
  },
  {
   "cell_type": "markdown",
   "id": "2d7b222f-ee83-4c87-9019-cebcc7e56627",
   "metadata": {},
   "source": [
    "# Shutdown kernel and delete endpoint"
   ]
  },
  {
   "cell_type": "code",
   "execution_count": 85,
   "id": "7ff45382-f770-4e78-9387-7eef1a07e6d1",
   "metadata": {
    "tags": []
   },
   "outputs": [
    {
     "name": "stdout",
     "output_type": "stream",
     "text": [
      "True\n"
     ]
    }
   ],
   "source": [
    "# delete and endpoint that is running\n",
    "import boto3\n",
    "def delete_endpoint(endpoint_name):\n",
    "    client = boto3.client('sagemaker')\n",
    "    response = client.delete_endpoint(\n",
    "        EndpointName=endpoint_name\n",
    "    )\n",
    "    return response['ResponseMetadata']['HTTPStatusCode'] == 200\n",
    "\n",
    "endpoint_name =endpoint_name\n",
    "print(delete_endpoint(endpoint_name))"
   ]
  },
  {
   "cell_type": "code",
   "execution_count": 87,
   "id": "ae0b1f02-44b8-4749-a5e2-ce415fff7f78",
   "metadata": {
    "tags": []
   },
   "outputs": [
    {
     "data": {
      "text/html": [
       "\n",
       "<p><b>Shutting down your kernel for this notebook to release resources.</b></p>\n",
       "<button class=\"sm-command-button\" data-commandlinker-command=\"kernelmenu:shutdown\" style=\"display:none;\">Shutdown Kernel</button>\n",
       "        \n",
       "<script>\n",
       "try {\n",
       "    els = document.getElementsByClassName(\"sm-command-button\");\n",
       "    els[0].click();\n",
       "}\n",
       "catch(err) {\n",
       "    // NoOp\n",
       "}    \n",
       "</script>\n"
      ],
      "text/plain": [
       "<IPython.core.display.HTML object>"
      ]
     },
     "metadata": {},
     "output_type": "display_data"
    }
   ],
   "source": [
    "%%html\n",
    "\n",
    "<p><b>Shutting down your kernel for this notebook to release resources.</b></p>\n",
    "<button class=\"sm-command-button\" data-commandlinker-command=\"kernelmenu:shutdown\" style=\"display:none;\">Shutdown Kernel</button>\n",
    "        \n",
    "<script>\n",
    "try {\n",
    "    els = document.getElementsByClassName(\"sm-command-button\");\n",
    "    els[0].click();\n",
    "}\n",
    "catch(err) {\n",
    "    // NoOp\n",
    "}    \n",
    "</script>"
   ]
  }
 ],
 "metadata": {
  "availableInstances": [
   {
    "_defaultOrder": 0,
    "_isFastLaunch": true,
    "category": "General purpose",
    "gpuNum": 0,
    "hideHardwareSpecs": false,
    "memoryGiB": 4,
    "name": "ml.t3.medium",
    "vcpuNum": 2
   },
   {
    "_defaultOrder": 1,
    "_isFastLaunch": false,
    "category": "General purpose",
    "gpuNum": 0,
    "hideHardwareSpecs": false,
    "memoryGiB": 8,
    "name": "ml.t3.large",
    "vcpuNum": 2
   },
   {
    "_defaultOrder": 2,
    "_isFastLaunch": false,
    "category": "General purpose",
    "gpuNum": 0,
    "hideHardwareSpecs": false,
    "memoryGiB": 16,
    "name": "ml.t3.xlarge",
    "vcpuNum": 4
   },
   {
    "_defaultOrder": 3,
    "_isFastLaunch": false,
    "category": "General purpose",
    "gpuNum": 0,
    "hideHardwareSpecs": false,
    "memoryGiB": 32,
    "name": "ml.t3.2xlarge",
    "vcpuNum": 8
   },
   {
    "_defaultOrder": 4,
    "_isFastLaunch": true,
    "category": "General purpose",
    "gpuNum": 0,
    "hideHardwareSpecs": false,
    "memoryGiB": 8,
    "name": "ml.m5.large",
    "vcpuNum": 2
   },
   {
    "_defaultOrder": 5,
    "_isFastLaunch": false,
    "category": "General purpose",
    "gpuNum": 0,
    "hideHardwareSpecs": false,
    "memoryGiB": 16,
    "name": "ml.m5.xlarge",
    "vcpuNum": 4
   },
   {
    "_defaultOrder": 6,
    "_isFastLaunch": false,
    "category": "General purpose",
    "gpuNum": 0,
    "hideHardwareSpecs": false,
    "memoryGiB": 32,
    "name": "ml.m5.2xlarge",
    "vcpuNum": 8
   },
   {
    "_defaultOrder": 7,
    "_isFastLaunch": false,
    "category": "General purpose",
    "gpuNum": 0,
    "hideHardwareSpecs": false,
    "memoryGiB": 64,
    "name": "ml.m5.4xlarge",
    "vcpuNum": 16
   },
   {
    "_defaultOrder": 8,
    "_isFastLaunch": false,
    "category": "General purpose",
    "gpuNum": 0,
    "hideHardwareSpecs": false,
    "memoryGiB": 128,
    "name": "ml.m5.8xlarge",
    "vcpuNum": 32
   },
   {
    "_defaultOrder": 9,
    "_isFastLaunch": false,
    "category": "General purpose",
    "gpuNum": 0,
    "hideHardwareSpecs": false,
    "memoryGiB": 192,
    "name": "ml.m5.12xlarge",
    "vcpuNum": 48
   },
   {
    "_defaultOrder": 10,
    "_isFastLaunch": false,
    "category": "General purpose",
    "gpuNum": 0,
    "hideHardwareSpecs": false,
    "memoryGiB": 256,
    "name": "ml.m5.16xlarge",
    "vcpuNum": 64
   },
   {
    "_defaultOrder": 11,
    "_isFastLaunch": false,
    "category": "General purpose",
    "gpuNum": 0,
    "hideHardwareSpecs": false,
    "memoryGiB": 384,
    "name": "ml.m5.24xlarge",
    "vcpuNum": 96
   },
   {
    "_defaultOrder": 12,
    "_isFastLaunch": false,
    "category": "General purpose",
    "gpuNum": 0,
    "hideHardwareSpecs": false,
    "memoryGiB": 8,
    "name": "ml.m5d.large",
    "vcpuNum": 2
   },
   {
    "_defaultOrder": 13,
    "_isFastLaunch": false,
    "category": "General purpose",
    "gpuNum": 0,
    "hideHardwareSpecs": false,
    "memoryGiB": 16,
    "name": "ml.m5d.xlarge",
    "vcpuNum": 4
   },
   {
    "_defaultOrder": 14,
    "_isFastLaunch": false,
    "category": "General purpose",
    "gpuNum": 0,
    "hideHardwareSpecs": false,
    "memoryGiB": 32,
    "name": "ml.m5d.2xlarge",
    "vcpuNum": 8
   },
   {
    "_defaultOrder": 15,
    "_isFastLaunch": false,
    "category": "General purpose",
    "gpuNum": 0,
    "hideHardwareSpecs": false,
    "memoryGiB": 64,
    "name": "ml.m5d.4xlarge",
    "vcpuNum": 16
   },
   {
    "_defaultOrder": 16,
    "_isFastLaunch": false,
    "category": "General purpose",
    "gpuNum": 0,
    "hideHardwareSpecs": false,
    "memoryGiB": 128,
    "name": "ml.m5d.8xlarge",
    "vcpuNum": 32
   },
   {
    "_defaultOrder": 17,
    "_isFastLaunch": false,
    "category": "General purpose",
    "gpuNum": 0,
    "hideHardwareSpecs": false,
    "memoryGiB": 192,
    "name": "ml.m5d.12xlarge",
    "vcpuNum": 48
   },
   {
    "_defaultOrder": 18,
    "_isFastLaunch": false,
    "category": "General purpose",
    "gpuNum": 0,
    "hideHardwareSpecs": false,
    "memoryGiB": 256,
    "name": "ml.m5d.16xlarge",
    "vcpuNum": 64
   },
   {
    "_defaultOrder": 19,
    "_isFastLaunch": false,
    "category": "General purpose",
    "gpuNum": 0,
    "hideHardwareSpecs": false,
    "memoryGiB": 384,
    "name": "ml.m5d.24xlarge",
    "vcpuNum": 96
   },
   {
    "_defaultOrder": 20,
    "_isFastLaunch": false,
    "category": "General purpose",
    "gpuNum": 0,
    "hideHardwareSpecs": true,
    "memoryGiB": 0,
    "name": "ml.geospatial.interactive",
    "supportedImageNames": [
     "sagemaker-geospatial-v1-0"
    ],
    "vcpuNum": 0
   },
   {
    "_defaultOrder": 21,
    "_isFastLaunch": true,
    "category": "Compute optimized",
    "gpuNum": 0,
    "hideHardwareSpecs": false,
    "memoryGiB": 4,
    "name": "ml.c5.large",
    "vcpuNum": 2
   },
   {
    "_defaultOrder": 22,
    "_isFastLaunch": false,
    "category": "Compute optimized",
    "gpuNum": 0,
    "hideHardwareSpecs": false,
    "memoryGiB": 8,
    "name": "ml.c5.xlarge",
    "vcpuNum": 4
   },
   {
    "_defaultOrder": 23,
    "_isFastLaunch": false,
    "category": "Compute optimized",
    "gpuNum": 0,
    "hideHardwareSpecs": false,
    "memoryGiB": 16,
    "name": "ml.c5.2xlarge",
    "vcpuNum": 8
   },
   {
    "_defaultOrder": 24,
    "_isFastLaunch": false,
    "category": "Compute optimized",
    "gpuNum": 0,
    "hideHardwareSpecs": false,
    "memoryGiB": 32,
    "name": "ml.c5.4xlarge",
    "vcpuNum": 16
   },
   {
    "_defaultOrder": 25,
    "_isFastLaunch": false,
    "category": "Compute optimized",
    "gpuNum": 0,
    "hideHardwareSpecs": false,
    "memoryGiB": 72,
    "name": "ml.c5.9xlarge",
    "vcpuNum": 36
   },
   {
    "_defaultOrder": 26,
    "_isFastLaunch": false,
    "category": "Compute optimized",
    "gpuNum": 0,
    "hideHardwareSpecs": false,
    "memoryGiB": 96,
    "name": "ml.c5.12xlarge",
    "vcpuNum": 48
   },
   {
    "_defaultOrder": 27,
    "_isFastLaunch": false,
    "category": "Compute optimized",
    "gpuNum": 0,
    "hideHardwareSpecs": false,
    "memoryGiB": 144,
    "name": "ml.c5.18xlarge",
    "vcpuNum": 72
   },
   {
    "_defaultOrder": 28,
    "_isFastLaunch": false,
    "category": "Compute optimized",
    "gpuNum": 0,
    "hideHardwareSpecs": false,
    "memoryGiB": 192,
    "name": "ml.c5.24xlarge",
    "vcpuNum": 96
   },
   {
    "_defaultOrder": 29,
    "_isFastLaunch": true,
    "category": "Accelerated computing",
    "gpuNum": 1,
    "hideHardwareSpecs": false,
    "memoryGiB": 16,
    "name": "ml.g4dn.xlarge",
    "vcpuNum": 4
   },
   {
    "_defaultOrder": 30,
    "_isFastLaunch": false,
    "category": "Accelerated computing",
    "gpuNum": 1,
    "hideHardwareSpecs": false,
    "memoryGiB": 32,
    "name": "ml.g4dn.2xlarge",
    "vcpuNum": 8
   },
   {
    "_defaultOrder": 31,
    "_isFastLaunch": false,
    "category": "Accelerated computing",
    "gpuNum": 1,
    "hideHardwareSpecs": false,
    "memoryGiB": 64,
    "name": "ml.g4dn.4xlarge",
    "vcpuNum": 16
   },
   {
    "_defaultOrder": 32,
    "_isFastLaunch": false,
    "category": "Accelerated computing",
    "gpuNum": 1,
    "hideHardwareSpecs": false,
    "memoryGiB": 128,
    "name": "ml.g4dn.8xlarge",
    "vcpuNum": 32
   },
   {
    "_defaultOrder": 33,
    "_isFastLaunch": false,
    "category": "Accelerated computing",
    "gpuNum": 4,
    "hideHardwareSpecs": false,
    "memoryGiB": 192,
    "name": "ml.g4dn.12xlarge",
    "vcpuNum": 48
   },
   {
    "_defaultOrder": 34,
    "_isFastLaunch": false,
    "category": "Accelerated computing",
    "gpuNum": 1,
    "hideHardwareSpecs": false,
    "memoryGiB": 256,
    "name": "ml.g4dn.16xlarge",
    "vcpuNum": 64
   },
   {
    "_defaultOrder": 35,
    "_isFastLaunch": false,
    "category": "Accelerated computing",
    "gpuNum": 1,
    "hideHardwareSpecs": false,
    "memoryGiB": 61,
    "name": "ml.p3.2xlarge",
    "vcpuNum": 8
   },
   {
    "_defaultOrder": 36,
    "_isFastLaunch": false,
    "category": "Accelerated computing",
    "gpuNum": 4,
    "hideHardwareSpecs": false,
    "memoryGiB": 244,
    "name": "ml.p3.8xlarge",
    "vcpuNum": 32
   },
   {
    "_defaultOrder": 37,
    "_isFastLaunch": false,
    "category": "Accelerated computing",
    "gpuNum": 8,
    "hideHardwareSpecs": false,
    "memoryGiB": 488,
    "name": "ml.p3.16xlarge",
    "vcpuNum": 64
   },
   {
    "_defaultOrder": 38,
    "_isFastLaunch": false,
    "category": "Accelerated computing",
    "gpuNum": 8,
    "hideHardwareSpecs": false,
    "memoryGiB": 768,
    "name": "ml.p3dn.24xlarge",
    "vcpuNum": 96
   },
   {
    "_defaultOrder": 39,
    "_isFastLaunch": false,
    "category": "Memory Optimized",
    "gpuNum": 0,
    "hideHardwareSpecs": false,
    "memoryGiB": 16,
    "name": "ml.r5.large",
    "vcpuNum": 2
   },
   {
    "_defaultOrder": 40,
    "_isFastLaunch": false,
    "category": "Memory Optimized",
    "gpuNum": 0,
    "hideHardwareSpecs": false,
    "memoryGiB": 32,
    "name": "ml.r5.xlarge",
    "vcpuNum": 4
   },
   {
    "_defaultOrder": 41,
    "_isFastLaunch": false,
    "category": "Memory Optimized",
    "gpuNum": 0,
    "hideHardwareSpecs": false,
    "memoryGiB": 64,
    "name": "ml.r5.2xlarge",
    "vcpuNum": 8
   },
   {
    "_defaultOrder": 42,
    "_isFastLaunch": false,
    "category": "Memory Optimized",
    "gpuNum": 0,
    "hideHardwareSpecs": false,
    "memoryGiB": 128,
    "name": "ml.r5.4xlarge",
    "vcpuNum": 16
   },
   {
    "_defaultOrder": 43,
    "_isFastLaunch": false,
    "category": "Memory Optimized",
    "gpuNum": 0,
    "hideHardwareSpecs": false,
    "memoryGiB": 256,
    "name": "ml.r5.8xlarge",
    "vcpuNum": 32
   },
   {
    "_defaultOrder": 44,
    "_isFastLaunch": false,
    "category": "Memory Optimized",
    "gpuNum": 0,
    "hideHardwareSpecs": false,
    "memoryGiB": 384,
    "name": "ml.r5.12xlarge",
    "vcpuNum": 48
   },
   {
    "_defaultOrder": 45,
    "_isFastLaunch": false,
    "category": "Memory Optimized",
    "gpuNum": 0,
    "hideHardwareSpecs": false,
    "memoryGiB": 512,
    "name": "ml.r5.16xlarge",
    "vcpuNum": 64
   },
   {
    "_defaultOrder": 46,
    "_isFastLaunch": false,
    "category": "Memory Optimized",
    "gpuNum": 0,
    "hideHardwareSpecs": false,
    "memoryGiB": 768,
    "name": "ml.r5.24xlarge",
    "vcpuNum": 96
   },
   {
    "_defaultOrder": 47,
    "_isFastLaunch": false,
    "category": "Accelerated computing",
    "gpuNum": 1,
    "hideHardwareSpecs": false,
    "memoryGiB": 16,
    "name": "ml.g5.xlarge",
    "vcpuNum": 4
   },
   {
    "_defaultOrder": 48,
    "_isFastLaunch": false,
    "category": "Accelerated computing",
    "gpuNum": 1,
    "hideHardwareSpecs": false,
    "memoryGiB": 32,
    "name": "ml.g5.2xlarge",
    "vcpuNum": 8
   },
   {
    "_defaultOrder": 49,
    "_isFastLaunch": false,
    "category": "Accelerated computing",
    "gpuNum": 1,
    "hideHardwareSpecs": false,
    "memoryGiB": 64,
    "name": "ml.g5.4xlarge",
    "vcpuNum": 16
   },
   {
    "_defaultOrder": 50,
    "_isFastLaunch": false,
    "category": "Accelerated computing",
    "gpuNum": 1,
    "hideHardwareSpecs": false,
    "memoryGiB": 128,
    "name": "ml.g5.8xlarge",
    "vcpuNum": 32
   },
   {
    "_defaultOrder": 51,
    "_isFastLaunch": false,
    "category": "Accelerated computing",
    "gpuNum": 1,
    "hideHardwareSpecs": false,
    "memoryGiB": 256,
    "name": "ml.g5.16xlarge",
    "vcpuNum": 64
   },
   {
    "_defaultOrder": 52,
    "_isFastLaunch": false,
    "category": "Accelerated computing",
    "gpuNum": 4,
    "hideHardwareSpecs": false,
    "memoryGiB": 192,
    "name": "ml.g5.12xlarge",
    "vcpuNum": 48
   },
   {
    "_defaultOrder": 53,
    "_isFastLaunch": false,
    "category": "Accelerated computing",
    "gpuNum": 4,
    "hideHardwareSpecs": false,
    "memoryGiB": 384,
    "name": "ml.g5.24xlarge",
    "vcpuNum": 96
   },
   {
    "_defaultOrder": 54,
    "_isFastLaunch": false,
    "category": "Accelerated computing",
    "gpuNum": 8,
    "hideHardwareSpecs": false,
    "memoryGiB": 768,
    "name": "ml.g5.48xlarge",
    "vcpuNum": 192
   }
  ],
  "kernelspec": {
   "display_name": "datascience",
   "language": "python",
   "name": "python3"
  },
  "language_info": {
   "codemirror_mode": {
    "name": "ipython",
    "version": 3
   },
   "file_extension": ".py",
   "mimetype": "text/x-python",
   "name": "python",
   "nbconvert_exporter": "python",
   "pygments_lexer": "ipython3",
   "version": "3.9.16"
  }
 },
 "nbformat": 4,
 "nbformat_minor": 5
}
