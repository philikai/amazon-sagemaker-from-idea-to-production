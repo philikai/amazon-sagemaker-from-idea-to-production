{
 "cells": [
  {
   "cell_type": "markdown",
   "id": "e6b39bb5-1408-45ab-af98-fa786ce6d55f",
   "metadata": {},
   "source": [
    "# Model Explainability\n",
    "In this step we reuse some code [from step 2](../02-sagemaker-containers.ipynb) to inspect our model with SageMaker Clarify both in batch inference as in a real-time endpoint. \n",
    "\n",
    "![](../img/six-steps-2.png)\n",
    "\n",
    "Model explainability has become a critical topic in the field of artificial intelligence, as the complexity of machine learning models has increased rapidly. Explainability refers to the ability to understand and interpret the decision-making process of a model, which is essential in making informed decisions and gaining trust in the model's predictions. SHAP (Shapley Additive Explanations) is a popular method for model explainability that has gained significant attention in recent years.\n",
    "\n",
    "SHAP is a unified framework that provides a game-theoretic approach to explain the output of any machine learning model. It uses Shapley values, a concept from cooperative game theory, to attribute the contribution of each feature to the model's output. SHAP has been shown to be effective in providing both global and local interpretability, allowing users to understand the overall behavior of the model and the reasoning behind specific predictions.\n",
    "\n",
    "However, the computational problem of SHAP lies in its complexity. SHAP values require the computation of all possible coalitions of features, which is an NP-hard problem. To address this challenge, several approximation methods have been proposed, including Kernel SHAP, Tree SHAP, and Deep SHAP. These methods use different techniques to approximate the SHAP values efficiently and accurately, making SHAP a practical solution for model explainability in real-world scenarios.\n",
    "\n",
    "SageMaker Clarify addresses this issue by providing a distributed and scalable implementation of SHAP that runs on Apache Spark in the background. It uses a processing job to run the SHAP algorithm on a cluster of EC2 instances, enabling the computation of SHAP values to be distributed across multiple nodes. This greatly reduces the time required for SHAP computations, making it practical to use for large datasets and complex models."
   ]
  },
  {
   "cell_type": "code",
   "execution_count": null,
   "id": "b2166dfd-e044-46cf-9bd5-edf3ac28a067",
   "metadata": {},
   "outputs": [],
   "source": [
    "# use sys executable to install shap via pip\n",
    "import sys\n",
    "import subprocess\n",
    "subprocess.check_call([sys.executable, \"-m\", \"pip\", \"install\", \"shap\"])"
   ]
  },
  {
   "cell_type": "code",
   "execution_count": 1,
   "id": "f6e4e390-2278-4a1c-8886-13d67507c818",
   "metadata": {
    "tags": []
   },
   "outputs": [
    {
     "data": {
      "text/plain": [
       "'2.142.0'"
      ]
     },
     "execution_count": 1,
     "metadata": {},
     "output_type": "execute_result"
    }
   ],
   "source": [
    "import time\n",
    "import boto3\n",
    "import botocore\n",
    "import os\n",
    "import numpy as np  \n",
    "import pandas as pd  \n",
    "import sagemaker\n",
    "import io\n",
    "from collections import OrderedDict\n",
    "from time import gmtime, strftime, sleep\n",
    "from sagemaker.sklearn.processing import SKLearnProcessor\n",
    "from sagemaker.processing import ProcessingInput, ProcessingOutput\n",
    "from sklearn.metrics import roc_auc_score\n",
    "from sagemaker.experiments.run import Run, load_run\n",
    "from sagemaker.serializers import CSVSerializer\n",
    "from sagemaker.deserializers import JSONDeserializer, CSVDeserializer\n",
    "\n",
    "json_deserializer = JSONDeserializer()\n",
    "csv_serializer = CSVSerializer()\n",
    "csv_deserializer = CSVDeserializer()\n",
    "\n",
    "sagemaker.__version__"
   ]
  },
  {
   "cell_type": "code",
   "execution_count": 3,
   "id": "1c357f9a-0df7-4358-a231-62aaaeec605f",
   "metadata": {
    "tags": []
   },
   "outputs": [
    {
     "name": "stdout",
     "output_type": "stream",
     "text": [
      "Stored variables and their in-db values:\n",
      "baseline_s3_url                        -> 's3://sagemaker-us-east-1-510646607739/from-idea-t\n",
      "baseline_s3_url_catboost               -> 's3://sagemaker-us-east-1-510646607739/from-idea-t\n",
      "bucket_name                            -> 'sagemaker-us-east-1-510646607739'\n",
      "bucket_prefix                          -> 'from-idea-to-prod/xgboost'\n",
      "bucket_prefix_catboost                 -> 'from-idea-to-prod/catboost'\n",
      "domain_id                              -> None\n",
      "experiment_name                        -> 'Model-Improvement-Efforts-04-13-17-21'\n",
      "initialized                            -> True\n",
      "input_s3_url_catboost                  -> 's3://sagemaker-us-east-1-510646607739/from-idea-t\n",
      "output_s3_url                          -> 's3://sagemaker-us-east-1-510646607739/from-idea-t\n",
      "region                                 -> 'us-east-1'\n",
      "sm_role                                -> 'arn:aws:iam::510646607739:role/service-role/Amazo\n",
      "test_s3_url                            -> 's3://sagemaker-us-east-1-510646607739/from-idea-t\n",
      "test_s3_url_catboost                   -> 's3://sagemaker-us-east-1-510646607739/from-idea-t\n",
      "train_s3_url                           -> 's3://sagemaker-us-east-1-510646607739/from-idea-t\n",
      "train_s3_url_catboost                  -> 's3://sagemaker-us-east-1-510646607739/from-idea-t\n",
      "training_job_name                      -> 'from-idea-to-prod-training-2023-04-06-13-02-49-17\n",
      "validation_s3_url                      -> 's3://sagemaker-us-east-1-510646607739/from-idea-t\n",
      "validation_s3_url_catboost             -> 's3://sagemaker-us-east-1-510646607739/from-idea-t\n"
     ]
    }
   ],
   "source": [
    "%store -r \n",
    "\n",
    "%store\n",
    "\n",
    "try:\n",
    "    initialized\n",
    "except NameError:\n",
    "    print(\"+++++++++++++++++++++++++++++++++++++++++++++++++\")\n",
    "    print(\"[ERROR] YOU HAVE TO RUN 00-start-here notebook   \")\n",
    "    print(\"+++++++++++++++++++++++++++++++++++++++++++++++++\")"
   ]
  },
  {
   "cell_type": "code",
   "execution_count": 10,
   "id": "5214e551-4800-47c2-9eae-337f4fc5ed7f",
   "metadata": {
    "tags": []
   },
   "outputs": [
    {
     "name": "stderr",
     "output_type": "stream",
     "text": [
      "INFO:botocore.credentials:Found credentials in shared credentials file: ~/.aws/credentials\n"
     ]
    }
   ],
   "source": [
    "session = sagemaker.Session()\n",
    "sm = session.sagemaker_client"
   ]
  },
  {
   "cell_type": "markdown",
   "id": "70ee5a09-46fd-4d7a-9037-9b6247a1f21d",
   "metadata": {},
   "source": [
    "Set the Amazon S3 paths:\n"
   ]
  },
  {
   "cell_type": "code",
   "execution_count": 5,
   "id": "54fa1abd-c0ae-4e55-901c-7250c227ccbb",
   "metadata": {
    "tags": []
   },
   "outputs": [],
   "source": [
    "train_s3_url = f\"s3://{bucket_name}/{bucket_prefix}/train\"\n",
    "validation_s3_url = f\"s3://{bucket_name}/{bucket_prefix}/validation\"\n",
    "test_s3_url = f\"s3://{bucket_name}/{bucket_prefix}/test\"\n",
    "baseline_s3_url = f\"s3://{bucket_name}/{bucket_prefix}/baseline\"\n",
    "output_s3_url = f\"s3://{bucket_name}/{bucket_prefix}/output\""
   ]
  },
  {
   "cell_type": "code",
   "execution_count": 6,
   "id": "ed6a2d8e-acde-48a8-9f12-a1cd0d703a41",
   "metadata": {
    "tags": []
   },
   "outputs": [
    {
     "name": "stdout",
     "output_type": "stream",
     "text": [
      "Stored 'train_s3_url' (str)\n",
      "Stored 'validation_s3_url' (str)\n",
      "Stored 'test_s3_url' (str)\n",
      "Stored 'baseline_s3_url' (str)\n",
      "Stored 'output_s3_url' (str)\n"
     ]
    }
   ],
   "source": [
    "%store train_s3_url\n",
    "%store validation_s3_url\n",
    "%store test_s3_url\n",
    "%store baseline_s3_url\n",
    "%store output_s3_url"
   ]
  },
  {
   "cell_type": "markdown",
   "id": "1d25d03a-e988-4a73-acdd-874718d03a74",
   "metadata": {},
   "source": [
    "## Model training\n",
    "Follow the same approach and now run the model training as a [SageMaker training job](https://sagemaker.readthedocs.io/en/stable/overview.html#using-estimators)."
   ]
  },
  {
   "cell_type": "code",
   "execution_count": 7,
   "id": "dfbeec6d-419d-4d88-a3f6-194440dd0124",
   "metadata": {
    "tags": []
   },
   "outputs": [
    {
     "name": "stderr",
     "output_type": "stream",
     "text": [
      "INFO:sagemaker.image_uris:Ignoring unnecessary instance type: None.\n"
     ]
    },
    {
     "name": "stdout",
     "output_type": "stream",
     "text": [
      "683313688378.dkr.ecr.us-east-1.amazonaws.com/sagemaker-xgboost:1.5-1\n"
     ]
    }
   ],
   "source": [
    "# get training container uri\n",
    "training_image = sagemaker.image_uris.retrieve(\"xgboost\", region=region, version=\"1.5-1\")\n",
    "\n",
    "print(training_image)"
   ]
  },
  {
   "cell_type": "markdown",
   "id": "64034359-5102-4678-af52-aba7f21a4212",
   "metadata": {},
   "source": [
    "Define the data input channels for the training job. Set _train_ and _validation_ channels via the SageMaker SDK [`TrainingInput`](https://sagemaker.readthedocs.io/en/stable/api/utility/inputs.html#sagemaker.inputs.TrainingInput) class:"
   ]
  },
  {
   "cell_type": "code",
   "execution_count": 8,
   "id": "82550351-737f-4a55-9578-0ae58ca1c156",
   "metadata": {
    "tags": []
   },
   "outputs": [],
   "source": [
    "s3_input_train = sagemaker.inputs.TrainingInput(train_s3_url, content_type='csv')\n",
    "s3_input_validation = sagemaker.inputs.TrainingInput(validation_s3_url, content_type='csv')"
   ]
  },
  {
   "cell_type": "code",
   "execution_count": 9,
   "id": "86c9a303-928a-4053-9002-cd618cffa6dd",
   "metadata": {
    "tags": []
   },
   "outputs": [],
   "source": [
    "train_instance_count = 1\n",
    "train_instance_type = \"ml.m5.xlarge\""
   ]
  },
  {
   "cell_type": "markdown",
   "id": "54807668-6a2d-44ac-9007-d945ec19198a",
   "metadata": {},
   "source": [
    "Instantiate an [Estimator](https://sagemaker.readthedocs.io/en/stable/api/training/estimators.html) object and set algorithm's hyperparameters. Refer to [XGBoost hyperparameters](https://docs.aws.amazon.com/sagemaker/latest/dg/xgboost_hyperparameters.html) for more information."
   ]
  },
  {
   "cell_type": "code",
   "execution_count": 11,
   "id": "db1a89cc-c841-4e5d-99b3-d4fe5b6435cc",
   "metadata": {
    "tags": []
   },
   "outputs": [],
   "source": [
    "# Instantiate an XGBoost estimator object\n",
    "estimator = sagemaker.estimator.Estimator(\n",
    "    image_uri=training_image,  # XGBoost algorithm container\n",
    "    instance_type=train_instance_type,  # type of training instance\n",
    "    instance_count=train_instance_count,  # number of instances to be used\n",
    "    role=sm_role,  # IAM execution role to be used\n",
    "    max_run=20 * 60,  # Maximum allowed active runtime\n",
    "    use_spot_instances=True,  # Use spot instances to reduce cost\n",
    "    max_wait=30 * 60,  # Maximum clock time (including spot delays)\n",
    "    output_path=output_s3_url, # S3 location for saving the training result\n",
    "    sagemaker_session=session, # Session object which manages interactions with SageMaker API and AWS services\n",
    "    base_job_name=\"from-idea-to-prod-training\", # Prefix for training job name\n",
    ")\n",
    "\n",
    "# define its hyperparameters\n",
    "estimator.set_hyperparameters(\n",
    "    num_round=150, # the number of rounds to run the training\n",
    "    max_depth=7, # maximum depth of a tree\n",
    "    eta=0.318, # step size shrinkage used in updates to prevent overfitting\n",
    "    alpha=2.5, # L1 regularization term on weights\n",
    "    objective=\"binary:logistic\",\n",
    "    eval_metric=\"auc\", # evaluation metrics for validation data\n",
    "    subsample=0.8, # subsample ratio of the training instance\n",
    "    colsample_bytree=0.8, # subsample ratio of columns when constructing each tree\n",
    "    min_child_weight=8.1, # minimum sum of instance weight (hessian) needed in a child\n",
    "    early_stopping_rounds=10, # the model trains until the validation score stops improving\n",
    "    verbosity=1, # verbosity of printing messages\n",
    ")"
   ]
  },
  {
   "cell_type": "markdown",
   "id": "a3022218-4f87-4e59-8f58-9bab2a44bb96",
   "metadata": {},
   "source": [
    "Now we can either train a model, or retrieve our last training job from the workshop before. "
   ]
  },
  {
   "cell_type": "code",
   "execution_count": 12,
   "id": "856cde4f-c1a3-436e-ad17-daeb77ebd60f",
   "metadata": {
    "tags": []
   },
   "outputs": [],
   "source": [
    "training_inputs = {'train': s3_input_train, 'validation': s3_input_validation}"
   ]
  },
  {
   "cell_type": "code",
   "execution_count": 13,
   "id": "ef0aadab-6161-485a-8bbe-7ad07ceef393",
   "metadata": {
    "tags": []
   },
   "outputs": [],
   "source": [
    "try:\n",
    "    experiment_name\n",
    "except NameError:\n",
    "    print(\"the experiment name was not set, therefore defining a new one!\")\n",
    "    experiment_name = f\"from-idea-to-prod-experiment-{strftime('%d-%H-%M-%S', gmtime())}\"\n",
    "    print(f\"new experiment name is: {experiment_name}\")"
   ]
  },
  {
   "cell_type": "code",
   "execution_count": 14,
   "id": "287da7a9-c0ca-479e-8677-24176d91f95f",
   "metadata": {
    "tags": []
   },
   "outputs": [
    {
     "name": "stderr",
     "output_type": "stream",
     "text": [
      "INFO:sagemaker:Creating training-job with name: from-idea-to-prod-training-2023-04-19-14-11-04-144\n"
     ]
    },
    {
     "name": "stdout",
     "output_type": "stream",
     "text": [
      "\n",
      "2023-04-19 14:11:04 Starting - Starting the training job..\n",
      "2023-04-19 14:11:20 Starting - Preparing the instances for training..............\n",
      "2023-04-19 14:12:42 Downloading - Downloading input data....\n",
      "2023-04-19 14:13:08 Training - Downloading the training image....\n",
      "2023-04-19 14:13:33 Training - Training image download completed. Training in progress....\n",
      "2023-04-19 14:13:54 Uploading - Uploading generated training model.\n",
      "2023-04-19 14:14:05 Completed - Training job completed\n"
     ]
    }
   ],
   "source": [
    "try:\n",
    "    run_suffix = strftime('%Y-%m-%M-%S', gmtime())\n",
    "    run_name = f\"container-training-{run_suffix}\"\n",
    "\n",
    "    with Run(experiment_name=experiment_name,\n",
    "             run_name=run_name,\n",
    "             run_display_name=\"training-model-explainability\",\n",
    "             sagemaker_session=session\n",
    "            ) as run:\n",
    "        \n",
    "        estimator.fit(\n",
    "            training_inputs,\n",
    "            wait=True,\n",
    "            logs=False,\n",
    "        ) \n",
    "except botocore.exceptions.ClientError as e:\n",
    "    if e.response['Error']['Code'] == 'AccessDeniedException':\n",
    "        print(f\"Ignore AccessDeniedException: {e.response['Error']['Message']} because of the slow resource tag auto propagation\")\n",
    "    else:\n",
    "        raise e"
   ]
  },
  {
   "cell_type": "markdown",
   "id": "a7b9af81-09c1-45b1-b59b-489a0d14fa76",
   "metadata": {},
   "source": [
    "### Output model performance"
   ]
  },
  {
   "cell_type": "code",
   "execution_count": 15,
   "id": "052e9640-3a0b-4a30-a897-ecd2ee102ca4",
   "metadata": {
    "tags": []
   },
   "outputs": [],
   "source": [
    "if estimator._current_job_name:\n",
    "    training_job_name = estimator._current_job_name"
   ]
  },
  {
   "cell_type": "code",
   "execution_count": 16,
   "id": "a69d7a0c-8cbe-4fd1-af44-9677107b5229",
   "metadata": {
    "tags": []
   },
   "outputs": [
    {
     "name": "stdout",
     "output_type": "stream",
     "text": [
      "Train-auc:0.82, Validate-auc:0.78\n"
     ]
    }
   ],
   "source": [
    "metrics = None\n",
    "while not metrics:\n",
    "    metrics = sm.describe_training_job(\n",
    "        TrainingJobName=training_job_name\n",
    "        ).get(\"FinalMetricDataList\")\n",
    "\n",
    "    if not metrics:\n",
    "        print(f\"Training job {training_job_name} hasn't finished yet!\")\n",
    "        time.sleep(10)\n",
    "    \n",
    "train_auc = float([m['Value'] for m in metrics if m['MetricName'] == 'train:auc'][0])\n",
    "validate_auc = float([m['Value'] for m in metrics if m['MetricName'] == 'validation:auc'][0])\n",
    "\n",
    "print(f\"Train-auc:{train_auc:.2f}, Validate-auc:{validate_auc:.2f}\")"
   ]
  },
  {
   "cell_type": "code",
   "execution_count": 17,
   "id": "e83a2509-8e2c-4e1c-874f-215745be46e2",
   "metadata": {
    "tags": []
   },
   "outputs": [
    {
     "name": "stdout",
     "output_type": "stream",
     "text": [
      "Stored 'training_job_name' (str)\n"
     ]
    }
   ],
   "source": [
    "%store training_job_name"
   ]
  },
  {
   "cell_type": "code",
   "execution_count": 21,
   "id": "05a41f7a-4f7e-413b-9f5f-a7557bf4060a",
   "metadata": {
    "tags": []
   },
   "outputs": [
    {
     "name": "stdout",
     "output_type": "stream",
     "text": [
      "s3://sagemaker-us-east-1-510646607739/from-idea-to-prod/xgboost/output/from-idea-to-prod-training-2023-04-19-14-11-04-144/output/model.tar.gz\n",
      "from-idea-to-prod-transform-19-14-23-32\n"
     ]
    }
   ],
   "source": [
    "# Print the S3 path to the model artifact:\n",
    "print(estimator.model_data)\n",
    "\n",
    "model_name = f\"from-idea-to-prod-transform-{strftime('%d-%H-%M-%S', gmtime())}\"\n",
    "print(model_name)\n"
   ]
  },
  {
   "cell_type": "markdown",
   "id": "308bf26f-403c-4433-8805-feff82311721",
   "metadata": {},
   "source": [
    "### Loading the model from the training job\n",
    "Alternatively, you can load a model from a model artifact produced by a training job. You create a transformer with that model."
   ]
  },
  {
   "cell_type": "code",
   "execution_count": 22,
   "id": "e971d76c-8e06-4b94-9b25-6eaec8703622",
   "metadata": {
    "tags": []
   },
   "outputs": [
    {
     "name": "stderr",
     "output_type": "stream",
     "text": [
      "INFO:sagemaker:Creating model with name: from-idea-to-prod-transform-19-14-23-32\n"
     ]
    }
   ],
   "source": [
    "model = session.create_model_from_job(\n",
    "    training_job_name=training_job_name, \n",
    "    name=model_name,\n",
    ")"
   ]
  },
  {
   "cell_type": "code",
   "execution_count": 25,
   "id": "50993f97-dce2-4084-a1de-22658fc8b669",
   "metadata": {
    "tags": []
   },
   "outputs": [],
   "source": [
    "transform_s3_url = f\"s3://{bucket_name}/{bucket_prefix}/transform\"\n",
    "\n",
    "transformer = sagemaker.transformer.Transformer(\n",
    "    model_name=model,\n",
    "    instance_count=1,\n",
    "    instance_type=train_instance_type,\n",
    "    accept=\"text/csv\",\n",
    "    assemble_with=\"Line\",\n",
    "    output_path=transform_s3_url,\n",
    "    base_transform_job_name=\"from-idea-to-prod-trasform\",\n",
    "    sagemaker_session=session,\n",
    ")"
   ]
  },
  {
   "cell_type": "markdown",
   "id": "701ce9a6-89c8-4db6-b657-b9437ca12ad7",
   "metadata": {},
   "source": [
    "#### Run transform job"
   ]
  },
  {
   "cell_type": "code",
   "execution_count": 26,
   "id": "4b50377c-0196-41a3-9c8c-70ee2266c160",
   "metadata": {
    "collapsed": true,
    "jupyter": {
     "outputs_hidden": true
    },
    "tags": []
   },
   "outputs": [
    {
     "name": "stderr",
     "output_type": "stream",
     "text": [
      "INFO:sagemaker:Creating transform job with name: from-idea-to-prod-transform-19-14-24-34\n"
     ]
    },
    {
     "name": "stdout",
     "output_type": "stream",
     "text": [
      ".........................[2023-04-19:14:29:01:INFO] No GPUs detected (normal if no gpus installed)\n",
      "[2023-04-19:14:29:01:INFO] No GPUs detected (normal if no gpus installed)\n",
      "[2023-04-19:14:29:01:INFO] nginx config: \n",
      "worker_processes auto;\n",
      "daemon off;\n",
      "pid /tmp/nginx.pid;\n",
      "[2023-04-19:14:29:01:INFO] No GPUs detected (normal if no gpus installed)\n",
      "[2023-04-19:14:29:01:INFO] No GPUs detected (normal if no gpus installed)\n",
      "[2023-04-19:14:29:01:INFO] nginx config: \n",
      "worker_processes auto;\n",
      "daemon off;\n",
      "pid /tmp/nginx.pid;\n",
      "error_log  /dev/stderr;\n",
      "worker_rlimit_nofile 4096;\n",
      "events {\n",
      "  worker_connections 2048;\n",
      "}\n",
      "http {\n",
      "  include /etc/nginx/mime.types;\n",
      "  default_type application/octet-stream;\n",
      "  access_log /dev/stdout combined;\n",
      "  upstream gunicorn {\n",
      "    server unix:/tmp/gunicorn.sock;\n",
      "  }\n",
      "  server {\n",
      "    listen 8080 deferred;\n",
      "    client_max_body_size 0;\n",
      "    keepalive_timeout 3;\n",
      "    location ~ ^/(ping|invocations|execution-parameters) {\n",
      "      proxy_set_header X-Forwarded-For $proxy_add_x_forwarded_for;\n",
      "      proxy_set_header Host $http_host;\n",
      "      proxy_redirect off;\n",
      "      proxy_read_timeout 60s;\n",
      "      proxy_pass http://gunicorn;\n",
      "    }\n",
      "    location / {\n",
      "      return 404 \"{}\";\n",
      "    }\n",
      "  }\n",
      "}\n",
      "error_log  /dev/stderr;\n",
      "worker_rlimit_nofile 4096;\n",
      "events {\n",
      "  worker_connections 2048;\n",
      "}\n",
      "http {\n",
      "  include /etc/nginx/mime.types;\n",
      "  default_type application/octet-stream;\n",
      "  access_log /dev/stdout combined;\n",
      "  upstream gunicorn {\n",
      "    server unix:/tmp/gunicorn.sock;\n",
      "  }\n",
      "  server {\n",
      "    listen 8080 deferred;\n",
      "    client_max_body_size 0;\n",
      "    keepalive_timeout 3;\n",
      "    location ~ ^/(ping|invocations|execution-parameters) {\n",
      "      proxy_set_header X-Forwarded-For $proxy_add_x_forwarded_for;\n",
      "      proxy_set_header Host $http_host;\n",
      "      proxy_redirect off;\n",
      "      proxy_read_timeout 60s;\n",
      "      proxy_pass http://gunicorn;\n",
      "    }\n",
      "    location / {\n",
      "      return 404 \"{}\";\n",
      "    }\n",
      "  }\n",
      "}\n",
      "[2023-04-19 14:29:01 +0000] [19] [INFO] Starting gunicorn 19.10.0\n",
      "[2023-04-19 14:29:01 +0000] [19] [INFO] Listening at: unix:/tmp/gunicorn.sock (19)\n",
      "[2023-04-19 14:29:01 +0000] [19] [INFO] Using worker: gevent\n",
      "/miniconda3/lib/python3.8/os.py:1023: RuntimeWarning: line buffering (buffering=1) isn't supported in binary mode, the default buffer size will be used\n",
      "  return io.open(fd, *args, **kwargs)\n",
      "[2023-04-19 14:29:01 +0000] [25] [INFO] Booting worker with pid: 25\n",
      "[2023-04-19 14:29:01 +0000] [26] [INFO] Booting worker with pid: 26\n",
      "[2023-04-19 14:29:01 +0000] [27] [INFO] Booting worker with pid: 27\n",
      "[2023-04-19 14:29:01 +0000] [28] [INFO] Booting worker with pid: 28\n",
      "[2023-04-19 14:29:01 +0000] [19] [INFO] Starting gunicorn 19.10.0\n",
      "[2023-04-19 14:29:01 +0000] [19] [INFO] Listening at: unix:/tmp/gunicorn.sock (19)\n",
      "[2023-04-19 14:29:01 +0000] [19] [INFO] Using worker: gevent\n",
      "/miniconda3/lib/python3.8/os.py:1023: RuntimeWarning: line buffering (buffering=1) isn't supported in binary mode, the default buffer size will be used\n",
      "  return io.open(fd, *args, **kwargs)\n",
      "[2023-04-19 14:29:01 +0000] [25] [INFO] Booting worker with pid: 25\n",
      "[2023-04-19 14:29:01 +0000] [26] [INFO] Booting worker with pid: 26\n",
      "[2023-04-19 14:29:01 +0000] [27] [INFO] Booting worker with pid: 27\n",
      "[2023-04-19 14:29:01 +0000] [28] [INFO] Booting worker with pid: 28\n",
      "[2023-04-19:14:29:02:INFO] No GPUs detected (normal if no gpus installed)\n",
      "[2023-04-19:14:29:02:INFO] Loading the model from /opt/ml/model/xgboost-model\n",
      "[2023-04-19:14:29:02:INFO] No GPUs detected (normal if no gpus installed)\n",
      "[2023-04-19:14:29:02:INFO] Loading the model from /opt/ml/model/xgboost-model\n",
      "[2023-04-19:14:29:02:INFO] Model objective : binary:logistic\n",
      "[2023-04-19:14:29:02:INFO] Model objective : binary:logistic\n",
      "[2023-04-19:14:29:02:INFO] No GPUs detected (normal if no gpus installed)\n",
      "[2023-04-19:14:29:02:INFO] Loading the model from /opt/ml/model/xgboost-model\n",
      "[2023-04-19:14:29:02:INFO] Model objective : binary:logistic\n",
      "[2023-04-19:14:29:03:INFO] No GPUs detected (normal if no gpus installed)\n",
      "[2023-04-19:14:29:03:INFO] Loading the model from /opt/ml/model/xgboost-model\n",
      "[2023-04-19:14:29:03:INFO] Model objective : binary:logistic\n",
      "[2023-04-19:14:29:02:INFO] No GPUs detected (normal if no gpus installed)\n",
      "[2023-04-19:14:29:02:INFO] Loading the model from /opt/ml/model/xgboost-model\n",
      "[2023-04-19:14:29:02:INFO] No GPUs detected (normal if no gpus installed)\n",
      "[2023-04-19:14:29:02:INFO] Loading the model from /opt/ml/model/xgboost-model\n",
      "[2023-04-19:14:29:02:INFO] Model objective : binary:logistic\n",
      "[2023-04-19:14:29:02:INFO] Model objective : binary:logistic\n",
      "[2023-04-19:14:29:02:INFO] No GPUs detected (normal if no gpus installed)\n",
      "[2023-04-19:14:29:02:INFO] Loading the model from /opt/ml/model/xgboost-model\n",
      "[2023-04-19:14:29:02:INFO] Model objective : binary:logistic\n",
      "[2023-04-19:14:29:03:INFO] No GPUs detected (normal if no gpus installed)\n",
      "[2023-04-19:14:29:03:INFO] Loading the model from /opt/ml/model/xgboost-model\n",
      "[2023-04-19:14:29:03:INFO] Model objective : binary:logistic\n",
      "[2023-04-19:14:29:05:INFO] No GPUs detected (normal if no gpus installed)\n",
      "169.254.255.130 - - [19/Apr/2023:14:29:05 +0000] \"GET /ping HTTP/1.1\" 200 0 \"-\" \"Go-http-client/1.1\"\n",
      "[2023-04-19:14:29:05:INFO] No GPUs detected (normal if no gpus installed)\n",
      "169.254.255.130 - - [19/Apr/2023:14:29:05 +0000] \"GET /execution-parameters HTTP/1.1\" 200 84 \"-\" \"Go-http-client/1.1\"\n",
      "[2023-04-19:14:29:06:INFO] Determined delimiter of CSV input is ','\n",
      "[2023-04-19:14:29:05:INFO] No GPUs detected (normal if no gpus installed)\n",
      "169.254.255.130 - - [19/Apr/2023:14:29:05 +0000] \"GET /ping HTTP/1.1\" 200 0 \"-\" \"Go-http-client/1.1\"\n",
      "[2023-04-19:14:29:05:INFO] No GPUs detected (normal if no gpus installed)\n",
      "169.254.255.130 - - [19/Apr/2023:14:29:05 +0000] \"GET /execution-parameters HTTP/1.1\" 200 84 \"-\" \"Go-http-client/1.1\"\n",
      "[2023-04-19:14:29:06:INFO] Determined delimiter of CSV input is ','\n",
      "2023-04-19T14:29:05.987:[sagemaker logs]: MaxConcurrentTransforms=4, MaxPayloadInMB=6, BatchStrategy=MULTI_RECORD\n",
      "/miniconda3/lib/python3.8/site-packages/xgboost/core.py:105: UserWarning: ntree_limit is deprecated, use `iteration_range` or model slicing instead.\n",
      "  warnings.warn(\n",
      "169.254.255.130 - - [19/Apr/2023:14:29:06 +0000] \"POST /invocations HTTP/1.1\" 200 81989 \"-\" \"Go-http-client/1.1\"\n",
      "/miniconda3/lib/python3.8/site-packages/xgboost/core.py:105: UserWarning: ntree_limit is deprecated, use `iteration_range` or model slicing instead.\n",
      "  warnings.warn(\n",
      "169.254.255.130 - - [19/Apr/2023:14:29:06 +0000] \"POST /invocations HTTP/1.1\" 200 81989 \"-\" \"Go-http-client/1.1\"\n",
      "\n"
     ]
    }
   ],
   "source": [
    "transform_job_name = f\"from-idea-to-prod-transform-{strftime('%d-%H-%M-%S', gmtime())}\"\n",
    "\n",
    "try:\n",
    "    run_suffix = strftime('%Y-%m-%M-%S', gmtime())\n",
    "    run_name = f\"batch-transform-{run_suffix}\"\n",
    "\n",
    "    with Run(experiment_name=experiment_name,\n",
    "             run_name=run_name,\n",
    "             run_display_name=\"batch-transform\",\n",
    "             sagemaker_session=session\n",
    "            ) as run:\n",
    "        transformer.transform(    \n",
    "            data=f\"{test_s3_url}/test_x.csv\",\n",
    "            content_type=\"text/csv\",\n",
    "            split_type=\"Line\", \n",
    "            job_name=transform_job_name,\n",
    "            wait=True,\n",
    "            # experiment_config=experiment_config,\n",
    "        )\n",
    "except botocore.exceptions.ClientError as e:\n",
    "    if e.response['Error']['Code'] == 'AccessDeniedException':\n",
    "        print(f\"Ignore AccessDeniedException: {e.response['Error']['Message']} because of the slow resource tag auto propagation\")\n",
    "    else:\n",
    "        raise e"
   ]
  },
  {
   "cell_type": "code",
   "execution_count": 27,
   "id": "1f11a902-1306-430f-8925-2ddd17741609",
   "metadata": {
    "tags": []
   },
   "outputs": [],
   "source": [
    "while sm.describe_transform_job(\n",
    "        TransformJobName=transformer._current_job_name\n",
    "    )[\"TransformJobStatus\"] != \"Completed\":\n",
    "    time.sleep(10)\n",
    "    print(f\"Wait until {transformer._current_job_name} completed\")"
   ]
  },
  {
   "cell_type": "code",
   "execution_count": 28,
   "id": "29c80898-b328-4413-bee2-34faf29f5f22",
   "metadata": {
    "tags": []
   },
   "outputs": [
    {
     "data": {
      "text/plain": [
       "'s3://sagemaker-us-east-1-510646607739/from-idea-to-prod/xgboost/transform'"
      ]
     },
     "execution_count": 28,
     "metadata": {},
     "output_type": "execute_result"
    }
   ],
   "source": [
    "transformer.output_path"
   ]
  },
  {
   "attachments": {},
   "cell_type": "markdown",
   "id": "56f25995-e542-4f04-9130-1ea489a4cce0",
   "metadata": {},
   "source": [
    "### Evaluate Predictions"
   ]
  },
  {
   "cell_type": "code",
   "execution_count": 29,
   "id": "cc287aa8-de90-4de3-b59c-d7fc0e9aad2f",
   "metadata": {
    "tags": []
   },
   "outputs": [
    {
     "name": "stdout",
     "output_type": "stream",
     "text": [
      "2023-04-19 16:29:07      81989 test_x.csv.out\n"
     ]
    }
   ],
   "source": [
    "!aws s3 ls {transformer.output_path}/"
   ]
  },
  {
   "cell_type": "code",
   "execution_count": 30,
   "id": "ec638017-8bc3-498a-8b0d-26b5e85c0cde",
   "metadata": {
    "tags": []
   },
   "outputs": [
    {
     "name": "stdout",
     "output_type": "stream",
     "text": [
      "download: s3://sagemaker-us-east-1-510646607739/from-idea-to-prod/xgboost/transform/test_x.csv.out to tmp/predictions.csv\n",
      "download: s3://sagemaker-us-east-1-510646607739/from-idea-to-prod/xgboost/test/test_y.csv to tmp/test_y.csv\n"
     ]
    }
   ],
   "source": [
    "!aws s3 cp {transformer.output_path}/test_x.csv.out tmp/predictions.csv\n",
    "!aws s3 cp $test_s3_url/test_y.csv tmp/test_y.csv"
   ]
  },
  {
   "cell_type": "code",
   "execution_count": 31,
   "id": "4d5e4e16-4739-437c-8237-2083aae150be",
   "metadata": {
    "tags": []
   },
   "outputs": [],
   "source": [
    "predictions = pd.read_csv(\"tmp/predictions.csv\", names=[\"y_prob\"])\n",
    "test_y = pd.read_csv(\"tmp/test_y.csv\", names=['y'])"
   ]
  },
  {
   "cell_type": "markdown",
   "id": "99c3e10d-4541-410a-9c78-965bbcb05c5f",
   "metadata": {},
   "source": [
    "#### Crosstab"
   ]
  },
  {
   "cell_type": "code",
   "execution_count": 32,
   "id": "5f5e150c-1bf7-414c-af9d-54ed108117aa",
   "metadata": {
    "tags": []
   },
   "outputs": [
    {
     "data": {
      "text/html": [
       "<div>\n",
       "<style scoped>\n",
       "    .dataframe tbody tr th:only-of-type {\n",
       "        vertical-align: middle;\n",
       "    }\n",
       "\n",
       "    .dataframe tbody tr th {\n",
       "        vertical-align: top;\n",
       "    }\n",
       "\n",
       "    .dataframe thead th {\n",
       "        text-align: right;\n",
       "    }\n",
       "</style>\n",
       "<table border=\"1\" class=\"dataframe\">\n",
       "  <thead>\n",
       "    <tr style=\"text-align: right;\">\n",
       "      <th>predictions</th>\n",
       "      <th>0.0</th>\n",
       "      <th>1.0</th>\n",
       "    </tr>\n",
       "    <tr>\n",
       "      <th>actuals</th>\n",
       "      <th></th>\n",
       "      <th></th>\n",
       "    </tr>\n",
       "  </thead>\n",
       "  <tbody>\n",
       "    <tr>\n",
       "      <th>0</th>\n",
       "      <td>3596</td>\n",
       "      <td>40</td>\n",
       "    </tr>\n",
       "    <tr>\n",
       "      <th>1</th>\n",
       "      <td>385</td>\n",
       "      <td>98</td>\n",
       "    </tr>\n",
       "  </tbody>\n",
       "</table>\n",
       "</div>"
      ],
      "text/plain": [
       "predictions   0.0  1.0\n",
       "actuals               \n",
       "0            3596   40\n",
       "1             385   98"
      ]
     },
     "execution_count": 32,
     "metadata": {},
     "output_type": "execute_result"
    }
   ],
   "source": [
    "pd.crosstab(\n",
    "    index=test_y['y'].values,\n",
    "    columns=np.array(np.round(predictions), dtype=float).squeeze(), \n",
    "    rownames=['actuals'], \n",
    "    colnames=['predictions']\n",
    ")"
   ]
  },
  {
   "cell_type": "code",
   "execution_count": 34,
   "id": "bd11aa9b-9bcc-4e70-a508-93f02781fa73",
   "metadata": {
    "tags": []
   },
   "outputs": [
    {
     "name": "stdout",
     "output_type": "stream",
     "text": [
      "Test-auc: 0.7715\n"
     ]
    }
   ],
   "source": [
    "test_auc = roc_auc_score(test_y, predictions)\n",
    "print(f\"Test-auc: {test_auc:.4f}\")"
   ]
  },
  {
   "cell_type": "code",
   "execution_count": 36,
   "id": "f95b723e-de4a-4699-a6c0-07687d57f809",
   "metadata": {
    "tags": []
   },
   "outputs": [
    {
     "name": "stdout",
     "output_type": "stream",
     "text": [
      "['y', 'age', 'campaign', 'pdays', 'previous', 'no_previous_contact', 'not_working', 'job_admin.', 'job_blue-collar', 'job_entrepreneur', 'job_housemaid', 'job_management', 'job_retired', 'job_self-employed', 'job_services', 'job_student', 'job_technician', 'job_unemployed', 'job_unknown', 'marital_divorced', 'marital_married', 'marital_single', 'marital_unknown', 'education_basic.4y', 'education_basic.6y', 'education_basic.9y', 'education_high.school', 'education_illiterate', 'education_professional.course', 'education_university.degree', 'education_unknown', 'default_no', 'default_unknown', 'default_yes', 'housing_no', 'housing_unknown', 'housing_yes', 'loan_no', 'loan_unknown', 'loan_yes', 'contact_cellular', 'contact_telephone', 'month_apr', 'month_aug', 'month_dec', 'month_jul', 'month_jun', 'month_mar', 'month_may', 'month_nov', 'month_oct', 'month_sep', 'day_of_week_fri', 'day_of_week_mon', 'day_of_week_thu', 'day_of_week_tue', 'day_of_week_wed', 'poutcome_failure', 'poutcome_nonexistent', 'poutcome_success']\n"
     ]
    }
   ],
   "source": [
    "# reading the feature headers from the feature_headers.txt file \n",
    "# opening the file in read mode\n",
    "feature_header_file = open(\"feature_headers.txt\", \"r\")\n",
    "\n",
    "# reading the file\n",
    "data = feature_header_file.read()\n",
    "\n",
    "# replacing end splitting the text\n",
    "# when newline ('\\n') is seen.\n",
    "feature_headers_list = data.split(\",\")\n",
    "print(feature_headers_list)\n",
    "feature_header_file.close()"
   ]
  },
  {
   "attachments": {},
   "cell_type": "markdown",
   "id": "b9544978-c5dc-47e2-aaeb-66cd792c1a07",
   "metadata": {},
   "source": [
    "## Model Bias and Explainability with SageMaker Clarify \n",
    "You can use SageMaker Clarify to analyze your datasets and models for explainability and bias. A SageMaker Clarify Processing job uses the SageMaker Clarify Processing container to interact with an Amazon S3 bucket containing your input datasets. You can also use SageMaker Clarify to analyze a customer model that is deployed to a SageMaker inference endpoint.\n",
    "\n",
    "The following graphic shows how a SageMaker Clarify Processing job interacts with your input data and optionally, with a customer model. This interaction depends on the specific type of analysis being performed. The SageMaker Clarify Processing container obtains the input dataset and configuration for analysis from an S3 bucket. For certain analysis types, including feature analysis, the SageMaker Clarify Processing container must send requests to the model container. Then it retrieves the model predictions from the response that the model container sends. After that, the SageMaker Clarify Processing container computes and saves analysis results to the S3 bucket. Please note that Clarify will automatically create and tear down inference endpoints for batch processes. Online explainability shows a different architecture and will be covered at the end of the section. \n",
    "\n",
    "![Clarify Processor Image](../img/clarify-processor.png)\n",
    "\n",
    "You can run a SageMaker Clarify Processing job at multiple stages in the lifecycle of the machine learning workflow. SageMaker Clarify can help you compute the following analysis types:\n",
    "\n",
    "[Pre-training bias metrics](https://docs.aws.amazon.com/sagemaker/latest/dg/clarify-measure-data-bias) can help you understand the bias in your data so that you can address it and train your model on a more fair dataset. To run a job to analyze pre-training bias metrics, you must provide the dataset and a JSON analysis configuration file to Configure the Analysis.\n",
    "\n",
    "[Post-training bias metrics](https://docs.aws.amazon.com/sagemaker/latest/dg/clarify-measure-post-training-bias.html) can help you understand any bias introduced by an algorithm, hyperparameter choices, or any bias that wasn't apparent earlier in the flow. SageMaker Clarify uses the model predictions in addition to the data and labels to identify bias. To run a job to analyze post-training bias metrics, you must provide the dataset and a JSON analysis configuration file. The configuration should include the model or endpoint name.\n",
    "\n",
    "[SHAP values for explainability](https://docs.aws.amazon.com/sagemaker/latest/dg/clarify-shapley-values.html) can help you understand what impact your feature has on what your model predicts. This feature requires a trained model.\n",
    "\n",
    "[Online Explainability with SageMaker Clarify](https://docs.aws.amazon.com/sagemaker/latest/dg/clarify-online-explainability.html) lets you analyze explainability for SageMaker real-time inference endpoints in real time, continuously. The online explainability function fits into the Deploy to production part of the Amazon SageMaker Machine Learning workflow.\n",
    "\n",
    "[Partial dependence plots (PDP)](https://docs.aws.amazon.com/sagemaker/latest/dg/clarify-partial-dependence-plots.html) can help you understand how much your predicted target variable would change if you varied the value of one feature. This feature requires a trained model.\n",
    "\n",
    "In the following section we will deep dive into the first four options presented. \n"
   ]
  },
  {
   "cell_type": "markdown",
   "id": "bdd00833-5dc1-41b2-8313-68adfbc7a18d",
   "metadata": {},
   "source": [
    "### Pre- and post training bias\n",
    "To inspect pre-and post data we can use the SageMaker Clarify bias report. \n",
    "\n",
    "We will run through the example with our dataset at hand, however it should be noted, that in our example, we are not really running the risk of putting a customer in a disadvantage as we are trying to sell them a term deposit. "
   ]
  },
  {
   "cell_type": "code",
   "execution_count": 37,
   "id": "ed6f794e-f217-426f-ad24-e0681b4b628e",
   "metadata": {
    "tags": []
   },
   "outputs": [
    {
     "name": "stderr",
     "output_type": "stream",
     "text": [
      "INFO:sagemaker.image_uris:Defaulting to the only supported framework/algorithm version: 1.0.\n",
      "INFO:sagemaker.image_uris:Ignoring unnecessary instance type: None.\n"
     ]
    }
   ],
   "source": [
    "from sagemaker import clarify\n",
    "\n",
    "# Initialize a SageMakerClarifyProcessor to compute bias metrics and model explanations.\n",
    "clarify_processor = clarify.SageMakerClarifyProcessor(\n",
    "    role=sm_role, instance_count=2, instance_type=\"ml.m5.xlarge\", sagemaker_session=session\n",
    ")"
   ]
  },
  {
   "cell_type": "markdown",
   "id": "d82c9b89-4915-4f15-8c6f-4c45e371b37e",
   "metadata": {
    "tags": []
   },
   "source": [
    "^^^ \n",
    "\n",
    "Above already gives a hint, why SageMaker Clarify has a clear advantage over the regular implemenation of SHAP that many data scientists are using. It is running on Spark and can therefore ideally take adavantage of the distributed computing possibilities of Spark. \n"
   ]
  },
  {
   "cell_type": "code",
   "execution_count": 69,
   "id": "3b6191f3",
   "metadata": {},
   "outputs": [
    {
     "name": "stdout",
     "output_type": "stream",
     "text": [
      "sagemaker-us-east-1-510646607739\n",
      "from-idea-to-prod/xgboost/train/train.csv\n"
     ]
    }
   ],
   "source": [
    "s3 = boto3.client('s3')\n",
    "input_df_url = \"s3://sagemaker-us-east-1-510646607739/from-idea-to-prod/xgboost/train/train.csv\"\n",
    "\n",
    "bucket_name = input_df_url.split(\"//\")[1].split(\"/\")[0]\n",
    "print(bucket_name)\n",
    "file_name = \"/\".join(input_df_url.split(\"/\")[3:])\n",
    "print(file_name)\n",
    "obj = s3.get_object(Bucket=bucket_name, Key=file_name)\n",
    "df = pd.read_csv(obj['Body'])"
   ]
  },
  {
   "cell_type": "code",
   "execution_count": 76,
   "id": "e28f7239",
   "metadata": {},
   "outputs": [],
   "source": [
    "# from io import BytesIO\n",
    "\n",
    "# def download_dataset_subsample_and_upload(train_s3_url, output_s3_url, sample_size):\n",
    "#     s3 = boto3.client('s3')\n",
    "\n",
    "#     bucket_name = input_df_url.split(\"//\")[1].split(\"/\")[0]\n",
    "#     file_name = \"/\".join(input_df_url.split(\"/\")[3:])\n",
    "\n",
    "#     obj = s3.get_object(Bucket=bucket_name, Key=file_name)\n",
    "#     df = pd.read_csv(obj['Body'])\n",
    "        \n",
    "#     df_sample = df.sample(frac=sample_size)\n",
    "#     # Upload the file to S3 without saving it to disk first\n",
    "\n",
    "#     output_bucket_name = output_s3_url.split(\"//\")[1].split(\"/\")[0]\n",
    "#     output_file_name = \"/\".join(input_df_url.split(\"/\")[3:])\n",
    "#     print(output_bucket_name)\n",
    "#     s3.upload_fileobj(BytesIO(df_sample), bucket_name, output_file_name)\n",
    "\n",
    "#     return output_s3_url\n",
    "\n",
    "# input_df_url = \"s3://sagemaker-us-east-1-510646607739/from-idea-to-prod/xgboost/train/train.csv\"\n",
    "# # split train_s3_url after and take everything before .csv; rename to _sampled_data.csv\n",
    "# output_s3_url = train_s3_url.rsplit('.', 1)[0] + '_sampled_data.csv'\n",
    "\n",
    "# downsampled_trainset_url = download_dataset_subsample_and_upload(input_df_url, output_s3_url,  sample_size=0.1)\n"
   ]
  },
  {
   "cell_type": "code",
   "execution_count": 77,
   "id": "f929c7ae-c81a-485f-bd2c-057f8f144fd2",
   "metadata": {
    "tags": []
   },
   "outputs": [],
   "source": [
    "# setting the bias report output path\n",
    "bias_report_output_path =  f\"s3://{bucket_name}/{bucket_prefix}/ClarifyBiasReport\"\n",
    "\n",
    "bias_data_config = clarify.DataConfig(\n",
    "    s3_data_input_path=train_s3_url,\n",
    "    s3_output_path=bias_report_output_path,\n",
    "    label=\"y\",\n",
    "    headers=feature_headers_list,\n",
    "    dataset_type=\"text/csv\",\n",
    ")"
   ]
  },
  {
   "cell_type": "code",
   "execution_count": 78,
   "id": "cbcccb62-3121-4bcc-ac46-3dc86beabad7",
   "metadata": {
    "tags": []
   },
   "outputs": [],
   "source": [
    "model_config = clarify.ModelConfig(\n",
    "    model_name=model_name,\n",
    "    instance_type=\"ml.m5.xlarge\",\n",
    "    instance_count=1,\n",
    "    accept_type=\"text/csv\",\n",
    "    content_type=\"text/csv\",\n",
    ")"
   ]
  },
  {
   "cell_type": "code",
   "execution_count": 79,
   "id": "951a724f-b522-4368-988e-5ff2595f3e2c",
   "metadata": {
    "tags": []
   },
   "outputs": [],
   "source": [
    "# setting the threshold for the probability that should be used to decide if a loan gets accepted or not\n",
    "predictions_config = clarify.ModelPredictedLabelConfig(probability_threshold=0.5)"
   ]
  },
  {
   "cell_type": "markdown",
   "id": "ba98eeb2-a7a9-4120-953c-584de309326f",
   "metadata": {},
   "source": [
    "Although we could inspect mutliple attributes, and even create subgroups for e.g. the marital status, for the sake of the demo, we will only inspect for a bias in age. \n",
    "Please refer to the [documentation](https://sagemaker-examples.readthedocs.io/en/latest/sagemaker-clarify/fairness_and_explainability/fairness_and_explainability.html#Writing-BiasConfig) for bias in subgroups. "
   ]
  },
  {
   "cell_type": "code",
   "execution_count": 80,
   "id": "edac4d6b-4ee7-42b1-bf1b-7d0fa09e08be",
   "metadata": {
    "tags": []
   },
   "outputs": [],
   "source": [
    "bias_config = clarify.BiasConfig(\n",
    "    label_values_or_threshold=[1], facet_name=\"age\"\n",
    ")"
   ]
  },
  {
   "cell_type": "code",
   "execution_count": 83,
   "id": "4213e055-9490-4af1-977a-e7ee01e3b891",
   "metadata": {
    "collapsed": true,
    "jupyter": {
     "outputs_hidden": true
    },
    "tags": []
   },
   "outputs": [
    {
     "name": "stderr",
     "output_type": "stream",
     "text": [
      "INFO:sagemaker.image_uris:Defaulting to the only supported framework/algorithm version: 1.0.\n",
      "INFO:sagemaker.image_uris:Ignoring unnecessary instance type: None.\n",
      "INFO:sagemaker.clarify:Analysis Config: {'dataset_type': 'text/csv', 'headers': ['y', 'age', 'campaign', 'pdays', 'previous', 'no_previous_contact', 'not_working', 'job_admin.', 'job_blue-collar', 'job_entrepreneur', 'job_housemaid', 'job_management', 'job_retired', 'job_self-employed', 'job_services', 'job_student', 'job_technician', 'job_unemployed', 'job_unknown', 'marital_divorced', 'marital_married', 'marital_single', 'marital_unknown', 'education_basic.4y', 'education_basic.6y', 'education_basic.9y', 'education_high.school', 'education_illiterate', 'education_professional.course', 'education_university.degree', 'education_unknown', 'default_no', 'default_unknown', 'default_yes', 'housing_no', 'housing_unknown', 'housing_yes', 'loan_no', 'loan_unknown', 'loan_yes', 'contact_cellular', 'contact_telephone', 'month_apr', 'month_aug', 'month_dec', 'month_jul', 'month_jun', 'month_mar', 'month_may', 'month_nov', 'month_oct', 'month_sep', 'day_of_week_fri', 'day_of_week_mon', 'day_of_week_thu', 'day_of_week_tue', 'day_of_week_wed', 'poutcome_failure', 'poutcome_nonexistent', 'poutcome_success'], 'label': 'y', 'label_values_or_threshold': [1], 'facet': [{'name_or_index': 'age'}], 'methods': {'report': {'name': 'report', 'title': 'Analysis Report'}, 'pre_training_bias': {'methods': ['DI', 'DCA']}, 'post_training_bias': {'methods': ['DI', 'DCA']}}, 'predictor': {'model_name': 'from-idea-to-prod-transform-19-14-23-32', 'instance_type': 'ml.m5.xlarge', 'initial_instance_count': 1, 'accept_type': 'text/csv', 'content_type': 'text/csv'}, 'probability_threshold': 0.5}\n",
      "INFO:sagemaker:Creating processing-job with name Clarify-Bias-2023-04-19-16-28-22-133\n"
     ]
    }
   ],
   "source": [
    "# Initialize a SageMakerClarifyProcessor to compute bias metrics and model explanations.\n",
    "clarify_processor = clarify.SageMakerClarifyProcessor(\n",
    "    role=sm_role, instance_count=2, instance_type=\"ml.m5.2xlarge\", sagemaker_session=session\n",
    ")\n",
    "\n",
    "# The job takes about 10 minutes to run\n",
    "clarify_processor.run_bias(\n",
    "    data_config=bias_data_config,\n",
    "    bias_config=bias_config,\n",
    "    model_config=model_config,\n",
    "    model_predicted_label_config=predictions_config,\n",
    "    pre_training_methods=['DI', 'DCA'],\n",
    "    post_training_methods=['DI', 'DCA'],\n",
    "    wait=False,\n",
    "    logs=False,\n",
    ")"
   ]
  },
  {
   "cell_type": "markdown",
   "id": "0bb5c3e9-f616-44a3-a572-333bcf050438",
   "metadata": {
    "tags": []
   },
   "source": [
    "## Model Explainability of batch tranforms  \n",
    "SageMaker Clarify has been based on the Spark distributed  computation framework. Therefore we can scale out our efforts for model explainablity as SHAPELY value calculations can be very time and compute intensive. "
   ]
  },
  {
   "cell_type": "markdown",
   "id": "034946e9-5577-4c32-96ae-223de1e4b8bb",
   "metadata": {},
   "source": [
    "There are expanding business needs and legislative regulations that require explanations of why a model made the decision it did. SageMaker Clarify uses Kernel SHAP to explain the contribution that each input feature makes to the final decision.\n",
    "\n",
    "For run_explainability API call we need similar DataConfig and ModelConfig objects we defined above. SHAPConfig here is the config class for Kernel SHAP algorithm.\n",
    "\n",
    "For our demo we pass the following information in SHAPConfig:\n",
    "\n",
    "- `baseline`: Kernel SHAP algorithm requires a baseline (also known as background dataset). If not provided, a baseline is calculated automatically by SageMaker Clarify using K-means or K-prototypes in the input dataset. Baseline dataset type shall be the same as dataset_type, and baseline samples shall only include features. By definition, baseline should either be a S3 URI to the baseline dataset file, or an in-place list of samples. In this case we chose the latter, and put the mean of the train dataset to the list. For more details on baseline selection please refer this [documentation](https://docs.aws.amazon.com/en_us/sagemaker/latest/dg/clarify-feature-attribute-shap-baselines.html).\n",
    "- `num_samples`: Number of samples to be used in the Kernel SHAP algorithm. This number determines the size of the generated synthetic dataset to compute the SHAP values.\n",
    "- `agg_method`: Aggregation method for global SHAP values. For our example here we are using mean_abs i.e. mean of absolute SHAP values for all instances\n",
    "- `save_local_shap_values`: Indicates whether to save the local SHAP values in the output location. Default is True.\n",
    "\n",
    "\n",
    "First we must generate a baseline for the model predictions"
   ]
  },
  {
   "cell_type": "code",
   "execution_count": 84,
   "id": "172896e9-eec8-43f7-878c-10716f1f2ec6",
   "metadata": {
    "tags": []
   },
   "outputs": [],
   "source": [
    "explainability_output_path =  f\"s3://{bucket_name}/{bucket_prefix}/Clarify-Explainability\"\n",
    "explainability_data_config = clarify.DataConfig(\n",
    "    s3_data_input_path=train_s3_url,\n",
    "    s3_output_path=explainability_output_path,\n",
    "    label=\"y\",\n",
    "    headers=feature_headers_list,\n",
    "    dataset_type=\"text/csv\",\n",
    ")\n",
    "\n",
    "# baseline = [training_data.mean().iloc[1:].values.tolist()]\n",
    "shap_config = clarify.SHAPConfig(\n",
    "    baseline=None,\n",
    "    num_samples=15,\n",
    "    agg_method=\"mean_abs\",\n",
    "    save_local_shap_values=True,\n",
    ")"
   ]
  },
  {
   "cell_type": "code",
   "execution_count": 85,
   "id": "cba7e9b2-3087-4a53-8432-f3db1fb3c29c",
   "metadata": {
    "collapsed": true,
    "jupyter": {
     "outputs_hidden": true
    },
    "tags": []
   },
   "outputs": [
    {
     "name": "stderr",
     "output_type": "stream",
     "text": [
      "INFO:sagemaker.clarify:Analysis Config: {'dataset_type': 'text/csv', 'headers': ['y', 'age', 'campaign', 'pdays', 'previous', 'no_previous_contact', 'not_working', 'job_admin.', 'job_blue-collar', 'job_entrepreneur', 'job_housemaid', 'job_management', 'job_retired', 'job_self-employed', 'job_services', 'job_student', 'job_technician', 'job_unemployed', 'job_unknown', 'marital_divorced', 'marital_married', 'marital_single', 'marital_unknown', 'education_basic.4y', 'education_basic.6y', 'education_basic.9y', 'education_high.school', 'education_illiterate', 'education_professional.course', 'education_university.degree', 'education_unknown', 'default_no', 'default_unknown', 'default_yes', 'housing_no', 'housing_unknown', 'housing_yes', 'loan_no', 'loan_unknown', 'loan_yes', 'contact_cellular', 'contact_telephone', 'month_apr', 'month_aug', 'month_dec', 'month_jul', 'month_jun', 'month_mar', 'month_may', 'month_nov', 'month_oct', 'month_sep', 'day_of_week_fri', 'day_of_week_mon', 'day_of_week_thu', 'day_of_week_tue', 'day_of_week_wed', 'poutcome_failure', 'poutcome_nonexistent', 'poutcome_success'], 'label': 'y', 'predictor': {'model_name': 'from-idea-to-prod-transform-19-14-23-32', 'instance_type': 'ml.m5.xlarge', 'initial_instance_count': 1, 'accept_type': 'text/csv', 'content_type': 'text/csv'}, 'methods': {'report': {'name': 'report', 'title': 'Analysis Report'}, 'shap': {'use_logit': False, 'save_local_shap_values': True, 'num_samples': 15, 'agg_method': 'mean_abs'}}}\n",
      "INFO:sagemaker:Creating processing-job with name Clarify-Explainability-2023-04-19-16-28-28-041\n"
     ]
    },
    {
     "name": "stdout",
     "output_type": "stream",
     "text": [
      "............................2023-04-19 16:33:26,101 logging.conf not found when configuring logging, using default logging configuration.\n",
      "2023-04-19 16:33:26,101 Starting SageMaker Clarify Processing job\n",
      "2023-04-19 16:33:26,102 Analysis config path: /opt/ml/processing/input/config/analysis_config.json\n",
      "2023-04-19 16:33:26,102 Analysis result path: /opt/ml/processing/output\n",
      "2023-04-19 16:33:26,102 This host is algo-2.\n",
      "2023-04-19 16:33:26,102 This host is NOT the leader.\n",
      "2023-04-19 16:33:26,102 Number of hosts in the cluster is 2.\n",
      "2023-04-19 16:33:26,105 Running Apache Spark™ cluster based analyzer to get explanations and metrics.\n",
      "2023-04-19 16:33:26,105 Override smspark user config\n",
      "2023-04-19 16:33:26,106 Submitting job to Spark cluster...\n",
      "2023-04-19 16:33:26,106 spark_submit command: ['smspark-submit', '--jars', '/opt/program/jars/', '/usr/local/bin/analyzer_spark_application.py']\n",
      "04-19 16:33 smspark.cli  INFO     Parsing arguments. argv: ['/usr/local/bin/smspark-submit', '--jars', '/opt/program/jars/', '/usr/local/bin/analyzer_spark_application.py']\n",
      "04-19 16:33 smspark.cli  INFO     Raw spark options before processing: {'jars': '/opt/program/jars/', 'class_': None, 'py_files': None, 'files': None, 'verbose': False}\n",
      "04-19 16:33 smspark.cli  INFO     App and app arguments: ['/usr/local/bin/analyzer_spark_application.py']\n",
      "04-19 16:33 smspark.cli  INFO     Rendered spark options: {'jars': '/opt/program/jars/log4j-over-slf4j-1.7.30.jar,/opt/program/jars/SMClarify-assembly-0.1.jar,/opt/program/jars/logback-classic-1.2.9.jar,/opt/program/jars/logback-core-1.2.9.jar', 'class_': None, 'py_files': None, 'files': None, 'verbose': False}\n",
      "04-19 16:33 smspark.cli  INFO     Initializing processing job.\n",
      "04-19 16:33 smspark-submit INFO     {'current_host': 'algo-2', 'hosts': ['algo-1', 'algo-2']}\n",
      "04-19 16:33 smspark-submit INFO     {'ProcessingJobArn': 'arn:aws:sagemaker:us-east-1:510646607739:processing-job/clarify-explainability-2023-04-19-16-28-28-041', 'ProcessingJobName': 'Clarify-Explainability-2023-04-19-16-28-28-041', 'AppSpecification': {'ImageUri': '205585389593.dkr.ecr.us-east-1.amazonaws.com/sagemaker-clarify-processing:1.0', 'ContainerEntrypoint': None, 'ContainerArguments': None}, 'ProcessingInputs': [{'InputName': 'dataset', 'AppManaged': False, 'S3Input': {'LocalPath': '/opt/ml/processing/input/data', 'S3Uri': 's3://sagemaker-us-east-1-510646607739/from-idea-to-prod/xgboost/train', 'S3DataDistributionType': 'FullyReplicated', 'S3DataType': 'S3Prefix', 'S3InputMode': 'File', 'S3CompressionType': 'None', 'S3DownloadMode': 'StartOfJob'}, 'DatasetDefinition': None}, {'InputName': 'analysis_config', 'AppManaged': False, 'S3Input': {'LocalPath': '/opt/ml/processing/input/config', 'S3Uri': 's3://sagemaker-us-east-1-510646607739/from-idea-to-prod/xgboost/Clarify-Explainability/analysis_config.json', 'S3DataDistributionType': 'FullyReplicated', 'S3DataType': 'S3Prefix', 'S3InputMode': 'File', 'S3CompressionType': 'None', 'S3DownloadMode': 'StartOfJob'}, 'DatasetDefinition': None}], 'ProcessingOutputConfig': {'Outputs': [{'OutputName': 'analysis_result', 'AppManaged': False, 'S3Output': {'LocalPath': '/opt/ml/processing/output', 'S3Uri': 's3://sagemaker-us-east-1-510646607739/from-idea-to-prod/xgboost/Clarify-Explainability', 'S3UploadMode': 'EndOfJob'}, 'FeatureStoreOutput': None}], 'KmsKeyId': None}, 'ProcessingResources': {'ClusterConfig': {'InstanceCount': 2, 'InstanceType': 'ml.m5.2xlarge', 'VolumeSizeInGB': 30, 'VolumeKmsKeyId': None}}, 'RoleArn': 'arn:aws:iam::510646607739:role/service-role/AmazonSageMaker-ExecutionRole-20220809T104176', 'StoppingCondition': {'MaxRuntimeInSeconds': 86400}}\n",
      "04-19 16:33 smspark.cli  INFO     running spark submit command: spark-submit --master yarn --deploy-mode client --jars /opt/program/jars/log4j-over-slf4j-1.7.30.jar,/opt/program/jars/SMClarify-assembly-0.1.jar,/opt/program/jars/logback-classic-1.2.9.jar,/opt/program/jars/logback-core-1.2.9.jar /usr/local/bin/analyzer_spark_application.py\n",
      "04-19 16:33 smspark-submit INFO     waiting for hosts\n",
      "04-19 16:33 smspark-submit INFO     starting status server\n",
      "04-19 16:33 smspark-submit INFO     Status server listening on algo-2:5555\n",
      "04-19 16:33 smspark-submit INFO     bootstrapping cluster\n",
      "04-19 16:33 smspark-submit INFO     transitioning from status INITIALIZING to BOOTSTRAPPING\n",
      "04-19 16:33 smspark-submit INFO     copying aws jars\n",
      "04-19 16:33 waitress     INFO     Serving on http://10.2.84.54:5555\n",
      "04-19 16:33 smspark-submit INFO     Found hadoop jar hadoop-aws.jar\n",
      "04-19 16:33 smspark-submit INFO     Optional jar jets3t-0.9.0.jar in /usr/lib/hadoop/lib does not exist\n",
      "04-19 16:33 smspark-submit INFO     copying cluster config\n",
      "04-19 16:33 smspark-submit INFO     copying /opt/hadoop-config/hdfs-site.xml to /usr/lib/hadoop/etc/hadoop/hdfs-site.xml\n",
      "04-19 16:33 smspark-submit INFO     copying /opt/hadoop-config/core-site.xml to /usr/lib/hadoop/etc/hadoop/core-site.xml\n",
      "04-19 16:33 smspark-submit INFO     copying /opt/hadoop-config/yarn-site.xml to /usr/lib/hadoop/etc/hadoop/yarn-site.xml\n",
      "04-19 16:33 smspark-submit INFO     copying /opt/hadoop-config/spark-defaults.conf to /usr/lib/spark/conf/spark-defaults.conf\n",
      "04-19 16:33 smspark-submit INFO     copying /opt/hadoop-config/spark-env.sh to /usr/lib/spark/conf/spark-env.sh\n",
      "04-19 16:33 root         INFO     Detected instance type: m5.2xlarge with total memory: 32768M and total cores: 8\n",
      "04-19 16:33 root         INFO     Writing default config to /usr/lib/hadoop/etc/hadoop/yarn-site.xml\n",
      "04-19 16:33 root         INFO     Configuration at /usr/lib/hadoop/etc/hadoop/yarn-site.xml is: \n",
      "<?xml version=\"1.0\"?>\n",
      "<!-- Site specific YARN configuration properties -->\n",
      " <configuration>\n",
      "     <property>\n",
      "         <name>yarn.resourcemanager.hostname</name>\n",
      "         <value>10.2.98.188</value>\n",
      "         <description>The hostname of the RM.</description>\n",
      "     </property>\n",
      "     <property>\n",
      "         <name>yarn.nodemanager.hostname</name>\n",
      "         <value>algo-2</value>\n",
      "         <description>The hostname of the NM.</description>\n",
      "     </property>\n",
      "     <property>\n",
      "         <name>yarn.nodemanager.webapp.address</name>\n",
      "         <value>algo-2:8042</value>\n",
      "     </property>\n",
      "     <property>\n",
      "         <name>yarn.nodemanager.vmem-pmem-ratio</name>\n",
      "         <value>5</value>\n",
      "         <description>Ratio between virtual memory to physical memory.</description>\n",
      "     </property>\n",
      "     <property>\n",
      "         <name>yarn.resourcemanager.am.max-attempts</name>\n",
      "         <value>1</value>\n",
      "         <description>The maximum number of application attempts.</description>\n",
      "     </property>\n",
      "     <property>\n",
      "         <name>yarn.nodemanager.env-whitelist</name>\n",
      "         <value>JAVA_HOME,HADOOP_COMMON_HOME,HADOOP_HDFS_HOME,HADOOP_CONF_DIR,YARN_HOME,AWS_CONTAINER_CREDENTIALS_RELATIVE_URI,AWS_REGION</value>\n",
      "         <description>Environment variable whitelist</description>\n",
      "     </property>\n",
      " \n",
      "  <property>\n",
      "    <name>yarn.scheduler.minimum-allocation-mb</name>\n",
      "    <value>1</value>\n",
      "  </property>\n",
      "  <property>\n",
      "    <name>yarn.scheduler.maximum-allocation-mb</name>\n",
      "    <value>31784</value>\n",
      "  </property>\n",
      "  <property>\n",
      "    <name>yarn.scheduler.minimum-allocation-vcores</name>\n",
      "    <value>1</value>\n",
      "  </property>\n",
      "  <property>\n",
      "    <name>yarn.scheduler.maximum-allocation-vcores</name>\n",
      "    <value>8</value>\n",
      "  </property>\n",
      "  <property>\n",
      "    <name>yarn.nodemanager.resource.memory-mb</name>\n",
      "    <value>31784</value>\n",
      "  </property>\n",
      "  <property>\n",
      "    <name>yarn.nodemanager.resource.cpu-vcores</name>\n",
      "    <value>8</value>\n",
      "  </property>\n",
      "</configuration>\n",
      "04-19 16:33 root         INFO     Writing default config to /usr/lib/spark/conf/spark-defaults.conf\n",
      "04-19 16:33 root         INFO     Configuration at /usr/lib/spark/conf/spark-defaults.conf is: \n",
      "spark.driver.extraClassPath      /usr/lib/hadoop-lzo/lib/*:/usr/lib/hadoop/hadoop-aws.jar:/usr/share/aws/aws-java-sdk/*:/usr/share/aws/emr/emrfs/conf:/usr/share/aws/emr/emrfs/lib/*:/usr/share/aws/emr/emrfs/auxlib/*:/usr/share/aws/emr/goodies/lib/emr-spark-goodies.jar:/usr/share/aws/emr/security/conf:/usr/share/aws/emr/security/lib/*:/usr/share/aws/hmclient/lib/aws-glue-datacatalog-spark-client.jar:/usr/share/java/Hive-JSON-Serde/hive-openx-serde.jar:/usr/share/aws/sagemaker-spark-sdk/lib/sagemaker-spark-sdk.jar:/usr/share/aws/emr/s3select/lib/emr-s3-select-spark-connector.jar\n",
      "spark.driver.extraLibraryPath    /usr/lib/hadoop/lib/native:/usr/lib/hadoop-lzo/lib/native\n",
      "spark.executor.extraClassPath    /usr/lib/hadoop-lzo/lib/*:/usr/lib/hadoop/hadoop-aws.jar:/usr/share/aws/aws-java-sdk/*:/usr/share/aws/emr/emrfs/conf:/usr/share/aws/emr/emrfs/lib/*:/usr/share/aws/emr/emrfs/auxlib/*:/usr/share/aws/emr/goodies/lib/emr-spark-goodies.jar:/usr/share/aws/emr/security/conf:/usr/share/aws/emr/security/lib/*:/usr/share/aws/hmclient/lib/aws-glue-datacatalog-spark-client.jar:/usr/share/java/Hive-JSON-Serde/hive-openx-serde.jar:/usr/share/aws/sagemaker-spark-sdk/lib/sagemaker-spark-sdk.jar:/usr/share/aws/emr/s3select/lib/emr-s3-select-spark-connector.jar\n",
      "spark.executor.extraLibraryPath  /usr/lib/hadoop/lib/native:/usr/lib/hadoop-lzo/lib/native\n",
      "spark.driver.host=10.2.98.188\n",
      "spark.hadoop.mapreduce.fileoutputcommitter.algorithm.version=2\n",
      "# Fix for \"Uncaught exception: org.apache.spark.rpc.RpcTimeoutException: Cannot\n",
      "# receive any reply from 10.0.109.30:35219 in 120 seconds.\"\"\n",
      "spark.rpc.askTimeout=300s\n",
      "spark.network.timeout=600\n",
      "spark.sql.caseSensitive=true\n",
      "spark.driver.memory 2048m\n",
      "spark.driver.memoryOverhead 204m\n",
      "spark.driver.defaultJavaOptions -XX:OnOutOfMemoryError='kill -9 %p' -XX:+UseConcMarkSweepGC -XX:CMSInitiatingOccupancyFraction=70 -XX:MaxHeapFreeRatio=70 -XX:+CMSClassUnloadingEnabled\n",
      "spark.executor.memory 26847m\n",
      "spark.executor.memoryOverhead 2684m\n",
      "spark.executor.cores 8\n",
      "spark.executor.defaultJavaOptions -verbose:gc -XX:OnOutOfMemoryError='kill -9 %p' -XX:+PrintGCDetails -XX:+PrintGCDateStamps -XX:+UseParallelGC -XX:InitiatingHeapOccupancyPercent=70 -XX:ConcGCThreads=2 -XX:ParallelGCThreads=6 \n",
      "spark.executor.instances 2\n",
      "spark.default.parallelism 32\n",
      "spark.yarn.appMasterEnv.AWS_REGION us-east-1\n",
      "spark.executorEnv.AWS_REGION us-east-1\n",
      "04-19 16:33 root         INFO     Finished Yarn configuration files setup.\n",
      "04-19 16:33 root         INFO     reading user configuration from /opt/ml/processing/input/conf/configuration.json\n",
      "04-19 16:33 root         INFO     User configuration list or dict: {'Classification': 'spark-defaults', 'Properties': {'spark.driver.memory': '28521m'}} , type <class 'dict'>\n",
      "04-19 16:33 root         INFO     Writing user config to /usr/lib/spark/conf/spark-defaults.conf\n",
      "04-19 16:33 root         INFO     Configuration at /usr/lib/spark/conf/spark-defaults.conf is: \n",
      "spark.driver.extraClassPath      /usr/lib/hadoop-lzo/lib/*:/usr/lib/hadoop/hadoop-aws.jar:/usr/share/aws/aws-java-sdk/*:/usr/share/aws/emr/emrfs/conf:/usr/share/aws/emr/emrfs/lib/*:/usr/share/aws/emr/emrfs/auxlib/*:/usr/share/aws/emr/goodies/lib/emr-spark-goodies.jar:/usr/share/aws/emr/security/conf:/usr/share/aws/emr/security/lib/*:/usr/share/aws/hmclient/lib/aws-glue-datacatalog-spark-client.jar:/usr/share/java/Hive-JSON-Serde/hive-openx-serde.jar:/usr/share/aws/sagemaker-spark-sdk/lib/sagemaker-spark-sdk.jar:/usr/share/aws/emr/s3select/lib/emr-s3-select-spark-connector.jar\n",
      "spark.driver.extraLibraryPath    /usr/lib/hadoop/lib/native:/usr/lib/hadoop-lzo/lib/native\n",
      "spark.executor.extraClassPath    /usr/lib/hadoop-lzo/lib/*:/usr/lib/hadoop/hadoop-aws.jar:/usr/share/aws/aws-java-sdk/*:/usr/share/aws/emr/emrfs/conf:/usr/share/aws/emr/emrfs/lib/*:/usr/share/aws/emr/emrfs/auxlib/*:/usr/share/aws/emr/goodies/lib/emr-spark-goodies.jar:/usr/share/aws/emr/security/conf:/usr/share/aws/emr/security/lib/*:/usr/share/aws/hmclient/lib/aws-glue-datacatalog-spark-client.jar:/usr/share/java/Hive-JSON-Serde/hive-openx-serde.jar:/usr/share/aws/sagemaker-spark-sdk/lib/sagemaker-spark-sdk.jar:/usr/share/aws/emr/s3select/lib/emr-s3-select-spark-connector.jar\n",
      "spark.executor.extraLibraryPath  /usr/lib/hadoop/lib/native:/usr/lib/hadoop-lzo/lib/native\n",
      "spark.driver.host=10.2.98.188\n",
      "spark.hadoop.mapreduce.fileoutputcommitter.algorithm.version=2\n",
      "# Fix for \"Uncaught exception: org.apache.spark.rpc.RpcTimeoutException: Cannot\n",
      "# receive any reply from 10.0.109.30:35219 in 120 seconds.\"\"\n",
      "spark.rpc.askTimeout=300s\n",
      "spark.network.timeout=600\n",
      "spark.sql.caseSensitive=true\n",
      "spark.driver.memory 2048m\n",
      "spark.driver.memoryOverhead 204m\n",
      "spark.driver.defaultJavaOptions -XX:OnOutOfMemoryError='kill -9 %p' -XX:+UseConcMarkSweepGC -XX:CMSInitiatingOccupancyFraction=70 -XX:MaxHeapFreeRatio=70 -XX:+CMSClassUnloadingEnabled\n",
      "spark.executor.memory 26847m\n",
      "spark.executor.memoryOverhead 2684m\n",
      "spark.executor.cores 8\n",
      "spark.executor.defaultJavaOptions -verbose:gc -XX:OnOutOfMemoryError='kill -9 %p' -XX:+PrintGCDetails -XX:+PrintGCDateStamps -XX:+UseParallelGC -XX:InitiatingHeapOccupancyPercent=70 -XX:ConcGCThreads=2 -XX:ParallelGCThreads=6 \n",
      "spark.executor.instances 2\n",
      "spark.default.parallelism 32\n",
      "spark.yarn.appMasterEnv.AWS_REGION us-east-1\n",
      "spark.executorEnv.AWS_REGION us-east-1\n",
      "spark.driver.memory 28521m\n",
      "04-19 16:33 smspark-submit INFO     waiting for cluster to be up\n",
      "WARNING: YARN_LOG_DIR has been replaced by HADOOP_LOG_DIR. Using value of YARN_LOG_DIR.\n",
      "WARNING: /usr/lib/hadoop/logs does not exist. Creating.\n",
      "WARNING: /var/log/yarn/ does not exist. Creating.\n",
      "2023-04-19 16:33:26,068 logging.conf not found when configuring logging, using default logging configuration.\n",
      "2023-04-19 16:33:26,068 Starting SageMaker Clarify Processing job\n",
      "2023-04-19 16:33:26,069 Analysis config path: /opt/ml/processing/input/config/analysis_config.json\n",
      "2023-04-19 16:33:26,069 Analysis result path: /opt/ml/processing/output\n",
      "2023-04-19 16:33:26,069 This host is algo-1.\n",
      "2023-04-19 16:33:26,069 This host is the leader.\n",
      "2023-04-19 16:33:26,069 Number of hosts in the cluster is 2.\n",
      "2023-04-19 16:33:26,441 Running Apache Spark™ cluster based analyzer to get explanations and metrics.\n",
      "2023-04-19 16:33:26,449 Configuring spark to use default region us-east-1\n",
      "2023-04-19 16:33:26,450 Override smspark user config\n",
      "2023-04-19 16:33:26,450 Submitting job to Spark cluster...\n",
      "2023-04-19 16:33:26,450 spark_submit command: ['smspark-submit', '--jars', '/opt/program/jars/', '/usr/local/bin/analyzer_spark_application.py']\n",
      "04-19 16:33 smspark.cli  INFO     Parsing arguments. argv: ['/usr/local/bin/smspark-submit', '--jars', '/opt/program/jars/', '/usr/local/bin/analyzer_spark_application.py']\n",
      "04-19 16:33 smspark.cli  INFO     Raw spark options before processing: {'jars': '/opt/program/jars/', 'class_': None, 'py_files': None, 'files': None, 'verbose': False}\n",
      "04-19 16:33 smspark.cli  INFO     App and app arguments: ['/usr/local/bin/analyzer_spark_application.py']\n",
      "04-19 16:33 smspark.cli  INFO     Rendered spark options: {'jars': '/opt/program/jars/logback-classic-1.2.9.jar,/opt/program/jars/log4j-over-slf4j-1.7.30.jar,/opt/program/jars/logback-core-1.2.9.jar,/opt/program/jars/SMClarify-assembly-0.1.jar', 'class_': None, 'py_files': None, 'files': None, 'verbose': False}\n",
      "04-19 16:33 smspark.cli  INFO     Initializing processing job.\n",
      "04-19 16:33 smspark-submit INFO     {'current_host': 'algo-1', 'hosts': ['algo-1', 'algo-2']}\n",
      "04-19 16:33 smspark-submit INFO     {'ProcessingJobArn': 'arn:aws:sagemaker:us-east-1:510646607739:processing-job/clarify-explainability-2023-04-19-16-28-28-041', 'ProcessingJobName': 'Clarify-Explainability-2023-04-19-16-28-28-041', 'AppSpecification': {'ImageUri': '205585389593.dkr.ecr.us-east-1.amazonaws.com/sagemaker-clarify-processing:1.0', 'ContainerEntrypoint': None, 'ContainerArguments': None}, 'ProcessingInputs': [{'InputName': 'dataset', 'AppManaged': False, 'S3Input': {'LocalPath': '/opt/ml/processing/input/data', 'S3Uri': 's3://sagemaker-us-east-1-510646607739/from-idea-to-prod/xgboost/train', 'S3DataDistributionType': 'FullyReplicated', 'S3DataType': 'S3Prefix', 'S3InputMode': 'File', 'S3CompressionType': 'None', 'S3DownloadMode': 'StartOfJob'}, 'DatasetDefinition': None}, {'InputName': 'analysis_config', 'AppManaged': False, 'S3Input': {'LocalPath': '/opt/ml/processing/input/config', 'S3Uri': 's3://sagemaker-us-east-1-510646607739/from-idea-to-prod/xgboost/Clarify-Explainability/analysis_config.json', 'S3DataDistributionType': 'FullyReplicated', 'S3DataType': 'S3Prefix', 'S3InputMode': 'File', 'S3CompressionType': 'None', 'S3DownloadMode': 'StartOfJob'}, 'DatasetDefinition': None}], 'ProcessingOutputConfig': {'Outputs': [{'OutputName': 'analysis_result', 'AppManaged': False, 'S3Output': {'LocalPath': '/opt/ml/processing/output', 'S3Uri': 's3://sagemaker-us-east-1-510646607739/from-idea-to-prod/xgboost/Clarify-Explainability', 'S3UploadMode': 'EndOfJob'}, 'FeatureStoreOutput': None}], 'KmsKeyId': None}, 'ProcessingResources': {'ClusterConfig': {'InstanceCount': 2, 'InstanceType': 'ml.m5.2xlarge', 'VolumeSizeInGB': 30, 'VolumeKmsKeyId': None}}, 'RoleArn': 'arn:aws:iam::510646607739:role/service-role/AmazonSageMaker-ExecutionRole-20220809T104176', 'StoppingCondition': {'MaxRuntimeInSeconds': 86400}}\n",
      "04-19 16:33 smspark.cli  INFO     running spark submit command: spark-submit --master yarn --deploy-mode client --jars /opt/program/jars/logback-classic-1.2.9.jar,/opt/program/jars/log4j-over-slf4j-1.7.30.jar,/opt/program/jars/logback-core-1.2.9.jar,/opt/program/jars/SMClarify-assembly-0.1.jar /usr/local/bin/analyzer_spark_application.py\n",
      "04-19 16:33 smspark-submit INFO     waiting for hosts\n",
      "04-19 16:33 smspark-submit INFO     starting status server\n",
      "04-19 16:33 smspark-submit INFO     Status server listening on algo-1:5555\n",
      "04-19 16:33 smspark-submit INFO     bootstrapping cluster\n",
      "04-19 16:33 smspark-submit INFO     transitioning from status INITIALIZING to BOOTSTRAPPING\n",
      "04-19 16:33 smspark-submit INFO     copying aws jars\n",
      "04-19 16:33 waitress     INFO     Serving on http://10.2.98.188:5555\n",
      "04-19 16:33 smspark-submit INFO     Found hadoop jar hadoop-aws.jar\n",
      "04-19 16:33 smspark-submit INFO     Optional jar jets3t-0.9.0.jar in /usr/lib/hadoop/lib does not exist\n",
      "04-19 16:33 smspark-submit INFO     copying cluster config\n",
      "04-19 16:33 smspark-submit INFO     copying /opt/hadoop-config/hdfs-site.xml to /usr/lib/hadoop/etc/hadoop/hdfs-site.xml\n",
      "04-19 16:33 smspark-submit INFO     copying /opt/hadoop-config/core-site.xml to /usr/lib/hadoop/etc/hadoop/core-site.xml\n",
      "04-19 16:33 smspark-submit INFO     copying /opt/hadoop-config/yarn-site.xml to /usr/lib/hadoop/etc/hadoop/yarn-site.xml\n",
      "04-19 16:33 smspark-submit INFO     copying /opt/hadoop-config/spark-defaults.conf to /usr/lib/spark/conf/spark-defaults.conf\n",
      "04-19 16:33 smspark-submit INFO     copying /opt/hadoop-config/spark-env.sh to /usr/lib/spark/conf/spark-env.sh\n",
      "04-19 16:33 root         INFO     Detected instance type: m5.2xlarge with total memory: 32768M and total cores: 8\n",
      "04-19 16:33 root         INFO     Writing default config to /usr/lib/hadoop/etc/hadoop/yarn-site.xml\n",
      "04-19 16:33 root         INFO     Configuration at /usr/lib/hadoop/etc/hadoop/yarn-site.xml is: \n",
      "<?xml version=\"1.0\"?>\n",
      "<!-- Site specific YARN configuration properties -->\n",
      " <configuration>\n",
      "     <property>\n",
      "         <name>yarn.resourcemanager.hostname</name>\n",
      "         <value>10.2.98.188</value>\n",
      "         <description>The hostname of the RM.</description>\n",
      "     </property>\n",
      "     <property>\n",
      "         <name>yarn.nodemanager.hostname</name>\n",
      "         <value>algo-1</value>\n",
      "         <description>The hostname of the NM.</description>\n",
      "     </property>\n",
      "     <property>\n",
      "         <name>yarn.nodemanager.webapp.address</name>\n",
      "         <value>algo-1:8042</value>\n",
      "     </property>\n",
      "     <property>\n",
      "         <name>yarn.nodemanager.vmem-pmem-ratio</name>\n",
      "         <value>5</value>\n",
      "         <description>Ratio between virtual memory to physical memory.</description>\n",
      "     </property>\n",
      "     <property>\n",
      "         <name>yarn.resourcemanager.am.max-attempts</name>\n",
      "         <value>1</value>\n",
      "         <description>The maximum number of application attempts.</description>\n",
      "     </property>\n",
      "     <property>\n",
      "         <name>yarn.nodemanager.env-whitelist</name>\n",
      "         <value>JAVA_HOME,HADOOP_COMMON_HOME,HADOOP_HDFS_HOME,HADOOP_CONF_DIR,YARN_HOME,AWS_CONTAINER_CREDENTIALS_RELATIVE_URI,AWS_REGION</value>\n",
      "         <description>Environment variable whitelist</description>\n",
      "     </property>\n",
      " \n",
      "  <property>\n",
      "    <name>yarn.scheduler.minimum-allocation-mb</name>\n",
      "    <value>1</value>\n",
      "  </property>\n",
      "  <property>\n",
      "    <name>yarn.scheduler.maximum-allocation-mb</name>\n",
      "    <value>31784</value>\n",
      "  </property>\n",
      "  <property>\n",
      "    <name>yarn.scheduler.minimum-allocation-vcores</name>\n",
      "    <value>1</value>\n",
      "  </property>\n",
      "  <property>\n",
      "    <name>yarn.scheduler.maximum-allocation-vcores</name>\n",
      "    <value>8</value>\n",
      "  </property>\n",
      "  <property>\n",
      "    <name>yarn.nodemanager.resource.memory-mb</name>\n",
      "    <value>31784</value>\n",
      "  </property>\n",
      "  <property>\n",
      "    <name>yarn.nodemanager.resource.cpu-vcores</name>\n",
      "    <value>8</value>\n",
      "  </property>\n",
      "</configuration>\n",
      "04-19 16:33 root         INFO     Writing default config to /usr/lib/spark/conf/spark-defaults.conf\n",
      "04-19 16:33 root         INFO     Configuration at /usr/lib/spark/conf/spark-defaults.conf is: \n",
      "spark.driver.extraClassPath      /usr/lib/hadoop-lzo/lib/*:/usr/lib/hadoop/hadoop-aws.jar:/usr/share/aws/aws-java-sdk/*:/usr/share/aws/emr/emrfs/conf:/usr/share/aws/emr/emrfs/lib/*:/usr/share/aws/emr/emrfs/auxlib/*:/usr/share/aws/emr/goodies/lib/emr-spark-goodies.jar:/usr/share/aws/emr/security/conf:/usr/share/aws/emr/security/lib/*:/usr/share/aws/hmclient/lib/aws-glue-datacatalog-spark-client.jar:/usr/share/java/Hive-JSON-Serde/hive-openx-serde.jar:/usr/share/aws/sagemaker-spark-sdk/lib/sagemaker-spark-sdk.jar:/usr/share/aws/emr/s3select/lib/emr-s3-select-spark-connector.jar\n",
      "spark.driver.extraLibraryPath    /usr/lib/hadoop/lib/native:/usr/lib/hadoop-lzo/lib/native\n",
      "spark.executor.extraClassPath    /usr/lib/hadoop-lzo/lib/*:/usr/lib/hadoop/hadoop-aws.jar:/usr/share/aws/aws-java-sdk/*:/usr/share/aws/emr/emrfs/conf:/usr/share/aws/emr/emrfs/lib/*:/usr/share/aws/emr/emrfs/auxlib/*:/usr/share/aws/emr/goodies/lib/emr-spark-goodies.jar:/usr/share/aws/emr/security/conf:/usr/share/aws/emr/security/lib/*:/usr/share/aws/hmclient/lib/aws-glue-datacatalog-spark-client.jar:/usr/share/java/Hive-JSON-Serde/hive-openx-serde.jar:/usr/share/aws/sagemaker-spark-sdk/lib/sagemaker-spark-sdk.jar:/usr/share/aws/emr/s3select/lib/emr-s3-select-spark-connector.jar\n",
      "spark.executor.extraLibraryPath  /usr/lib/hadoop/lib/native:/usr/lib/hadoop-lzo/lib/native\n",
      "spark.driver.host=10.2.98.188\n",
      "spark.hadoop.mapreduce.fileoutputcommitter.algorithm.version=2\n",
      "# Fix for \"Uncaught exception: org.apache.spark.rpc.RpcTimeoutException: Cannot\n",
      "# receive any reply from 10.0.109.30:35219 in 120 seconds.\"\"\n",
      "spark.rpc.askTimeout=300s\n",
      "spark.network.timeout=600\n",
      "spark.sql.caseSensitive=true\n",
      "spark.executorEnv.AWS_DEFAULT_REGION=us-east-1\n",
      "spark.driver.memory 2048m\n",
      "spark.driver.memoryOverhead 204m\n",
      "spark.driver.defaultJavaOptions -XX:OnOutOfMemoryError='kill -9 %p' -XX:+UseConcMarkSweepGC -XX:CMSInitiatingOccupancyFraction=70 -XX:MaxHeapFreeRatio=70 -XX:+CMSClassUnloadingEnabled\n",
      "spark.executor.memory 26847m\n",
      "spark.executor.memoryOverhead 2684m\n",
      "spark.executor.cores 8\n",
      "spark.executor.defaultJavaOptions -verbose:gc -XX:OnOutOfMemoryError='kill -9 %p' -XX:+PrintGCDetails -XX:+PrintGCDateStamps -XX:+UseParallelGC -XX:InitiatingHeapOccupancyPercent=70 -XX:ConcGCThreads=2 -XX:ParallelGCThreads=6 \n",
      "spark.executor.instances 2\n",
      "spark.default.parallelism 32\n",
      "spark.yarn.appMasterEnv.AWS_REGION us-east-1\n",
      "spark.executorEnv.AWS_REGION us-east-1\n",
      "04-19 16:33 root         INFO     Finished Yarn configuration files setup.\n",
      "04-19 16:33 root         INFO     reading user configuration from /opt/ml/processing/input/conf/configuration.json\n",
      "04-19 16:33 root         INFO     User configuration list or dict: {'Classification': 'spark-defaults', 'Properties': {'spark.driver.memory': '28521m'}} , type <class 'dict'>\n",
      "04-19 16:33 root         INFO     Writing user config to /usr/lib/spark/conf/spark-defaults.conf\n",
      "04-19 16:33 root         INFO     Configuration at /usr/lib/spark/conf/spark-defaults.conf is: \n",
      "spark.driver.extraClassPath      /usr/lib/hadoop-lzo/lib/*:/usr/lib/hadoop/hadoop-aws.jar:/usr/share/aws/aws-java-sdk/*:/usr/share/aws/emr/emrfs/conf:/usr/share/aws/emr/emrfs/lib/*:/usr/share/aws/emr/emrfs/auxlib/*:/usr/share/aws/emr/goodies/lib/emr-spark-goodies.jar:/usr/share/aws/emr/security/conf:/usr/share/aws/emr/security/lib/*:/usr/share/aws/hmclient/lib/aws-glue-datacatalog-spark-client.jar:/usr/share/java/Hive-JSON-Serde/hive-openx-serde.jar:/usr/share/aws/sagemaker-spark-sdk/lib/sagemaker-spark-sdk.jar:/usr/share/aws/emr/s3select/lib/emr-s3-select-spark-connector.jar\n",
      "spark.driver.extraLibraryPath    /usr/lib/hadoop/lib/native:/usr/lib/hadoop-lzo/lib/native\n",
      "spark.executor.extraClassPath    /usr/lib/hadoop-lzo/lib/*:/usr/lib/hadoop/hadoop-aws.jar:/usr/share/aws/aws-java-sdk/*:/usr/share/aws/emr/emrfs/conf:/usr/share/aws/emr/emrfs/lib/*:/usr/share/aws/emr/emrfs/auxlib/*:/usr/share/aws/emr/goodies/lib/emr-spark-goodies.jar:/usr/share/aws/emr/security/conf:/usr/share/aws/emr/security/lib/*:/usr/share/aws/hmclient/lib/aws-glue-datacatalog-spark-client.jar:/usr/share/java/Hive-JSON-Serde/hive-openx-serde.jar:/usr/share/aws/sagemaker-spark-sdk/lib/sagemaker-spark-sdk.jar:/usr/share/aws/emr/s3select/lib/emr-s3-select-spark-connector.jar\n",
      "spark.executor.extraLibraryPath  /usr/lib/hadoop/lib/native:/usr/lib/hadoop-lzo/lib/native\n",
      "spark.driver.host=10.2.98.188\n",
      "spark.hadoop.mapreduce.fileoutputcommitter.algorithm.version=2\n",
      "# Fix for \"Uncaught exception: org.apache.spark.rpc.RpcTimeoutException: Cannot\n",
      "# receive any reply from 10.0.109.30:35219 in 120 seconds.\"\"\n",
      "spark.rpc.askTimeout=300s\n",
      "spark.network.timeout=600\n",
      "spark.sql.caseSensitive=true\n",
      "spark.executorEnv.AWS_DEFAULT_REGION=us-east-1\n",
      "spark.driver.memory 2048m\n",
      "spark.driver.memoryOverhead 204m\n",
      "spark.driver.defaultJavaOptions -XX:OnOutOfMemoryError='kill -9 %p' -XX:+UseConcMarkSweepGC -XX:CMSInitiatingOccupancyFraction=70 -XX:MaxHeapFreeRatio=70 -XX:+CMSClassUnloadingEnabled\n",
      "spark.executor.memory 26847m\n",
      "spark.executor.memoryOverhead 2684m\n",
      "spark.executor.cores 8\n",
      "spark.executor.defaultJavaOptions -verbose:gc -XX:OnOutOfMemoryError='kill -9 %p' -XX:+PrintGCDetails -XX:+PrintGCDateStamps -XX:+UseParallelGC -XX:InitiatingHeapOccupancyPercent=70 -XX:ConcGCThreads=2 -XX:ParallelGCThreads=6 \n",
      "spark.executor.instances 2\n",
      "spark.default.parallelism 32\n",
      "spark.yarn.appMasterEnv.AWS_REGION us-east-1\n",
      "spark.executorEnv.AWS_REGION us-east-1\n",
      "spark.driver.memory 28521m\n",
      "WARNING: /usr/lib/hadoop/logs does not exist. Creating.\n",
      "Formatting using clusterid: CID-4faa4623-5bba-4e89-b712-2f7255312b24\n",
      "2023-04-19 16:33:28,282 WARN org.apache.hadoop.yarn.server.nodemanager.containermanager.monitor.ContainersMonitorImpl: NodeManager configured with 31.0 G physical memory allocated to containers, which is more than 80% of the total physical memory available (30.9 G). Thrashing might happen.\n",
      "2023-04-19 16:33:28,606 WARN org.apache.hadoop.yarn.server.nodemanager.logaggregation.tracker.NMLogAggregationStatusTracker: Log Aggregation is disabled.So is the LogAggregationStatusTracker.\n",
      "2023-04-19 16:33:29,050 WARN org.eclipse.jetty.webapp.WebInfConfiguration: Can't generate resourceBase as part of webapp tmp dir name: java.lang.NullPointerException\n",
      "04-19 16:33 smspark-submit INFO     waiting for cluster to be up\n",
      "WARNING: YARN_LOG_DIR has been replaced by HADOOP_LOG_DIR. Using value of YARN_LOG_DIR.\n",
      "WARNING: YARN_LOG_DIR has been replaced by HADOOP_LOG_DIR. Using value of YARN_LOG_DIR.\n",
      "WARNING: /var/log/yarn/ does not exist. Creating.\n",
      "WARNING: /var/log/yarn/ does not exist. Creating.\n",
      "Apr 19, 2023 4:33:29 PM com.sun.jersey.guice.spi.container.GuiceComponentProviderFactory register\n",
      "INFO: Registering org.apache.hadoop.yarn.server.nodemanager.webapp.NMWebServices as a root resource class\n",
      "Apr 19, 2023 4:33:29 PM com.sun.jersey.guice.spi.container.GuiceComponentProviderFactory register\n",
      "INFO: Registering org.apache.hadoop.yarn.webapp.GenericExceptionHandler as a provider class\n",
      "Apr 19, 2023 4:33:29 PM com.sun.jersey.guice.spi.container.GuiceComponentProviderFactory register\n",
      "INFO: Registering org.apache.hadoop.yarn.server.nodemanager.webapp.JAXBContextResolver as a provider class\n",
      "Apr 19, 2023 4:33:29 PM com.sun.jersey.server.impl.application.WebApplicationImpl _initiate\n",
      "INFO: Initiating Jersey application, version 'Jersey: 1.19 02/11/2015 03:25 AM'\n",
      "Apr 19, 2023 4:33:29 PM com.sun.jersey.guice.spi.container.GuiceComponentProviderFactory getComponentProvider\n",
      "INFO: Binding org.apache.hadoop.yarn.server.nodemanager.webapp.JAXBContextResolver to GuiceManagedComponentProvider with the scope \"Singleton\"\n",
      "Apr 19, 2023 4:33:29 PM com.sun.jersey.guice.spi.container.GuiceComponentProviderFactory getComponentProvider\n",
      "INFO: Binding org.apache.hadoop.yarn.webapp.GenericExceptionHandler to GuiceManagedComponentProvider with the scope \"Singleton\"\n",
      "Apr 19, 2023 4:33:29 PM com.sun.jersey.guice.spi.container.GuiceComponentProviderFactory getComponentProvider\n",
      "INFO: Binding org.apache.hadoop.yarn.server.nodemanager.webapp.NMWebServices to GuiceManagedComponentProvider with the scope \"Singleton\"\n",
      "04-19 16:33 smspark-submit INFO     cluster is up\n",
      "04-19 16:33 smspark-submit INFO     transitioning from status BOOTSTRAPPING to WAITING\n",
      "04-19 16:33 smspark-submit INFO     starting executor logs watcher\n",
      "04-19 16:33 smspark-submit INFO     waiting for the primary to come up\n",
      "Starting executor logs watcher on log_dir: /var/log/yarn\n",
      "04-19 16:33 smspark-submit INFO     waiting for the primary to go down\n",
      "2023-04-19 16:33:30,296 WARN org.apache.hadoop.yarn.server.nodemanager.containermanager.monitor.ContainersMonitorImpl: NodeManager configured with 31.0 G physical memory allocated to containers, which is more than 80% of the total physical memory available (30.9 G). Thrashing might happen.\n",
      "2023-04-19 16:33:30,788 WARN org.apache.hadoop.yarn.server.nodemanager.logaggregation.tracker.NMLogAggregationStatusTracker: Log Aggregation is disabled.So is the LogAggregationStatusTracker.\n",
      "2023-04-19 16:33:30,845 WARN org.apache.hadoop.hdfs.server.namenode.FSNamesystem: Only one image storage directory (dfs.namenode.name.dir) configured. Beware of data loss due to lack of redundant storage directories!\n",
      "2023-04-19 16:33:30,845 WARN org.apache.hadoop.hdfs.server.namenode.FSNamesystem: Only one namespace edits storage directory (dfs.namenode.edits.dir) configured. Beware of data loss due to lack of redundant storage directories!\n",
      "2023-04-19 16:33:31,324 WARN org.eclipse.jetty.webapp.WebInfConfiguration: Can't generate resourceBase as part of webapp tmp dir name: java.lang.NullPointerException\n",
      "2023-04-19 16:33:31,479 WARN org.eclipse.jetty.webapp.WebInfConfiguration: Can't generate resourceBase as part of webapp tmp dir name: java.lang.NullPointerException\n",
      "Apr 19, 2023 4:33:31 PM com.sun.jersey.guice.spi.container.GuiceComponentProviderFactory register\n",
      "INFO: Registering org.apache.hadoop.yarn.server.resourcemanager.webapp.JAXBContextResolver as a provider class\n",
      "Apr 19, 2023 4:33:31 PM com.sun.jersey.guice.spi.container.GuiceComponentProviderFactory register\n",
      "INFO: Registering org.apache.hadoop.yarn.server.resourcemanager.webapp.RMWebServices as a root resource class\n",
      "Apr 19, 2023 4:33:31 PM com.sun.jersey.guice.spi.container.GuiceComponentProviderFactory register\n",
      "INFO: Registering org.apache.hadoop.yarn.webapp.GenericExceptionHandler as a provider class\n",
      "Apr 19, 2023 4:33:31 PM com.sun.jersey.server.impl.application.WebApplicationImpl _initiate\n",
      "INFO: Initiating Jersey application, version 'Jersey: 1.19 02/11/2015 03:25 AM'\n",
      "Apr 19, 2023 4:33:31 PM com.sun.jersey.guice.spi.container.GuiceComponentProviderFactory getComponentProvider\n",
      "INFO: Binding org.apache.hadoop.yarn.server.resourcemanager.webapp.JAXBContextResolver to GuiceManagedComponentProvider with the scope \"Singleton\"\n",
      "Apr 19, 2023 4:33:31 PM com.sun.jersey.guice.spi.container.GuiceComponentProviderFactory register\n",
      "INFO: Registering org.apache.hadoop.yarn.server.nodemanager.webapp.NMWebServices as a root resource class\n",
      "Apr 19, 2023 4:33:31 PM com.sun.jersey.guice.spi.container.GuiceComponentProviderFactory register\n",
      "INFO: Registering org.apache.hadoop.yarn.webapp.GenericExceptionHandler as a provider class\n",
      "Apr 19, 2023 4:33:31 PM com.sun.jersey.guice.spi.container.GuiceComponentProviderFactory register\n",
      "INFO: Registering org.apache.hadoop.yarn.server.nodemanager.webapp.JAXBContextResolver as a provider class\n",
      "Apr 19, 2023 4:33:31 PM com.sun.jersey.server.impl.application.WebApplicationImpl _initiate\n",
      "INFO: Initiating Jersey application, version 'Jersey: 1.19 02/11/2015 03:25 AM'\n",
      "Apr 19, 2023 4:33:31 PM com.sun.jersey.guice.spi.container.GuiceComponentProviderFactory getComponentProvider\n",
      "INFO: Binding org.apache.hadoop.yarn.server.nodemanager.webapp.JAXBContextResolver to GuiceManagedComponentProvider with the scope \"Singleton\"\n",
      "Apr 19, 2023 4:33:31 PM com.sun.jersey.guice.spi.container.GuiceComponentProviderFactory getComponentProvider\n",
      "INFO: Binding org.apache.hadoop.yarn.webapp.GenericExceptionHandler to GuiceManagedComponentProvider with the scope \"Singleton\"\n",
      "Apr 19, 2023 4:33:31 PM com.sun.jersey.guice.spi.container.GuiceComponentProviderFactory getComponentProvider\n",
      "INFO: Binding org.apache.hadoop.yarn.webapp.GenericExceptionHandler to GuiceManagedComponentProvider with the scope \"Singleton\"\n",
      "2023-04-19 16:33:32,715 WARN org.apache.hadoop.hdfs.server.datanode.DataNode: Problem connecting to server: algo-1/10.2.98.188:8020\n",
      "Apr 19, 2023 4:33:32 PM com.sun.jersey.guice.spi.container.GuiceComponentProviderFactory getComponentProvider\n",
      "INFO: Binding org.apache.hadoop.yarn.server.resourcemanager.webapp.RMWebServices to GuiceManagedComponentProvider with the scope \"Singleton\"\n",
      "Apr 19, 2023 4:33:32 PM com.sun.jersey.guice.spi.container.GuiceComponentProviderFactory getComponentProvider\n",
      "INFO: Binding org.apache.hadoop.yarn.server.nodemanager.webapp.NMWebServices to GuiceManagedComponentProvider with the scope \"Singleton\"\n",
      "2023-04-19 16:33:32,717 WARN org.apache.hadoop.hdfs.server.datanode.DataNode: Problem connecting to server: algo-1/10.2.98.188:8020\n",
      "04-19 16:33 smspark-submit INFO     cluster is up\n",
      "04-19 16:33 smspark-submit INFO     transitioning from status BOOTSTRAPPING to WAITING\n",
      "04-19 16:33 smspark-submit INFO     starting executor logs watcher\n",
      "04-19 16:33 smspark-submit INFO     start log event log publisher\n",
      "04-19 16:33 sagemaker-spark-event-logs-publisher INFO     Spark event log not enabled.\n",
      "Starting executor logs watcher on log_dir: /var/log/yarn\n",
      "04-19 16:33 smspark-submit INFO     Waiting for hosts to bootstrap: ['algo-1', 'algo-2']\n",
      "04-19 16:33 smspark-submit INFO     Received host statuses: dict_items([('algo-1', StatusMessage(status='WAITING', timestamp='2023-04-19T16:33:33.016854')), ('algo-2', StatusMessage(status='WAITING', timestamp='2023-04-19T16:33:33.019526'))])\n",
      "2023-04-19 16:33:38,105 INFO BlockStateChange: BLOCK* processReport 0xf2af4296c6dd50be: Processing first storage report for DS-bd36cf8c-1b73-459a-a8d9-ace696d654e1 from datanode f62e6e1c-eb99-48b6-ad6a-0578015dc1f6\n",
      "2023-04-19 16:33:38,106 INFO BlockStateChange: BLOCK* processReport 0xf2af4296c6dd50be: from storage DS-bd36cf8c-1b73-459a-a8d9-ace696d654e1 node DatanodeRegistration(10.2.84.54:9866, datanodeUuid=f62e6e1c-eb99-48b6-ad6a-0578015dc1f6, infoPort=9864, infoSecurePort=0, ipcPort=9867, storageInfo=lv=-57;cid=CID-4faa4623-5bba-4e89-b712-2f7255312b24;nsid=2104789948;c=1681922008554), blocks: 0, hasStaleStorage: false, processing time: 2 msecs, invalidatedBlocks: 0\n",
      "2023-04-19 16:33:38,118 INFO BlockStateChange: BLOCK* processReport 0xfefecd1fe1ae31dd: Processing first storage report for DS-0da25657-28f6-4323-982d-fc1cd6106772 from datanode d7017d06-c9c9-4cd4-b177-f9620cec19c4\n",
      "2023-04-19 16:33:38,118 INFO BlockStateChange: BLOCK* processReport 0xfefecd1fe1ae31dd: from storage DS-0da25657-28f6-4323-982d-fc1cd6106772 node DatanodeRegistration(10.2.98.188:9866, datanodeUuid=d7017d06-c9c9-4cd4-b177-f9620cec19c4, infoPort=9864, infoSecurePort=0, ipcPort=9867, storageInfo=lv=-57;cid=CID-4faa4623-5bba-4e89-b712-2f7255312b24;nsid=2104789948;c=1681922008554), blocks: 0, hasStaleStorage: false, processing time: 0 msecs, invalidatedBlocks: 0\n",
      "16:33:40.014 [Thread-6] WARN  org.apache.spark.deploy.yarn.Client - Neither spark.yarn.jars nor spark.yarn.archive is set, falling back to uploading libraries under SPARK_HOME.\n",
      "2023-04-19 16:33:50,055 WARN org.apache.hadoop.yarn.server.resourcemanager.rmapp.RMAppImpl: The specific max attempts: 0 for application: 1 is invalid, because it is out of the range [1, 1]. Use the global max attempts instead.\n",
      "2023-04-19 16:33:51,268 INFO SecurityLogger.org.apache.hadoop.ipc.Server: Auth successful for appattempt_1681922012927_0001_000001 (auth:SIMPLE)\n",
      "Handling create event for file: /var/log/yarn/userlogs/application_1681922012927_0001/container_1681922012927_0001_01_000001/prelaunch.out\n",
      "Handling create event for file: /var/log/yarn/userlogs/application_1681922012927_0001/container_1681922012927_0001_01_000001/prelaunch.err\n",
      "Handling create event for file: /var/log/yarn/userlogs/application_1681922012927_0001/container_1681922012927_0001_01_000001/launch_container.sh\n",
      "Handling create event for file: /var/log/yarn/userlogs/application_1681922012927_0001/container_1681922012927_0001_01_000001/directory.info\n",
      "Handling create event for file: /var/log/yarn/userlogs/application_1681922012927_0001/container_1681922012927_0001_01_000001/stdout\n",
      "Handling create event for file: /var/log/yarn/userlogs/application_1681922012927_0001/container_1681922012927_0001_01_000001/stderr\n",
      "[/var/log/yarn/userlogs/application_1681922012927_0001/container_1681922012927_0001_01_000001/directory.info] 1324433 7948 -r-x------   1 root     root      8135275 Apr 19 16:33 ./__spark_libs__/spark-sql_2.12-3.1.1-amzn-0.jar\n",
      "[/var/log/yarn/userlogs/application_1681922012927_0001/container_1681922012927_0001_01_000001/directory.info] 1324309 1456 -r-x------   1 root     root      1489507 Apr 19 16:33 ./__spark_libs__/netlib-native_ref-linux-i686-1.1-natives.jar\n",
      "[/var/log/yarn/userlogs/application_1681922012927_0001/container_1681922012927_0001_01_000001/directory.info] 1324508  232 -r-x------   1 root     root       233855 Apr 19 16:33 ./__spark_libs__/logback-classic-1.2.9.jar\n",
      "[/var/log/yarn/userlogs/application_1681922012927_0001/container_1681922012927_0001_01_000001/directory.info] 1324473  280 -r-x------   1 root     root       284220 Apr 19 16:33 ./__spark_libs__/commons-lang-2.6.jar\n",
      "[/var/log/yarn/userlogs/application_1681922012927_0001/container_1681922012927_0001_01_000001/directory.info] 1324449  532 -r-x------   1 root     root       542288 Apr 19 16:33 ./__spark_libs__/spark-hive-thriftserver_2.12-3.1.1-amzn-0.jar\n",
      "[/var/log/yarn/userlogs/application_1681922012927_0001/container_1681922012927_0001_01_000001/directory.info] 1324280   12 -r-x------   1 root     root         8685 Apr 19 16:33 ./__spark_libs__/jniloader-1.1.jar\n",
      "[/var/log/yarn/userlogs/application_1681922012927_0001/container_1681922012927_0001_01_000001/directory.info] 1324320  120 -r-x------   1 root     root       121048 Apr 19 16:33 ./__spark_libs__/hive-shims-common-2.3.7-amzn-4.jar\n",
      "[/var/log/yarn/userlogs/application_1681922012927_0001/container_1681922012927_0001_01_000001/directory.info] 1324364   44 -r-x------   1 root     root        43743 Apr 19 16:33 ./__spark_libs__/jackson-module-paranamer-2.10.5.jar\n",
      "[/var/log/yarn/userlogs/application_1681922012927_0001/container_1681922012927_0001_01_000001/directory.info] 1324306 1376 -r-x------   1 root     root      1404939 Apr 19 16:33 ./__spark_libs__/jackson-databind-2.10.5.jar\n",
      "[/var/log/yarn/userlogs/application_1681922012927_0001/container_1681922012927_0001_01_000001/directory.info] 1324270  304 -r-x------   1 root     root       309001 Apr 19 16:33 ./__spark_libs__/snakeyaml-1.26.jar\n",
      "[/var/log/yarn/userlogs/application_1681922012927_0001/container_1681922012927_0001_01_000001/directory.info] 1324339  384 -r-x------   1 root     root       392124 Apr 19 16:33 ./__spark_libs__/velocity-1.5.jar\n",
      "[/var/log/yarn/userlogs/application_1681922012927_0001/container_1681922012927_0001_01_000001/directory.info] 1324288    4 -r-x------   1 root     root         2497 Apr 19 16:33 ./__spark_libs__/javax.inject-1.jar\n",
      "[/var/log/yarn/userlogs/application_1681922012927_0001/container_1681922012927_0001_01_000001/directory.info] 1324322   24 -r-x------   1 root     root        23909 Apr 19 16:33 ./__spark_libs__/metrics-jvm-4.1.1.jar\n",
      "[/var/log/yarn/userlogs/application_1681922012927_0001/container_1681922012927_0001_01_000001/directory.info] 1324466 6012 -r-x------   1 root     root      6154474 Apr 19 16:33 ./__spark_libs__/spark-mllib_2.12-3.1.1-amzn-0.jar\n",
      "[/var/log/yarn/userlogs/application_1681922012927_0001/container_1681922012927_0001_01_000001/directory.info] 1324460  604 -r-x------   1 root     root       616888 Apr 19 16:33 ./__spark_libs__/commons-configuration2-2.1.1.jar\n",
      "[/var/log/yarn/userlogs/application_1681922012927_0001/container_1681922012927_0001_01_000001/directory.info] 1324496  132 -r-x------   1 root     root       132989 Apr 19 16:33 ./__spark_libs__/avro-ipc-1.8.2.jar\n",
      "[/var/log/yarn/userlogs/application_1681922012927_0001/container_1681922012927_0001_01_000001/directory.info] 1324331   84 -r-x------   1 root     root        85904 Apr 19 16:33 ./__spark_libs__/hadoop-mapreduce-client-jobclient-3.2.1-amzn-3.jar\n",
      "[/var/log/yarn/userlogs/application_1681922012927_0001/container_1681922012927_0001_01_000001/directory.info] 1324493 7020 -r-x------   1 root     root      7188024 Apr 19 16:33 ./__spark_libs__/spire_2.12-0.17.0-M1.jar\n",
      "[/var/log/yarn/userlogs/application_1681922012927_0001/container_1681922012927_0001_01_000001/directory.info] 1324486   60 -r-x------   1 root     root        58684 Apr 19 16:33 ./__spark_libs__/chill-java-0.9.5.jar\n",
      "[/var/log/yarn/userlogs/application_1681922012927_0001/container_1681922012927_0001_01_000001/directory.info] 1324349   68 -r-x------   1 root     root        68080 Apr 19 16:33 ./__spark_libs__/jackson-annotations-2.10.5.jar\n",
      "[/var/log/yarn/userlogs/application_1681922012927_0001/container_1681922012927_0001_01_000001/directory.info] 1324319  196 -r-x------   1 root     root       200223 Apr 19 16:33 ./__spark_libs__/hk2-api-2.6.1.jar\n",
      "[/var/log/yarn/userlogs/application_1681922012927_0001/container_1681922012927_0001_01_000001/directory.info] 1324468 10504 -r-x------   1 root     root     10752238 Apr 19 16:33 ./__spark_libs__/spark-core_2.12-3.1.1-amzn-0.jar\n",
      "[/var/log/yarn/userlogs/application_1681922012927_0001/container_1681922012927_0001_01_000001/directory.info] 1324229 13504 -r-x------   1 root     root     13826799 Apr 19 16:33 ./__spark_libs__/breeze_2.12-1.0.jar\n",
      "[/var/log/yarn/userlogs/application_1681922012927_0001/container_1681922012927_0001_01_000001/directory.info] 1324464 1988 -r-x------   1 root     root      2035066 Apr 19 16:33 ./__spark_libs__/commons-math3-3.4.1.jar\n",
      "[/var/log/yarn/userlogs/application_1681922012927_0001/container_1681922012927_0001_01_000001/directory.info] 1324362   28 -r-x------   1 root     root        27006 Apr 19 16:33 ./__spark_libs__/aopalliance-repackaged-2.6.1.jar\n",
      "[/var/log/yarn/userlogs/application_1681922012927_0001/container_1681922012927_0001_01_000001/directory.info] 1324492   36 -r-x------   1 root     root        33205 Apr 19 16:33 ./__spark_libs__/jackson-jaxrs-base-2.10.5.jar\n",
      "[/var/log/yarn/userlogs/application_1681922012927_0001/container_1681922012927_0001_01_000001/directory.info] 1324456 1924 -r-x------   1 root     root      1969177 Apr 19 16:33 ./__spark_libs__/snappy-java-1.1.8.2.jar\n",
      "[/var/log/yarn/userlogs/application_1681922012927_0001/container_1681922012927_0001_01_000001/directory.info] 1324431  220 -r-x------   1 root     root       222980 Apr 19 16:33 ./__spark_libs__/scala-parser-combinators_2.12-1.1.2.jar\n",
      "[/var/log/yarn/userlogs/application_1681922012927_0001/container_1681922012927_0001_01_000001/directory.info] 1324398  112 -r-x------   1 root     root       112235 Apr 19 16:33 ./__spark_libs__/scala-collection-compat_2.12-2.1.1.jar\n",
      "[/var/log/yarn/userlogs/application_1681922012927_0001/container_1681922012927_0001_01_000001/directory.info] 1324471    4 -r-x------   1 root     root         3180 Apr 19 16:33 ./__spark_libs__/macro-compat_2.12-1.1.1.jar\n",
      "[/var/log/yarn/userlogs/application_1681922012927_0001/container_1681922012927_0001_01_000001/directory.info] 1324300   56 -r-x------   1 root     root        56951 Apr 19 16:33 ./__spark_libs__/hive-shims-0.23-2.3.7-amzn-4.jar\n",
      "[/var/log/yarn/userlogs/application_1681922012927_0001/container_1681922012927_0001_01_000001/directory.info] 1324477   20 -r-x------   1 root     root        18140 Apr 19 16:33 ./__spark_libs__/jakarta.inject-2.6.1.jar\n",
      "[/var/log/yarn/userlogs/application_1681922012927_0001/container_1681922012927_0001_01_000001/directory.info] 1324308 3216 -r-x------   1 root     root      3290504 Apr 19 16:33 ./__spark_libs__/hadoop-yarn-api-3.2.1-amzn-3.jar\n",
      "[/var/log/yarn/userlogs/application_1681922012927_0001/container_1681922012927_0001_01_000001/directory.info] 1324266  760 -r-x------   1 root     root       774384 Apr 19 16:33 ./__spark_libs__/httpclient-4.5.9.jar\n",
      "[/var/log/yarn/userlogs/application_1681922012927_0001/container_1681922012927_0001_01_000001/directory.info] 1324489  264 -r-x------   1 root     root       268780 Apr 19 16:33 ./__spark_libs__/jline-2.14.6.jar\n",
      "[/var/log/yarn/userlogs/application_1681922012927_0001/container_1681922012927_0001_01_000001/directory.info] 1324341  796 -r-x------   1 root     root       814000 Apr 19 16:33 ./__spark_libs__/orc-core-1.5.12.jar\n",
      "[/var/log/yarn/userlogs/application_1681922012927_0001/container_1681922012927_0001_01_000001/directory.info] 1324243  100 -r-x------   1 root     root       100636 Apr 19 16:33 ./__spark_libs__/jsp-api-2.1.jar\n",
      "[/var/log/yarn/userlogs/application_1681922012927_0001/container_1681922012927_0001_01_000001/directory.info] 1324512  492 -r-x------   1 root     root       501704 Apr 19 16:33 ./__spark_libs__/hadoop-aws-3.2.1-amzn-3.jar\n",
      "[/var/log/yarn/userlogs/application_1681922012927_0001/container_1681922012927_0001_01_000001/directory.info] 1324461 1972 -r-x------   1 root     root      2016766 Apr 19 16:33 ./__spark_libs__/datanucleus-core-4.1.17.jar\n",
      "[/var/log/yarn/userlogs/application_1681922012927_0001/container_1681922012927_0001_01_000001/directory.info] 1324286  656 -r-x------   1 root     root       668235 Apr 19 16:33 ./__spark_libs__/guice-4.0.jar\n",
      "[/var/log/yarn/userlogs/application_1681922012927_0001/container_1681922012927_0001_01_000001/directory.info] 1324422 1480 -r-x------   1 root     root      1515244 Apr 19 16:33 ./__spark_libs__/zookeeper-3.4.14.jar\n",
      "[/var/log/yarn/userlogs/application_1681922012927_0001/container_1681922012927_0001_01_000001/directory.info] 1324232   64 -r-x------   1 root     root        65464 Apr 19 16:33 ./__spark_libs__/kerb-common-1.0.1.jar\n",
      "[/var/log/yarn/userlogs/application_1681922012927_0001/container_1681922012927_0001_01_000001/directory.info] 1324226   72 -r-x------   1 root     root        73349 Apr 19 16:33 ./__spark_libs__/jersey-container-servlet-core-2.30.jar\n",
      "[/var/log/yarn/userlogs/application_1681922012927_0001/container_1681922012927_0001_01_000001/directory.info] 1324510  444 -r-x------   1 root     root       454201 Apr 19 16:33 ./__spark_libs__/logback-core-1.2.9.jar\n",
      "[/var/log/yarn/userlogs/application_1681922012927_0001/container_1681922012927_0001_01_000001/directory.info] 1324407   84 -r-x------   1 root     root        85865 Apr 19 16:33 ./__spark_libs__/json4s-ast_2.12-3.7.0-M5.jar\n",
      "[/var/log/yarn/userlogs/application_1681922012927_0001/container_1681922012927_0001_01_000001/directory.info] 1324301  284 -r-x------   1 root     root       290168 Apr 19 16:33 ./__spark_libs__/parquet-hadoop-1.10.1-spark-amzn-4.jar\n",
      "[/var/log/yarn/userlogs/application_1681922012927_0001/container_1681922012927_0001_01_000001/directory.info] 1324303  200 -r-x------   1 root     root       201965 Apr 19 16:33 ./__spark_libs__/curator-framework-2.13.0.jar\n",
      "[/var/log/yarn/userlogs/application_1681922012927_0001/container_1681922012927_0001_01_000001/directory.info] 1324258  296 -r-x------   1 root     root       299508 Apr 19 16:33 ./__spark_libs__/nimbus-jose-jwt-4.41.1.jar\n",
      "[/var/log/yarn/userlogs/application_1681922012927_0001/container_1681922012927_0001_01_000001/directory.info] 1324323  160 -r-x------   1 root     root       161867 Apr 19 16:33 ./__spark_libs__/stax2-api-3.1.4.jar\n",
      "[/var/log/yarn/userlogs/application_1681922012927_0001/container_1681922012927_0001_01_000001/directory.info] 1324342   36 -r-x------   1 root     root        34654 Apr 19 16:33 ./__spark_libs__/paranamer-2.8.jar\n",
      "[/var/log/yarn/userlogs/application_1681922012927_0001/container_1681922012927_0001_01_000001/directory.info] 1324445 2368 -r-x------   1 root     root      2423157 Apr 19 16:33 ./__spark_libs__/curator-client-2.13.0.jar\n",
      "[/var/log/yarn/userlogs/application_1681922012927_0001/container_1681922012927_0001_01_000001/directory.info] 1324231 2140 -r-x------   1 root     root      2189117 Apr 19 16:33 ./__spark_libs__/guava-14.0.1.jar\n",
      "[/var/log/yarn/userlogs/application_1681922012927_0001/container_1681922012927_0001_01_000001/directory.info] 1324337  280 -r-x------   1 root     root       284184 Apr 19 16:33 ./__spark_libs__/commons-codec-1.10.jar\n",
      "[/var/log/yarn/userlogs/application_1681922012927_0001/container_1681922012927_0001_01_000001/directory.info] 1324289   72 -r-x------   1 root     root        72668 Apr 19 16:33 ./__spark_libs__/arrow-format-2.0.0.jar\n",
      "[/var/log/yarn/userlogs/application_1681922012927_0001/container_1681922012927_0001_01_000001/directory.info] 1324434  504 -r-x------   1 root     root       512151 Apr 19 16:33 ./__spark_libs__/json4s-core_2.12-3.7.0-M5.jar\n",
      "[/var/log/yarn/userlogs/application_1681922012927_0001/container_1681922012927_0001_01_000001/directory.info] 1324401 1180 -r-x------   1 root     root      1208080 Apr 19 16:33 ./__spark_libs__/netlib-native_ref-linux-armhf-1.1-natives.jar\n",
      "[/var/log/yarn/userlogs/application_1681922012927_0001/container_1681922012927_0001_01_000001/directory.info] 1324435   36 -r-x------   1 root     root        34998 Apr 19 16:33 ./__spark_libs__/jackson-module-jaxb-annotations-2.10.5.jar\n",
      "[/var/log/yarn/userlogs/application_1681922012927_0001/container_1681922012927_0001_01_000001/directory.info] 1324240   28 -r-x------   1 root     root        26514 Apr 19 16:33 ./__spark_libs__/stax-api-1.0.1.jar\n",
      "[/var/log/yarn/userlogs/application_1681922012927_0001/container_1681922012927_0001_01_000001/directory.info] 1324234  120 -r-x------   1 root     root       120316 Apr 19 16:33 ./__spark_libs__/json-smart-2.3.jar\n",
      "[/var/log/yarn/userlogs/application_1681922012927_0001/container_1681922012927_0001_01_000001/directory.info] 1324302  624 -r-x------   1 root     root       637428 Apr 19 16:33 ./__spark_libs__/netlib-native_system-win-x86_64-1.1-natives.jar\n",
      "[/var/log/yarn/userlogs/application_1681922012927_0001/container_1681922012927_0001_01_000001/directory.info] 1324391   12 -r-x------   1 root     root        12131 Apr 19 16:33 ./__spark_libs__/jpam-1.1.jar\n",
      "[/var/log/yarn/userlogs/application_1681922012927_0001/container_1681922012927_0001_01_000001/directory.info] 1324248  188 -r-x------   1 root     root       190432 Apr 19 16:33 ./__spark_libs__/gson-2.2.4.jar\n",
      "[/var/log/yarn/userlogs/application_1681922012927_0001/container_1681922012927_0001_01_000001/directory.info] 1324257  360 -r-x------   1 root     root       366748 Apr 19 16:33 ./__spark_libs__/datanucleus-api-jdo-4.2.4.jar\n",
      "[/var/log/yarn/userlogs/application_1681922012927_0001/container_1681922012927_0001_01_000001/directory.info] 1324467  388 -r-x------   1 root     root       395195 Apr 19 16:33 ./__spark_libs__/javolution-5.5.1.jar\n",
      "[/var/log/yarn/userlogs/application_1681922012927_0001/container_1681922012927_0001_01_000001/directory.info] 1324385   20 -r-x------   1 root     root        20409 Apr 19 16:33 ./__spark_libs__/kerb-simplekdc-1.0.1.jar\n",
      "[/var/log/yarn/userlogs/application_1681922012927_0001/container_1681922012927_0001_01_000001/directory.info] 1324307  620 -r-x------   1 root     root       632424 Apr 19 16:33 ./__spark_libs__/commons-compress-1.20.jar\n",
      "[/var/log/yarn/userlogs/application_1681922012927_0001/container_1681922012927_0001_01_000001/directory.info] 1324389 1644 -r-x------   1 root     root      1679364 Apr 19 16:33 ./__spark_libs__/hive-service-rpc-3.1.2.jar\n",
      "[/var/log/yarn/userlogs/application_1681922012927_0001/container_1681922012927_0001_01_000001/directory.info] 1324317 1256 -r-x------   1 root     root      1282424 Apr 19 16:33 ./__spark_libs__/ivy-2.4.0.jar\n",
      "[/var/log/yarn/userlogs/application_1681922012927_0001/container_1681922012927_0001_01_000001/directory.info] 1324470   20 -r-x------   1 root     root        16537 Apr 19 16:33 ./__spark_libs__/jcl-over-slf4j-1.7.30.jar\n",
      "[/var/log/yarn/userlogs/application_1681922012927_0001/container_1681922012927_0001_01_000001/directory.info] 1324487    8 -r-x------   1 root     root         4467 Apr 19 16:33 ./__spark_libs__/aopalliance-1.0.jar\n",
      "[/var/log/yarn/userlogs/application_1681922012927_0001/container_1681922012927_0001_01_000001/directory.info] 1324494   16 -r-x------   1 root     root        15562 Apr 19 16:33 ./__spark_libs__/jackson-jaxrs-json-provider-2.10.5.jar\n",
      "[/var/log/yarn/userlogs/application_1681922012927_0001/container_1681922012927_0001_01_000001/directory.info] 1324507 211800 -r-x------   1 root     root     216879203 Apr 19 16:33 ./__spark_libs__/aws-java-sdk-bundle-1.11.977.jar\n",
      "[/var/log/yarn/userlogs/application_1681922012927_0001/container_1681922012927_0001_01_000001/directory.info] 1324305  908 -r-x------   1 root     root       927721 Apr 19 16:33 ./__spark_libs__/jersey-server-2.30.jar\n",
      "[/var/log/yarn/userlogs/application_1681922012927_0001/container_1681922012927_0001_01_000001/directory.info] 1324269  128 -r-x------   1 root     root       127223 Apr 19 16:33 ./__spark_libs__/remotetea-oncrpc-1.1.2.jar\n",
      "[/var/log/yarn/userlogs/application_1681922012927_0001/container_1681922012927_0001_01_000001/directory.info] 1324418  244 -r-x------   1 root     root       246918 Apr 19 16:33 ./__spark_libs__/commons-beanutils-1.9.4.jar\n",
      "[/var/log/yarn/userlogs/application_1681922012927_0001/container_1681922012927_0001_01_000001/directory.info] 1324352   72 -r-x------   1 root     root        71626 Apr 19 16:33 ./__spark_libs__/commons-compiler-3.0.16.jar\n",
      "[/var/log/yarn/userlogs/application_1681922012927_0001/container_1681922012927_0001_01_000001/directory.info] 1324334 1364 -r-x------   1 root     root      1393617 Apr 19 16:33 ./__spark_libs__/hadoop-yarn-server-common-3.2.1-amzn-3.jar\n",
      "[/var/log/yarn/userlogs/application_1681922012927_0001/container_1681922012927_0001_01_000001/directory.info] 1324395   36 -r-x------   1 root     root        34392 Apr 19 16:33 ./__spark_libs__/jetty-rewrite-9.3.27.v20190418.jar\n",
      "[/var/log/yarn/userlogs/application_1681922012927_0001/container_1681922012927_0001_01_000001/directory.info] 1324343 1672 -r-x------   1 root     root      1711185 Apr 19 16:33 ./__spark_libs__/arrow-vector-2.0.0.jar\n",
      "[/var/log/yarn/userlogs/application_1681922012927_0001/container_1681922012927_0001_01_000001/directory.info] 1324237  128 -r-x------   1 root     root       128414 Apr 19 16:33 ./__spark_libs__/re2j-1.1.jar\n",
      "[/var/log/yarn/userlogs/application_1681922012927_0001/container_1681922012927_0001_01_000001/directory.info] 1324465   36 -r-x------   1 root     root        35943 Apr 19 16:33 ./__spark_libs__/json4s-jackson_2.12-3.7.0-M5.jar\n",
      "[/var/log/yarn/userlogs/application_1681922012927_0001/container_1681922012927_0001_01_000001/directory.info] 1324279  100 -r-x------   1 root     root       102174 Apr 19 16:33 ./__spark_libs__/kerby-asn1-1.0.1.jar\n",
      "[/var/log/yarn/userlogs/application_1681922012927_0001/container_1681922012927_0001_01_000001/directory.info] 1324440 2348 -r-x------   1 root     root      2400610 Apr 19 16:33 ./__spark_libs__/spark-network-common_2.12-3.1.1-amzn-0.jar\n",
      "[/var/log/yarn/userlogs/application_1681922012927_0001/container_1681922012927_0001_01_000001/directory.info] 1324316 1524 -r-x------   1 root     root      1556863 Apr 19 16:33 ./__spark_libs__/avro-1.8.2.jar\n",
      "[/var/log/yarn/userlogs/application_1681922012927_0001/container_1681922012927_0001_01_000001/directory.info] 1324448   96 -r-x------   1 root     root        95171 Apr 19 16:33 ./__spark_libs__/parquet-common-1.10.1-spark-amzn-4.jar\n",
      "[/var/log/yarn/userlogs/application_1681922012927_0001/container_1681922012927_0001_01_000001/directory.info] 1324239 1712 -r-x------   1 root     root      1749371 Apr 19 16:33 ./__spark_libs__/netlib-native_ref-linux-x86_64-1.1-natives.jar\n",
      "[/var/log/yarn/userlogs/application_1681922012927_0001/container_1681922012927_0001_01_000001/directory.info] 1324488 1468 -r-x------   1 root     root      1502280 Apr 19 16:33 ./__spark_libs__/htrace-core4-4.1.0-incubating.jar\n",
      "[/var/log/yarn/userlogs/application_1681922012927_0001/container_1681922012927_0001_01_000001/directory.info] 1324368  504 -r-x------   1 root     root       512742 Apr 19 16:33 ./__spark_libs__/woodstox-core-5.0.3.jar\n",
      "[/var/log/yarn/userlogs/application_1681922012927_0001/container_1681922012927_0001_01_000001/directory.info] 1324329   92 -r-x------   1 root     root        91930 Apr 19 16:33 ./__spark_libs__/jakarta.validation-api-2.0.2.jar\n",
      "[/var/log/yarn/userlogs/application_1681922012927_0001/container_1681922012927_0001_01_000001/directory.info] 1324441  440 -r-x------   1 root     root       447005 Apr 19 16:33 ./__spark_libs__/univocity-parsers-2.9.1.jar\n",
      "[/var/log/yarn/userlogs/application_1681922012927_0001/container_1681922012927_0001_01_000001/directory.info] 1324428  764 -r-x------   1 root     root       780664 Apr 19 16:33 ./__spark_libs__/jackson-mapper-asl-1.9.13.jar\n",
      "[/var/log/yarn/userlogs/application_1681922012927_0001/container_1681922012927_0001_01_000001/directory.info] 1324501  152 -r-x------   1 root     root       153385 Apr 19 16:33 ./__spark_libs__/aws-glue-datacatalog-spark-client.jar\n",
      "[/var/log/yarn/userlogs/application_1681922012927_0001/container_1681922012927_0001_01_000001/directory.info] 1324344   20 -r-x------   1 root     root        19479 Apr 19 16:33 ./__spark_libs__/osgi-resource-locator-1.0.3.jar\n",
      "[/var/log/yarn/userlogs/application_1681922012927_0001/container_1681922012927_0001_01_000001/directory.info] 1324410  780 -r-x------   1 root     root       796532 Apr 19 16:33 ./__spark_libs__/bcpkix-jdk15on-1.60.jar\n",
      "[/var/log/yarn/userlogs/application_1681922012927_0001/container_1681922012927_0001_01_000001/directory.info] 1324437   16 -r-x------   1 root     root        15935 Apr 19 16:33 ./__spark_libs__/dropwizard-metrics-hadoop-metrics2-reporter-0.1.2.jar\n",
      "[/var/log/yarn/userlogs/application_1681922012927_0001/container_1681922012927_0001_01_000001/directory.info] 1324482 1140 -r-x------   1 root     root      1166647 Apr 19 16:33 ./__spark_libs__/jersey-common-2.30.jar\n",
      "[/var/log/yarn/userlogs/application_1681922012927_0001/container_1681922012927_0001_01_000001/directory.info] 1324469  244 -r-x------   1 root     root       246445 Apr 19 16:33 ./__spark_libs__/libthrift-0.12.0.jar\n",
      "[/var/log/yarn/userlogs/application_1681922012927_0001/container_1681922012927_0001_01_000001/directory.info] 1324480   20 -r-x------   1 root     root        18763 Apr 19 16:33 ./__spark_libs__/token-provider-1.0.1.jar\n",
      "[/var/log/yarn/userlogs/application_1681922012927_0001/container_1681922012927_0001_01_000001/directory.info] 1324457   40 -r-x------   1 root     root        39931 Apr 19 16:33 ./__spark_libs__/arrow-memory-netty-2.0.0.jar\n",
      "[/var/log/yarn/userlogs/application_1681922012927_0001/container_1681922012927_0001_01_000001/directory.info] 1324384   56 -r-x------   1 root     root        55684 Apr 19 16:33 ./__spark_libs__/objenesis-2.6.jar\n",
      "[/var/log/yarn/userlogs/application_1681922012927_0001/container_1681922012927_0001_01_000001/directory.info] 1324462  176 -r-x------   1 root     root       178149 Apr 19 16:33 ./__spark_libs__/stream-2.9.6.jar\n",
      "[/var/log/yarn/userlogs/application_1681922012927_0001/container_1681922012927_0001_01_000001/directory.info] 1324478  184 -r-x------   1 root     root       187052 Apr 19 16:33 ./__spark_libs__/avro-mapred-1.8.2-hadoop2.jar\n",
      "[/var/log/yarn/userlogs/application_1681922012927_0001/container_1681922012927_0001_01_000001/directory.info] 1324295   40 -r-x------   1 root     root        40554 Apr 19 16:33 ./__spark_libs__/kerby-util-1.0.1.jar\n",
      "[/var/log/yarn/userlogs/application_1681922012927_0001/container_1681922012927_0001_01_000001/directory.info] 1324383  708 -r-x------   1 root     root       723203 Apr 19 16:33 ./__spark_libs__/parquet-format-2.4.0.jar\n",
      "[/var/log/yarn/userlogs/application_1681922012927_0001/container_1681922012927_0001_01_000001/directory.info] 1324447  320 -r-x------   1 root     root       326874 Apr 19 16:33 ./__spark_libs__/httpcore-4.4.11.jar\n",
      "[/var/log/yarn/userlogs/application_1681922012927_0001/container_1681922012927_0001_01_000001/directory.info] 1324271  232 -r-x------   1 root     root       236672 Apr 19 16:33 ./__spark_libs__/hive-storage-api-2.7.2.jar\n",
      "[/var/log/yarn/userlogs/application_1681922012927_0001/container_1681922012927_0001_01_000001/directory.info] 1324369 1688 -r-x------   1 root     root      1726527 Apr 19 16:33 ./__spark_libs__/ehcache-3.3.1.jar\n",
      "[/var/log/yarn/userlogs/application_1681922012927_0001/container_1681922012927_0001_01_000001/directory.info] 1324355  992 -r-x------   1 root     root      1013367 Apr 19 16:33 ./__spark_libs__/jaxb-runtime-2.3.2.jar\n",
      "[/var/log/yarn/userlogs/application_1681922012927_0001/container_1681922012927_0001_01_000001/directory.info] 1324351  228 -r-x------   1 root     root       232470 Apr 19 16:33 ./__spark_libs__/JLargeArrays-1.5.jar\n",
      "[/var/log/yarn/userlogs/application_1681922012927_0001/container_1681922012927_0001_01_000001/directory.info] 1324430 1076 -r-x------   1 root     root      1098935 Apr 19 16:33 ./__spark_libs__/parquet-column-1.10.1-spark-amzn-4.jar\n",
      "[/var/log/yarn/userlogs/application_1681922012927_0001/container_1681922012927_0001_01_000001/directory.info] 1324412   84 -r-x------   1 root     root        85756 Apr 19 16:33 ./__spark_libs__/okio-1.14.0.jar\n",
      "[/var/log/yarn/userlogs/application_1681922012927_0001/container_1681922012927_0001_01_000001/directory.info] 1324254 3152 -r-x------   1 root     root      3224708 Apr 19 16:33 ./__spark_libs__/derby-10.12.1.1.jar\n",
      "[/var/log/yarn/userlogs/application_1681922012927_0001/container_1681922012927_0001_01_000001/directory.info] 1324298   16 -r-x------   1 root     root        15071 Apr 19 16:33 ./__spark_libs__/transaction-api-1.1.jar\n",
      "[/var/log/yarn/userlogs/application_1681922012927_0001/container_1681922012927_0001_01_000001/directory.info] 1324345  336 -r-x------   1 root     root       342143 Apr 19 16:33 ./__spark_libs__/jackson-module-scala_2.12-2.10.5.jar\n",
      "[/var/log/yarn/userlogs/application_1681922012927_0001/container_1681922012927_0001_01_000001/directory.info] 1324490   28 -r-x------   1 root     root        27755 Apr 19 16:33 ./__spark_libs__/orc-shims-1.5.12.jar\n",
      "[/var/log/yarn/userlogs/application_1681922012927_0001/container_1681922012927_0001_01_000001/directory.info] 1324392  104 -r-x------   1 root     root       105365 Apr 19 16:33 ./__spark_libs__/metrics-core-4.1.1.jar\n",
      "[/var/log/yarn/userlogs/application_1681922012927_0001/container_1681922012927_0001_01_000001/directory.info] 1324299  164 -r-x------   1 root     root       166244 Apr 19 16:33 ./__spark_libs__/commons-crypto-1.1.0.jar\n",
      "[/var/log/yarn/userlogs/application_1681922012927_0001/container_1681922012927_0001_01_000001/directory.info] 1324304  160 -r-x------   1 root     root       160519 Apr 19 16:33 ./__spark_libs__/commons-dbcp-1.4.jar\n",
      "[/var/log/yarn/userlogs/application_1681922012927_0001/container_1681922012927_0001_01_000001/directory.info] 1324451  900 -r-x------   1 root     root       919285 Apr 19 16:33 ./__spark_libs__/hive-serde-2.3.7-amzn-4.jar\n",
      "[/var/log/yarn/userlogs/application_1681922012927_0001/container_1681922012927_0001_01_000001/directory.info] 1324420  176 -r-x------   1 root     root       176285 Apr 19 16:33 ./__spark_libs__/automaton-1.11-8.jar\n",
      "[/var/log/yarn/userlogs/application_1681922012927_0001/container_1681922012927_0001_01_000001/directory.info] 1324255   80 -r-x------   1 root     root        80980 Apr 19 16:33 ./__spark_libs__/kerb-admin-1.0.1.jar\n",
      "[/var/log/yarn/userlogs/application_1681922012927_0001/container_1681922012927_0001_01_000001/directory.info] 1324425   44 -r-x------   1 root     root        44513 Apr 19 16:33 ./__spark_libs__/gmetric4j-1.0.10.jar\n",
      "[/var/log/yarn/userlogs/application_1681922012927_0001/container_1681922012927_0001_01_000001/directory.info] 1324421  320 -r-x------   1 root     root       327605 Apr 19 16:33 ./__spark_libs__/hive-llap-common-2.3.7-amzn-4.jar\n",
      "[/var/log/yarn/userlogs/application_1681922012927_0001/container_1681922012927_0001_01_000001/directory.info] 1324267   24 -r-x------   1 root     root        20889 Apr 19 16:33 ./__spark_libs__/metrics-jmx-4.1.1.jar\n",
      "[/var/log/yarn/userlogs/application_1681922012927_0001/container_1681922012927_0001_01_000001/directory.info] 1324340 1144 -r-x------   1 root     root      1168113 Apr 19 16:33 ./__spark_libs__/algebra_2.12-2.0.0-M2.jar\n",
      "[/var/log/yarn/userlogs/application_1681922012927_0001/container_1681922012927_0001_01_000001/directory.info] 1324274 3152 -r-x------   1 root     root      3226851 Apr 19 16:33 ./__spark_libs__/cats-kernel_2.12-2.0.0-M4.jar\n",
      "[/var/log/yarn/userlogs/application_1681922012927_0001/container_1681922012927_0001_01_000001/directory.info] 1324326  420 -r-x------   1 root     root       427780 Apr 19 16:33 ./__spark_libs__/jodd-core-3.5.2.jar\n",
      "[/var/log/yarn/userlogs/application_1681922012927_0001/container_1681922012927_0001_01_000001/directory.info] 1324419  232 -r-x------   1 root     root       236660 Apr 19 16:33 ./__spark_libs__/ST4-4.0.4.jar\n",
      "[/var/log/yarn/userlogs/application_1681922012927_0001/container_1681922012927_0001_01_000001/directory.info] 1324283  544 -r-x------   1 root     root       556575 Apr 19 16:33 ./__spark_libs__/scala-xml_2.12-1.2.0.jar\n",
      "[/var/log/yarn/userlogs/application_1681922012927_0001/container_1681922012927_0001_01_000001/directory.info] 1324273   52 -r-x------   1 root     root        52877 Apr 19 16:33 ./__spark_libs__/spark-repl_2.12-3.1.1-amzn-0.jar\n",
      "[/var/log/yarn/userlogs/application_1681922012927_0001/container_1681922012927_0001_01_000001/directory.info] 1324399  224 -r-x------   1 root     root       226000 Apr 19 16:33 ./__spark_libs__/hadoop-yarn-registry-3.2.1-amzn-3.jar\n",
      "[/var/log/yarn/userlogs/application_1681922012927_0001/container_1681922012927_0001_01_000001/directory.info] 1324404  124 -r-x------   1 root     root       123052 Apr 19 16:33 ./__spark_libs__/py4j-0.10.9.jar\n",
      "[/var/log/yarn/userlogs/application_1681922012927_0001/container_1681922012927_0001_01_000001/directory.info] 1324236  688 -r-x------   1 root     root       703130 Apr 19 16:33 ./__spark_libs__/spark-hive_2.12-3.1.1-amzn-0.jar\n",
      "[/var/log/yarn/userlogs/application_1681922012927_0001/container_1681922012927_0001_01_000001/directory.info] 1324500  116 -r-x------   1 root     root       115371 Apr 19 16:33 ./__spark_libs__/spark-mllib-local_2.12-3.1.1-amzn-0.jar\n",
      "[/var/log/yarn/userlogs/application_1681922012927_0001/container_1681922012927_0001_01_000001/directory.info] 1324403   12 -r-x------   1 root     root        10486 Apr 19 16:33 ./__spark_libs__/hive-shims-2.3.7-amzn-4.jar\n",
      "[/var/log/yarn/userlogs/application_1681922012927_0001/container_1681922012927_0001_01_000001/directory.info] 1324228   16 -r-x------   1 root     root        12483 Apr 19 16:33 ./__spark_libs__/logging-interceptor-3.12.12.jar\n",
      "[/var/log/yarn/userlogs/application_1681922012927_0001/container_1681922012927_0001_01_000001/directory.info] 1324458  100 -r-x------   1 root     root        99555 Apr 19 16:33 ./__spark_libs__/xz-1.5.jar\n",
      "[/var/log/yarn/userlogs/application_1681922012927_0001/container_1681922012927_0001_01_000001/directory.info] 1324454  116 -r-x------   1 root     root       117920 Apr 19 16:33 ./__spark_libs__/hive-jdbc-2.3.7-amzn-4.jar\n",
      "[/var/log/yarn/userlogs/application_1681922012927_0001/container_1681922012927_0001_01_000001/directory.info] 1324443   48 -r-x------   1 root     root        48202 Apr 19 16:33 ./__spark_libs__/orc-mapreduce-1.5.12.jar\n",
      "[/var/log/yarn/userlogs/application_1681922012927_0001/container_1681922012927_0001_01_000001/directory.info] 1324424  204 -r-x------   1 root     root       208700 Apr 19 16:33 ./__spark_libs__/commons-io-2.5.jar\n",
      "[/var/log/yarn/userlogs/application_1681922012927_0001/container_1681922012927_0001_01_000001/directory.info] 1324346 1632 -r-x------   1 root     root      1669989 Apr 19 16:33 ./__spark_libs__/hadoop-mapreduce-client-core-3.2.1-amzn-3.jar\n",
      "[/var/log/yarn/userlogs/application_1681922012927_0001/container_1681922012927_0001_01_000001/directory.info] 1324485  432 -r-x------   1 root     root       439465 Apr 19 16:33 ./__spark_libs__/hive-common-2.3.7-amzn-4.jar\n",
      "[/var/log/yarn/userlogs/application_1681922012927_0001/container_1681922012927_0001_01_000001/directory.info] 1324284  132 -r-x------   1 root     root       134696 Apr 19 16:33 ./__spark_libs__/breeze-macros_2.12-1.0.jar\n",
      "[/var/log/yarn/userlogs/application_1681922012927_0001/container_1681922012927_0001_01_000001/directory.info] 1324332   84 -r-x------   1 root     root        82872 Apr 19 16:33 ./__spark_libs__/jakarta.servlet-api-4.0.3.jar\n",
      "[/var/log/yarn/userlogs/application_1681922012927_0001/container_1681922012927_0001_01_000001/directory.info] 1324382  112 -r-x------   1 root     root       111007 Apr 19 16:33 ./__spark_libs__/jackson-datatype-jsr310-2.11.2.jar\n",
      "[/var/log/yarn/userlogs/application_1681922012927_0001/container_1681922012927_0001_01_000001/directory.info] 1324336 1152 -r-x------   1 root     root      1175798 Apr 19 16:33 ./__spark_libs__/JTransforms-3.1.jar\n",
      "[/var/log/yarn/userlogs/application_1681922012927_0001/container_1681922012927_0001_01_000001/directory.info] 1324409    8 -r-x------   1 root     root         4592 Apr 19 16:33 ./__spark_libs__/jul-to-slf4j-1.7.30.jar\n",
      "[/var/log/yarn/userlogs/application_1681922012927_0001/container_1681922012927_0001_01_000001/directory.info] 1324227   36 -r-x------   1 root     root        33786 Apr 19 16:33 ./__spark_libs__/machinist_2.12-0.6.8.jar\n",
      "[/var/log/yarn/userlogs/application_1681922012927_0001/container_1681922012927_0001_01_000001/directory.info] 1324397 1024 -r-x------   1 root     root      1045744 Apr 19 16:33 ./__spark_libs__/leveldbjni-all-1.8.jar\n",
      "[/var/log/yarn/userlogs/application_1681922012927_0001/container_1681922012927_0001_01_000001/directory.info] 1324354 1784 -r-x------   1 root     root      1826785 Apr 19 16:33 ./__spark_libs__/netlib-native_ref-win-i686-1.1-natives.jar\n",
      "[/var/log/yarn/userlogs/application_1681922012927_0001/container_1681922012927_0001_01_000001/directory.info] 1324259  132 -r-x------   1 root     root       134044 Apr 19 16:33 ./__spark_libs__/aircompressor-0.10.jar\n",
      "[/var/log/yarn/userlogs/application_1681922012927_0001/container_1681922012927_0001_01_000001/directory.info] 1324324 3596 -r-x------   1 root     root      3678534 Apr 19 16:33 ./__spark_libs__/scala-reflect-2.12.10.jar\n",
      "[/var/log/yarn/userlogs/application_1681922012927_0001/container_1681922012927_0001_01_000001/directory.info] 1324356   36 -r-x------   1 root     root        35518 Apr 19 16:33 ./__spark_libs__/zjsonpatch-0.3.0.jar\n",
      "[/var/log/yarn/userlogs/application_1681922012927_0001/container_1681922012927_0001_01_000001/directory.info] 1324290  196 -r-x------   1 root     root       197176 Apr 19 16:33 ./__spark_libs__/commons-text-1.6.jar\n",
      "[/var/log/yarn/userlogs/application_1681922012927_0001/container_1681922012927_0001_01_000001/directory.info] 1324406   64 -r-x------   1 root     root        65261 Apr 19 16:33 ./__spark_libs__/oro-2.0.8.jar\n",
      "[/var/log/yarn/userlogs/application_1681922012927_0001/container_1681922012927_0001_01_000001/directory.info] 1324241 1168 -r-x------   1 root     root      1194003 Apr 19 16:33 ./__spark_libs__/arpack_combined_all-0.1.jar\n",
      "[/var/log/yarn/userlogs/application_1681922012927_0001/container_1681922012927_0001_01_000001/directory.info] 1324550  888 -r-x------   1 root     root       908015 Apr 19 16:33 ./SMClarify-assembly-0.1.jar\n",
      "[/var/log/yarn/userlogs/application_1681922012927_0001/container_1681922012927_0001_01_000001/directory.info] 1324572    4 -rw-r--r--   1 root     root           16 Apr 19 16:33 ./.default_container_executor_session.sh.crc\n",
      "[/var/log/yarn/userlogs/application_1681922012927_0001/container_1681922012927_0001_01_000001/directory.info] 1324547  232 -r-x------   1 root     root       233855 Apr 19 16:33 ./logback-classic-1.2.9.jar\n",
      "[/var/log/yarn/userlogs/application_1681922012927_0001/container_1681922012927_0001_01_000001/directory.info] 1324573    4 -rwx------   1 root     root          723 Apr 19 16:33 ./default_container_executor.sh\n",
      "[/var/log/yarn/userlogs/application_1681922012927_0001/container_1681922012927_0001_01_000001/directory.info] 1324553   44 -r-x------   1 root     root        41587 Apr 19 16:33 ./py4j-0.10.9-src.zip\n",
      "[/var/log/yarn/userlogs/application_1681922012927_0001/container_1681922012927_0001_01_000001/directory.info] 1324570    4 -rw-r--r--   1 root     root           52 Apr 19 16:33 ./.launch_container.sh.crc\n",
      "[/var/log/yarn/userlogs/application_1681922012927_0001/container_1681922012927_0001_01_000001/directory.info] 1324567    4 -rw-r--r--   1 root     root           69 Apr 19 16:33 ./container_tokens\n",
      "[/var/log/yarn/userlogs/application_1681922012927_0001/container_1681922012927_0001_01_000001/directory.info] 1324544  444 -r-x------   1 root     root       454201 Apr 19 16:33 ./logback-core-1.2.9.jar\n",
      "[/var/log/yarn/userlogs/application_1681922012927_0001/container_1681922012927_0001_01_000001/directory.info] 1324571    4 -rwx------   1 root     root          668 Apr 19 16:33 ./default_container_executor_session.sh\n",
      "[/var/log/yarn/userlogs/application_1681922012927_0001/container_1681922012927_0001_01_000001/directory.info] 1324221  872 -r-x------   1 root     root       889814 Apr 19 16:33 ./pyspark.zip\n",
      "[/var/log/yarn/userlogs/application_1681922012927_0001/container_1681922012927_0001_01_000001/directory.info] 1324514    4 drwx------   3 root     root         4096 Apr 19 16:33 ./__spark_conf__\n",
      "[/var/log/yarn/userlogs/application_1681922012927_0001/container_1681922012927_0001_01_000001/directory.info] 1324540  128 -r-x------   1 root     root       129841 Apr 19 16:33 ./__spark_conf__/__spark_hadoop_conf__.xml\n",
      "[/var/log/yarn/userlogs/application_1681922012927_0001/container_1681922012927_0001_01_000001/directory.info] 1324516    4 drwx------   2 root     root         4096 Apr 19 16:33 ./__spark_conf__/__hadoop_conf__\n",
      "[/var/log/yarn/userlogs/application_1681922012927_0001/container_1681922012927_0001_01_000001/directory.info] 1324529    4 -r-x------   1 root     root          867 Apr 19 16:33 ./__spark_conf__/__hadoop_conf__/hdfs-site.xml\n",
      "[/var/log/yarn/userlogs/application_1681922012927_0001/container_1681922012927_0001_01_000001/directory.info] 1324522   12 -r-x------   1 root     root         8260 Apr 19 16:33 ./__spark_conf__/__hadoop_conf__/capacity-scheduler.xml.default\n",
      "[/var/log/yarn/userlogs/application_1681922012927_0001/container_1681922012927_0001_01_000001/directory.info] 1324539    4 -r-x------   1 root     root         1764 Apr 19 16:33 ./__spark_conf__/__hadoop_conf__/mapred-env.sh.default\n",
      "[/var/log/yarn/userlogs/application_1681922012927_0001/container_1681922012927_0001_01_000001/directory.info] 1324525    4 -r-x------   1 root     root         1061 Apr 19 16:33 ./__spark_conf__/__hadoop_conf__/logback.xml\n",
      "[/var/log/yarn/userlogs/application_1681922012927_0001/container_1681922012927_0001_01_000001/directory.info] 1324523    4 -r-x------   1 root     root           10 Apr 19 16:33 ./__spark_conf__/__hadoop_conf__/workers\n",
      "[/var/log/yarn/userlogs/application_1681922012927_0001/container_1681922012927_0001_01_000001/directory.info] 1324531    4 -r-x------   1 root     root         1940 Apr 19 16:33 ./__spark_conf__/__hadoop_conf__/container-executor.cfg\n",
      "[/var/log/yarn/userlogs/application_1681922012927_0001/container_1681922012927_0001_01_000001/directory.info] 1324526   12 -r-x------   1 root     root         8260 Apr 19 16:33 ./__spark_conf__/__hadoop_conf__/capacity-scheduler.xml\n",
      "[/var/log/yarn/userlogs/application_1681922012927_0001/container_1681922012927_0001_01_000001/directory.info] 1324524    4 -r-x------   1 root     root          985 Apr 19 16:33 ./__spark_conf__/__hadoop_conf__/core-site.xml\n",
      "[/var/log/yarn/userlogs/application_1681922012927_0001/container_1681922012927_0001_01_000001/directory.info] 1324534   16 -r-x------   1 root     root        14890 Apr 19 16:33 ./__spark_conf__/__hadoop_conf__/log4j.properties.default\n",
      "[/var/log/yarn/userlogs/application_1681922012927_0001/container_1681922012927_0001_01_000001/directory.info] 1324530    8 -r-x------   1 root     root         6090 Apr 19 16:33 ./__spark_conf__/__hadoop_conf__/yarn-env.sh\n",
      "[/var/log/yarn/userlogs/application_1681922012927_0001/container_1681922012927_0001_01_000001/directory.info] 1324532    4 -r-x------   1 root     root         1764 Apr 19 16:33 ./__spark_conf__/__hadoop_conf__/mapred-env.sh\n",
      "[/var/log/yarn/userlogs/application_1681922012927_0001/container_1681922012927_0001_01_000001/directory.info] 1324533    4 -r-x------   1 root     root         2316 Apr 19 16:33 ./__spark_conf__/__hadoop_conf__/ssl-client.xml.example\n",
      "[/var/log/yarn/userlogs/application_1681922012927_0001/container_1681922012927_0001_01_000001/directory.info] 1324517   16 -r-x------   1 root     root        16379 Apr 19 16:33 ./__spark_conf__/__hadoop_conf__/hadoop-env.sh\n",
      "[/var/log/yarn/userlogs/application_1681922012927_0001/container_1681922012927_0001_01_000001/directory.info] 1324519   16 -r-x------   1 root     root        15000 Apr 19 16:33 ./__spark_conf__/__hadoop_conf__/log4j.properties\n",
      "[/var/log/yarn/userlogs/application_1681922012927_0001/container_1681922012927_0001_01_000001/directory.info] 1324518    4 -r-x------   1 root     root          758 Apr 19 16:33 ./__spark_conf__/__hadoop_conf__/mapred-site.xml\n",
      "2023-04-19 16:33:56,585 INFO SecurityLogger.org.apache.hadoop.ipc.Server: Auth successful for appattempt_1681922012927_0001_000001 (auth:SIMPLE)\n",
      "INFO:analyzer.data_loading.data_loader_util:Analysis config path: /opt/ml/processing/input/config/analysis_config.json\n",
      "INFO:analyzer.data_loading.data_loader_util:Analysis result path: /opt/ml/processing/output\n",
      "INFO:analyzer.data_loading.data_loader_util:This host is algo-1.\n",
      "INFO:analyzer.data_loading.data_loader_util:This host is the leader.\n",
      "INFO:analyzer.data_loading.data_loader_util:Number of hosts in the cluster is 2.\n",
      "INFO:sagemaker-clarify-processing:Fetching explanations and metrics in spark cluster mode\n",
      "INFO:analyzer.data_loading.data_loader_factory:Dataset type: text/csv uri: /opt/ml/processing/input/data\n",
      "INFO:analyzer.spark_driver:Loading dataset...\n",
      "2023-04-19 16:33:58,408 INFO SecurityLogger.org.apache.hadoop.ipc.Server: Auth successful for appattempt_1681922012927_0001_000001 (auth:SIMPLE)\n",
      "2023-04-19 16:33:58,336 INFO SecurityLogger.org.apache.hadoop.ipc.Server: Auth successful for appattempt_1681922012927_0001_000001 (auth:SIMPLE)\n",
      "[/var/log/yarn/userlogs/application_1681922012927_0001/container_1681922012927_0001_01_000001/directory.info] 1324537    4 -r-x------   1 root     root         2697 Apr 19 16:33 ./__spark_conf__/__hadoop_Handling create event for file: /var/log/yarn/userlogs/application_1681922012927_0001/container_1681922012927_0001_01_000003/prelaunch.out\n",
      "Handling create event for file: /var/log/yarn/userlogs/application_1681922012927_0001/container_1681922012927_0001_01_000003/prelaunch.err\n",
      "Handling create event for file: /var/log/yarn/userlogs/application_1681922012927_0001/container_1681922012927_0001_01_000003/launch_container.sh\n",
      "Handling create event for file: /var/log/yarn/userlogs/application_1681922012927_0001/container_1681922012927_0001_01_000003/directory.info\n",
      "Handling create event for file: /var/log/yarn/userlogs/application_1681922012927_0001/container_1681922012927_0001_01_000003/stdout\n",
      "Handling create event for file: /var/log/yarn/userlogs/application_1681922012927_0001/container_1681922012927_0001_01_000003/stderr\n",
      "Handling create event for file: /var/log/yarn/userlogs/application_1681922012927_0001/container_1681922012927_0001_01_000002/prelaunch.out\n",
      "Handling create event for file: /var/log/yarn/userlogs/application_1681922012927_0001/container_1681922012927_0001_01_000002/prelaunch.err\n",
      "Handling create event for file: /var/log/yarn/userlogs/application_1681922012927_0001/container_1681922012927_0001_01_000002/launch_container.sh\n",
      "Handling create event for file: /var/log/yarn/userlogs/application_1681922012927_0001/container_1681922012927_0001_01_000002/directory.info\n",
      "Handling create event for file: /var/log/yarn/userlogs/application_1681922012927_0001/container_1681922012927_0001_01_000002/stdout\n",
      "Handling create event for file: /var/log/yarn/userlogs/application_1681922012927_0001/container_1681922012927_0001_01_000002/stderr\n",
      "[/var/log/yarn/userlogs/application_1681922012927_0001/container_1681922012927_0001_01_000002/directory.info] 2790097  200 -r-x------   1 root     root       201124 Apr 19 16:33 ./__spark_libs__/jdo-api-3.0.1.jar\n",
      "[/var/log/yarn/userlogs/application_1681922012927_0001/container_1681922012927_0001_01_000002/directory.info] 2790098    4 -r-x------   1 root     root         2497 Apr 19 16:33 ./__spark_libs__/javax.inject-1.jar\n",
      "[/var/log/yarn/userlogs/application_1681922012927_0001/container_1681922012927_0001_01_000002/directory.info] 2790099   72 -r-x------   1 root     root        72668 Apr 19 16:33 ./__spark_libs__/arrow-format-2.0.0.jar\n",
      "[/var/log/yarn/userlogs/application_1681922012927_0001/container_1681922012927_0001_01_000002/directory.info] 2790100  196 -r-x------   1 root     root       197176 Apr 19 16:33 ./__spark_libs__/commons-text-1.6.jar\n",
      "[/var/log/yarn/userlogs/application_1681922012927_0001/container_1681922012927_0001_01_000002/directory.info] 2790101   96 -r-x------   1 root     root        95806 Apr 19 16:33 ./__spark_libs__/javax.servlet-api-3.1.0.jar\n",
      "[/var/log/yarn/userlogs/application_1681922012927_0001/container_1681922012927_0001_01_000002/directory.info] 2790102  224 -r-x------   1 root     root       226672 Apr 19 16:33 ./__spark_libs__/kerb-core-1.0.1.jar\n",
      "[/var/log/yarn/userlogs/application_1681922012927_0001/container_1681922012927_0001_01_000002/directory.info] 2790103  180 -r-x------   1 root     root       184274 Apr 19 16:33 ./__spark_libs__/hive-beeline-2.3.7-amzn-4.jar\n",
      "[/var/log/yarn/userlogs/application_1681922012927_0001/container_1681922012927_0001_01_000002/directory.info] 2790104  524 -r-x------   1 root     root       533455 Apr 19 16:33 ./__spark_libs__/protobuf-java-2.5.0.jar\n",
      "[/var/log/yarn/userlogs/application_1681922012927_0001/container_1681922012927_0001_01_000002/directory.info] 2790105   40 -r-x------   1 root     root        40554 Apr 19 16:33 ./__spark_libs__/kerby-util-1.0.1.jar\n",
      "[/var/log/yarn/userlogs/application_1681922012927_0001/container_1681922012927_0001_01_000002/directory.info] 2790106 5008 -r-x------   1 root     root      5127896 Apr 19 16:33 ./__spark_libs__/hadoop-hdfs-client-3.2.1-amzn-3.jar\n",
      "[/var/log/yarn/userlogs/application_1681922012927_0001/container_1681922012927_0001_01_000002/directory.info] 2790107  164 -r-x------   1 root     root       167761 Apr 19 16:33 ./__spark_libs__/antlr-runtime-3.5.2.jar\n",
      "[/var/log/yarn/userlogs/application_1681922012927_0001/container_1681922012927_0001_01_000002/directory.info] 2790108   16 -r-x------   1 root     root        15071 Apr 19 16:33 ./__spark_libs__/transaction-api-1.1.jar\n",
      "[/var/log/yarn/userlogs/application_1681922012927_0001/container_1681922012927_0001_01_000002/directory.info] 2790109  164 -r-x------   1 root     root       166244 Apr 19 16:33 ./__spark_libs__/commons-crypto-1.1.0.jar\n",
      "[/var/log/yarn/userlogs/application_1681922012927_0001/container_1681922012927_0001_01_000002/directory.info] 2790110   56 -r-x------   1 root     root        56951 Apr 19 16:33 ./__spark_libs__/hive-shims-0.23-2.3.7-amzn-4.jar\n",
      "[/var/log/yarn/userlogs/application_1681922012927_0001/container_1681922012927_0001_01_000002/directory.info] 2790111  284 -r-x------   1 root     root       290168 Apr 19 16:33 ./__spark_libs__/parquet-hadoop-1.10.1-spark-amzn-4.jar\n",
      "[/var/log/yarn/userlogs/application_1681922012927_0001/container_1681922012927_0001_01_000002/directory.info] 2790112  624 -r-x------   1 root     root       637428 Apr 19 16:33 ./__spark_libs__/netlib-native_system-win-x86_64-1.1-natives.jar\n",
      "[/var/log/yarn/userlogs/application_1681922012927_0001/container_1681922012927_0001_01_000002/directory.info] 2790113  200 -r-x------   1 root     root       201965 Apr 19 16:33 ./__spark_libs__/curator-framework-2.13.0.jar\n",
      "[/var/log/yarn/userlogs/application_1681922012927_0001/container_1681922012927_0001_01_000002/directory.info] 2790114  160 -r-x------   1 root     root       160519 Apr 19 16:33 ./__spark_libs__/commons-dbcp-1.4.jar\n",
      "[/var/log/yarn/userlogs/application_1681922012927_0001/container_1681922012927_0001_01_000002/directory.info] 2790115  908 -r-x------   1 root     root       927721 Apr 19 16:33 ./__spark_libs__/jersey-server-2.30.jar\n",
      "[/var/log/yarn/userlogs/application_1681922012927_0001/container_1681922012927_0001_01_000002/directory.info] 2790116 1376 -r-x------   1 root     root      1404939 Apr 19 16:33 ./__spark_libs__/jackson-databind-2.10.5.jar\n",
      "[/var/log/yarn/userlogs/application_1681922012927_0001/container_1681922012927_0001_01_000002/directory.info] 2790117  620 -r-x------   1 root     root       632424 Apr 19 16:33 ./__spark_libs__/commons-compress-1.20.jar\n",
      "[/var/log/yarn/userlogs/application_1681922012927_0001/container_1681922012927_0001_01_000002/directory.info] 2790118 3216 -r-x------   1 root     root      3290504 Apr 19 16:33 ./__spark_libs__/hadoop-yarn-api-3.2.1-amzn-3.jar\n",
      "[/var/log/yarn/userlogs/application_1681922012927_0001/container_1681922012927_0001_01_000002/directory.info] 2790119 1456 -r-x------   1 root     root      1489507 Apr 19 16:33 ./__spark_libs__/netlib-native_ref-linux-i686-1.1-natives.jar\n",
      "[/var/log/yarn/userlogs/application_1681922012927_0001/container_1681922012927_0001_01_000002/directory.info] 2790120 4080 -r-x------   1 root     root      4175105 Apr 19 16:33 ./__spark_libs__/hadoop-common-3.2.1-amzn-3.jar\n",
      "[/var/log/yarn/userlogs/application_1681922012927_0001/container_1681922012927_0001_01_000002/directory.info] 2790121  244 -r-x------   1 root     root       249790 Apr 19 16:33 ./__spark_libs__/javax.jdo-3.2.0-m3.jar\n",
      "[/var/log/yarn/userlogs/application_1681922012927_0001/container_1681922012927_0001_01_000002/directory.info] 2790122  140 -r-x------   1 root     root       140376 Apr 19 16:33 ./__spark_libs__/jakarta.ws.rs-api-2.1.6.jar\n",
      "[/var/log/yarn/userlogs/application_1681922012927_0001/container_1681922012927_0001_01_000002/directory.info] 2790123   56 -r-x------   1 root     root        54461 Apr 19 16:33 ./__spark_libs__/native_ref-java-1.1.jar\n",
      "[/var/log/yarn/userlogs/application_1681922012927_0001/container_1681922012927_0001_01_000002/directory.info] 2790124  268 -r-x------   1 root     root       273370 Apr 19 16:33 ./__spark_libs__/commons-net-3.1.jar\n",
      "[/var/log/yarn/userlogs/application_1681922012927_0001/container_1681922012927_0001_01_000002/directory.info] 2790125   16 -r-x------   1 root     root        14395 Apr 19 16:33 ./__spark_libs__/generex-1.0.2.jar\n",
      "[/var/log/yarn/userlogs/application_1681922012927_0001/container_1681922012927_0001_01_000002/directory.info] 2790126 1524 -r-x------   1 root     root      1556863 Apr 19 16:33 ./__spark_libs__/avro-1.8.2.jar\n",
      "[/var/log/yarn/userlogs/application_1681922012927_0001/container_1681922012927_0001_01_000002/directory.info] 2790127 1256 -r-x------   1 root     root      1282424 Apr 19 16:33 ./__spark_libs__/ivy-2.4.0.jar\n",
      "[/var/log/yarn/userlogs/application_1681922012927_0001/container_1681922012927_0001_01_000002/directory.info] 2790128  100 -r-x------   1 root     root       100431 Apr 19 16:33 ./__spark_libs__/pyrolite-4.30.jar\n",
      "[/var/log/yarn/userlogs/application_1681922012927_0001/container_1681922012927_0001_01_000002/directory.info] 2790129  196 -r-x------   1 root     root       200223 Apr 19 16:33 ./__spark_libs__/hk2-api-2.6.1.jar\n",
      "[/var/log/yarn/userlogs/application_1681922012927_0001/container_1681922012927_0001_01_000002/directory.info] 2790312  492 -r-x------   1 root     root       501704 Apr 19 16:33 ./__spark_libs__/hadoop-aws.jar\n",
      "[/var/log/yarn/userlogs/application_1681922012927_0001/container_1681922012927_0001_01_000002/directory.info] 2790130  120 -r-x------   1 root     root       121048 Apr 19 16:33 ./__spark_libs__/hive-shims-common-2.3.7-amzn-4.jar\n",
      "[/var/log/yarn/userlogs/application_1681922012927_0001/container_1681922012927_0001_01_000002/directory.info] 2790131   20 -r-x------   1 root     root        16642 Apr 19 16:33 ./__spark_libs__/metrics-json-4.1.1.jar\n",
      "[/var/log/yarn/userlogs/application_1681922012927_0001/container_1681922012927_0001_01_000002/directory.info] 2790318  232 -r-x------   1 root     root       233855 Apr 19 16:33 ./__spark_libs__/logback-classic-1.2.9.jar\n",
      "[/var/log/yarn/userlogs/application_1681922012927_0001/container_1681922012927_0001_01_000002/directory.info] 2790132   24 -r-x------   1 root     root        23909 Apr 19 16:33 ./__spark_libs__/metrics-jvm-4.1.1.jar\n",
      "[/var/log/yarn/userlogs/application_1681922012927_0001/container_1681922012927_0001_01_000002/directory.info] 2790133  160 -r-x------   1 root     root       161867 Apr 19 16:33 ./__spark_libs__/stax2-api-3.1.4.jar\n",
      "[/var/log/yarn/userlogs/application_1681922012927_0001/container_1681922012927_0001_01_000002/directory.info] 2790134 3596 -r-x------   1 root     root      3678534 Apr 19 16:33 ./__spark_libs__/scala-reflect-2.12.10.jar\n",
      "[/var/log/yarn/userlogs/application_1681922012927_0001/container_1681922012927_0001_01_000002/directory.info] 2790135 5156 -r-x------   1 root     root      5276900 Apr 19 16:33 ./__spark_libs__/scala-library-2.12.10.jar\n",
      "[/var/log/yarn/userlogs/application_1681922012927_0001/container_1681922012927_0001_01_000002/directory.info] 2790136  420 -r-x------   1 root     root       427780 Apr 19 16:33 ./__spark_libs__/jodd-core-3.5.2.jar\n",
      "[/var/log/yarn/userlogs/application_1681922012927_0001/container_1681922012927_0001_01_000002/directory.info] 2790137   68 -r-x------   1 root     root        69409 Apr 19 16:33 ./__spark_libs__/activation-1.1.1.jar\n",
      "[/var/log/yarn/userlogs/application_1681922012927_0001/container_1681922012927_0001_01_000002/directory.info] 2790138    4 -r-x------   1 root     root         2500 Apr 19 16:33 ./__spark_libs__/shims-0.9.0.jar\n",
      "[/var/log/yarn/userlogs/application_1681922012927_0001/container_1681922012927_0001_01_000002/directory.info] 2790139   92 -r-x------   1 root     root        91930 Apr 19 16:33 ./__spark_libs__/jakarta.validation-api-2.0.2.jar\n",
      "[/var/log/yarn/userlogs/application_1681922012927_0001/container_1681922012927_0001_01_000002/directory.info] 2790140  628 -r-x------   1 root     root       643043 Apr 19 16:33 ./__spark_libs__/joda-time-2.10.5.jar\n",
      "[/var/log/yarn/userlogs/application_1681922012927_0001/container_1681922012927_0001_01_000002/directory.info] 2790141   84 -r-x------   1 root     root        85904 Apr 19 16:33 ./__spark_libs__/hadoop-mapreduce-client-jobclient-3.2.1-amzn-3.jar\n",
      "[/var/log/yarn/userlogs/application_1681922012927_0001/container_1681922012927_0001_01_000002/directory.info] 2790142   84 -r-x------   1 root     root        82872 Apr 19 16:33 ./__spark_libs__/jakarta.servlet-api-4.0.3.jar\n",
      "[/var/log/yarn/userlogs/application_1681922012927_0001/container_1681922012927_0001_01_000002/directory.info] 2790143   52 -r-x------   1 root     root        51568 Apr 19 16:33 ./__spark_libs__/spark-unsafe_2.12-3.1.1-amzn-0.jar\n",
      "[/var/log/yarn/userlogs/application_1681922012927_0001/container_1681922012927_0001_01_000002/directory.info] 2790144 1364 -r-x------   1 root     root      1393617 Apr 19 16:33 ./__spark_libs__/hadoop-yarn-server-common-3.2.1-amzn-3.jar\n",
      "[/var/log/yarn/userlogs/application_1681922012927_0001/container_1681922012927_0001_01_000002/directory.info] 2790145  552 -r-x------   1 root     root       561459 Apr 19 16:33 ./__spark_libs__/netlib-native_system-win-i686-1.1-natives.jar\n",
      "[/var/log/yarn/userlogs/application_1681922012927_0001/container_1681922012927_0001_01_000002/directory.info] 2790322  492 -r-x------   1 root     root       501704 Apr 19 16:33 ./__spark_libs__/hadoop-aws-3.2.1-amzn-3.jar\n",
      "[/var/log/yarn/userlogs/application_1681922012927_0001/container_1681922012927_0001_01_000002/directory.info] 2790146 1152 -r-x------   1 root     root      1175798 Apr 19 16:33 ./__spark_libs__/JTransforms-3.1.jar\n",
      "[/var/log/yarn/userlogs/application_1681922012927_0001/container_1681922012927_0001_01_000002/directory.info] 2790147  280 -r-x------   1 root     root       284184 Apr 19 16:33 ./__spark_libs__/commons-codec-1.10.jar\n",
      "[/var/log/yarn/userlogs/application_1681922012927_0001/container_1681922012927_0001_01_000002/directory.info] 2790148  304 -r-x------   1 root     root       307637 Apr 19 16:33 ./__spark_libs__/dnsjava-2.1.7.jar\n",
      "[/var/log/yarn/userlogs/application_1681922012927_0001/container_1681922012927_0001_01_000002/directory.info] 2790149  384 -r-x------   1 root     root       392124 Apr 19 16:33 ./__spark_libs__/velocity-1.5.jar\n",
      "[/var/log/yarn/userlogs/application_1681922012927_0001/container_1681922012927_0001_01_000002/directory.info] 2790150 1144 -r-x------   1 root     root      1168113 Apr 19 16:33 ./__spark_libs__/algebra_2.12-2.0.0-M2.jar\n",
      "[/var/log/yarn/userlogs/application_1681922012927_0001/container_1681922012927_0001_01_000002/directory.info] 2790151  796 -r-x------   1 root     root       814000 Apr 19 16:33 ./__spark_libs__/orc-core-1.5.12.jar\n",
      "[/var/log/yarn/userlogs/application_1681922012927_0001/container_1681922012927_0001_01_000002/directory.info] 2790152   36 -r-x------   1 root     root        34654 Apr 19 16:33 ./__spark_libs__/paranamer-2.8.jar\n",
      "[/var/log/yarn/userlogs/application_1681922012927_0001/container_1681922012927_0001_01_000002/directory.info] 2790153 1672 -r-x------   1 root     root      1711185 Apr 19 16:33 ./__spark_libs__/arrow-vector-2.0.0.jar\n",
      "[/var/log/yarn/userlogs/application_1681922012927_0001/container_1681922012927_0001_01_000002/directory.info] 2790154   20 -r-x------   1 root     root        19479 Apr 19 16:33 ./__spark_libs__/osgi-resource-locator-1.0.3.jar\n",
      "[/var/log/yarn/userlogs/application_1681922012927_0001/container_1681922012927_0001_01_000002/directory.info] 2790155  336 -r-x------   1 root     root       342143 Apr 19 16:33 ./__spark_libs__/jackson-module-scala_2.12-2.10.5.jar\n",
      "[/var/log/yarn/userlogs/application_1681922012927_0001/container_1681922012927_0001_01_000002/directory.info] 2790156 1632 -r-x------   1 root     root      1669989 Apr 19 16:33 ./__spark_libs__/hadoop-mapreduce-client-core-3.2.1-amzn-3.jar\n",
      "[/var/log/yarn/userlogs/application_1681922012927_0001/container_1681922012927_0001_01_000002/directory.info] 2790157   56 -r-x------   1 root     root        55236 Apr 19 16:33 ./__spark_libs__/geronimo-jcache_1.0_spec-1.0-alpha-1.jar\n",
      "[/var/log/yarn/userlogs/application_1681922012927_0001/container_1681922012927_0001_01_000002/directory.info] 2790313  116 -r-x------   1 root     root       116694 Apr 19 16:33 ./__spark_libs__/aws-glue-datacatalog-client-common-3.2.0.jar\n",
      "[/var/log/yarn/userlogs/application_1681922012927_0001/container_1681922012927_0001_01_000002/directory.info] 2790158  240 -r-x------   1 root     root       244502 Apr 19 16:33 ./__spark_libs__/jersey-client-2.30.jar\n",
      "[/var/log/yarn/userlogs/application_1681922012927_0001/container_1681922012927_0001_01_000002/directory.info] 2790159   68 -r-x------   1 root     root        68080 Apr 19 16:33 ./__spark_libs__/jackson-annotations-2.10.5.jar\n",
      "[/var/log/yarn/userlogs/application_1681922012927_0001/container_1681922012927_0001_01_000002/directory.info] 2790160   84 -r-x------   1 root     root        82756 Apr 19 16:33 ./__spark_libs__/kerb-server-1.0.1.jar\n",
      "[/var/log/yarn/userlogs/application_1681922012927_0001/container_1681922012927_0001_01_000002/directory.info] 2790161  228 -r-x------   1 root     root       232470 Apr 19 16:33 ./__spark_libs__/JLargeArrays-1.5.jar\n",
      "[/var/log/yarn/userlogs/application_1681922012927_0001/container_1681922012927_0001_01_000002/directory.info] 2790162   72 -r-x------   1 root     root        71626 Apr 19 16:33 ./__spark_libs__/commons-compiler-3.0.16.jar\n",
      "[/var/log/yarn/userlogs/application_1681922012927_0001/container_1681922012927_0001_01_000002/directory.info] 2790163  324 -r-x------   1 root     root       331034 Apr 19 16:33 ./__spark_libs__/okhttp-2.7.5.jar\n",
      "[/var/log/yarn/userlogs/application_1681922012927_0001/container_1681922012927_0001_01_000002/directory.info] 2790164 1784 -r-x------   1 root     root      1826785 Apr 19 16:33 ./__spark_libs__/netlib-native_ref-win-i686-1.1-natives.jar\n",
      "[/var/log/yarn/userlogs/application_1681922012927_0001/container_1681922012927_0001_01_000002/directory.info] 2790165  992 -r-x------   1 root     root      1013367 Apr 19 16:33 ./__spark_libs__/jaxb-runtime-2.3.2.jar\n",
      "[/var/log/yarn/userlogs/application_1681922012927_0001/container_1681922012927_0001_01_000002/directory.info] 2790166   36 -r-x------   1 root     root        35518 Apr 19 16:33 ./__spark_libs__/zjsonpatch-0.3.0.jar\n",
      "[/var/log/yarn/userlogs/application_1681922012927_0001/container_1681922012927_0001_01_000002/directory.info] 2790167  380 -r-x------   1 root     root       386529 Apr 19 16:33 ./__spark_libs__/RoaringBitmap-0.9.0.jar\n",
      "[/var/log/yarn/userlogs/application_1681922012927_0001/container_1681922012927_0001_01_000002/directory.info] 2790168 1024 -r-x------   1 root     root      1048529 Apr 19 16:33 ./__spark_libs__/parquet-jackson-1.10.1-spark-amzn-4.jar\n",
      "[/var/log/yarn/userlogs/application_1681922012927_0001/container_1681922012927_0001_01_000002/directory.info] 2790169   96 -r-x------   1 root     root        96221 Apr 19 16:33 ./__spark_libs__/commons-pool-1.5.4.jar\n",
      "[/var/log/yarn/userlogs/application_1681922012927_0001/container_1681922012927_0001_01_000002/directory.info] 2790170  316 -r-x------   1 root     root       323162 Apr 19 16:33 ./__spark_libs__/hadoop-yarn-client-3.2.1-amzn-3.jar\n",
      "[/var/log/yarn/userlogs/application_1681922012927_0001/container_1681922012927_0001_01_000002/directory.info] 2790171 2864 -r-x------   1 root     root      2929005 Apr 19 16:33 ./__spark_libs__/hadoop-yarn-common-3.2.1-amzn-3.jar\n",
      "[/var/log/yarn/userlogs/application_1681922012927_0001/container_1681922012927_0001_01_000002/directory.info] 2790172   28 -r-x------   1 root     root        27006 Apr 19 16:33 ./__spark_libs__/aopalliance-repackaged-2.6.1.jar\n",
      "[/var/log/yarn/userlogs/application_1681922012927_0001/container_1681922012927_0001_01_000002/directory.info] 2790173  908 -r-x------   1 root     root       926574 Apr 19 16:33 ./__spark_libs__/janino-3.0.16.jar\n",
      "[/var/log/yarn/userlogs/application_1681922012927_0001/container_1681922012927_0001_01_000002/directory.info] 2790174   44 -r-x------   1 root     root        43743 Apr 19 16:33 ./__spark_libs__/jackson-module-paranamer-2.10.5.jar\n",
      "[/var/log/yarn/userlogs/application_1681922012927_0001/container_1681922012927_0001_01_000002/directory.info] 2790175   24 -r-x------   1 root     root        22042 Apr 19 16:33 ./__spark_libs__/metrics-graphite-4.1.1.jar\n",
      "[/var/log/yarn/userlogs/application_1681922012927_0001/container_1681922012927_0001_01_000002/directory.info] 2790176  132 -r-x------   1 root     root       131590 Apr 19 16:33 ./__spark_libs__/hk2-utils-2.6.1.jar\n",
      "[/var/log/yarn/userlogs/application_1681922012927_0001/container_1681922012927_0001_01_000002/directory.info] 2790177   56 -r-x------   1 root     root        54509 Apr 19 16:33 ./__spark_libs__/native_system-java-1.1.jar\n",
      "[/var/log/yarn/userlogs/application_1681922012927_0001/container_1681922012927_0001_01_000002/directory.info] 2790178  504 -r-x------   1 root     root       512742 Apr 19 16:33 ./__spark_libs__/woodstox-core-5.0.3.jar\n",
      "[/var/log/yarn/userlogs/application_1681922012927_0001/container_1681922012927_0001_01_000002/directory.info] 2790179 1688 -r-x------   1 root     root      1726527 Apr 19 16:33 ./__spark_libs__/ehcache-3.3.1.jar\n",
      "[/var/log/yarn/userlogs/application_1681922012927_0001/container_1681922012927_0001_01_000002/directory.info] 2790180   20 -r-x------   1 root     root        19827 Apr 19 16:33 ./__spark_libs__/opencsv-2.3.jar\n",
      "[/var/log/yarn/userlogs/application_1681922012927_0001/container_1681922012927_0001_01_000002/directory.info] 2790181  308 -r-x------   1 root     root       313702 Apr 19 16:33 ./__spark_libs__/libfb303-0.9.3.jar\n",
      "[/var/log/yarn/userlogs/application_1681922012927_0001/container_1681922012927_0001_01_000002/directory.info] 2790182 10640 -r-x------   1 root     root     10892246 Apr 19 16:33 ./__spark_libs__/hive-exec-2.3.7-amzn-4-core.jar\n",
      "[/var/log/yarn/userlogs/application_1681922012927_0001/container_1681922012927_0001_01_000002/directory.info] 2790183   48 -r-x------   1 root     root        46219 Apr 19 16:33 ./__spark_libs__/hive-cli-2.3.7-amzn-4.jar\n",
      "[/var/log/yarn/userlogs/application_1681922012927_0001/container_1681922012927_0001_01_000002/directory.info] 2790184  164 -r-x------   1 root     root       164422 Apr 19 16:33 ./__spark_libs__/core-1.1.2.jar\n",
      "[/var/log/yarn/userlogs/application_1681922012927_0001/container_1681922012927_0001_01_000002/directory.info] 2790185   12 -r-x------   1 root     root         8261 Apr 19 16:33 ./__spark_libs__/spire-platform_2.12-0.17.0-M1.jar\n",
      "[/var/log/yarn/userlogs/application_1681922012927_0001/container_1681922012927_0001_01_000002/directory.info] 2790186   12 -r-x------   1 root     root         9928 Apr 19 16:33 ./__spark_libs__/spark-tags_2.12-3.1.1-amzn-0-tests.jar\n",
      "[/var/log/yarn/userlogs/application_1681922012927_0001/container_1681922012927_0001_01_000002/directory.info] 2790187  100 -r-x------   1 root     root       102244 Apr 19 16:33 ./__spark_libs__/jaxb-api-2.2.11.jar\n",
      "[/var/log/yarn/userlogs/application_1681922012927_0001/container_1681922012927_0001_01_000002/directory.info] 2790188   28 -r-x------   1 root     root        25475 Apr 19 16:33 ./__spark_libs__/json-1.8.jar\n",
      "[/var/log/yarn/userlogs/application_1681922012927_0001/container_1681922012927_0001_01_000002/directory.info] 2790189 10008 -r-x------   1 root     root     10247828 Apr 19 16:33 ./__spark_libs__/spark-catalyst_2.12-3.1.1-amzn-0.jar\n",
      "[/var/log/yarn/userlogs/application_1681922012927_0001/container_1681922012927_0001_01_000002/directory.info] 2790190    8 -r-x------   1 root     root         4722 Apr 19 16:33 ./__spark_libs__/jcip-annotations-1.0-1.jar\n",
      "[/var/log/yarn/userlogs/application_1681922012927_0001/container_1681922012927_0001_01_000002/directory.info] 2790191 10424 -r-x------   1 root     root     10672015 Apr 19 16:33 ./__spark_libs__/scala-compiler-2.12.10.jar\n",
      "[/var/log/yarn/userlogs/application_1681922012927_0001/container_1681922012927_0001_01_000002/directory.info] 2790192  112 -r-x------   1 root     root       111007 Apr 19 16:33 ./__spark_libs__/jackson-datatype-jsr310-2.11.2.jar\n",
      "[/var/log/yarn/userlogs/application_1681922012927_0001/container_1681922012927_0001_01_000002/directory.info] 2790193  708 -r-x------   1 root     root       723203 Apr 19 16:33 ./__spark_libs__/parquet-format-2.4.0.jar\n",
      "[/var/log/yarn/userlogs/application_1681922012927_0001/container_1681922012927_0001_01_000002/directory.info] 2790194   56 -r-x------   1 root     root        55684 Apr 19 16:33 ./__spark_libs__/objenesis-2.6.jar\n",
      "[/var/log/yarn/userlogs/application_1681922012927_0001/container_1681922012927_0001_01_000002/directory.info] 2790195   20 -r-x------   1 root     root        20409 Apr 19 16:33 ./__spark_libs__/kerb-simplekdc-1.0.1.jar\n",
      "[/var/log/yarn/userlogs/application_1681922012927_0001/container_1681922012927_0001_01_000002/directory.info] 2790196   28 -r-x------   1 root     root        28313 Apr 19 16:33 ./__spark_libs__/spark-ganglia-lgpl_2.12-3.1.1-amzn-0.jar\n",
      "[/var/log/yarn/userlogs/application_1681922012927_0001/container_1681922012927_0001_01_000002/directory.info] 2790197  404 -r-x------   1 root     root       410874 Apr 19 16:33 ./__spark_libs__/kryo-shaded-4.0.2.jar\n",
      "[/var/log/yarn/userlogs/application_1681922012927_0001/container_1681922012927_0001_01_000002/directory.info] 2790198  100 -r-x------   1 root     root       100990 Apr 19 16:33 ./__spark_libs__/arrow-memory-core-2.0.0.jar\n",
      "[/var/log/yarn/userlogs/application_1681922012927_0001/container_1681922012927_0001_01_000002/directory.info] 2790319   24 -r-x------   1 root     root        23702 Apr 19 16:33 ./__spark_libs__/log4j-over-slf4j-1.7.30.jar\n",
      "[/var/log/yarn/userlogs/application_1681922012927_0001/container_1681922012927_0001_01_000002/directory.info] 2790199 1644 -r-x------   1 root     root      1679364 Apr 19 16:33 ./__spark_libs__/hive-service-rpc-3.1.2.jar\n",
      "[/var/log/yarn/userlogs/application_1681922012927_0001/container_1681922012927_0001_01_000002/directory.info] 2790200  428 -r-x------   1 root     root       435365 Apr 19 16:33 ./__spark_libs__/netlib-native_system-linux-i686-1.1-natives.jar\n",
      "[/var/log/yarn/userlogs/application_1681922012927_0001/container_1681922012927_0001_01_000002/directory.info] 2790201   12 -r-x------   1 root     root        12131 Apr 19 16:33 ./__spark_libs__/jpam-1.1.jar\n",
      "[/var/log/yarn/userlogs/application_1681922012927_0001/container_1681922012927_0001_01_000002/directory.info] 2790202  104 -r-x------   1 root     root       105365 Apr 19 16:33 ./__spark_libs__/metrics-core-4.1.1.jar\n",
      "[/var/log/yarn/userlogs/application_1681922012927_0001/container_1681922012927_0001_01_000002/directory.info] 2790203  424 -r-x------   1 root     root       431100 Apr 19 16:33 ./__spark_libs__/spark-graphx_2.12-3.1.1-amzn-0.jar\n",
      "[/var/log/yarn/userlogs/application_1681922012927_0001/container_1681922012927_0001_01_000002/directory.info] 2790204   32 -r-x------   1 root     root        30035 Apr 19 16:33 ./__spark_libs__/accessors-smart-1.2.jar\n",
      "[/var/log/yarn/userlogs/application_1681922012927_0001/container_1681922012927_0001_01_000002/directory.info] 2790205   36 -r-x------   1 root     root        34392 Apr 19 16:33 ./__spark_libs__/jetty-rewrite-9.3.27.v20190418.jar\n",
      "[/var/log/yarn/userlogs/application_1681922012927_0001/container_1681922012927_0001_01_000002/directory.info] 2790206  200 -r-x------   1 root     root       204650 Apr 19 16:33 ./__spark_libs__/kerby-pkix-1.0.1.jar\n",
      "[/var/log/yarn/userlogs/application_1681922012927_0001/container_1681922012927_0001_01_000002/directory.info] 2790207 1024 -r-x------   1 root     root      1045744 Apr 19 16:33 ./__spark_libs__/leveldbjni-all-1.8.jar\n",
      "[/var/log/yarn/userlogs/application_1681922012927_0001/container_1681922012927_0001_01_000002/directory.info] 2790208  112 -r-x------   1 root     root       112235 Apr 19 16:33 ./__spark_libs__/scala-collection-compat_2.12-2.1.1.jar\n",
      "[/var/log/yarn/userlogs/application_1681922012927_0001/container_1681922012927_0001_01_000002/directory.info] 2790209  224 -r-x------   1 root     root       226000 Apr 19 16:33 ./__spark_libs__/hadoop-yarn-registry-3.2.1-amzn-3.jar\n",
      "[/var/log/yarn/userlogs/application_1681922012927_0001/container_1681922012927_0001_01_000002/directory.info] 2790210   64 -r-x------   1 root     root        61835 Apr 19 16:33 ./__spark_libs__/spark-kvstore_2.12-3.1.1-amzn-0.jar\n",
      "[/var/log/yarn/userlogs/application_1681922012927_0001/container_1681922012927_0001_01_000002/directory.info] 2790211 1180 -r-x------   1 root     root      1208080 Apr 19 16:33 ./__spark_libs__/netlib-native_ref-linux-armhf-1.1-natives.jar\n",
      "[/var/log/yarn/userlogs/application_1681922012927_0001/container_1681922012927_0001_01_000002/directory.info] 2790212  116 -r-x------   1 root     root       115498 Apr 19 16:33 ./__spark_libs__/jakarta.xml.bind-api-2.3.2.jar\n",
      "[/var/log/yarn/userlogs/application_1681922012927_0001/container_1681922012927_0001_01_000002/directory.info] 2790213   12 -r-x------   1 root     root        10486 Apr 19 16:33 ./__spark_libs__/hive-shims-2.3.7-amzn-4.jar\n",
      "[/var/log/yarn/userlogs/application_1681922012927_0001/container_1681922012927_0001_01_000002/directory.info] 2790214  124 -r-x------   1 root     root       123052 Apr 19 16:33 ./__spark_libs__/py4j-0.10.9.jar\n",
      "[/var/log/yarn/userlogs/application_1681922012927_0001/container_1681922012927_0001_01_000002/directory.info] 2790215   80 -r-x------   1 root     root        79845 Apr 19 16:33 ./__spark_libs__/compress-lzf-1.0.3.jar\n",
      "[/var/log/yarn/userlogs/application_1681922012927_0001/container_1681922012927_0001_01_000002/directory.info] 2790216   64 -r-x------   1 root     root        65261 Apr 19 16:33 ./__spark_libs__/oro-2.0.8.jar\n",
      "[/var/log/yarn/userlogs/application_1681922012927_0001/container_1681922012927_0001_01_000002/directory.info] 2790217   84 -r-x------   1 root     root        85865 Apr 19 16:33 ./__spark_libs__/json4s-ast_2.12-3.7.0-M5.jar\n",
      "[/var/log/yarn/userlogs/application_1681922012927_0001/container_1681922012927_0001_01_000002/directory.info] 2790218  512 -r-x------   1 root     root       523372 Apr 19 16:33 ./__spark_libs__/commons-lang3-3.10.jar\n",
      "[/var/log/yarn/userlogs/application_1681922012927_0001/container_1681922012927_0001_01_000002/directory.info] 2790219    8 -r-x------   1 root     root         4592 Apr 19 16:33 ./__spark_libs__/jul-to-slf4j-1.7.30.jar\n",
      "[/var/log/yarn/userlogs/application_1681922012927_0001/container_1681922012927_0001_01_000002/directory.info] 2790220  780 -r-x------   1 root     root       796532 Apr 19 16:33 ./__spark_libs__/bcpkix-jdk15on-1.60.jar\n",
      "[/var/log/yarn/userlogs/application_1681922012927_0001/container_1681922012927_0001_01_000002/directory.info] 2790221  228 -r-x------   1 root     root       232248 Apr 19 16:33 ./__spark_libs__/jackson-core-asl-1.9.13.jar\n",
      "[/var/log/yarn/userlogs/application_1681922012927_0001/container_1681922012927_0001_01_000002/directory.info] 2790222   84 -r-x------   1 root     root        85756 Apr 19 16:33 ./__spark_libs__/okio-1.14.0.jar\n",
      "[/var/log/yarn/userlogs/application_1681922012927_0001/container_1681922012927_0001_01_000002/directory.info] 2790223   60 -r-x------   1 root     root        60263 Apr 19 16:33 ./__spark_libs__/hadoop-annotations-3.2.1-amzn-3.jar\n",
      "[/var/log/yarn/userlogs/application_1681922012927_0001/container_1681922012927_0001_01_000002/directory.info] 2790224   16 -r-x------   1 root     root        13942 Apr 19 16:33 ./__spark_libs__/hive-shims-scheduler-2.3.7-amzn-4.jar\n",
      "[/var/log/yarn/userlogs/application_1681922012927_0001/container_1681922012927_0001_01_000002/directory.info] 2790225  304 -r-x------   1 root     root       310891 Apr 19 16:33 ./__spark_libs__/netlib-native_system-linux-armhf-1.1-natives.jar\n",
      "[/var/log/yarn/userlogs/application_1681922012927_0001/container_1681922012927_0001_01_000002/directory.info] 2790226   64 -r-x------   1 root     root        62050 Apr 19 16:33 ./__spark_libs__/commons-logging-1.1.3.jar\n",
      "[/var/log/yarn/userlogs/application_1681922012927_0001/container_1681922012927_0001_01_000002/directory.info] 2790227   84 -r-x------   1 root     root        85815 Apr 19 16:33 ./__spark_libs__/jersey-media-jaxb-2.30.jar\n",
      "[/var/log/yarn/userlogs/application_1681922012927_0001/container_1681922012927_0001_01_000002/directory.info] 2790228  244 -r-x------   1 root     root       246918 Apr 19 16:33 ./__spark_libs__/commons-beanutils-1.9.4.jar\n",
      "[/var/log/yarn/userlogs/application_1681922012927_0001/container_1681922012927_0001_01_000002/directory.info] 2790229  232 -r-x------   1 root     root       236660 Apr 19 16:33 ./__spark_libs__/ST4-4.0.4.jar\n",
      "[/var/log/yarn/userlogs/application_1681922012927_0001/container_1681922012927_0001_01_000002/directory.info] 2790230  176 -r-x------   1 root     root       176285 Apr 19 16:33 ./__spark_libs__/automaton-1.11-8.jar\n",
      "[/var/log/yarn/userlogs/application_1681922012927_0001/container_1681922012927_0001_01_000002/directory.info] 2790231  320 -r-x------   1 root     root       327605 Apr 19 16:33 ./__spark_libs__/hive-llap-common-2.3.7-amzn-4.jar\n",
      "[/var/log/yarn/userlogs/application_1681922012927_0001/container_1681922012927_0001_01_000002/directory.info] 2790232 1480 -r-x------   1 root     root      1515244 Apr 19 16:33 ./__spark_libs__/zookeeper-3.4.14.jar\n",
      "[/var/log/yarn/userlogs/application_1681922012927_0001/container_1681922012927_0001_01_000002/directory.info] 2790233  332 -r-x------   1 root     root       337869 Apr 19 16:33 ./__spark_libs__/antlr4-runtime-4.8-1.jar\n",
      "[/var/log/yarn/userlogs/application_1681922012927_0001/container_1681922012927_0001_01_000002/directory.info] 2790234  204 -r-x------   1 root     root       208700 Apr 19 16:33 ./__spark_libs__/commons-io-2.5.jar\n",
      "[/var/log/yarn/userlogs/application_1681922012927_0001/container_1681922012927_0001_01_000002/directory.info] 2790235   44 -r-x------   1 root     root        44513 Apr 19 16:33 ./__spark_libs__/gmetric4j-1.0.10.jar\n",
      "[/var/log/yarn/userlogs/application_1681922012927_0001/container_1681922012927_0001_01_000002/directory.info] 2790236  136 -r-x------   1 root     root       136363 Apr 19 16:33 ./__spark_libs__/HikariCP-2.5.1.jar\n",
      "[/var/log/yarn/userlogs/application_1681922012927_0001/container_1681922012927_0001_01_000002/directory.info] 2790237  232 -r-x------   1 root     root       233745 Apr 19 16:33 ./__spark_libs__/threeten-extra-1.5.0.jar\n",
      "[/var/log/yarn/userlogs/application_1681922012927_0001/container_1681922012927_0001_01_000002/directory.info] 2790238  764 -r-x------   1 root     root       780664 Apr 19 16:33 ./__spark_libs__/jackson-mapper-asl-1.9.13.jar\n",
      "[/var/log/yarn/userlogs/application_1681922012927_0001/container_1681922012927_0001_01_000002/directory.info] 2790239  480 -r-x------   1 root     root       489884 Apr 19 16:33 ./__spark_libs__/log4j-1.2.17.jar\n",
      "[/var/log/yarn/userlogs/application_1681922012927_0001/container_1681922012927_0001_01_000002/directory.info] 2790240 1076 -r-x------   1 root     root      1098935 Apr 19 16:33 ./__spark_libs__/parquet-column-1.10.1-spark-amzn-4.jar\n",
      "[/var/log/yarn/userlogs/application_1681922012927_0001/container_1681922012927_0001_01_000002/directory.info] 2790241  220 -r-x------   1 root     root       222980 Apr 19 16:33 ./__spark_libs__/scala-parser-combinators_2.12-1.1.2.jar\n",
      "[/var/log/yarn/userlogs/application_1681922012927_0001/container_1681922012927_0001_01_000002/directory.info] 2790242   76 -r-x------   1 root     root        76733 Apr 19 16:33 ./__spark_libs__/jersey-hk2-2.30.jar\n",
      "[/var/log/yarn/userlogs/application_1681922012927_0001/container_1681922012927_0001_01_000002/directory.info] 2790243 7948 -r-x------   1 root     root      8135275 Apr 19 16:33 ./__spark_libs__/spark-sql_2.12-3.1.1-amzn-0.jar\n",
      "[/var/log/yarn/userlogs/application_1681922012927_0001/container_1681922012927_0001_01_000002/directory.info] 2790244  504 -r-x------   1 root     root       512151 Apr 19 16:33 ./__spark_libs__/json4s-core_2.12-3.7.0-M5.jar\n",
      "[/var/log/yarn/userlogs/application_1681922012927_0001/container_1681922012927_0001_01_000002/directory.info] 2790245   36 -r-x------   1 root     root        34998 Apr 19 16:33 ./__spark_libs__/jackson-module-jaxb-annotations-2.10.5.jar\n",
      "[/var/log/yarn/userlogs/application_1681922012927_0001/container_1681922012927_0001_01_000002/directory.info] 2790246 1800 -r-x------   1 root     root      1839499 Apr 19 16:33 ./__spark_libs__/netlib-native_ref-osx-x86_64-1.1-natives.jar\n",
      "[/var/log/yarn/userlogs/application_1681922012927_0001/container_1681922012927_0001_01_000002/directory.info] 2790247   16 -r-x------   1 root     root        15935 Apr 19 16:33 ./__spark_libs__/dropwizard-metrics-hadoop-metrics2-reporter-0.1.2.jar\n",
      "[/var/log/yarn/userlogs/application_1681922012927_0001/container_1681922012927_0001_01_000002/directory.info] 2790248 6260 -r-x------   1 root     root      6407352 Apr 19 16:33 ./__spark_libs__/zstd-jni-1.4.8-1.jar\n",
      "[/var/log/yarn/userlogs/application_1681922012927_0001/container_1681922012927_0001_01_000002/directory.info] 2790249 1864 -r-x------   1 root     root      1908681 Apr 19 16:33 ./__spark_libs__/datanucleus-rdbms-4.1.19.jar\n",
      "[/var/log/yarn/userlogs/application_1681922012927_0001/container_1681922012927_0001_01_000002/directory.info] 2790250 2348 -r-x------   1 root     root      2400610 Apr 19 16:33 ./__spark_libs__/spark-network-common_2.12-3.1.1-amzn-0.jar\n",
      "[/var/log/yarn/userlogs/application_1681922012927_0001/container_1681922012927_0001_01_000002/directory.info] 2790251  440 -r-x------   1 root     root       447005 Apr 19 16:33 ./__spark_libs__/univocity-parsers-2.9.1.jar\n",
      "[/var/log/yarn/userlogs/application_1681922012927_0001/container_1681922012927_0001_01_000002/directory.info] 2790252   32 -r-x------   1 root     root        30674 Apr 19 16:33 ./__spark_libs__/kerby-config-1.0.1.jar\n",
      "[/var/log/yarn/userlogs/application_1681922012927_0001/container_1681922012927_0001_01_000002/directory.info] 2790253   48 -r-x------   1 root     root        48202 Apr 19 16:33 ./__spark_libs__/orc-mapreduce-1.5.12.jar\n",
      "[/var/log/yarn/userlogs/application_1681922012927_0001/container_1681922012927_0001_01_000002/directory.info] 2790254 3168 -r-x------   1 root     root      3243337 Apr 19 16:33 ./__spark_libs__/shapeless_2.12-2.3.3.jar\n",
      "[/var/log/yarn/userlogs/application_1681922012927_0001/container_1681922012927_0001_01_000002/directory.info] 2790255 2368 -r-x------   1 root     root      2423157 Apr 19 16:33 ./__spark_libs__/curator-client-2.13.0.jar\n",
      "[/var/log/yarn/userlogs/application_1681922012927_0001/container_1681922012927_0001_01_000002/directory.info] 2790256   20 -r-x------   1 root     root        18497 Apr 19 16:33 ./__spark_libs__/flatbuffers-java-1.9.0.jar\n",
      "[/var/log/yarn/userlogs/application_1681922012927_0001/container_1681922012927_0001_01_000002/directory.info] 2790257  320 -r-x------   1 root     root       326874 Apr 19 16:33 ./__spark_libs__/httpcore-4.4.11.jar\n",
      "[/var/log/yarn/userlogs/application_1681922012927_0001/container_1681922012927_0001_01_000002/directory.info] 2790258   96 -r-x------   1 root     root        95171 Apr 19 16:33 ./__spark_libs__/parquet-common-1.10.1-spark-amzn-4.jar\n",
      "[/var/log/yarn/userlogs/application_1681922012927_0001/container_1681922012927_0001_01_000002/directory.info] 2790320  444 -r-x------   1 root     root       454201 Apr 19 16:33 ./__spark_libs__/logback-core-1.2.9.jar\n",
      "[/var/log/yarn/userlogs/application_1681922012927_0001/container_1681922012927_0001_01_000002/directory.info] 2790259  532 -r-x------   1 root     root       542288 Apr 19 16:33 ./__spark_libs__/spark-hive-thriftserver_2.12-3.1.1-amzn-0.jar\n",
      "[/var/log/yarn/userlogs/application_1681922012927_0001/container_1681922012927_0001_01_000002/directory.info] 2790321  888 -r-x------   1 root     root       908015 Apr 19 16:33 ./__spark_libs__/SMClarify-assembly-0.1.jar\n",
      "[/var/log/yarn/userlogs/application_1681922012927_0001/container_1681922012927_0001_01_000002/directory.info] 2790314  152 -r-x------   1 root     root       153385 Apr 19 16:33 ./__spark_libs__/aws-glue-datacatalog-spark-client-3.2.0.jar\n",
      "[/var/log/yarn/userlogs/application_1681922012927_0001/container_1681922012927_0001_01_000002/directory.info] 2790260   76 -r-x------   1 root     root        76983 Apr 19 16:33 ./__spark_libs__/guice-servlet-4.0.jar\n",
      "[/var/log/yarn/userlogs/application_1681922012927_0001/container_1681922012927_0001_01_000002/directory.info] 2790261  900 -r-x------   1 root     root       919285 Apr 19 16:33 ./__spark_libs__/hive-serde-2.3.7-amzn-4.jar\n",
      "[/var/log/yarn/userlogs/application_1681922012927_0001/container_1681922012927_0001_01_000002/directory.info] 2790262   92 -r-x------   1 root     root        93210 Apr 19 16:33 ./__spark_libs__/super-csv-2.2.0.jar\n",
      "[/var/log/yarn/userlogs/application_1681922012927_0001/container_1681922012927_0001_01_000002/directory.info] 2790263 4120 -r-x------   1 root     root      4216895 Apr 19 16:33 ./__spark_libs__/netty-all-4.1.51.Final.jar\n",
      "[/var/log/yarn/userlogs/application_1681922012927_0001/container_1681922012927_0001_01_000002/directory.info] 2790264  116 -r-x------   1 root     root       117920 Apr 19 16:33 ./__spark_libs__/hive-jdbc-2.3.7-amzn-4.jar\n",
      "[/var/log/yarn/userlogs/application_1681922012927_0001/container_1681922012927_0001_01_000002/directory.info] 2790265   44 -r-x------   1 root     root        44168 Apr 19 16:33 ./__spark_libs__/hadoop-client-3.2.1-amzn-3.jar\n",
      "[/var/log/yarn/userlogs/application_1681922012927_0001/container_1681922012927_0001_01_000002/directory.info] 2790266 1924 -r-x------   1 root     root      1969177 Apr 19 16:33 ./__spark_libs__/snappy-java-1.1.8.2.jar\n",
      "[/var/log/yarn/userlogs/application_1681922012927_0001/container_1681922012927_0001_01_000002/directory.info] 2790267   40 -r-x------   1 root     root        39931 Apr 19 16:33 ./__spark_libs__/arrow-memory-netty-2.0.0.jar\n",
      "[/var/log/yarn/userlogs/application_1681922012927_0001/container_1681922012927_0001_01_000002/directory.info] 2790268  100 -r-x------   1 root     root        99555 Apr 19 16:33 ./__spark_libs__/xz-1.5.jar\n",
      "[/var/log/yarn/userlogs/application_1681922012927_0001/container_1681922012927_0001_01_000002/directory.info] 2790269  636 -r-x------   1 root     root       649950 Apr 19 16:33 ./__spark_libs__/lz4-java-1.7.1.jar\n",
      "[/var/log/yarn/userlogs/application_1681922012927_0001/container_1681922012927_0001_01_000002/directory.info] 2790270  604 -r-x------   1 root     root       616888 Apr 19 16:33 ./__spark_libs__/commons-configuration2-2.1.1.jar\n",
      "[/var/log/yarn/userlogs/application_1681922012927_0001/container_1681922012927_0001_01_000002/directory.info] 2790271 1972 -r-x------   1 root     root      2016766 Apr 19 16:33 ./__spark_libs__/datanucleus-core-4.1.17.jar\n",
      "[/var/log/yarn/userlogs/application_1681922012927_0001/container_1681922012927_0001_01_000002/directory.info] 2790272  176 -r-x------   1 root     root       178149 Apr 19 16:33 ./__spark_libs__/stream-2.9.6.jar\n",
      "[/var/log/yarn/userlogs/application_1681922012927_0001/container_1681922012927_0001_01_000002/directory.info] 2790273  200 -r-x------   1 root     root       203358 Apr 19 16:33 ./__spark_libs__/hk2-locator-2.6.1.jar\n",
      "[/var/log/yarn/userlogs/application_1681922012927_0001/container_1681922012927_0001_01_000002/directory.info] 2790274 1988 -r-x------   1 root     root      2035066 Apr 19 16:33 ./__spark_libs__/commons-math3-3.4.1.jar\n",
      "[/var/log/yarn/userlogs/application_1681922012927_0001/container_1681922012927_0001_01_000002/directory.info] 2790275   36 -r-x------   1 root     root        35943 Apr 19 16:33 ./__spark_libs__/json4s-jackson_2.12-3.7.0-M5.jar\n",
      "[/var/log/yarn/userlogs/application_1681922012927_0001/container_1681922012927_0001_01_000002/directory.info] 2790276 6012 -r-x------   1 root     root      6154474 Apr 19 16:33 ./__spark_libs__/spark-mllib_2.12-3.1.1-amzn-0.jar\n",
      "[/var/log/yarn/userlogs/application_1681922012927_0001/container_1681922012927_0001_01_000002/directory.info] 2790277  388 -r-x------   1 root     root       395195 Apr 19 16:33 ./__spark_libs__/javolution-5.5.1.jar\n",
      "[/var/log/yarn/userlogs/application_1681922012927_0001/container_1681922012927_0001_01_000002/directory.info] 2790278 10504 -r-x------   1 root     root     10752238 Apr 19 16:33 ./__spark_libs__/spark-core_2.12-3.1.1-amzn-0.jar\n",
      "[/var/log/yarn/userlogs/application_1681922012927_0001/container_1681922012927_0001_01_000002/directory.info] 2790279  244 -r-x------   1 root     root       246445 Apr 19 16:33 ./__spark_libs__/libthrift-0.12.0.jar\n",
      "[/var/log/yarn/userlogs/application_1681922012927_0001/container_1681922012927_0001_01_000002/directory.info] 2790315  160 -r-x------   1 root     root       159755 Apr 19 16:33 ./__spark_libs__/aws-glue-datacatalog-hive3-client-3.2.0.jar\n",
      "[/var/log/yarn/userlogs/application_1681922012927_0001/container_1681922012927_0001_01_000002/directory.info] 2790280   20 -r-x------   1 root     root        16537 Apr 19 16:33 ./__spark_libs__/jcl-over-slf4j-1.7.30.jar\n",
      "[/var/log/yarn/userlogs/application_1681922012927_0001/container_1681922012927_0001_01_000002/directory.info] 2790281    4 -r-x------   1 root     root         3180 Apr 19 16:33 ./__spark_libs__/macro-compat_2.12-1.1.1.jar\n",
      "[/var/log/yarn/userlogs/application_1681922012927_0001/container_1681922012927_0001_01_000002/directory.info] 2790282  344 -r-x------   1 root     root       349331 Apr 19 16:33 ./__spark_libs__/jackson-core-2.10.5.jar\n",
      "[/var/log/yarn/userlogs/application_1681922012927_0001/container_1681922012927_0001_01_000002/directory.info] 2790316  160 -r-x------   1 root     root       159755 Apr 19 16:33 ./__spark_libs__/aws-glue-datacatalog-hive3-client.jar\n",
      "[/var/log/yarn/userlogs/application_1681922012927_0001/container_1681922012927_0001_01_000002/directory.info] 2790283  280 -r-x------   1 root     root       284220 Apr 19 16:33 ./__spark_libs__/commons-lang-2.6.jar\n",
      "[/var/log/yarn/userlogs/application_1681922012927_0001/container_1681922012927_0001_01_000002/directory.info] 2790284  208 -r-x------   1 root     root       211523 Apr 19 16:33 ./__spark_libs__/chill_2.12-0.9.5.jar\n",
      "[/var/log/yarn/userlogs/application_1681922012927_0001/container_1681922012927_0001_01_000002/directory.info] 2790285   28 -r-x------   1 root     root        25058 Apr 19 16:33 ./__spark_libs__/jakarta.annotation-api-1.3.5.jar\n",
      "[/var/log/yarn/userlogs/application_1681922012927_0001/container_1681922012927_0001_01_000002/directory.info] 2790286    8 -r-x------   1 root     root         5711 Apr 19 16:33 ./__spark_libs__/minlog-1.3.0.jar\n",
      "[/var/log/yarn/userlogs/application_1681922012927_0001/container_1681922012927_0001_01_000002/directory.info] 2790287   20 -r-x------   1 root     root        18140 Apr 19 16:33 ./__spark_libs__/jakarta.inject-2.6.1.jar\n",
      "[/var/log/yarn/userlogs/application_1681922012927_0001/container_1681922012927_0001_01_000002/directory.info] 2790288  184 -r-x------   1 root     root       187052 Apr 19 16:33 ./__spark_libs__/avro-mapred-1.8.2-hadoop2.jar\n",
      "[/var/log/yarn/userlogs/application_1681922012927_0001/container_1681922012927_0001_01_000002/directory.info] 2790289  448 -r-x------   1 root     root       458605 Apr 19 16:33 ./__spark_libs__/netlib-native_system-linux-x86_64-1.1-natives.jar\n",
      "[/var/log/yarn/userlogs/application_1681922012927_0001/container_1681922012927_0001_01_000002/directory.info] 2790290   20 -r-x------   1 root     root        18763 Apr 19 16:33 ./__spark_libs__/token-provider-1.0.1.jar\n",
      "[/var/log/yarn/userlogs/application_1681922012927_0001/container_1681922012927_0001_01_000002/directory.info] 2790291  576 -r-x------   1 root     root       588337 Apr 19 16:33 ./__spark_libs__/commons-collections-3.2.2.jar\n",
      "[/var/log/yarn/userlogs/application_1681922012927_0001/container_1681922012927_0001_01_000002/directory.info] 2790292 1140 -r-x------   1 root     root      1166647 Apr 19 16:33 ./__spark_libs__/jersey-common-2.30.jar\n",
      "[/var/log/yarn/userlogs/application_1681922012927_0001/container_1681922012927_0001_01_000002/directory.info] 2790293   16 -r-x------   1 root     root        15071 Apr 19 16:33 ./__spark_libs__/jta-1.1.jar\n",
      "[/var/log/yarn/userlogs/application_1681922012927_0001/container_1681922012927_0001_01_000002/directory.info] 2790294   44 -r-x------   1 root     root        41123 Apr 19 16:33 ./__spark_libs__/commons-cli-1.2.jar\n",
      "[/var/log/yarn/userlogs/application_1681922012927_0001/container_1681922012927_0001_01_000002/directory.info] 2790295  432 -r-x------   1 root     root       439465 Apr 19 16:33 ./__spark_libs__/hive-common-2.3.7-amzn-4.jar\n",
      "[/var/log/yarn/userlogs/application_1681922012927_0001/container_1681922012927_0001_01_000002/directory.info] 2790296   60 -r-x------   1 root     root        58684 Apr 19 16:33 ./__spark_libs__/chill-java-0.9.5.jar\n",
      "[/var/log/yarn/userlogs/application_1681922012927_0001/container_1681922012927_0001_01_000002/directory.info] 2790297    8 -r-x------   1 root     root         4467 Apr 19 16:33 ./__spark_libs__/aopalliance-1.0.jar\n",
      "[/var/log/yarn/userlogs/application_1681922012927_0001/container_1681922012927_0001_01_000002/directory.info] 2790298 1468 -r-x------   1 root     root      1502280 Apr 19 16:33 ./__spark_libs__/htrace-core4-4.1.0-incubating.jar\n",
      "[/var/log/yarn/userlogs/application_1681922012927_0001/container_1681922012927_0001_01_000002/directory.info] 2790299  264 -r-x------   1 root     root       268780 Apr 19 16:33 ./__spark_libs__/jline-2.14.6.jar\n",
      "[/var/log/yarn/userlogs/application_1681922012927_0001/container_1681922012927_0001_01_000002/directory.info] 2790300   28 -r-x------   1 root     root        27755 Apr 19 16:33 ./__spark_libs__/orc-shims-1.5.12.jar\n",
      "[/var/log/yarn/userlogs/application_1681922012927_0001/container_1681922012927_0001_01_000002/directory.info] 2790301 1116 -r-x------   1 root     root      1141204 Apr 19 16:33 ./__spark_libs__/spark-streaming_2.12-3.1.1-amzn-0.jar\n",
      "[/var/log/yarn/userlogs/application_1681922012927_0001/container_1681922012927_0001_01_000002/directory.info] 2790302   36 -r-x------   1 root     root        33205 Apr 19 16:33 ./__spark_libs__/jackson-jaxrs-base-2.10.5.jar\n",
      "[/var/log/yarn/userlogs/application_1681922012927_0001/container_1681922012927_0001_01_000002/directory.info] 2790303 7020 -r-x------   1 root     root      7188024 Apr 19 16:33 ./__spark_libs__/spire_2.12-0.17.0-M1.jar\n",
      "[/var/log/yarn/userlogs/application_1681922012927_0001/container_1681922012927_0001_01_000002/directory.info] 2790304   16 -r-x------   1 root     root        15562 Apr 19 16:33 ./__spark_libs__/jackson-jaxrs-json-provider-2.10.5.jar\n",
      "[/var/log/yarn/userlogs/application_1681922012927_0001/container_1681922012927_0001_01_000002/directory.info] 2790305  128 -r-x------   1 root     root       127582 Apr 19 16:33 ./__spark_libs__/spark-network-shuffle_2.12-3.1.1-amzn-0.jar\n",
      "[/var/log/yarn/userlogs/application_1681922012927_0001/container_1681922012927_0001_01_000002/directory.info] 2790306  132 -r-x------   1 root     root       132989 Apr 19 16:33 ./__spark_libs__/avro-ipc-1.8.2.jar\n",
      "[/var/log/yarn/userlogs/application_1681922012927_0001/container_1681922012927_0001_01_000002/directory.info] 2790307   28 -r-x------   1 root     root        27156 Apr 19 16:33 ./__spark_libs__/istack-commons-runtime-3.0.8.jar\n",
      "[/var/log/yarn/userlogs/application_1681922012927_0001/container_1681922012927_0001_01_000002/directory.info] 2790317 211800 -r-x------   1 root     root     216879203 Apr 19 16:33 ./__spark_libs__/aws-java-sdk-bundle-1.11.977.jar\n",
      "[/var/log/yarn/userlogs/application_1681922012927_0001/container_1681922012927_0001_01_000002/directory.info] 2790308  356 -r-x------   1 root     root       363074 Apr 19 16:33 ./__spark_libs__/spark-yarn_2.12-3.1.1-amzn-0.jar\n",
      "[/var/log/yarn/userlogs/application_1681922012927_0001/container_1681922012927_0001_01_000002/directory.info] 2790309  544 -r-x------   1 root     root       553993 Apr 19 16:33 ./__spark_libs__/netlib-native_system-osx-x86_64-1.1-natives.jar\n",
      "[/var/log/yarn/userlogs/application_1681922012927_0001/container_1681922012927_0001_01_000002/directory.info] 2790310  116 -r-x------   1 root     root       115371 Apr 19 16:33 ./__spark_libs__/spark-mllib-local_2.12-3.1.1-amzn-0.jar\n",
      "[/var/log/yarn/userlogs/application_1681922012927_0001/container_1681922012927_0001_01_000002/directory.info] 2790350    4 -rw-r--r--   1 root     root           56 Apr 19 16:34 ./.launch_container.sh.crc\n",
      "[/var/log/yarn/userlogs/application_1681922012927_0001/container_1681922012927_0001_01_000002/directory.info] 2790002  872 -r-x------   1 root     root       889814 Apr 19 16:33 ./pyspark.zip\n",
      "[/var/log/yarn/userlogs/application_1681922012927_0001/container_1681922012927_0001_01_000002/directory.info] 2790351    4 -rwx------   1 root     root          668 Apr 19 16:34 ./default_container_executor_session.sh\n",
      "[/var/log/yarn/userlogs/application_1681922012927_0001/container_1681922012927_0001_01_000002/directory.info] 2790354    4 -rw-r--r--   1 root     root           16 Apr 19 16:34 ./.default_container_executor.sh.crc\n",
      "[/var/log/yarn/userlogs/application_1681922012927_0001/container_1681922012927_0001_01_000002/directory.info] 2790347    4 -rw-r--r--   1 root     root           85 Apr 19 16:34 ./container_tokens\n",
      "[/var/log/yarn/userlogs/application_1681922012927_0001/container_1681922012927_0001_01_000002/directory.info] 2790327  232 -r-x------   1 root     root       233855 Apr 19 16:34 ./logback-classic-1.2.9.jar\n",
      "[/var/log/yarn/userlogs/application_1681922012927_0001/container_1681922012927_0001_01_000002/directory.info] 2790352    4 -rw-r--r--   1 root     root           16 Apr 19 16:34 ./.default_container_executor_session.sh.crc\n",
      "[/var/log/yarn/userlogs/application_1681922012927_0001/container_1681922012927_0001_01_000002/directory.info] 2790349    8 -rwx------   1 root     root         5916 Apr 19 16:34 ./launch_container.sh\n",
      "[/var/log/yarn/userlogs/application_1681922012927_0001/container_1681922012927_0001_01_000002/directory.info] 2790336   24 -r-x------   1 root     root        23702 Apr 19 16:34 ./log4j-over-slf4j-1.7.30.jar\n",
      "[/var/log/yarn/userlogs/application_1681922012927_0001/container_1681922012927_0001_01_000002/directory.info] 2790333   44 -r-x------   1 root     root        41587 Apr 19 16:34 ./py4j-0.10.9-src.zip\n",
      "[/var/log/yarn/userlogs/application_1681922012927_0001/container_1681922012927_0001_01_000002/directory.info] 2790353    4 -rwx------   1 root     root          723 Apr 19 16:34 ./default_container_executor.sh\n",
      "[/var/log/yarn/userlogs/application_1681922012927_0001/container_1681922012927_0001_01_000002/directory.info] 2790346    4 drwx--x---   2 root     root         4096 Apr 19 16:34 ./tmp\n",
      "[/var/log/yarn/userlogs/application_1681922012927_0001/container_1681922012927_0001_01_000002/directory.info] 2790324  444 -r-x------   1 root     root       454201 Apr 19 16:34 ./logback-core-1.2.9.jar\n",
      "[/var/log/yarn/userlogs/application_1681922012927_0001/container_1681922012927_0001_01_000002/directory.info] 2790330  888 -r-x------   1 root     root       908015 Apr 19 16:34 ./SMClarify-assembly-0.1.jar\n",
      "[/var/log/yarn/userlogs/application_1681922012927_0001/container_1681922012927_0001_01_000002/directory.info] 2790348    4 -rw-r--r--   1 root     root           12 Apr 19 16:34 ./.container_tokens.crc\n",
      "[/var/log/yarn/userlogs/application_1681922012927_0001/container_1681922012927_0001_01_000002/directory.info] 2790005    4 drwx------   3 root     root         4096 Apr 19 16:33 ./__spark_conf__\n",
      "[/var/log/yarn/userlogs/application_1681922012927_0001/container_1681922012927_0001_01_000002/directory.info] 2790032    4 -r-x------   1 root     root         3341 Apr 19 16:33 ./__spark_conf__/__spark_conf__.properties\n",
      "[/var/log/yarn/userlogs/application_1681922012927_0001/container_1681922012927_0001_01_000002/directory.info] 2790006   16 -r-x------   1 root     root        15000 Apr 19 16:33 ./__spark_conf__/log4j.properties\n",
      "[/var/log/yarn/userlogs/application_1681922012927_0001/container_1681922012927_0001_01_000002/directory.info] 2790031  128 -r-x------   1 root     root       129841 Apr 19 16:33 ./__spark_conf__/__spark_hadoop_conf__.xml\n",
      "[/var/log/yarn/userlogs/application_1681922012927_0001/container_1681922012927_0001_01_000002/directory.info] 2790007    4 drwx------   2 root     root         4096 Apr 19 16:33 ./__spark_conf__/__hadoop_conf__\n",
      "[/var/log/yarn/userlogs/application_1681922012927_0001/container_1681922012927_0001_01_000002/directory.info] 2790008   16 -r-x------   1 root     root        16379 Apr 19 16:33 ./__spark_conf__/__hadoop_conf__/hadoop-env.sh\n",
      "[/var/log/yarn/userlogs/application_1681922012927_0001/container_1681922012927_0001_01_000002/directory.info] 2790016    4 -r-x------   1 root     root         1061 Apr 19 16:33 ./__spark_conf__/__hadoop_conf__/logback.xml\n",
      "[/var/log/yarn/userlogs/application_1681922012927_0001/container_1681922012927_0001_01_000002/directory.info] 2790019    4 -r-x------   1 root     root         1335 Apr 19 16:33 ./__spark_conf__/__hadoop_conf__/configuration.xsl\n",
      "[/var/log/yarn/userlogs/application_1681922012927_0001/container_1681922012927_0001_01_000002/directory.info] 2790025   16 -r-x------   1 root     root        14890 Apr 19 16:33 ./__spark_conf__/__hadoop_conf__/log4j.properties.default\n",
      "[/var/log/yarn/userlogs/application_1681922012927_0001/container_1681922012927_0001_01_000002/directory.info] 2790030    4 -r-x------   1 root     root         1764 Apr 19 16:33 ./__spark_conf__/__hadoop_conf__/mapred-env.sh.default\n",
      "[/var/log/yarn/userlogs/application_1681922012927_0001/container_1681922012927_0001_01_000002/directory.info] 2790018    4 -r-x------   1 root     root         3593 Apr 19 16:33 ./__spark_conf__/__hadoop_conf__/container-log4j.properties.default\n",
      "[/var/log/yarn/userlogs/application_1681922012927_0001/container_1681922012927_0001_01_000002/directory.info] 2790009    4 -r-x------   1 root     root          758 Apr 19 16:33 ./__spark_conf__/__hadoop_conf__/mapred-site.xml\n",
      "[/var/log/yarn/userlogs/application_1681922012927_0001/container_1681922012927_0001_01_000002/directory.info] 2790017   12 -r-x------   1 root     root         8260 Apr 19 16:33 ./__spark_conf__/__hadoop_conf__/capacity-scheduler.xml\n",
      "[/var/log/yarn/userlogs/application_1681922012927_0001/container_1681922012927_0001_01_000002/directory.info] 2790010   16 -r-x------   1 root     root        15000 Apr 19 16:33 ./__spark_conf__/__hadoop_conf__/log4j.properties\n",
      "[/var/log/yarn/userlogs/application_1681922012927_0001/container_1681922012927_0001_01_000002/directory.info] 2790015    4 -r-x------   1 root     root          985 Apr 19 16:33 ./__spark_conf__/__hadoop_conf__/core-site.xml\n",
      "[/var/log/yarn/userlogs/application_1681922012927_0001/container_1681922012927_0001_01_000002/directory.info] 2790021    8 -r-x------   1 root     root         6090 Apr 19 16:33 ./__spark_conf__/__hadoop_conf__/yarn-env.sh\n",
      "[/var/log/yarn/userlogs/application_1681922012927_0001/container_1681922012927_0001_01_000002/directory.info] 2790013   12 -r-x------   1 root     root         8260 Apr 19 16:33 ./__spark_conf__/__hadoop_conf__/capacity-scheduler.xml.default\n",
      "[/var/log/yarn/userlogs/application_1681922012927_0001/container_1681922012927_0001_01_000002/directory.info] 2790027    4 -r-x------   1 root     root         3593 Apr 19 16:33 ./__spark_conf__/__hadoop_conf__/container-log4j.properties\n",
      "[/var/log/yarn/userlogs/application_1681922012927_0001/container_1681922012927_0001_01_000002/dirINFO:analyzer.utils.spark_util:Generating dataframe index took 1.10 seconds.\n",
      "INFO:analyzer.utils.spark_util:===================================================\n",
      "INFO:analyzer.spark_driver:Loading dataset took 6.87 seconds.\n",
      "INFO:analyzer.spark_driver:===================================================\n",
      "16:34:05.298 [Thread-6] WARN  o.a.spark.sql.catalyst.util.package - Truncated the string representation of a plan since it was too large. This behavior can be adjusted by setting 'spark.sql.debug.maxToStringFields'.\n",
      "INFO:analyzer.spark_driver:Dataset loaded. 28831 rows, 61 columns.\n",
      "INFO:analyzer.predictor:Spinning up shadow endpoint\n",
      "INFO:sagemaker:Creating endpoint-config with name sm-clarify-config-1681922049-c95c\n",
      "INFO:analyzer.predictor:Creating endpoint: 'sm-clarify-from-idea-to-prod-transform-19-14-23-1681922049-391f'\n",
      "INFO:botocore.client:No endpoints ruleset found for service sagemaker-internal, falling back to legacy endpoint routing.\n",
      "INFO:analyzer.spark_driver:Spark is using endpoint name: 'sm-clarify-from-idea-to-prod-transform-19-14-23-1681922049-391f'\n",
      "INFO:analyzer.spark_driver:Waiting for endpoint ...\n",
      "INFO:analyzer.predictor:Checking endpoint status:\n",
      "Legend:\n",
      "(OutOfService: x, Creating: -, Updating: -, InService: !, RollingBack: <, Deleting: o, Failed: *)\n",
      "--!INFO:analyzer.predictor:Endpoint is in service after 181 seconds\n",
      "INFO:analyzer.spark_driver:Endpoint ready.\n",
      "INFO:analyzer.spark_driver:Running shap explanations\n",
      "INFO:analyzer.utils.spark_util:Using 64 partitions for the spark dataset of size: 28831\n",
      "INFO:explainers.background_dataset.bg_dataset_selector:Calculating background dataset from data\n",
      "INFO:explainers.pandas_data_classifier:column '0':\n",
      "#011Data uniqueness fraction: 0.002636051472373487, pandas type int32, inferred type: DataType.CATEGORICAL\n",
      "INFO:explainers.pandas_data_classifier:column '1':\n",
      "#011Data uniqueness fraction: 0.0013873955117755193, pandas type int32, inferred type: DataType.CATEGORICAL\n",
      "INFO:explainers.pandas_data_classifier:column '2':\n",
      "#011Data uniqueness fraction: 0.0008324373070653117, pandas type int32, inferred type: DataType.CATEGORICAL\n",
      "INFO:explainers.pandas_data_classifier:column '3':\n",
      "#011Data uniqueness fraction: 0.0002774791023551039, pandas type int32, inferred type: DataType.CATEGORICAL\n",
      "INFO:explainers.pandas_data_classifier:column '4':\n",
      "#011Data uniqueness fraction: 6.936977558877598e-05, pandas type int32, inferred type: DataType.CATEGORICAL\n",
      "INFO:explainers.pandas_data_classifier:column '5':\n",
      "#011Data uniqueness fraction: 6.936977558877598e-05, pandas type int32, inferred type: DataType.CATEGORICAL\n",
      "INFO:explainers.pandas_data_classifier:column '6':\n",
      "#011Data uniqueness fraction: 6.936977558877598e-05, pandas type int32, inferred type: DataType.CATEGORICAL\n",
      "INFO:explainers.pandas_data_classifier:column '7':\n",
      "#011Data uniqueness fraction: 6.936977558877598e-05, pandas type int32, inferred type: DataType.CATEGORICAL\n",
      "INFO:explainers.pandas_data_classifier:column '8':\n",
      "#011Data uniqueness fraction: 6.936977558877598e-05, pandas type int32, inferred type: DataType.CATEGORICAL\n",
      "INFO:explainers.pandas_data_classifier:column '9':\n",
      "#011Data uniqueness fraction: 6.936977558877598e-05, pandas type int32, inferred type: DataType.CATEGORICAL\n",
      "INFO:explainers.pandas_data_classifier:column '10':\n",
      "#011Data uniqueness fraction: 6.936977558877598e-05, pandas type int32, inferred type: DataType.CATEGORICAL\n",
      "INFO:explainers.pandas_data_classifier:column '11':\n",
      "#011Data uniqueness fraction: 6.936977558877598e-05, pandas type int32, inferred type: DataType.CATEGORICAL\n",
      "INFO:explainers.pandas_data_classifier:column '12':\n",
      "#011Data uniqueness fraction: 6.936977558877598e-05, pandas type int32, inferred type: DataType.CATEGORICAL\n",
      "INFO:explainers.pandas_data_classifier:column '13':\n",
      "#011Data uniqueness fraction: 6.936977558877598e-05, pandas type int32, inferred type: DataType.CATEGORICAL\n",
      "INFO:explainers.pandas_data_classifier:column '14':\n",
      "#011Data uniqueness fraction: 6.936977558877598e-05, pandas type int32, inferred type: DataType.CATEGORICAL\n",
      "INFO:explainers.pandas_data_classifier:column '15':\n",
      "#011Data uniqueness fraction: 6.936977558877598e-05, pandas type int32, inferred type: DataType.CATEGORICAL\n",
      "INFO:explainers.pandas_data_classifier:column '16':\n",
      "#011Data uniqueness fraction: 6.936977558877598e-05, pandas type int32, inferred type: DataType.CATEGORICAL\n",
      "INFO:explainers.pandas_data_classifier:column '17':\n",
      "#011Data uniqueness fraction: 6.936977558877598e-05, pandas type int32, inferred type: DataType.CATEGORICAL\n",
      "INFO:explainers.pandas_data_classifier:column '18':\n",
      "#011Data uniqueness fraction: 6.936977558877598e-05, pandas type int32, inferred type: DataType.CATEGORICAL\n",
      "INFO:explainers.pandas_data_classifier:column '19':\n",
      "#011Data uniqueness fraction: 6.936977558877598e-05, pandas type int32, inferred type: DataType.CATEGORICAL\n",
      "INFO:explainers.pandas_data_classifier:column '20':\n",
      "#011Data uniqueness fraction: 6.936977558877598e-05, pandas type int32, inferred type: DataType.CATEGORICAL\n",
      "INFO:explainers.pandas_data_classifier:column '21':\n",
      "#011Data uniqueness fraction: 6.936977558877598e-05, pandas type int32, inferred type: DataType.CATEGORICAL\n",
      "INFO:explainers.pandas_data_classifier:column '22':\n",
      "#011Data uniqueness fraction: 6.936977558877598e-05, pandas type int32, inferred type: DataType.CATEGORICAL\n",
      "INFO:explainers.pandas_data_classifier:column '23':\n",
      "#011Data uniqueness fraction: 6.936977558877598e-05, pandas type int32, inferred type: DataType.CATEGORICAL\n",
      "INFO:explainers.pandas_data_classifier:column '24':\n",
      "#011Data uniqueness fraction: 6.936977558877598e-05, pandas type int32, inferred type: DataType.CATEGORICAL\n",
      "INFO:explainers.pandas_data_classifier:column '25':\n",
      "#011Data uniqueness fraction: 6.936977558877598e-05, pandas type int32, inferred type: DataType.CATEGORICAL\n",
      "INFO:explainers.pandas_data_classifier:column '26':\n",
      "#011Data uniqueness fraction: 6.936977558877598e-05, pandas type int32, inferred type: DataType.CATEGORICAL\n",
      "INFO:explainers.pandas_data_classifier:column '27':\n",
      "#011Data uniqueness fraction: 6.936977558877598e-05, pandas type int32, inferred type: DataType.CATEGORICAL\n",
      "INFO:explainers.pandas_data_classifier:column '28':\n",
      "#011Data uniqueness fraction: 6.936977558877598e-05, pandas type int32, inferred type: DataType.CATEGORICAL\n",
      "INFO:explainers.pandas_data_classifier:column '29':\n",
      "#011Data uniqueness fraction: 6.936977558877598e-05, pandas type int32, inferred type: DataType.CATEGORICAL\n",
      "INFO:explainers.pandas_data_classifier:column '30':\n",
      "#011Data uniqueness fraction: 6.936977558877598e-05, pandas type int32, inferred type: DataType.CATEGORICAL\n",
      "INFO:explainers.pandas_data_classifier:column '31':\n",
      "#011Data uniqueness fraction: 6.936977558877598e-05, pandas type int32, inferred type: DataType.CATEGORICAL\n",
      "INFO:explainers.pandas_data_classifier:column '32':\n",
      "#011Data uniqueness fraction: 6.936977558877598e-05, pandas type int32, inferred type: DataType.CATEGORICAL\n",
      "INFO:explainers.pandas_data_classifier:column '33':\n",
      "#011Data uniqueness fraction: 6.936977558877598e-05, pandas type int32, inferred type: DataType.CATEGORICAL\n",
      "INFO:explainers.pandas_data_classifier:column '34':\n",
      "#011Data uniqueness fraction: 6.936977558877598e-05, pandas type int32, inferred type: DataType.CATEGORICAL\n",
      "INFO:explainers.pandas_data_classifier:column '35':\n",
      "#011Data uniqueness fraction: 6.936977558877598e-05, pandas type int32, inferred type: DataType.CATEGORICAL\n",
      "INFO:explainers.pandas_data_classifier:column '36':\n",
      "#011Data uniqueness fraction: 6.936977558877598e-05, pandas type int32, inferred type: DataType.CATEGORICAL\n",
      "INFO:explainers.pandas_data_classifier:column '37':\n",
      "#011Data uniqueness fraction: 6.936977558877598e-05, pandas type int32, inferred type: DataType.CATEGORICAL\n",
      "INFO:explainers.pandas_data_classifier:column '38':\n",
      "#011Data uniqueness fraction: 6.936977558877598e-05, pandas type int32, inferred type: DataType.CATEGORICAL\n",
      "INFO:explainers.pandas_data_classifier:column '39':\n",
      "#011Data uniqueness fraction: 6.936977558877598e-05, pandas type int32, inferred type: DataType.CATEGORICAL\n",
      "INFO:explainers.pandas_data_classifier:column '40':\n",
      "#011Data uniqueness fraction: 6.936977558877598e-05, pandas type int32, inferred type: DataType.CATEGORICAL\n",
      "INFO:explainers.pandas_data_classifier:column '41':\n",
      "#011Data uniqueness fraction: 6.936977558877598e-05, pandas type int32, inferred type: DataType.CATEGORICAL\n",
      "INFO:explainers.pandas_data_classifier:column '42':\n",
      "#011Data uniqueness fraction: 6.936977558877598e-05, pandas type int32, inferred type: DataType.CATEGORICAL\n",
      "INFO:explainers.pandas_data_classifier:column '43':\n",
      "#011Data uniqueness fraction: 6.936977558877598e-05, pandas type int32, inferred type: DataType.CATEGORICAL\n",
      "INFO:explainers.pandas_data_classifier:column '44':\n",
      "#011Data uniqueness fraction: 6.936977558877598e-05, pandas type int32, inferred type: DataType.CATEGORICAL\n",
      "INFO:explainers.pandas_data_classifier:column '45':\n",
      "#011Data uniqueness fraction: 6.936977558877598e-05, pandas type int32, inferred type: DataType.CATEGORICAL\n",
      "INFO:explainers.pandas_data_classifier:column '46':\n",
      "#011Data uniqueness fraction: 6.936977558877598e-05, pandas type int32, inferred type: DataType.CATEGORICAL\n",
      "INFO:explainers.pandas_data_classifier:column '47':\n",
      "#011Data uniqueness fraction: 6.936977558877598e-05, pandas type int32, inferred type: DataType.CATEGORICAL\n",
      "INFO:explainers.pandas_data_classifier:column '48':\n",
      "#011Data uniqueness fraction: 6.936977558877598e-05, pandas type int32, inferred type: DataType.CATEGORICAL\n",
      "INFO:explainers.pandas_data_classifier:column '49':\n",
      "#011Data uniqueness fraction: 6.936977558877598e-05, pandas type int32, inferred type: DataType.CATEGORICAL\n",
      "INFO:explainers.pandas_data_classifier:column '50':\n",
      "#011Data uniqueness fraction: 6.936977558877598e-05, pandas type int32, inferred type: DataType.CATEGORICAL\n",
      "INFO:explainers.pandas_data_classifier:column '51':\n",
      "#011Data uniqueness fraction: 6.936977558877598e-05, pandas type int32, inferred type: DataType.CATEGORICAL\n",
      "INFO:explainers.pandas_data_classifier:column '52':\n",
      "#011Data uniqueness fraction: 6.936977558877598e-05, pandas type int32, inferred type: DataType.CATEGORICAL\n",
      "INFO:explainers.pandas_data_classifier:column '53':\n",
      "#011Data uniqueness fraction: 6.936977558877598e-05, pandas type int32, inferred type: DataType.CATEGORICAL\n",
      "INFO:explainers.pandas_data_classifier:column '54':\n",
      "#011Data uniqueness fraction: 6.936977558877598e-05, pandas type int32, inferred type: DataType.CATEGORICAL\n",
      "INFO:explainers.pandas_data_classifier:column '55':\n",
      "#011Data uniqueness fraction: 6.936977558877598e-05, pandas type int32, inferred type: DataType.CATEGORICAL\n",
      "INFO:explainers.pandas_data_classifier:column '56':\n",
      "#011Data uniqueness fraction: 6.936977558877598e-05, pandas type int32, inferred type: DataType.CATEGORICAL\n",
      "INFO:explainers.pandas_data_classifier:column '57':\n",
      "#011Data uniqueness fraction: 6.936977558877598e-05, pandas type int32, inferred type: DataType.CATEGORICAL\n",
      "INFO:explainers.pandas_data_classifier:column '58':\n",
      "#011Data uniqueness fraction: 6.936977558877598e-05, pandas type int32, inferred type: DataType.CATEGORICAL\n",
      "INFO:explainers.background_dataset.clustering_background_dataset:Inferring types of columns in the dataset:\n",
      "INFO:explainers.pandas_data_classifier:column '0':\n",
      "#011Data uniqueness fraction: 0.014408645187112268, pandas type int32, inferred type: DataType.CATEGORICAL\n",
      "INFO:explainers.pandas_data_classifier:column '1':\n",
      "#011Data uniqueness fraction: 0.006003602161296778, pandas type int32, inferred type: DataType.CATEGORICAL\n",
      "INFO:explainers.pandas_data_classifier:column '2':\n",
      "#011Data uniqueness fraction: 0.004402641584950971, pandas type int32, inferred type: DataType.CATEGORICAL\n",
      "INFO:explainers.pandas_data_classifier:column '3':\n",
      "#011Data uniqueness fraction: 0.0012007204322593557, pandas type int32, inferred type: DataType.CATEGORICAL\n",
      "INFO:explainers.pandas_data_classifier:column '4':\n",
      "#011Data uniqueness fraction: 0.00040024014408645187, pandas type int32, inferred type: DataType.CATEGORICAL\n",
      "INFO:explainers.pandas_data_classifier:column '5':\n",
      "#011Data uniqueness fraction: 0.00040024014408645187, pandas type int32, inferred type: DataType.CATEGORICAL\n",
      "INFO:explainers.pandas_data_classifier:column '6':\n",
      "#011Data uniqueness fraction: 0.00040024014408645187, pandas type int32, inferred type: DataType.CATEGORICAL\n",
      "INFO:explainers.pandas_data_classifier:column '7':\n",
      "#011Data uniqueness fraction: 0.00040024014408645187, pandas type int32, inferred type: DataType.CATEGORICAL\n",
      "INFO:explainers.pandas_data_classifier:column '8':\n",
      "#011Data uniqueness fraction: 0.00040024014408645187, pandas type int32, inferred type: DataType.CATEGORICAL\n",
      "INFO:explainers.pandas_data_classifier:column '9':\n",
      "#011Data uniqueness fraction: 0.00040024014408645187, pandas type int32, inferred type: DataType.CATEGORICAL\n",
      "INFO:explainers.pandas_data_classifier:column '10':\n",
      "#011Data uniqueness fraction: 0.00040024014408645187, pandas type int32, inferred type: DataType.CATEGORICAL\n",
      "INFO:explainers.pandas_data_classifier:column '11':\n",
      "#011Data uniqueness fraction: 0.00040024014408645187, pandas type int32, inferred type: DataType.CATEGORICAL\n",
      "INFO:explainers.pandas_data_classifier:column '12':\n",
      "#011Data uniqueness fraction: 0.00040024014408645187, pandas type int32, inferred type: DataType.CATEGORICAL\n",
      "INFO:explainers.pandas_data_classifier:column '13':\n",
      "#011Data uniqueness fraction: 0.00040024014408645187, pandas type int32, inferred type: DataType.CATEGORICAL\n",
      "INFO:explainers.pandas_data_classifier:column '14':\n",
      "#011Data uniqueness fraction: 0.00040024014408645187, pandas type int32, inferred type: DataType.CATEGORICAL\n",
      "INFO:explainers.pandas_data_classifier:column '15':\n",
      "#011Data uniqueness fraction: 0.00040024014408645187, pandas type int32, inferred type: DataType.CATEGORICAL\n",
      "INFO:explainers.pandas_data_classifier:column '16':\n",
      "#011Data uniqueness fraction: 0.00040024014408645187, pandas type int32, inferred type: DataType.CATEGORICAL\n",
      "INFO:explainers.pandas_data_classifier:column '17':\n",
      "#011Data uniqueness fraction: 0.00040024014408645187, pandas type int32, inferred type: DataType.CATEGORICAL\n",
      "INFO:explainers.pandas_data_classifier:column '18':\n",
      "#011Data uniqueness fraction: 0.00040024014408645187, pandas type int32, inferred type: DataType.CATEGORICAL\n",
      "INFO:explainers.pandas_data_classifier:column '19':\n",
      "#011Data uniqueness fraction: 0.00040024014408645187, pandas type int32, inferred type: DataType.CATEGORICAL\n",
      "INFO:explainers.pandas_data_classifier:column '20':\n",
      "#011Data uniqueness fraction: 0.00040024014408645187, pandas type int32, inferred type: DataType.CATEGORICAL\n",
      "INFO:explainers.pandas_data_classifier:column '21':\n",
      "#011Data uniqueness fraction: 0.00040024014408645187, pandas type int32, inferred type: DataType.CATEGORICAL\n",
      "INFO:explainers.pandas_data_classifier:column '22':\n",
      "#011Data uniqueness fraction: 0.00040024014408645187, pandas type int32, inferred type: DataType.CATEGORICAL\n",
      "INFO:explainers.pandas_data_classifier:column '23':\n",
      "#011Data uniqueness fraction: 0.00040024014408645187, pandas type int32, inferred type: DataType.CATEGORICAL\n",
      "INFO:explainers.pandas_data_classifier:column '24':\n",
      "#011Data uniqueness fraction: 0.00040024014408645187, pandas type int32, inferred type: DataType.CATEGORICAL\n",
      "INFO:explainers.pandas_data_classifier:column '25':\n",
      "#011Data uniqueness fraction: 0.00040024014408645187, pandas type int32, inferred type: DataType.CATEGORICAL\n",
      "INFO:explainers.pandas_data_classifier:column '26':\n",
      "#011Data uniqueness fraction: 0.00040024014408645187, pandas type int32, inferred type: DataType.CATEGORICAL\n",
      "INFO:explainers.pandas_data_classifier:column '27':\n",
      "#011Data uniqueness fraction: 0.00040024014408645187, pandas type int32, inferred type: DataType.CATEGORICAL\n",
      "INFO:explainers.pandas_data_classifier:column '28':\n",
      "#011Data uniqueness fraction: 0.00040024014408645187, pandas type int32, inferred type: DataType.CATEGORICAL\n",
      "INFO:explainers.pandas_data_classifier:column '29':\n",
      "#011Data uniqueness fraction: 0.00040024014408645187, pandas type int32, inferred type: DataType.CATEGORICAL\n",
      "INFO:explainers.pandas_data_classifier:column '30':\n",
      "#011Data uniqueness fraction: 0.00040024014408645187, pandas type int32, inferred type: DataType.CATEGORICAL\n",
      "INFO:explainers.pandas_data_classifier:column '31':\n",
      "#011Data uniqueness fraction: 0.00040024014408645187, pandas type int32, inferred type: DataType.CATEGORICAL\n",
      "INFO:explainers.pandas_data_classifier:column '32':\n",
      "#011Data uniqueness fraction: 0.00020012007204322593, pandas type int32, inferred type: DataType.CATEGORICAL\n",
      "INFO:explainers.pandas_data_classifier:column '33':\n",
      "#011Data uniqueness fraction: 0.00040024014408645187, pandas type int32, inferred type: DataType.CATEGORICAL\n",
      "INFO:explainers.pandas_data_classifier:column '34':\n",
      "#011Data uniqueness fraction: 0.00040024014408645187, pandas type int32, inferred type: DataType.CATEGORICAL\n",
      "INFO:explainers.pandas_data_classifier:column '35':\n",
      "#011Data uniqueness fraction: 0.00040024014408645187, pandas type int32, inferred type: DataType.CATEGORICAL\n",
      "INFO:explainers.pandas_data_classifier:column '36':\n",
      "#011Data uniqueness fraction: 0.00040024014408645187, pandas type int32, inferred type: DataType.CATEGORICAL\n",
      "INFO:explainers.pandas_data_classifier:column '37':\n",
      "#011Data uniqueness fraction: 0.00040024014408645187, pandas type int32, inferred type: DataType.CATEGORICAL\n",
      "INFO:explainers.pandas_data_classifier:column '38':\n",
      "#011Data uniqueness fraction: 0.00040024014408645187, pandas type int32, inferred type: DataType.CATEGORICAL\n",
      "INFO:explainers.pandas_data_classifier:column '39':\n",
      "#011Data uniqueness fraction: 0.00040024014408645187, pandas type int32, inferred type: DataType.CATEGORICAL\n",
      "INFO:explainers.pandas_data_classifier:column '40':\n",
      "#011Data uniqueness fraction: 0.00040024014408645187, pandas type int32, inferred type: DataType.CATEGORICAL\n",
      "INFO:explainers.pandas_data_classifier:column '41':\n",
      "#011Data uniqueness fraction: 0.00040024014408645187, pandas type int32, inferred type: DataType.CATEGORICAL\n",
      "INFO:explainers.pandas_data_classifier:column '42':\n",
      "#011Data uniqueness fraction: 0.00040024014408645187, pandas type int32, inferred type: DataType.CATEGORICAL\n",
      "INFO:explainers.pandas_data_classifier:column '43':\n",
      "#011Data uniqueness fraction: 0.00040024014408645187, pandas type int32, inferred type: DataType.CATEGORICAL\n",
      "INFO:explainers.pandas_data_classifier:column '44':\n",
      "#011Data uniqueness fraction: 0.00040024014408645187, pandas type int32, inferred type: DataType.CATEGORICAL\n",
      "INFO:explainers.pandas_data_classifier:column '45':\n",
      "#011Data uniqueness fraction: 0.00040024014408645187, pandas type int32, inferred type: DataType.CATEGORICAL\n",
      "INFO:explainers.pandas_data_classifier:column '46':\n",
      "#011Data uniqueness fraction: 0.00040024014408645187, pandas type int32, inferred type: DataType.CATEGORICAL\n",
      "INFO:explainers.pandas_data_classifier:column '47':\n",
      "#011Data uniqueness fraction: 0.00040024014408645187, pandas type int32, inferred type: DataType.CATEGORICAL\n",
      "INFO:explainers.pandas_data_classifier:column '48':\n",
      "#011Data uniqueness fraction: 0.00040024014408645187, pandas type int32, inferred type: DataType.CATEGORICAL\n",
      "INFO:explainers.pandas_data_classifier:column '49':\n",
      "#011Data uniqueness fraction: 0.00040024014408645187, pandas type int32, inferred type: DataType.CATEGORICAL\n",
      "INFO:explainers.pandas_data_classifier:column '50':\n",
      "#011Data uniqueness fraction: 0.00040024014408645187, pandas type int32, inferred type: DataType.CATEGORICAL\n",
      "INFO:explainers.pandas_data_classifier:column '51':\n",
      "#011Data uniqueness fraction: 0.00040024014408645187, pandas type int32, inferred type: DataType.CATEGORICAL\n",
      "INFO:explainers.pandas_data_classifier:column '52':\n",
      "#011Data uniqueness fraction: 0.00040024014408645187, pandas type int32, inferred type: DataType.CATEGORICAL\n",
      "INFO:explainers.pandas_data_classifier:column '53':\n",
      "#011Data uniqueness fraction: 0.00040024014408645187, pandas type int32, inferred type: DataType.CATEGORICAL\n",
      "INFO:explainers.pandas_data_classifier:column '54':\n",
      "#011Data uniqueness fraction: 0.00040024014408645187, pandas type int32, inferred type: DataType.CATEGORICAL\n",
      "INFO:explainers.pandas_data_classifier:column '55':\n",
      "#011Data uniqueness fraction: 0.00040024014408645187, pandas type int32, inferred type: DataType.CATEGORICAL\n",
      "INFO:explainers.pandas_data_classifier:column '56':\n",
      "#011Data uniqueness fraction: 0.00040024014408645187, pandas type int32, inferred type: DataType.CATEGORICAL\n",
      "INFO:explainers.pandas_data_classifier:column '57':\n",
      "#011Data uniqueness fraction: 0.00040024014408645187, pandas type int32, inferred type: DataType.CATEGORICAL\n",
      "INFO:explainers.pandas_data_classifier:column '58':\n",
      "#011Data uniqueness fraction: 0.00040024014408645187, pandas type int32, inferred type: DataType.CATEGORICAL\n",
      "INFO:explainers.background_dataset.clustering_background_dataset:All columns in the dataset are detected as categorical, using KModes clustering.\n",
      "INFO:explainers.background_dataset.clustering_algorithm:Using maximum number of clusters: 13Override by setting 'num_clusters' in shap configuration.\n",
      "INFO:explainers.background_dataset.clustering_algorithm:Clustering dataset with shape (4997, 59) with 2 clusters... took 2.81 seconds.\n",
      "INFO:explainers.background_dataset.clustering_algorithm:===================================================\n",
      "INFO:explainers.background_dataset.clustering_algorithm:Number of clusters: 2, distortion improvement: 0.08800308933321892\n",
      "INFO:explainers.background_dataset.clustering_algorithm:Clustering dataset with shape (4997, 59) with 3 clusters... took 3.51 seconds.\n",
      "INFO:explainers.background_dataset.clustering_algorithm:===================================================\n",
      "INFO:explainers.background_dataset.clustering_algorithm:Number of clusters: 3, distortion improvement: 0.05130557515878617\n",
      "INFO:explainers.background_dataset.clustering_algorithm:Clustering dataset with shape (4997, 59) with 4 clusters... took 3.66 seconds.\n",
      "INFO:explainers.background_dataset.clustering_algorithm:===================================================\n",
      "INFO:explainers.background_dataset.clustering_algorithm:Number of clusters: 4, distortion improvement: 0.022341243274070766\n",
      "INFO:root:Using 4 clusters. (distortion improvement: 0.022341243274070766).\n",
      "INFO:analyzer.shap.spark_shap_analyzer:Running Spark explanations.\n",
      "INFO:analyzer.shap.spark_shap_analyzer:_explain_dataframe begins\n",
      "[/var/log/yarn/userlogs/application_1681922012927_0001/container_1681922012927_0001_01_000003/stdout] 2023-04-19T16:33:59.731+0000: [GC (Allocation Failure) [PSYoungGen: 122880K->12096K(142848K)] 122880K->12176K(469504K), 0.0101937 secs] [Times: user=0.03 sys=0.01, real=0.01 secs] \n",
      "[/var/log/yarn/userlogs/application_1681922012927_0001/container_1681922012927_0001_01_000003/stdout] 2023-04-19T16:33:59.931+0000: [GC (Metadata GC Threshold) [PSYoungGen: 44627K->6430K(142848K)] 44707K->6518K(469504K), 0.0054058 secs] [Times: user=0.02 sys=0.01, real=0.00 secs] \n",
      "[/var/log/yarn/userlogs/application_1681922012927_0001/container_1681922012927_0001_01_000003/stdout] 2023-04-19T16:33:59.936+0000: [Full GC (Metadata GC Threshold) [PSYoungGen: 6430K->0K(142848K)] [ParOldGen: 88K->6204K(185856K)] 6518K->6204K(328704K), [Metaspace: 20439K->20439K(1067008K)], 0.0223562 secs] [Times: user=0.05 sys=0.03, real=0.03 secs] \n",
      "[/var/log/yarn/userlogs/application_1681922012927_0001/container_1681922012927_0001_01_000003/stdout] 2023-04-19T16:34:00.577+0000: [GC (Allocation Failure) [PSYoungGen: 122880K->10868K(142848K)] 129084K->17080K(328704K), 0.0048949 secs] [Times: user=0.01 sys=0.00, real=0.00 secs] \n",
      "[/var/log/yarn/userlogs/application_1681922012927_0001/container_1681922012927_0001_01_000003/stdout] 2023-04-19T16:34:00.753+0000: [GC (Metadata GC Threshold) [PSYoungGen: 68252K->6659K(203776K)] 74465K->12880K(389632K), 0.0049430 secs] [Times: user=0.02 sys=0.00, real=0.01 secs] \n",
      "[/var/log/yarn/userlogs/application_1681922012927_0001/container_1681922012927_0001_01_000003/stdout] 2023-04-19T16:34:00.758+0000: [Full GC (Metadata GC Threshold) [PSYoungGen: 6659K->0K(203776K)] [ParOldGen: 6220K->11054K(288256K)] 12880K->11054K(492032K), [Metaspace: 33988K->33986K(1079296K)], 0.0225753 secs] [Times: user=0.07 sys=0.01, real=0.02 secs] \n",
      "[/var/log/yarn/userlogs/application_1681922012927_0001/container_1681922012927_0001_01_000003/stdout] 2023-04-19T16:34:01.605+0000: [GC (Allocation Failure) [PSYoungGen: 183808K->19951K(203776K)] 194862K->32187K(492032K), 0.0163993 secs] [Times: user=0.04 sys=0.01, real=0.02 secs] \n",
      "[/var/log/yarn/userlogs/application_1681922012927_0001/container_1681922012927_0001_01_000003/stdout] 2023-04-19T16:34:01.713+0000: [GC (Metadata GC Threshold) [PSYoungGen: 56115K->10207K(291840K)] 68351K->22451K(580096K), 0.0077045 secs] [Times: user=0.05 sys=0.00, real=0.01 secs] \n",
      "[/var/log/yarn/userlogs/application_1681922012927_0001/container_1681922012927_0001_01_000003/stdout] 2023-04-19T16:34:01.721+0000: [Full GC (Metadata GC Threshold) [PSYoungGen: 10207K->0K(291840K)] [ParOldGen: 12243K->18319K(393216K)] 22451K->18319K(685056K), [Metaspace: 55300K->55300K(1099776K)], 0.0963410 secs] [Times: user=0.49 sys=0.01, real=0.10 secs] \n",
      "[/var/log/yarn/userlogs/application_1681922012927_0001/container_1681922012927_0001_01_000003/stdout] 2023-04-19T16:34:02.462+0000: [GC (Allocation Failure) [PSYoungGen: 270336K->7836K(290304K)] 288655K->26163K(683520K), 0.0072110 secs] [Times: user=0.02 sys=0.00, real=0.01 secs] \n",
      "[/var/log/yarn/userlogs/application_1681922012927_0001/container_1681922012927_0001_01_000003/stdout] 2023-04-19T16:34:06.466+0000: [GC (Allocation Failure) [PSYoungGen: 278172K->13714K(369664K)] 296499K->32049K(762880K), 0.0099274 secs] [Times: user=0.04 sys=0.00, real=0.01 secs] \n",
      "[/var/log/yarn/userlogs/application_1681922012927_0001/container_1681922012927_0001_01_000003/stdout] 2023-04-19T16:37:11.198+0000: [GC (Allocation Failure) [PSYoungGen: 369554K->15162K(385024K)] 387889K->33505K(778240K), 0.0100649 secs] [Times: user=0.02 sys=0.02, real=0.00 secs] \n",
      "[/var/log/yarn/userlogs/application_1681922012927_0001/container_1681922012927_0001_01_000003/stdout] 2023-04-19T16:37:14.290+0000: [GC (Allocation Failure) [PSYoungGen: 380218K->12264K(432128K)] 398561K->292759K(825344K), 0.0764902 secs] [Times: user=0.29 sys=0.16, real=0.07 secs] \n",
      "INFO:analyzer.predictor:Using endpoint sm-clarify-from-idea-to-prod-transform-19-14-23-1681922049-391f\n",
      "WARNING:explainers.shap.kernel_shap:The number of requested samples 15 is too small given the number of features 59\n",
      "INFO:explainers.shap.kernel_shap:SHAP n_samples 15\n",
      "INFO:analyzer.predictor:Stop using endpoint: sm-clarify-from-idea-to-prod-transform-19-14-23-1681922049-391f\n",
      "INFO:analyzer.predictor:Model endpoint delivered 9.01496 requests per second and a total of 2 requests over 0 seconds\n",
      "INFO:analyzer.predictor:Using endpoint sm-clarify-from-idea-to-prod-transform-19-14-23-1681922049-391f\n",
      "WARNING:analyzer.shap.shap_util:Falling back to generic labels: label0, label1, ...\n",
      "INFO:analyzer.predictor:Stop using endpoint: sm-clarify-from-idea-to-prod-transform-19-14-23-1681922049-391f\n",
      "INFO:analyzer.predictor:Model endpoint delivered 0.00000 requests per second and a total of 0 requests over 0 seconds\n",
      "INFO:analyzer.shap.spark_shap_analyzer:Model output names: ['label0']\n",
      "INFO:analyzer.shap.spark_shap_analyzer:data frame has 64 partition(s).\n",
      "[/var/log/yarn/userlogs/application_1681922012927_0001/container_1681922012927_0001_01_000002/stderr] The number of requested samples 15 is too small given the number of features 59\n",
      "[/var/log/yarn/userlogs/application_1681922012927_0001/container_1681922012927_0001_01_000002/stderr] The number of requested samples 15 is too small given the number of features 59\n",
      "[/var/log/yarn/userlogs/application_1681922012927_0001/container_1681922012927_0001_01_000002/stderr] The number of requested samples 15 is too small given the number of features 59\n",
      "[/var/log/yarn/userlogs/application_1681922012927_0001/container_1681922012927_0001_01_000002/stderr] The number of requested samples 15 is too small given the number of features 59\n",
      "[/var/log/yarn/userlogs/application_1681922012927_0001/container_1681922012927_0001_01_000002/stderr] The number of requested samples 15 is too small given the number of features 59\n",
      "[/var/log/yarn/userlogs/application_1681922012927_0001/container_1681922012927_0001_01_000002/stderr] The number of requested samples 15 is too small given the number of features 59\n",
      "[/var/log/yarn/userlogs/application_1681922012927_0001/container_1681922012927_0001_01_000002/stderr] The number of requested samples 15 is too small given the number of features 59\n",
      "[/var/log/yarn/userlogs/application_1681922012927_0001/container_1681922012927_0001_01_000002/stderr] The number of requested samples 15 is too small given the number of features 59\n",
      "[/var/log/yarn/userlogs/application_1681922012927_0001/container_1681922012927_0001_01_000002/stderr] The number of requested samples 15 is too small given the number of features 59\n",
      "[/var/log/yarn/userlogs/application_1681922012927_0001/container_1681922012927_0001_01_000002/stderr] The number of requested samples 15 is too small given the number of features 59\n",
      "[/var/log/yarn/userlogs/application_1681922012927_0001/container_1681922012927_0001_01_000002/stderr] The number of requested samples 15 is too small given the number of features 59\n",
      "[/var/log/yarn/userlogs/application_1681922012927_0001/container_1681922012927_0001_01_000002/stderr] The number of requested samples 15 is too small given the number of features 59\n",
      "[/var/log/yarn/userlogs/application_1681922012927_0001/container_1681922012927_0001_01_000002/stderr] The number of requested samples 15 is too small given the number of features 59\n",
      "[/var/log/yarn/userlogs/application_1681922012927_0001/container_1681922012927_0001_01_000002/stderr] The number of requested samples 15 is too small given the number of features 59\n",
      "[/var/log/yarn/userlogs/application_1681922012927_0001/container_1681922012927_0001_01_000002/stderr] The number of requested samples 15 is too small given the number of features 59\n",
      "[/var/log/yarn/userlogs/application_1681922012927_0001/container_1681922012927_0001_01_000002/stderr] The number of requested samples 15 is too small given the number of features 59\n",
      "[/var/log/yarn/userlogs/application_1681922012927_0001/container_1681922012927_0001_01_000002/stderr] The number of requested samples 15 is too small given the number of features 59\n",
      "[/var/log/yarn/userlogs/application_1681922012927_0001/container_1681922012927_0001_01_000002/stderr] The number of requested samples 15 is too small given the number of features 59\n",
      "[/var/log/yarn/userlogs/application_1681922012927_0001/container_1681922012927_0001_01_000002/stderr] The number of requested samples 15 is too small given the number of features 59\n",
      "[/var/log/yarn/userlogs/application_1681922012927_0001/container_1681922012927_0001_01_000002/stderr] The number of requested samples 15 is too small given the number of features 59\n",
      "[/var/log/yarn/userlogs/application_1681922012927_0001/container_1681922012927_0001_01_000002/stderr] The number of requested samples 15 is too small given the number of features 59\n",
      "[/var/log/yarn/userlogs/application_1681922012927_0001/container_1681922012927_0001_01_000002/stderr] The number of requested samples 15 is too small given the number of features 59\n",
      "[/var/log/yarn/userlogs/application_1681922012927_0001/container_1681922012927_0001_01_000003/stdout] 2023-04-19T16:37:34.550+0000: [GC (Allocation Failure) [PSYoungGen: 423720K->13722K(431616[/var/log/yarn/userlogs/application_1681922012927_0001/container_1681922012927_0001_01_000003/stderr] The number of requested samples 15 is too small given the number of features 59\n",
      "[/var/log/yarn/userlogs/application_1681922012927_0001/container_1681922012927_0001_01_000003/stderr] The number of requested samples 15 is too small given the number of features 59\n",
      "[/var/log/yarn/userlogs/application_1681922012927_0001/container_1681922012927_0001_01_000003/stderr] The number of requested samples 15 is too small given the number of features 59\n",
      "[/var/log/yarn/userlogs/application_1681922012927_0001/container_1681922012927_0001_01_000003/stderr] The number of requested samples 15 is too small given the number of features 59\n",
      "[/var/log/yarn/userlogs/application_1681922012927_0001/container_1681922012927_0001_01_000003/stderr] The number of requested samples 15 is too small given the number of features 59\n",
      "[/var/log/yarn/userlogs/application_1681922012927_0001/container_1681922012927_0001_01_000003/stderr] The number of requested samples 15 is too small given the number of features 59\n",
      "[/var/log/yarn/userlogs/application_1681922012927_0001/container_1681922012927_0001_01_000003/stderr] The number of requested samples 15 is too small given the number of features 59\n",
      "[/var/log/yarn/userlogs/application_1681922012927_0001/container_1681922012927_0001_01_000003/stderr] The number of requested samples 15 is too small given the number of features 59\n",
      "[/var/log/yarn/userlogs/application_1681922012927_0001/container_1681922012927_0001_01_000003/stderr] The number of requested samples 15 is too small given the number of features 59\n",
      "[/var/log/yarn/userlogs/application_1681922012927_0001/container_1681922012927_0001_01_000003/stderr] The number of requested samples 15 is too small given the number of features 59\n",
      "[/var/log/yarn/userlogs/application_1681922012927_0001/container_1681922012927_0001_01_000003/stderr] The number of requested samples 15 is too small given the number of features 59\n",
      "[/var/log/yarn/userlogs/application_1681922012927_0001/container_1681922012927_0001_01_000003/stderr] The number of requested samples 15 is too small given the number of features 59\n",
      "[/var/log/yarn/userlogs/application_1681922012927_0001/container_1681922012927_0001_01_000003/stderr] The number of requested samples 15 is too small given the number of features 59\n",
      "[/var/log/yarn/userlogs/application_1681922012927_0001/container_1681922012927_0001_01_000003/stderr] The number of requested samples 15 is too small given the number of features 59\n",
      "[/var/log/yarn/userlogs/application_1681922012927_0001/container_1681922012927_0001_01_000003/stderr] The number of requested samples 15 is too small given the number of features 59\n",
      "[/var/log/yarn/userlogs/application_1681922012927_0001/container_1681922012927_0001_01_000003/stderr] The number of requested samples 15 is too small given the number of features 59\n",
      "[/var/log/yarn/userlogs/application_1681922012927_0001/container_1681922012927_0001_01_000003/stderr] The number of requested samples 15 is too small given the number of features 59\n",
      "[/var/log/yarn/userlogs/application_1681922012927_0001/container_1681922012927_0001_01_000003/stderr] The number of requested samples 15 is too small given the number of features 59\n",
      "[/var/log/yarn/userlogs/application_1681922012927_0001/container_1681922012927_0001_01_000003/stderr] The number of requested samples 15 is too small given the number of features 59\n",
      "[/var/log/yarn/userlogs/application_1681922012927_0001/container_1681922012927_0001_01_000003/stderr] The number of requested samples 15 is too small given the number of features 59\n",
      "[/var/log/yarn/userlogs/application_1681922012927_0001/container_1681922012927_0001_01_000003/stderr] The number of requested samples 15 is too small given the number of features 59\n",
      "[/var/log/yarn/userlogs/application_1681922012927_0001/container_1681922012927_0001_01_000003/stderr] The number of requested samples 15 is too small given the number of features 59\n",
      "[/var/log/yarn/userlogs/application_1681922012927_0001/container_1681922012927_0001_01_00000INFO:analyzer.shap.spark_shap_analyzer:_explain_dataframe finished, got 28831 local explanations\n",
      "INFO:analyzer.shap.spark_shap_analyzer:getting explanations took 79.98 seconds.\n",
      "INFO:analyzer.shap.spark_shap_analyzer:===================================================\n",
      "INFO:analyzer.shap.spark_shap_analyzer:converting explanations to tabular took 0.06 seconds.\n",
      "INFO:analyzer.shap.spark_shap_analyzer:===================================================\n",
      "INFO:analyzer.shap.spark_shap_analyzer:Writing local explanations to file:///opt/ml/processing/output/explanations_shap/out.csv\n",
      "[/var/log/yarn/userlogs/application_1681922012927_0001/container_1681922012927_0001_01_000002/stdout] 2023-04-19T16:34:03.256+0000: [GC (Allocation Failure) [PSYoungGen: 122880K->12246K(142848K)] 122880K->12326K(469504K), 0.0116121 secs] [Times: user=0.04 sys=0.01, real=0.01 secs] \n",
      "[/var/log/yarn/userlogs/application_1681922012927_0001/container_1681922012927_0001_01_000002/stdout] 2023-04-19T16:34:03.478+0000: [GC (Metadata GC Threshold) [PSYoungGen: 42374K->6251K(142848K)] 42454K->6339K(469504K), 0.0051128 secs] [Times: user=0.02 sys=0.00, real=0.00 secs] \n",
      "[/var/log/yarn/userlogs/application_1681922012927_0001/container_1681922012927_0001_01_000002/stdout] 2023-04-19T16:34:03.483+0000: [Full GC (Metadata GC Threshold) [PSYoungGen: 6251K->0K(142848K)] [ParOldGen: 88K->6056K(187904K)] 6339K->6056K(330752K), [Metaspace: 20433K->20433K(1067008K)], 0.0221583 secs] [Times: user=0.08 sys=0.00, real=0.03 secs] \n",
      "[/var/log/yarn/userlogs/application_1681922012927_0001/container_1681922012927_0001_01_000002/stdout] 2023-04-19T16:34:04.059+0000: [GC (Allocation Failure) [PSYoungGen: 122880K->7480K(142848K)] 128936K->13544K(330752K), 0.0062419 secs] [Times: user=0.02 sys=0.00, real=0.01 secs] \n",
      "[/var/log/yarn/userlogs/application_1681922012927_0001/container_1681922012927_0001_01_000002/stdout] 2023-04-19T16:34:04.395+0000: [GC (GCLocker Initiated GC) [PSYoungGen: 102791K->9760K(204288K)] 108855K->15825K(392192K), 0.0077515 secs] [Times: user=0.02 sys=0.00, real=0.01 secs] \n",
      "[/var/log/yarn/userlogs/application_1681922012927_0001/container_1681922012927_0001_01_000002/stdout] 2023-04-19T16:34:04.410+0000: [GC (Metadata GC Threshold) [PSYoungGen: 11333K->4174K(204288K)] 17398K->10247K(392192K), 0.0032112 secs] [Times: user=0.02 sys=0.00, real=0.00 secs] \n",
      "[/var/log/yarn/userlogs/application_1681922012927_0001/container_1681922012927_0001_01_000002/stdout] 2023-04-19T16:34:04.414+0000: [Full GC (Metadata GC Threshold) [PSYoungGen: 4174K->0K(204288K)] [ParOldGen: 6072K->8719K(225792K)] 10247K->8719K(430080K), [Metaspace: 34305K->34302K(1081344K)], 0.0246018 secs] [Times: user=0.07 sys=0.01, real=0.03 secs] \n",
      "[/var/log/yarn/userlogs/application_1681922012927_0001/container_1681922012927_0001_01_000002/stdout] 2023-04-19T16:37:14.870+0000: [GC (Allocation Failure) [PSYoungGen: 184320K->13291K(337920K)] 193039K->30681K(563712K), 0.0165131 secs] [Times: user=0.04 sys=0.01, real=0.02 secs] \n",
      "[/var/log/yarn/userlogs/application_1681922012927_0001/container_1681922012927_0001_01_000002/stdout] 2023-04-19T16:37:14.948+0000: [GC (Metadata GC Threshold) [PSYoungGen: 39880K->10149K(348672K)] 57269K->27547K(574464K), 0.0079179 secs] [Times: user=0.04 sys=0.01, real=0.01 secs] \n",
      "[/var/log/yarn/userlogs/application_1681922012927_0001/container_1681922012927_0001_01_000002/stdout] 2023-04-19T16:37:14.956+0000: [Full GC (Metadata GC Threshold) [PSYoungGen: 10149K->0K(348672K)] [ParOldGen: 17397K->18011K(260096K)] 27547K->18011K(608768K), [Metaspace: 56728K->56480K(1101824K)], 0.0892281 secs] [Times: user=0.38 sys=0.00, real=0.09 secs] \n",
      "[/var/log/yarn/userlogs/application_1681922012927_0001/container_1681922012927_0001_01_000002/stdout] 2023-04-19T16:37:18.017+0000: [GC (Allocation Failure) [PSYoungGen: 328192K->11570K(599552K)] 346203K->29589K(859648K), 0.0167005 secs] [Times: user=0.05 sys=0.00, real=0.01 secs] \n",
      "[/var/log/yarn/userlogs/application_1681922012927_0001/container_1681922012927_0001_01_000002/stdout] 2023-04-19T16:37:36.860+0000: [GC (Allocation Failure) [PSYoungGen: 592178K->18937K(599552K)] 610197K->234701K(859648K), 0.0696614 secs] [Times: user=0.27 sys=0.13, real=0.07 secs] \n",
      "[/var/log/yarn/userlogs/application_1681922012927_0001/container_1681922012927_0001_01_000002/stdout] 2023-04-19T16:37:36.930+0000: [Full GC (Ergonomics) [PSYoungGen: 18937K->0K(599552K)] [ParOldGen: 215763K->101315K(451584K)] 234701K->101315K(1051136K), [Metaspace: 77545K->73318K(1128448K)], 0.0811715 secs] [Times: user=0.27 sys=0.00, real=0.08 secs] \n",
      "[/var/log/yarn/userlogs/application_1681922012927_0001/container_1681922012927_0001_01_000002/stdout] 2023-04-19T16:38:5INFO:analyzer.shap.spark_shap_analyzer:writing local explanations took 4.47 seconds.\n",
      "INFO:analyzer.shap.spark_shap_analyzer:===================================================\n",
      "INFO:analyzer.shap.spark_shap_analyzer:Wrote baseline to: /opt/ml/processing/output/explanations_shap/baseline.csv\n",
      "INFO:analyzer.shap.spark_shap_analyzer:converting explanations to tabular took 0.05 seconds.\n",
      "INFO:analyzer.shap.spark_shap_analyzer:===================================================\n",
      "INFO:analyzer.shap.global_aggregator:Aggregating global explanations\n",
      "INFO:analyzer.predictor:Stop using endpoint: sm-clarify-from-idea-to-prod-transform-19-14-23-1681922049-391f\n",
      "INFO:sagemaker:Deleting endpoint configuration with name: sm-clarify-config-1681922049-c95c\n",
      "INFO:sagemaker:Deleting endpoint with name: sm-clarify-from-idea-to-prod-transform-19-14-23-1681922049-391f\n",
      "INFO:analyzer.predictor:Model endpoint delivered 0.00891 requests per second and a total of 1 requests over 112 seconds\n",
      "INFO:analyzer.predictor:Stop using endpoint: None\n",
      "2023-04-19 16:39:04,385 WARN org.apache.hadoop.yarn.server.nodemanager.DefaultContainerExecutor: delete returned false for path: [/tmp/hadoop-root/nm-local-dir/usercache/root/appcache/application_1681922012927_0001/container_1681922012927_0001_01_000003/launch_container.sh]\n",
      "2023-04-19 16:39:04,385 WARN org.apache.hadoop.yarn.server.nodemanager.DefaultContainerExecutor: delete returned false for path: [/tmp/hadoop-root/nm-local-dir/usercache/root/appcache/application_1681922012927_0001/container_1681922012927_0001_01_000003/container_tokens]\n",
      "2023-04-19 16:39:04,385 WARN org.apache.hadoop.yarn.server.nodemanager.DefaultContainerExecutor: delete returned false for path: [/tmp/hadoop-root/nm-local-dir/usercache/root/appcache/application_1681922012927_0001/container_1681922012927_0001_01_000003/sysfs]\n",
      "[/var/log/yarn/userlogs/application_1681922012927_0001/container_1681922012927_0001_01_00000K)] 704215K->294225K(824832K), 0.0097899 secs] [Times: user=0.04 sys=0.00, real=0.01 secs] \n",
      "[/var/log/yarn/userlogs/application_1681922012927_0001/container_1681922012927_0001_01_000003/stdout] 2023-04-19T16:38:54.993+0000: [GC (Allocation Failure) [PSYoungGen: 425370K->19955K(477696K)] 705873K->302583K(870912K), 0.0493649 secs] [Times: user=0.08 sys=0.00, real=0.05 secs] \n",
      "[/var/log/yarn/userlogs/application_1681922012927_0001/container_1681922012927_0001_01_000003/stdout] 2023-04-19T16:38:58.264+0000: [GC (Allocation Failure) [PSYoungGen: 477683K->23028K(485888K)] 760311K->312800K(879104K), 0.0755810 secs] [Times: user=0.12 sys=0.03, real=0.08 secs] \n",
      "[/var/log/yarn/userlogs/application_1681922012927_0001/container_1681922012927_0001_01_000003/stdout] 2023-04-19T16:39:00.255+0000: [GC (Allocation Failure) [PSYoungGen: 485876K->28145K(544256K)] 775648K->320966K(937472K), 0.0234719 secs] [Times: user=0.08 sys=0.01, real=0.03 secs] \n",
      "[/var/log/yarn/userlogs/application_1681922012927_0001/container_1681922012927_0001_01_000003/stdout] 2023-04-19T16:39:00.465+0000: [GC (Metadata GC Threshold) [PSYoungGen: 167611K->15063K(549376K)] 460432K->313426K(942592K), 0.0136624 secs] [Times: user=0.07 sys=0.01, real=0.02 secs] \n",
      "[/var/log/yarn/userlogs/application_1681922012927_0001/container_1681922012927_0001_01_000003/stdout] 2023-04-19T16:39:00.478+0000: [Full GC (Metadata GC Threshold) [PSYoungGen: 15063K->0K(549376K)] [ParOldGen: 298362K->39830K(617984K)] 313426K->39830K(1167360K), [Metaspace: 86077K->84284K(1134592K)], 0.0971904 secs] [Times: user=0.31 sys=0.00, real=0.09 secs] \n",
      "[/var/log/yarn/userlogs/application_1681922012927_0001/container_1681922012927_0001_01_000003/stdout] 2023-04-19T16:39:00.733+0000: [GC (Allocation Failure) [PSYoungGen: 464971K->2547K(663552K)] 504801K->501138K(1281536K), 0.0703599 secs] [Times: user=0.36 sys=0.10, real=0.07 secs] \n",
      "[/var/log/yarn/userlogs/application_1681922012927_0001/container_1681922012927_0001_01_000003/stdout] 2023-04-19T16:39:00.804+0000: [Full GC (Ergonomics) [PSYoungGen: 2547K->0K(663552K)] [ParOldGen: 498590K->369900K(1213952K)] 501138K->369900K(1877504K), [Metaspace: 84455K->84359K(1134592K)], 0.0779141 secs] [Times: user=0.23 sys=0.01, real=0.08 secs] \n",
      "[/var/log/yarn/userlogs/application_1681922012927_0001/container_1681922012927_0001_01_000003/stdout] 2023-04-19T16:39:01.616+0000: [GC (Allocation Failure) [PSYoungGen: 631808K->11892K(664064K)] 1001708K->906088K(1878016K), 0.1806148 secs] [Times: user=0.32 sys=0.20, real=0.19 secs] \n",
      "[/var/log/yarn/userlogs/application_1681922012927_0001/container_1681922012927_0001_01_000003/stdout] 2023-04-19T16:39:01.797+0000: [Full GC (Ergonomics) [PSYoungGen: 11892K->0K(664064K)] [ParOldGen: 894196K->512593K(1629184K)] 906088K->512593K(2293248K), [Metaspace: 84561K->84559K(1134592K)], 0.1258745 secs] [Times: user=0.35 sys=0.01, real=0.12 secs] \n",
      "[/var/log/yarn/userlogs/application_1681922012927_0001/container_1681922012927_0001_01_000003/stdout] 2023-04-19T16:39:02.315+0000: [GC (Allocation Failure) [PSYoungGen: 631808K->15364K(771072K)] 1144401K->527965K(2400256K), 0.0345855 secs] [Times: user=0.11 sys=0.00, real=0.04 secs] \n",
      "[/var/log/yarn/userlogs/application_1681922012927_0001/container_1681922012927_0001_01_000003/stdout] Heap\n",
      "[/var/log/yarn/userlogs/application_1681922012927_0001/container_1681922012927_0001_01_000003/stdout]  PSYoungGen      total 771072K, used 484213K [0x0000000590b00000, 0x00000005c2680000, 0x00000007c0000000)\n",
      "[/var/log/yarn/userlogs/application_1681922012927_0001/container_1681922012927_0001_01_000003/stdout]   eden space 755200K, 62% used [0x0000000590b00000,0x00000005ad4dc1e0,0x00000005bec80000)\n",
      "[/var/log/yarn/userlogs/application_1681922012927_0001/container_1681922012927_0001_01_000003/stdout]   from space 15872K, 96% used [0x00000005c1700000,0x00000005c26012e8,0x00000005c2680000)\n",
      "[/var/log/yarn/userlogs/application_1681922012927_0001/container_1681922012927_0001_01_000003/stdout]   to   space 29696K, 0% used [0x00000005bec80000,0x00000005bec80000,0x00000005c0980000)\n",
      "2023-04-19 16:39:04,701 WARN org.apache.hadoop.yarn.server.nodemanager.DefaultContainerExecutor: delete returned false for path: [/tmp/hadoop-root/nm-local-dir/usercache/root/appcache/application_1681922012927_0001/container_1681922012927_0001_01_000001/launch_container.sh]\n",
      "2023-04-19 16:39:04,701 WARN org.apache.hadoop.yarn.server.nodemanager.DefaultContainerExecutor: delete returned false for path: [/tmp/hadoop-root/nm-local-dir/usercache/root/appcache/application_1681922012927_0001/container_1681922012927_0001_01_000001/container_tokens]\n",
      "2023-04-19 16:39:04,701 WARN org.apache.hadoop.yarn.server.nodemanager.DefaultContainerExecutor: delete returned false for path: [/tmp/hadoop-root/nm-local-dir/usercache/root/appcache/application_1681922012927_0001/container_1681922012927_0001_01_000001/sysfs]\n",
      "2023-04-19 16:39:04,703 INFO SecurityLogger.org.apache.hadoop.ipc.Server: Auth successful for appattempt_1681922012927_0001_000001 (auth:SIMPLE)\n",
      "2023-04-19 16:39:04,524 WARN org.apache.hadoop.yarn.server.nodemanager.DefaultContainerExecutor: delete returned false for path: [/tmp/hadoop-root/nm-local-dir/usercache/root/appcache/application_1681922012927_0001/container_1681922012927_0001_01_000002/launch_container.sh]\n",
      "2023-04-19 16:39:04,524 WARN org.apache.hadoop.yarn.server.nodemanager.DefaultContainerExecutor: delete returned false for path: [/tmp/hadoop-root/nm-local-dir/usercache/root/appcache/application_1681922012927_0001/container_1681922012927_0001_01_000002/container_tokens]\n",
      "2023-04-19 16:39:04,524 WARN org.apache.hadoop.yarn.server.nodemanager.DefaultContainerExecutor: delete returned false for path: [/tmp/hadoop-root/nm-local-dir/usercache/root/appcache/application_1681922012927_0001/container_1681922012927_0001_01_000002/sysfs]\n",
      "04-19 16:39 smspark-submit INFO     spark submit was successful. primary node exiting.\n",
      "2023-04-19 16:39:04,660 smspark submit job is executed\n",
      "2023-04-19 16:39:04,697 INFO org.apache.hadoop.yarn.server.resourcemanager.RMAppManager$ApplicationSummary: appId=application_1681922012927_0001,name=analyzer,user=root,queue=default,state=FINISHED,trackingUrl=http://algo-1:8088/proxy/application_1681922012927_0001/,appMasterHost=10.2.84.54,submitTime=1681922030000,startTime=1681922030055,launchTime=1681922031414,finishTime=1681922344229,finalStatus=SUCCEEDED,memorySeconds=18376336,vcoreSeconds=925,preemptedMemorySeconds=0,preemptedVcoreSeconds=0,preemptedAMContainers=0,preemptedNonAMContainers=0,preemptedResources=<memory:0\\, vCores:0>,applicationType=SPARK,resourceSeconds=18376336 MB-seconds\\, 925 vcore-seconds,preemptedResourceSeconds=0 MB-seconds\\, 0 vcore-seconds,applicationTags=\n",
      "2023-04-19 16:39:04,880 Unable to display local shap values, no features found\n",
      "2023-04-19 16:39:04,886 ['jupyter', 'nbconvert', '--to', 'html', '--output', '/opt/ml/processing/output/report.html', '/opt/ml/processing/output/report.ipynb', '--template', 'sagemaker-xai']\n",
      "04-19 16:39 urllib3.connectionpool WARNING  Retrying (Retry(total=4, connect=None, read=None, redirect=None, status=None)) after connection broken by 'NewConnectionError('<urllib3.connection.HTTPConnection object at 0x7fb37c82f3a0>: Failed to establish a new connection: [Errno 111] Connection refused')': /\n",
      "[NbConvertApp] Converting notebook /opt/ml/processing/output/report.ipynb to html\n",
      "[NbConvertApp] Writing 314429 bytes to /opt/ml/processing/output/report.html\n",
      "2023-04-19 16:39:05,735 ['wkhtmltopdf', '-q', '--enable-local-file-access', '/opt/ml/processing/output/report.html', '/opt/ml/processing/output/report.pdf']\n",
      "2023-04-19 16:39:06,238 Collected analyses: \n",
      "{\n",
      "    \"explanations\": {\n",
      "        \"kernel_shap\": {\n",
      "            \"label0\": {\n",
      "                \"expected_value\": 0.06874924246221781,\n",
      "                \"global_shap_values\": {\n",
      "                    \"age\": 0.0026204425724912573,\n",
      "                    \"campaign\": 0.001982447262218969,\n",
      "                    \"contact_cellular\": 0.0053998443285487325,\n",
      "                    \"contact_telephone\": 0.001986586468517961,\n",
      "                    \"day_of_week_fri\": 0.001734164214639696,\n",
      "                    \"day_of_week_mon\": 0.0018503894079171823,\n",
      "                    \"day_of_week_thu\": 0.0017964090331855829,\n",
      "                    \"day_of_week_tue\": 0.001810662541942843,\n",
      "                    \"day_of_week_wed\": 0.0018240401192341205,\n",
      "                    \"default_no\": 0.0023156632870137174,\n",
      "                    \"default_unknown\": 0.0017074338141391163,\n",
      "                    \"default_yes\": 0.001759868803515915,\n",
      "                    \"education_basic.4y\": 0.0017684342497586653,\n",
      "                    \"education_basic.6y\": 0.0017590612887191084,\n",
      "                    \"education_basic.9y\": 0.0017311645546538902,\n",
      "                    \"education_high.school\": 0.0017891829633314709,\n",
      "                    \"education_illiterate\": 0.001738977194028884,\n",
      "                    \"education_professional.course\": 0.0017343849523977814,\n",
      "                    \"education_university.degree\": 0.0019034109322611469,\n",
      "                    \"education_unknown\": 0.0017851279072890133,\n",
      "                    \"housing_no\": 0.0018521587497699406,\n",
      "                    \"housing_unknown\": 0.0017517840056455348,\n",
      "                    \"housing_yes\": 0.0017879036325799964,\n",
      "                    \"job_admin.\": 0.0019232962650364111,\n",
      "                    \"job_blue-collar\": 0.0017483474164239122,\n",
      "                    \"job_entrepreneur\": 0.0017473438271786922,\n",
      "                    \"job_housemaid\": 0.0017424914442506023,\n",
      "                    \"job_management\": 0.0017727212508854718,\n",
      "                    \"job_retired\": 0.0017517985052951399,\n",
      "                    \"job_self-employed\": 0.0017655457485029405,\n",
      "                    \"job_services\": 0.001741493618970428,\n",
      "                    \"job_student\": 0.001830980276640475,\n",
      "                    \"job_technician\": 0.0017956467078612157,\n",
      "                    \"job_unemployed\": 0.001748988671652986,\n",
      "                    \"job_unknown\": 0.0017848003557584362,\n",
      "                    \"loan_no\": 0.0017651022210205163,\n",
      "                    \"loan_unknown\": 0.0017523806101102668,\n",
      "                    \"loan_yes\": 0.0017170213200628133,\n",
      "                    \"marital_divorced\": 0.0017935413936626158,\n",
      "                    \"marital_married\": 0.0017991453939931595,\n",
      "                    \"marital_single\": 0.001891689208257032,\n",
      "                    \"marital_unknown\": 0.0016890905443926857,\n",
      "                    \"month_apr\": 0.0021121904276745988,\n",
      "                    \"month_aug\": 0.0018793667843502943,\n",
      "                    \"month_dec\": 0.0017780879247555293,\n",
      "                    \"month_jul\": 0.0018641455719907646,\n",
      "                    \"month_jun\": 0.003401309903639808,\n",
      "                    \"month_mar\": 0.0021173533054232715,\n",
      "                    \"month_may\": 0.0021932810163807475,\n",
      "                    \"month_nov\": 0.0017815313847275047,\n",
      "                    \"month_oct\": 0.002112584480654759,\n",
      "                    \"month_sep\": 0.001980839752119426,\n",
      "                    \"no_previous_contact\": 0.0028711570366600327,\n",
      "                    \"not_working\": 0.001957558047535475,\n",
      "                    \"pdays\": 0.002145391592982939,\n",
      "                    \"poutcome_failure\": 0.0017833665586424784,\n",
      "                    \"poutcome_nonexistent\": 0.001727344626591307,\n",
      "                    \"poutcome_success\": 0.026559231065129987,\n",
      "                    \"previous\": 0.0018586987766012091\n",
      "                }\n",
      "            }\n",
      "        }\n",
      "    },\n",
      "    \"version\": \"1.0\"\n",
      "}\n",
      "2023-04-19 16:39:06,238 exit_message: Completed: SageMaker XAI Analyzer ran successfully\n",
      "04-19 16:39 urllib3.connectionpool WARNING  Retrying (Retry(total=3, connect=None, read=None, redirect=None, status=None)) after connection broken by 'NewConnectionError('<urllib3.connection.HTTPConnection object at 0x7fb37c82f610>: Failed to establish a new connection: [Errno 111] Connection refused')': /\n",
      "2023-04-19 16:39:08,001 WARN org.apache.hadoop.hdfs.server.datanode.DataNode: IOException in offerService\n",
      "java.io.EOFException: End of File Exception between local host is: \"algo-2/10.2.84.54\"; destination host is: \"algo-1\":8020; : java.io.EOFException; For more details see:  http://wiki.apache.org/hadoop/EOFException\n",
      "#011at sun.reflect.NativeConstructorAccessorImpl.newInstance0(Native Method)\n",
      "#011at sun.reflect.NativeConstructorAccessorImpl.newInstance(NativeConstructorAccessorImpl.java:62)\n",
      "#011at sun.reflect.DelegatingConstructorAccessorImpl.newInstance(DelegatingConstructorAccessorImpl.java:45)\n",
      "#011at java.lang.reflect.Constructor.newInstance(Constructor.java:423)\n",
      "#011at org.apache.hadoop.net.NetUtils.wrapWithMessage(NetUtils.java:833)\n",
      "#011at org.apache.hadoop.net.NetUtils.wrapException(NetUtils.java:791)\n",
      "#011at org.apache.hadoop.ipc.Client.getRpcResponse(Client.java:1549)\n",
      "#011at org.apache.hadoop.ipc.Client.call(Client.java:1491)\n",
      "#011at org.apache.hadoop.ipc.Client.call(Client.java:1388)\n",
      "#011at org.apache.hadoop.ipc.ProtobufRpcEngine$Invoker.invoke(ProtobufRpcEngine.java:233)\n",
      "#011at org.apache.hadoop.ipc.ProtobufRpcEngine$Invoker.invoke(ProtobufRpcEngine.java:118)\n",
      "#011at com.sun.proxy.$Proxy16.sendHeartbeat(Unknown Source)\n",
      "#011at org.apache.hadoop.hdfs.protocolPB.DatanodeProtocolClientSideTranslatorPB.sendHeartbeat(DatanodeProtocolClientSideTranslatorPB.java:168)\n",
      "#011at org.apache.hadoop.hdfs.server.datanode.BPServiceActor.sendHeartBeat(BPServiceActor.java:517)\n",
      "#011at org.apache.hadoop.hdfs.server.datanode.BPServiceActor.offerService(BPServiceActor.java:648)\n",
      "#011at org.apache.hadoop.hdfs.server.datanode.BPServiceActor.run(BPServiceActor.java:849)\n",
      "#011at java.lang.Thread.run(Thread.java:750)\n",
      "Caused by: java.io.EOFException\n",
      "#011at java.io.DataInputStream.readInt(DataInputStream.java:392)\n",
      "#011at org.apache.hadoop.ipc.Client$IpcStreams.readResponse(Client.java:1850)\n",
      "#011at org.apache.hadoop.ipc.Client$Connection.receiveRpcResponse(Client.java:1183)\n",
      "#011at org.apache.hadoop.ipc.Client$Connection.run(Client.java:1079)\n",
      "04-19 16:39 urllib3.connectionpool WARNING  Retrying (Retry(total=2, connect=None, read=None, redirect=None, status=None)) after connection broken by 'NewConnectionError('<urllib3.connection.HTTPConnection object at 0x7fb37c82f7c0>: Failed to establish a new connection: [Errno 111] Connection refused')': /\n",
      "04-19 16:39 urllib3.connectionpool WARNING  Retrying (Retry(total=1, connect=None, read=None, redirect=None, status=None)) after connection broken by 'NewConnectionError('<urllib3.connection.HTTPConnection object at 0x7fb37c82f9d0>: Failed to establish a new connection: [Errno 111] Connection refused')': /\n",
      "\n",
      "04-19 16:39 urllib3.connectionpool WARNING  Retrying (Retry(total=0, connect=None, read=None, redirect=None, status=None)) after connection broken by 'NewConnectionError('<urllib3.connection.HTTPConnection object at 0x7fb37c82fbe0>: Failed to establish a new connection: [Errno 111] Connection refused')': /\n",
      "04-19 16:39 smspark-submit INFO     primary is down, worker now exiting\n",
      "2023-04-19 16:39:20,429 smspark submit job is executed\n",
      "2023-04-19 16:39:20,429 exit_message: Completed: SageMaker XAI Analyzer ran successfully\n",
      "[/var/log/yarn/userlogs/application_1681922012\n"
     ]
    }
   ],
   "source": [
    "# The job takes about 10 minutes to run\n",
    "clarify_processor.run_explainability(\n",
    "    data_config=explainability_data_config,\n",
    "    model_config=model_config,\n",
    "    explainability_config=shap_config,\n",
    ")"
   ]
  },
  {
   "cell_type": "markdown",
   "id": "1aa43bd9-7cab-48da-b128-635b90c49971",
   "metadata": {},
   "source": [
    "## Model-Explainability of a real-time endpoint\n",
    "The training job saved a model in the specified location on Amazon S3.\n",
    "\n",
    "You can deploy the model as a [real-time endpoint](https://docs.aws.amazon.com/sagemaker/latest/dg/realtime-endpoints.html), which is just one [function call](https://sagemaker.readthedocs.io/en/stable/api/training/estimators.html#sagemaker.estimator.Estimator.deploy), or create a [batch transform](https://docs.aws.amazon.com/sagemaker/latest/dg/batch-transform.html) to predict a label for a large dataset.\n",
    "\n",
    "First we are going to look at real-time endpoint predictions. SageMaker Clarify gives you the option to explain every call to the endpoint. First, lets create an endpoint without SageMaker Clarify to investigate the difference in response. \n"
   ]
  },
  {
   "cell_type": "markdown",
   "id": "d2b02426-0b29-4b42-a182-7e62ba951767",
   "metadata": {},
   "source": [
    "### Creating a real-time inference endpoint \n",
    "To test [real-time inference](https://docs.aws.amazon.com/sagemaker/latest/dg/realtime-endpoints.html) you create a real-time endpoint using the trained estimator."
   ]
  },
  {
   "cell_type": "code",
   "execution_count": 129,
   "id": "feb0d417-99e8-480d-baa4-7ab18d9b5427",
   "metadata": {
    "tags": []
   },
   "outputs": [
    {
     "name": "stderr",
     "output_type": "stream",
     "text": [
      "INFO:sagemaker:Creating model with name: from-idea-to-prod-training-2023-04-19-17-47-47-192\n",
      "INFO:sagemaker:Creating endpoint-config with name from-idea-to-prod-endpoint-19-17-47-47\n",
      "INFO:sagemaker:Creating endpoint with name from-idea-to-prod-endpoint-19-17-47-47\n"
     ]
    }
   ],
   "source": [
    "# Real-time endpoint\n",
    "endpoint_name = f\"from-idea-to-prod-endpoint-{strftime('%d-%H-%M-%S', gmtime())}\"\n",
    "\n",
    "try:\n",
    "    predictor = estimator.deploy(\n",
    "        initial_instance_count=1,\n",
    "        instance_type=\"ml.m5.large\",\n",
    "        wait=False,  # Remember, predictor.predict() won't work until deployment finishes!\n",
    "        # Turn on data capture here, in case you want to experiment with monitoring:\n",
    "        data_capture_config=sagemaker.model_monitor.DataCaptureConfig(\n",
    "            enable_capture=True,\n",
    "            sampling_percentage=100,\n",
    "            destination_s3_uri=f\"s3://{bucket_name}/{bucket_prefix}/data-capture\",\n",
    "        ),\n",
    "        endpoint_name=endpoint_name,\n",
    "        serializer=csv_serializer,\n",
    "        deserializer=csv_deserializer,\n",
    "    )\n",
    "except botocore.exceptions.ClientError as e:\n",
    "    if e.response['Error']['Code'] == 'AccessDeniedException':\n",
    "        print(f\"Ignore AccessDeniedException: {e.response['Error']['Message']} because of the slow resource tag auto propagation\")\n",
    "        predictor = sagemaker.predictor.Predictor(endpoint_name=endpoint_name,\n",
    "                                                  sagemaker_session=session,\n",
    "                                                  serializer=csv_serializer,\n",
    "                                                  deserializer=csv_deserializer,\n",
    "                                                 )\n",
    "    else:\n",
    "        raise e\n",
    "        "
   ]
  },
  {
   "cell_type": "code",
   "execution_count": 130,
   "id": "a1714f00-78da-4d99-b665-77822581f50a",
   "metadata": {
    "tags": []
   },
   "outputs": [],
   "source": [
    "# Wait until the endpoint has the status InService\n",
    "waiter = session.sagemaker_client.get_waiter('endpoint_in_service')\n",
    "waiter.wait(EndpointName=endpoint_name)"
   ]
  },
  {
   "cell_type": "markdown",
   "id": "9e2e7b68-7b53-420d-b716-c62a98bd0c5d",
   "metadata": {},
   "source": [
    "#### Predict"
   ]
  },
  {
   "cell_type": "code",
   "execution_count": 88,
   "id": "afe4d085-0c98-49db-bc61-b14e93e9f21e",
   "metadata": {
    "tags": []
   },
   "outputs": [
    {
     "name": "stderr",
     "output_type": "stream",
     "text": [
      "10396.89s - pydevd: Sending message related to process being replaced timed-out after 5 seconds\n"
     ]
    },
    {
     "name": "stdout",
     "output_type": "stream",
     "text": [
      "download: s3://sagemaker-us-east-1-510646607739/from-idea-to-prod/xgboost/test/test_x.csv to tmp/test_x.csv\n"
     ]
    },
    {
     "name": "stderr",
     "output_type": "stream",
     "text": [
      "10404.15s - pydevd: Sending message related to process being replaced timed-out after 5 seconds\n"
     ]
    },
    {
     "name": "stdout",
     "output_type": "stream",
     "text": [
      "download: s3://sagemaker-us-east-1-510646607739/from-idea-to-prod/xgboost/test/test_y.csv to tmp/test_y.csv\n"
     ]
    }
   ],
   "source": [
    "!aws s3 cp $test_s3_url/test_x.csv tmp/test_x.csv\n",
    "!aws s3 cp $test_s3_url/test_y.csv tmp/test_y.csv"
   ]
  },
  {
   "cell_type": "code",
   "execution_count": 89,
   "id": "cbfeb79b-014e-4784-a7bd-52f88b9957db",
   "metadata": {
    "tags": []
   },
   "outputs": [
    {
     "data": {
      "text/html": [
       "<div>\n",
       "<style scoped>\n",
       "    .dataframe tbody tr th:only-of-type {\n",
       "        vertical-align: middle;\n",
       "    }\n",
       "\n",
       "    .dataframe tbody tr th {\n",
       "        vertical-align: top;\n",
       "    }\n",
       "\n",
       "    .dataframe thead th {\n",
       "        text-align: right;\n",
       "    }\n",
       "</style>\n",
       "<table border=\"1\" class=\"dataframe\">\n",
       "  <thead>\n",
       "    <tr style=\"text-align: right;\">\n",
       "      <th></th>\n",
       "      <th>0</th>\n",
       "      <th>1</th>\n",
       "      <th>2</th>\n",
       "      <th>3</th>\n",
       "      <th>4</th>\n",
       "      <th>5</th>\n",
       "      <th>6</th>\n",
       "      <th>7</th>\n",
       "      <th>8</th>\n",
       "      <th>9</th>\n",
       "      <th>...</th>\n",
       "      <th>49</th>\n",
       "      <th>50</th>\n",
       "      <th>51</th>\n",
       "      <th>52</th>\n",
       "      <th>53</th>\n",
       "      <th>54</th>\n",
       "      <th>55</th>\n",
       "      <th>56</th>\n",
       "      <th>57</th>\n",
       "      <th>58</th>\n",
       "    </tr>\n",
       "  </thead>\n",
       "  <tbody>\n",
       "    <tr>\n",
       "      <th>0</th>\n",
       "      <td>25</td>\n",
       "      <td>1</td>\n",
       "      <td>999</td>\n",
       "      <td>0</td>\n",
       "      <td>1</td>\n",
       "      <td>0</td>\n",
       "      <td>0</td>\n",
       "      <td>0</td>\n",
       "      <td>0</td>\n",
       "      <td>0</td>\n",
       "      <td>...</td>\n",
       "      <td>0</td>\n",
       "      <td>0</td>\n",
       "      <td>0</td>\n",
       "      <td>1</td>\n",
       "      <td>0</td>\n",
       "      <td>0</td>\n",
       "      <td>0</td>\n",
       "      <td>0</td>\n",
       "      <td>1</td>\n",
       "      <td>0</td>\n",
       "    </tr>\n",
       "    <tr>\n",
       "      <th>1</th>\n",
       "      <td>28</td>\n",
       "      <td>3</td>\n",
       "      <td>999</td>\n",
       "      <td>0</td>\n",
       "      <td>1</td>\n",
       "      <td>0</td>\n",
       "      <td>0</td>\n",
       "      <td>0</td>\n",
       "      <td>0</td>\n",
       "      <td>0</td>\n",
       "      <td>...</td>\n",
       "      <td>0</td>\n",
       "      <td>0</td>\n",
       "      <td>0</td>\n",
       "      <td>0</td>\n",
       "      <td>0</td>\n",
       "      <td>1</td>\n",
       "      <td>0</td>\n",
       "      <td>0</td>\n",
       "      <td>1</td>\n",
       "      <td>0</td>\n",
       "    </tr>\n",
       "    <tr>\n",
       "      <th>2</th>\n",
       "      <td>38</td>\n",
       "      <td>1</td>\n",
       "      <td>999</td>\n",
       "      <td>0</td>\n",
       "      <td>1</td>\n",
       "      <td>0</td>\n",
       "      <td>1</td>\n",
       "      <td>0</td>\n",
       "      <td>0</td>\n",
       "      <td>0</td>\n",
       "      <td>...</td>\n",
       "      <td>0</td>\n",
       "      <td>0</td>\n",
       "      <td>0</td>\n",
       "      <td>1</td>\n",
       "      <td>0</td>\n",
       "      <td>0</td>\n",
       "      <td>0</td>\n",
       "      <td>0</td>\n",
       "      <td>1</td>\n",
       "      <td>0</td>\n",
       "    </tr>\n",
       "    <tr>\n",
       "      <th>3</th>\n",
       "      <td>32</td>\n",
       "      <td>1</td>\n",
       "      <td>999</td>\n",
       "      <td>1</td>\n",
       "      <td>1</td>\n",
       "      <td>0</td>\n",
       "      <td>1</td>\n",
       "      <td>0</td>\n",
       "      <td>0</td>\n",
       "      <td>0</td>\n",
       "      <td>...</td>\n",
       "      <td>0</td>\n",
       "      <td>0</td>\n",
       "      <td>0</td>\n",
       "      <td>1</td>\n",
       "      <td>0</td>\n",
       "      <td>0</td>\n",
       "      <td>0</td>\n",
       "      <td>1</td>\n",
       "      <td>0</td>\n",
       "      <td>0</td>\n",
       "    </tr>\n",
       "    <tr>\n",
       "      <th>4</th>\n",
       "      <td>40</td>\n",
       "      <td>1</td>\n",
       "      <td>999</td>\n",
       "      <td>0</td>\n",
       "      <td>1</td>\n",
       "      <td>0</td>\n",
       "      <td>0</td>\n",
       "      <td>0</td>\n",
       "      <td>0</td>\n",
       "      <td>0</td>\n",
       "      <td>...</td>\n",
       "      <td>0</td>\n",
       "      <td>0</td>\n",
       "      <td>0</td>\n",
       "      <td>0</td>\n",
       "      <td>0</td>\n",
       "      <td>1</td>\n",
       "      <td>0</td>\n",
       "      <td>0</td>\n",
       "      <td>1</td>\n",
       "      <td>0</td>\n",
       "    </tr>\n",
       "  </tbody>\n",
       "</table>\n",
       "<p>5 rows × 59 columns</p>\n",
       "</div>"
      ],
      "text/plain": [
       "    0  1    2  3  4  5  6  7  8  9  ...  49  50  51  52  53  54  55  56  57  \\\n",
       "0  25  1  999  0  1  0  0  0  0  0  ...   0   0   0   1   0   0   0   0   1   \n",
       "1  28  3  999  0  1  0  0  0  0  0  ...   0   0   0   0   0   1   0   0   1   \n",
       "2  38  1  999  0  1  0  1  0  0  0  ...   0   0   0   1   0   0   0   0   1   \n",
       "3  32  1  999  1  1  0  1  0  0  0  ...   0   0   0   1   0   0   0   1   0   \n",
       "4  40  1  999  0  1  0  0  0  0  0  ...   0   0   0   0   0   1   0   0   1   \n",
       "\n",
       "   58  \n",
       "0   0  \n",
       "1   0  \n",
       "2   0  \n",
       "3   0  \n",
       "4   0  \n",
       "\n",
       "[5 rows x 59 columns]"
      ]
     },
     "execution_count": 89,
     "metadata": {},
     "output_type": "execute_result"
    }
   ],
   "source": [
    "test_x = pd.read_csv(\"tmp/test_x.csv\", names=[f'{i}' for i in range(59)])\n",
    "test_y = pd.read_csv(\"tmp/test_y.csv\", names=['y'])\n",
    "test_x.head()"
   ]
  },
  {
   "cell_type": "code",
   "execution_count": 131,
   "id": "b5d420ff-2e3e-466a-b8e4-91a2f407f26d",
   "metadata": {
    "tags": []
   },
   "outputs": [
    {
     "name": "stdout",
     "output_type": "stream",
     "text": [
      "Number of predictions made by the endpoint:(4119,)\n",
      "\n",
      "Predictions made by the endpoint:[0.05007133 0.08709648 0.21951182 ... 0.04024194 0.03798791 0.037095  ]\n",
      "CPU times: user 167 ms, sys: 14.4 ms, total: 181 ms\n",
      "Wall time: 1.66 s\n"
     ]
    }
   ],
   "source": [
    "%%time\n",
    "predictions = np.array(predictor.predict(test_x.values), dtype=float).squeeze()\n",
    "print(f'Number of predictions made by the endpoint:{predictions.shape}\\n')\n",
    "print(f'Predictions made by the endpoint:{predictions}')"
   ]
  },
  {
   "cell_type": "markdown",
   "id": "772ebdad-ab4a-4cf1-bda5-82618d6d6261",
   "metadata": {},
   "source": [
    "#### Evaluate predictions"
   ]
  },
  {
   "cell_type": "code",
   "execution_count": 132,
   "id": "ce21400a-6cbd-4817-869d-89e289fa165b",
   "metadata": {
    "tags": []
   },
   "outputs": [
    {
     "data": {
      "text/html": [
       "<div>\n",
       "<style scoped>\n",
       "    .dataframe tbody tr th:only-of-type {\n",
       "        vertical-align: middle;\n",
       "    }\n",
       "\n",
       "    .dataframe tbody tr th {\n",
       "        vertical-align: top;\n",
       "    }\n",
       "\n",
       "    .dataframe thead th {\n",
       "        text-align: right;\n",
       "    }\n",
       "</style>\n",
       "<table border=\"1\" class=\"dataframe\">\n",
       "  <thead>\n",
       "    <tr style=\"text-align: right;\">\n",
       "      <th></th>\n",
       "      <th>y_pred</th>\n",
       "      <th>0</th>\n",
       "      <th>1</th>\n",
       "      <th>2</th>\n",
       "      <th>3</th>\n",
       "      <th>4</th>\n",
       "      <th>5</th>\n",
       "      <th>6</th>\n",
       "      <th>7</th>\n",
       "      <th>8</th>\n",
       "      <th>...</th>\n",
       "      <th>49</th>\n",
       "      <th>50</th>\n",
       "      <th>51</th>\n",
       "      <th>52</th>\n",
       "      <th>53</th>\n",
       "      <th>54</th>\n",
       "      <th>55</th>\n",
       "      <th>56</th>\n",
       "      <th>57</th>\n",
       "      <th>58</th>\n",
       "    </tr>\n",
       "  </thead>\n",
       "  <tbody>\n",
       "    <tr>\n",
       "      <th>0</th>\n",
       "      <td>0.050071</td>\n",
       "      <td>25</td>\n",
       "      <td>1</td>\n",
       "      <td>999</td>\n",
       "      <td>0</td>\n",
       "      <td>1</td>\n",
       "      <td>0</td>\n",
       "      <td>0</td>\n",
       "      <td>0</td>\n",
       "      <td>0</td>\n",
       "      <td>...</td>\n",
       "      <td>0</td>\n",
       "      <td>0</td>\n",
       "      <td>0</td>\n",
       "      <td>1</td>\n",
       "      <td>0</td>\n",
       "      <td>0</td>\n",
       "      <td>0</td>\n",
       "      <td>0</td>\n",
       "      <td>1</td>\n",
       "      <td>0</td>\n",
       "    </tr>\n",
       "    <tr>\n",
       "      <th>1</th>\n",
       "      <td>0.087096</td>\n",
       "      <td>28</td>\n",
       "      <td>3</td>\n",
       "      <td>999</td>\n",
       "      <td>0</td>\n",
       "      <td>1</td>\n",
       "      <td>0</td>\n",
       "      <td>0</td>\n",
       "      <td>0</td>\n",
       "      <td>0</td>\n",
       "      <td>...</td>\n",
       "      <td>0</td>\n",
       "      <td>0</td>\n",
       "      <td>0</td>\n",
       "      <td>0</td>\n",
       "      <td>0</td>\n",
       "      <td>1</td>\n",
       "      <td>0</td>\n",
       "      <td>0</td>\n",
       "      <td>1</td>\n",
       "      <td>0</td>\n",
       "    </tr>\n",
       "    <tr>\n",
       "      <th>2</th>\n",
       "      <td>0.219512</td>\n",
       "      <td>38</td>\n",
       "      <td>1</td>\n",
       "      <td>999</td>\n",
       "      <td>0</td>\n",
       "      <td>1</td>\n",
       "      <td>0</td>\n",
       "      <td>1</td>\n",
       "      <td>0</td>\n",
       "      <td>0</td>\n",
       "      <td>...</td>\n",
       "      <td>0</td>\n",
       "      <td>0</td>\n",
       "      <td>0</td>\n",
       "      <td>1</td>\n",
       "      <td>0</td>\n",
       "      <td>0</td>\n",
       "      <td>0</td>\n",
       "      <td>0</td>\n",
       "      <td>1</td>\n",
       "      <td>0</td>\n",
       "    </tr>\n",
       "    <tr>\n",
       "      <th>3</th>\n",
       "      <td>0.235661</td>\n",
       "      <td>32</td>\n",
       "      <td>1</td>\n",
       "      <td>999</td>\n",
       "      <td>1</td>\n",
       "      <td>1</td>\n",
       "      <td>0</td>\n",
       "      <td>1</td>\n",
       "      <td>0</td>\n",
       "      <td>0</td>\n",
       "      <td>...</td>\n",
       "      <td>0</td>\n",
       "      <td>0</td>\n",
       "      <td>0</td>\n",
       "      <td>1</td>\n",
       "      <td>0</td>\n",
       "      <td>0</td>\n",
       "      <td>0</td>\n",
       "      <td>1</td>\n",
       "      <td>0</td>\n",
       "      <td>0</td>\n",
       "    </tr>\n",
       "    <tr>\n",
       "      <th>4</th>\n",
       "      <td>0.033749</td>\n",
       "      <td>40</td>\n",
       "      <td>1</td>\n",
       "      <td>999</td>\n",
       "      <td>0</td>\n",
       "      <td>1</td>\n",
       "      <td>0</td>\n",
       "      <td>0</td>\n",
       "      <td>0</td>\n",
       "      <td>0</td>\n",
       "      <td>...</td>\n",
       "      <td>0</td>\n",
       "      <td>0</td>\n",
       "      <td>0</td>\n",
       "      <td>0</td>\n",
       "      <td>0</td>\n",
       "      <td>1</td>\n",
       "      <td>0</td>\n",
       "      <td>0</td>\n",
       "      <td>1</td>\n",
       "      <td>0</td>\n",
       "    </tr>\n",
       "  </tbody>\n",
       "</table>\n",
       "<p>5 rows × 60 columns</p>\n",
       "</div>"
      ],
      "text/plain": [
       "     y_pred   0  1    2  3  4  5  6  7  8  ...  49  50  51  52  53  54  55  \\\n",
       "0  0.050071  25  1  999  0  1  0  0  0  0  ...   0   0   0   1   0   0   0   \n",
       "1  0.087096  28  3  999  0  1  0  0  0  0  ...   0   0   0   0   0   1   0   \n",
       "2  0.219512  38  1  999  0  1  0  1  0  0  ...   0   0   0   1   0   0   0   \n",
       "3  0.235661  32  1  999  1  1  0  1  0  0  ...   0   0   0   1   0   0   0   \n",
       "4  0.033749  40  1  999  0  1  0  0  0  0  ...   0   0   0   0   0   1   0   \n",
       "\n",
       "   56  57  58  \n",
       "0   0   1   0  \n",
       "1   0   1   0  \n",
       "2   0   1   0  \n",
       "3   1   0   0  \n",
       "4   0   1   0  \n",
       "\n",
       "[5 rows x 60 columns]"
      ]
     },
     "execution_count": 132,
     "metadata": {},
     "output_type": "execute_result"
    }
   ],
   "source": [
    "test_results = pd.concat(\n",
    "    [\n",
    "        pd.Series(predictions, name=\"y_pred\", index=test_x.index),\n",
    "        test_x,\n",
    "    ],\n",
    "    axis=1,\n",
    ")\n",
    "test_results.head()"
   ]
  },
  {
   "cell_type": "code",
   "execution_count": 133,
   "id": "91b8ef37-c50d-465d-bf54-2b104ace6fe7",
   "metadata": {
    "tags": []
   },
   "outputs": [
    {
     "data": {
      "text/html": [
       "<div>\n",
       "<style scoped>\n",
       "    .dataframe tbody tr th:only-of-type {\n",
       "        vertical-align: middle;\n",
       "    }\n",
       "\n",
       "    .dataframe tbody tr th {\n",
       "        vertical-align: top;\n",
       "    }\n",
       "\n",
       "    .dataframe thead th {\n",
       "        text-align: right;\n",
       "    }\n",
       "</style>\n",
       "<table border=\"1\" class=\"dataframe\">\n",
       "  <thead>\n",
       "    <tr style=\"text-align: right;\">\n",
       "      <th>predictions</th>\n",
       "      <th>0.0</th>\n",
       "      <th>1.0</th>\n",
       "    </tr>\n",
       "    <tr>\n",
       "      <th>actuals</th>\n",
       "      <th></th>\n",
       "      <th></th>\n",
       "    </tr>\n",
       "  </thead>\n",
       "  <tbody>\n",
       "    <tr>\n",
       "      <th>0</th>\n",
       "      <td>3596</td>\n",
       "      <td>40</td>\n",
       "    </tr>\n",
       "    <tr>\n",
       "      <th>1</th>\n",
       "      <td>385</td>\n",
       "      <td>98</td>\n",
       "    </tr>\n",
       "  </tbody>\n",
       "</table>\n",
       "</div>"
      ],
      "text/plain": [
       "predictions   0.0  1.0\n",
       "actuals               \n",
       "0            3596   40\n",
       "1             385   98"
      ]
     },
     "execution_count": 133,
     "metadata": {},
     "output_type": "execute_result"
    }
   ],
   "source": [
    "pd.crosstab(\n",
    "    index=test_y['y'].values,\n",
    "    columns=np.round(predictions), \n",
    "    rownames=['actuals'], \n",
    "    colnames=['predictions']\n",
    ")"
   ]
  },
  {
   "cell_type": "code",
   "execution_count": 134,
   "id": "f994e5e0-b83f-4c39-b9fe-9e0c74b2b4f6",
   "metadata": {
    "tags": []
   },
   "outputs": [
    {
     "name": "stdout",
     "output_type": "stream",
     "text": [
      "Test-auc: 0.77\n"
     ]
    }
   ],
   "source": [
    "test_auc = roc_auc_score(test_y, test_results[\"y_pred\"])\n",
    "print(f\"Test-auc: {test_auc:.2f}\")"
   ]
  },
  {
   "cell_type": "markdown",
   "id": "27bdfaa2",
   "metadata": {
    "tags": []
   },
   "source": [
    "### Online explainability of an real-time inference endpoint\n",
    "For applications when using a human-in-the-loop, calculations need to be made at inference time. E.g. when human experts interact with customers, we want out model predictions to be as recent as possible, and the same holds ture for our model explanations. Therefore, we need to calculate those metrics at inference time. \n",
    "\n",
    "In our example, call center outbound calls, it is essential to provide the agent with information on what drives the customer to be targeted for marketing calls. Using machine learning models for this purpose can lead to improved targeting and better results. However, it is critical to explain the model's prediction to the agent to gain their trust and help them make informed decisions. "
   ]
  },
  {
   "cell_type": "markdown",
   "id": "dcc246df",
   "metadata": {},
   "source": [
    "Explanations are typically contrastive (that is, they account for deviations from a baseline). As a result, for the same model prediction, you can expect to get different explanations with respect to different baselines. Therefore, your choice of a baseline is crucial. In an ML context, the baseline corresponds to a hypothetical instance that can be either uninformative or informative. During the computation of Shapley values, SageMaker Clarify generates several new instances between the baseline and the given instance, in which the absence of a feature, is modeled by setting the feature value to that of the baseline and the presence of a feature is modeled by setting the feature value to that of the given instance. Thus, the absence of all features corresponds to the baseline and the presence of all features corresponds to the given instance.\n",
    "\n",
    "How can you choose good baselines? Often it is desirable to select a baseline with very low information content. For example, you can construct an average instance from the training dataset by taking either the median or average for numerical features and the mode for categorical features. For the college admissions example, you might be interested in explaining why a particular applicant was accepted as compared to a baseline acceptances based on an average applicant. If not provided, a baseline is calculated automatically by SageMaker Clarify using K-means or K-prototypes in the input dataset.\n",
    "\n",
    "Alternatively, you can choose to generate explanations with respect to informative baselines. For the college admissions scenario, you might want to explain why a particular applicant was rejected when compared with other applicants from similar demographic backgrounds. In this case, you can choose a baseline that represents the applicants of interest, namely those from a similar demographic background. Thus, you can use informative baselines to concentrate the analysis on the specific aspects of a particular model prediction. You can isolate the features for assessment by setting demographic attributes and other features that you can't act on to the same value as in the given instance.\n",
    "\n",
    "Amazon Web Services. (n.d.). SageMaker Clarify SHAP: Choosing baselines and feature attributes. Retrieved April 6, 2023, from https://docs.aws.amazon.com/sagemaker/latest/dg/clarify-feature-attribute-shap-baselines.html \n",
    "\n",
    "For our case with the realtime inference we want to use the validation set as a baseline, as we would not have the test data available. "
   ]
  },
  {
   "cell_type": "code",
   "execution_count": 135,
   "id": "e4d12c0e",
   "metadata": {
    "tags": []
   },
   "outputs": [
    {
     "name": "stderr",
     "output_type": "stream",
     "text": [
      "14478.53s - pydevd: Sending message related to process being replaced timed-out after 5 seconds\n"
     ]
    },
    {
     "name": "stdout",
     "output_type": "stream",
     "text": [
      "download: s3://sagemaker-us-east-1-510646607739/from-idea-to-prod/xgboost/validation/validation.csv to tmp/validation.csv\n"
     ]
    }
   ],
   "source": [
    "# use the aws cli to get the validation testset downloaded with the s3 downloader\n",
    "!aws s3 cp $validation_s3_url/validation.csv tmp/validation.csv"
   ]
  },
  {
   "cell_type": "code",
   "execution_count": 136,
   "id": "6fa2ff8e",
   "metadata": {
    "tags": []
   },
   "outputs": [
    {
     "name": "stdout",
     "output_type": "stream",
     "text": [
      "(8238, 59)\n"
     ]
    }
   ],
   "source": [
    "# read the validation testset into a pandas dataframe. there is no header in the csv file rename the columns by column number\n",
    "validation_x = pd.read_csv(\"tmp/validation.csv\", header=None).drop(0, axis=1)\n",
    "print(validation_x.shape)"
   ]
  },
  {
   "cell_type": "code",
   "execution_count": 137,
   "id": "fc7eb533",
   "metadata": {
    "tags": []
   },
   "outputs": [
    {
     "name": "stdout",
     "output_type": "stream",
     "text": [
      "Baseline array shape to check: (59,)\n",
      "Use the mean of the test data as the SHAP baseline - showing first 5 entries: [40.09662539451323, 2.5648215586307357, 965.7171643602816, 0.16436028162175284, 0.9664967225054625]\n"
     ]
    }
   ],
   "source": [
    "baseline = validation_x.mean().to_list()  # Inline baseline data\n",
    "print(f\"Baseline array shape to check: {np.array(baseline).shape}\")\n",
    "print(f\"Use the mean of the test data as the SHAP baseline - showing first 5 entries: {baseline[:5]}\")"
   ]
  },
  {
   "cell_type": "code",
   "execution_count": 138,
   "id": "38a0b293",
   "metadata": {
    "tags": []
   },
   "outputs": [],
   "source": [
    "from botocore.config import Config\n",
    "sagemaker_client = boto3.client('sagemaker')"
   ]
  },
  {
   "cell_type": "code",
   "execution_count": 139,
   "id": "af2b4fa6",
   "metadata": {
    "tags": []
   },
   "outputs": [],
   "source": [
    "# in case you lost the endpoint name, you can get it from the sagemaker client\n",
    "endpoint_list = sagemaker_client.list_endpoints()\n",
    "\n",
    "# filter the endpoints list to get the endpoint name that has \"from-idea-to-prod-endpoint\" in the name\n",
    "endpoint_name = [endpoint['EndpointName'] for endpoint in endpoint_list['Endpoints'] if 'from-idea-to-prod-endpoint' in endpoint['EndpointName']][0]\n",
    "clarify_config_name = 'realtime-clarify-config'\n",
    "\n",
    "# get the endpoint config name from the endpoint name\n",
    "response = sagemaker_client.describe_endpoint(EndpointName=endpoint_name)\n",
    "endpoint_config_name = response['EndpointConfigName']\n"
   ]
  },
  {
   "cell_type": "code",
   "execution_count": 140,
   "id": "95edfdf6",
   "metadata": {
    "tags": []
   },
   "outputs": [
    {
     "data": {
      "text/plain": [
       "{'EndpointConfigName': 'from-idea-to-prod-endpoint-19-17-47-47',\n",
       " 'EndpointConfigArn': 'arn:aws:sagemaker:us-east-1:510646607739:endpoint-config/from-idea-to-prod-endpoint-19-17-47-47',\n",
       " 'ProductionVariants': [{'VariantName': 'AllTraffic',\n",
       "   'ModelName': 'from-idea-to-prod-training-2023-04-19-17-47-47-192',\n",
       "   'InitialInstanceCount': 1,\n",
       "   'InstanceType': 'ml.m5.large',\n",
       "   'InitialVariantWeight': 1.0,\n",
       "   'VolumeSizeInGB': 8}],\n",
       " 'DataCaptureConfig': {'EnableCapture': True,\n",
       "  'InitialSamplingPercentage': 100,\n",
       "  'DestinationS3Uri': 's3://sagemaker-us-east-1-510646607739/from-idea-to-prod/xgboost/data-capture',\n",
       "  'CaptureOptions': [{'CaptureMode': 'Input'}, {'CaptureMode': 'Output'}],\n",
       "  'CaptureContentTypeHeader': {'CsvContentTypes': ['text/csv'],\n",
       "   'JsonContentTypes': ['application/json']}},\n",
       " 'CreationTime': datetime.datetime(2023, 4, 19, 19, 47, 49, 8000, tzinfo=tzlocal()),\n",
       " 'ResponseMetadata': {'RequestId': '00523e28-624d-43e0-974d-6a05dd5ba66b',\n",
       "  'HTTPStatusCode': 200,\n",
       "  'HTTPHeaders': {'x-amzn-requestid': '00523e28-624d-43e0-974d-6a05dd5ba66b',\n",
       "   'content-type': 'application/x-amz-json-1.1',\n",
       "   'content-length': '771',\n",
       "   'date': 'Wed, 19 Apr 2023 17:50:33 GMT'},\n",
       "  'RetryAttempts': 0}}"
      ]
     },
     "execution_count": 140,
     "metadata": {},
     "output_type": "execute_result"
    }
   ],
   "source": [
    "# lets take a look at the endpoint config\n",
    "sagemaker_client.describe_endpoint_config(EndpointConfigName=endpoint_config_name)"
   ]
  },
  {
   "cell_type": "markdown",
   "id": "ef547fb8",
   "metadata": {},
   "source": [
    "To acutally have human readable descriptions of the features, we need to tell clarify what are the feature header labels. Remember, we only pass a payload to the endpoint, that has no feature column namings. \n",
    "<br> Please also remember that we one-hot-encoded all the columns, so we are getting the drivers per split category. "
   ]
  },
  {
   "cell_type": "markdown",
   "id": "5e04459f-a0d4-4f92-a48b-b8cb214c9c3b",
   "metadata": {},
   "source": [
    "#### Updating the endpoint config to incorporate the Clarify Config \n",
    "As Clarify is a running as a service that is coupled to the endpoint, we do not run the Clarify-SHAP calculations on the same instance that our endpoint is running on. \n",
    "<br>Therefore, we do not update the endpoint itself, but update the endpoint config to point to a SageMaker Clarify Explainer Container. \n",
    "Please see belows architecture for the <i>Clarify Online Explainablity</i>.<br>\n",
    "![onlineExplainabilityArchitectureFromAWSDocumentation](../img/online-explainability.png)\n",
    "\n"
   ]
  },
  {
   "cell_type": "code",
   "execution_count": 141,
   "id": "d7c8c844",
   "metadata": {
    "tags": []
   },
   "outputs": [
    {
     "name": "stdout",
     "output_type": "stream",
     "text": [
      "[{'VariantName': 'AllTraffic', 'ModelName': 'from-idea-to-prod-training-2023-04-19-17-47-47-192', 'InitialInstanceCount': 1, 'InstanceType': 'ml.m5.large', 'InitialVariantWeight': 1.0, 'VolumeSizeInGB': 8}]\n",
      "{'EnableCapture': True, 'InitialSamplingPercentage': 100, 'DestinationS3Uri': 's3://sagemaker-us-east-1-510646607739/from-idea-to-prod/xgboost/data-capture', 'CaptureOptions': [{'CaptureMode': 'Input'}, {'CaptureMode': 'Output'}], 'CaptureContentTypeHeader': {'CsvContentTypes': ['text/csv'], 'JsonContentTypes': ['application/json']}}\n",
      "{'ClarifyExplainerConfig': {'InferenceConfig': {'FeatureHeaders': ['y']}, 'ShapConfig': {'ShapBaselineConfig': {'ShapBaseline': '40.09662539451323,2.5648215586307357,965.7171643602816,0.16436028162175284,0.9664967225054625,0.08970623937848993,0.2562515173585822,0.22032046613255646,0.03459577567370721,0.027191065792668122,0.07076960427288177,0.042850206360767175,0.03653799465889779,0.09359067734887108,0.023306627822286964,0.16326778344258316,0.023549405195435785,0.007768875940762321,0.11046370478271425,0.6076717649915028,0.27980092255401795,0.0020636076717649916,0.09747511531925225,0.05741684874969653,0.1455450352027191,0.23112405923767904,0.00024277737314882253,0.12636562272396212,0.3001942218985191,0.04163631949502306,0.7935178441369264,0.20636076717649915,0.00012138868657441127,0.448045642146152,0.025491624180626365,0.5264627336732216,0.8165816945860646,0.025491624180626365,0.15792668123330905,0.6364408837096382,0.36355911629036175,0.06130128672007769,0.14675892206846322,0.004855547462976451,0.1766205389657684,0.12624423403738771,0.012138868657441126,0.33988832240835154,0.09966011167759165,0.018086914299587278,0.01444525370235494,0.18657441126487012,0.20538965768390385,0.20587521243020152,0.20296188395241563,0.19919883466860888,0.10330177227482398,0.8657441126487011,0.030954115076474872'}}}}\n"
     ]
    }
   ],
   "source": [
    "response = sagemaker_client.describe_endpoint_config(EndpointConfigName=endpoint_config_name)\n",
    "production_variants = response['ProductionVariants']\n",
    "data_config = response['DataCaptureConfig']\n",
    "explainer_config={\n",
    "        \"ClarifyExplainerConfig\": {\n",
    "            # \"EnableExplanations\": \"`false`\",  # By default explanations are enabled, but you can change the condition by this parameter.\n",
    "            \"InferenceConfig\": {\n",
    "                \"FeatureHeaders\": feature_headers_list[:1],\n",
    "            },\n",
    "            \"ShapConfig\": {\n",
    "                \"ShapBaselineConfig\": {\n",
    "                    \"ShapBaseline\": CSVSerializer().serialize(baseline),  # inline baseline data\n",
    "                }\n",
    "            },\n",
    "        }\n",
    "    }\n",
    "    \n",
    "print(production_variants)\n",
    "print(data_config)\n",
    "print(explainer_config)\n"
   ]
  },
  {
   "cell_type": "markdown",
   "id": "5d6602ab-8d8f-4cea-94c4-c76eb6646040",
   "metadata": {},
   "source": [
    "Now we can update the endpoint config to incorporate the ExplainerConfig"
   ]
  },
  {
   "cell_type": "code",
   "execution_count": 142,
   "id": "d38d39e3",
   "metadata": {
    "tags": []
   },
   "outputs": [
    {
     "data": {
      "text/plain": [
       "{'EndpointConfigArn': 'arn:aws:sagemaker:us-east-1:510646607739:endpoint-config/from-idea-to-prod-endpoint-19-17-47-47-new-config',\n",
       " 'ResponseMetadata': {'RequestId': '7ff7ef00-f3a9-4376-bfe4-aa1e467f1ff5',\n",
       "  'HTTPStatusCode': 200,\n",
       "  'HTTPHeaders': {'x-amzn-requestid': '7ff7ef00-f3a9-4376-bfe4-aa1e467f1ff5',\n",
       "   'content-type': 'application/x-amz-json-1.1',\n",
       "   'content-length': '130',\n",
       "   'date': 'Wed, 19 Apr 2023 17:50:34 GMT'},\n",
       "  'RetryAttempts': 0}}"
      ]
     },
     "execution_count": 142,
     "metadata": {},
     "output_type": "execute_result"
    }
   ],
   "source": [
    "new_endpoint_config_name = f\"{endpoint_name}-new-config\"\n",
    "create_config_response = sagemaker_client.create_endpoint_config(\n",
    "    EndpointConfigName=new_endpoint_config_name,\n",
    "    ProductionVariants=production_variants,\n",
    "    # DataCaptureConfig=data_config,\n",
    "    ExplainerConfig=explainer_config,\n",
    "    )\n",
    "create_config_response"
   ]
  },
  {
   "cell_type": "code",
   "execution_count": 143,
   "id": "964a6091",
   "metadata": {
    "tags": []
   },
   "outputs": [
    {
     "data": {
      "text/plain": [
       "{'EndpointArn': 'arn:aws:sagemaker:us-east-1:510646607739:endpoint/from-idea-to-prod-endpoint-19-17-47-47',\n",
       " 'ResponseMetadata': {'RequestId': '6c8fb05f-7e17-4c3b-9d55-d72da6eb3863',\n",
       "  'HTTPStatusCode': 200,\n",
       "  'HTTPHeaders': {'x-amzn-requestid': '6c8fb05f-7e17-4c3b-9d55-d72da6eb3863',\n",
       "   'content-type': 'application/x-amz-json-1.1',\n",
       "   'content-length': '106',\n",
       "   'date': 'Wed, 19 Apr 2023 17:50:34 GMT'},\n",
       "  'RetryAttempts': 0}}"
      ]
     },
     "execution_count": 143,
     "metadata": {},
     "output_type": "execute_result"
    }
   ],
   "source": [
    "sagemaker_client.update_endpoint(EndpointName=endpoint_name, EndpointConfigName=new_endpoint_config_name)"
   ]
  },
  {
   "cell_type": "code",
   "execution_count": 144,
   "id": "7dc46c59",
   "metadata": {
    "tags": []
   },
   "outputs": [],
   "source": [
    "def force_plot(expected_value, shap_values, feature_data, feature_headers):\n",
    "    \"\"\"\n",
    "    Visualize the given SHAP values with an additive force layout.\n",
    "\n",
    "    For more information: https://shap.readthedocs.io/en/latest/example_notebooks/tabular_examples/tree_based_models/Force%20Plot%20Colors.html\n",
    "    \"\"\"\n",
    "    force_plot_display = shap.plots.force(\n",
    "        base_value=expected_value,\n",
    "        shap_values=shap_values,\n",
    "        features=feature_data,\n",
    "        feature_names=feature_headers,\n",
    "        matplotlib=True,\n",
    "    )\n",
    "\n",
    "\n",
    "def display_plots(explanations, expected_value, request_records, predictions):\n",
    "    \"\"\"\n",
    "    Display the Model Explainability plots\n",
    "    \"\"\"\n",
    "    per_request_shap_values = OrderedDict()\n",
    "    feature_headers = []\n",
    "    for i, record_output in enumerate(explanations):\n",
    "        per_record_shap_values = []\n",
    "        if record_output is not None:\n",
    "            feature_headers = []\n",
    "            for feature_attribution in record_output:\n",
    "                per_record_shap_values.append(\n",
    "                    feature_attribution[\"attributions\"][0][\"attribution\"][0]\n",
    "                )\n",
    "                feature_headers.append(feature_attribution[\"feature_header\"])\n",
    "            per_request_shap_values[i] = per_record_shap_values\n",
    "\n",
    "    for record_index, shap_values in per_request_shap_values.items():\n",
    "        print(\n",
    "            f\"Visualize the SHAP values for Record number {record_index + 1} with Model Prediction: {predictions[record_index][0]}\"\n",
    "        )\n",
    "        force_plot(\n",
    "            expected_value,\n",
    "            np.array(shap_values),\n",
    "            request_records.iloc[record_index],\n",
    "            feature_headers,\n",
    "        )\n",
    "\n",
    "\n",
    "def visualize_result(result, request_records, expected_value):\n",
    "    \"\"\"\n",
    "    Visualize the output from the endpoint.\n",
    "    \"\"\"\n",
    "    predictions = pd.read_csv(io.StringIO(result[\"predictions\"][\"data\"]), header=None)\n",
    "    predictions = predictions.values.tolist()\n",
    "    print(f\"Model Inference output: \")\n",
    "    for i, model_output in enumerate(predictions):\n",
    "        print(f\"Record: {i + 1}\\tModel Prediction: {model_output[0]}\")\n",
    "\n",
    "    if \"kernel_shap\" in result[\"explanations\"]:\n",
    "        explanations = result[\"explanations\"][\"kernel_shap\"]\n",
    "        display_plots(explanations, expected_value, request_records, predictions)\n",
    "    else:\n",
    "        print(f\"No Clarify explanations for the record(s)\")"
   ]
  },
  {
   "cell_type": "code",
   "execution_count": 145,
   "id": "da6ee8d5",
   "metadata": {
    "tags": []
   },
   "outputs": [
    {
     "name": "stdout",
     "output_type": "stream",
     "text": [
      "{'Body': <botocore.response.StreamingBody object at 0x7f8bc00e7700>,\n",
      " 'ContentType': 'text/csv; charset=utf-8',\n",
      " 'InvokedProductionVariant': 'AllTraffic',\n",
      " 'ResponseMetadata': {'HTTPHeaders': {'content-length': '20',\n",
      "                                      'content-type': 'text/csv; charset=utf-8',\n",
      "                                      'date': 'Wed, 19 Apr 2023 17:50:36 GMT',\n",
      "                                      'x-amzn-invoked-production-variant': 'AllTraffic',\n",
      "                                      'x-amzn-requestid': '35c7ab27-2421-480b-93b1-3250604fa021'},\n",
      "                      'HTTPStatusCode': 200,\n",
      "                      'RequestId': '35c7ab27-2421-480b-93b1-3250604fa021',\n",
      "                      'RetryAttempts': 0}}\n"
     ]
    }
   ],
   "source": [
    "import pprint\n",
    "sagemaker_runtime_client = boto3.client(\"sagemaker-runtime\")\n",
    "\n",
    "request_records = test_x.iloc[:1, :]\n",
    "response = sagemaker_runtime_client.invoke_endpoint(\n",
    "    EndpointName=endpoint_name,\n",
    "    ContentType=\"text/csv\",\n",
    "    Body=csv_serializer.serialize(request_records.values),\n",
    ")\n",
    "pprint.pprint(response)"
   ]
  },
  {
   "cell_type": "code",
   "execution_count": 146,
   "id": "0c57d1a2",
   "metadata": {
    "collapsed": true,
    "jupyter": {
     "outputs_hidden": true
    },
    "tags": []
   },
   "outputs": [
    {
     "name": "stdout",
     "output_type": "stream",
     "text": [
      "0.05007132515311241\n"
     ]
    }
   ],
   "source": [
    "result = json_deserializer.deserialize(response[\"Body\"], content_type=response[\"ContentType\"])\n",
    "pprint.pprint(result)"
   ]
  },
  {
   "cell_type": "markdown",
   "id": "d49c3787-5365-43a2-b30b-877d949c8523",
   "metadata": {},
   "source": [
    "#### Visualizing the prediction drivers over the baseline\n",
    "A intuitive visualisation of the drivers the drivers for the prediction can be achieved by using force plots from the SHAP library. "
   ]
  },
  {
   "cell_type": "code",
   "execution_count": 147,
   "id": "b29abfa1",
   "metadata": {
    "tags": []
   },
   "outputs": [
    {
     "ename": "ValidationError",
     "evalue": "An error occurred (ValidationError) when calling the InvokeEndpoint operation: Endpoint from-idea-to-prod-endpoint-19-17-47-47 does not support explanations. Please define an explainer in your endpoint configuration and try again.",
     "output_type": "error",
     "traceback": [
      "\u001b[0;31m---------------------------------------------------------------------------\u001b[0m",
      "\u001b[0;31mValidationError\u001b[0m                           Traceback (most recent call last)",
      "Cell \u001b[0;32mIn[147], line 1\u001b[0m\n\u001b[0;32m----> 1\u001b[0m response \u001b[39m=\u001b[39m sagemaker_runtime_client\u001b[39m.\u001b[39;49minvoke_endpoint(\n\u001b[1;32m      2\u001b[0m     EndpointName\u001b[39m=\u001b[39;49mendpoint_name,\n\u001b[1;32m      3\u001b[0m     ContentType\u001b[39m=\u001b[39;49m\u001b[39m\"\u001b[39;49m\u001b[39mtext/csv\u001b[39;49m\u001b[39m\"\u001b[39;49m,\n\u001b[1;32m      4\u001b[0m     Body\u001b[39m=\u001b[39;49mcsv_serializer\u001b[39m.\u001b[39;49mserialize(baseline),\n\u001b[1;32m      5\u001b[0m     EnableExplanations\u001b[39m=\u001b[39;49m\u001b[39m\"\u001b[39;49m\u001b[39m`false`\u001b[39;49m\u001b[39m\"\u001b[39;49m,  \u001b[39m# Do not provide explanations\u001b[39;49;00m\n\u001b[1;32m      6\u001b[0m )\n\u001b[1;32m      7\u001b[0m json_object \u001b[39m=\u001b[39m json_deserializer\u001b[39m.\u001b[39mdeserialize(response[\u001b[39m\"\u001b[39m\u001b[39mBody\u001b[39m\u001b[39m\"\u001b[39m], content_type\u001b[39m=\u001b[39mresponse[\u001b[39m\"\u001b[39m\u001b[39mContentType\u001b[39m\u001b[39m\"\u001b[39m])\n\u001b[1;32m      8\u001b[0m expected_value \u001b[39m=\u001b[39m \u001b[39mfloat\u001b[39m(\n\u001b[1;32m      9\u001b[0m     pd\u001b[39m.\u001b[39mread_csv(io\u001b[39m.\u001b[39mStringIO(json_object[\u001b[39m\"\u001b[39m\u001b[39mpredictions\u001b[39m\u001b[39m\"\u001b[39m][\u001b[39m\"\u001b[39m\u001b[39mdata\u001b[39m\u001b[39m\"\u001b[39m]), header\u001b[39m=\u001b[39m\u001b[39mNone\u001b[39;00m)\n\u001b[1;32m     10\u001b[0m     \u001b[39m.\u001b[39mastype(\u001b[39mfloat\u001b[39m)\n\u001b[1;32m     11\u001b[0m     \u001b[39m.\u001b[39mmean(axis\u001b[39m=\u001b[39m\u001b[39m1\u001b[39m)\n\u001b[1;32m     12\u001b[0m )\n",
      "File \u001b[0;32m~/opt/anaconda3/envs/datascience/lib/python3.9/site-packages/botocore/client.py:530\u001b[0m, in \u001b[0;36mClientCreator._create_api_method.<locals>._api_call\u001b[0;34m(self, *args, **kwargs)\u001b[0m\n\u001b[1;32m    526\u001b[0m     \u001b[39mraise\u001b[39;00m \u001b[39mTypeError\u001b[39;00m(\n\u001b[1;32m    527\u001b[0m         \u001b[39mf\u001b[39m\u001b[39m\"\u001b[39m\u001b[39m{\u001b[39;00mpy_operation_name\u001b[39m}\u001b[39;00m\u001b[39m() only accepts keyword arguments.\u001b[39m\u001b[39m\"\u001b[39m\n\u001b[1;32m    528\u001b[0m     )\n\u001b[1;32m    529\u001b[0m \u001b[39m# The \"self\" in this scope is referring to the BaseClient.\u001b[39;00m\n\u001b[0;32m--> 530\u001b[0m \u001b[39mreturn\u001b[39;00m \u001b[39mself\u001b[39;49m\u001b[39m.\u001b[39;49m_make_api_call(operation_name, kwargs)\n",
      "File \u001b[0;32m~/opt/anaconda3/envs/datascience/lib/python3.9/site-packages/botocore/client.py:960\u001b[0m, in \u001b[0;36mBaseClient._make_api_call\u001b[0;34m(self, operation_name, api_params)\u001b[0m\n\u001b[1;32m    958\u001b[0m     error_code \u001b[39m=\u001b[39m parsed_response\u001b[39m.\u001b[39mget(\u001b[39m\"\u001b[39m\u001b[39mError\u001b[39m\u001b[39m\"\u001b[39m, {})\u001b[39m.\u001b[39mget(\u001b[39m\"\u001b[39m\u001b[39mCode\u001b[39m\u001b[39m\"\u001b[39m)\n\u001b[1;32m    959\u001b[0m     error_class \u001b[39m=\u001b[39m \u001b[39mself\u001b[39m\u001b[39m.\u001b[39mexceptions\u001b[39m.\u001b[39mfrom_code(error_code)\n\u001b[0;32m--> 960\u001b[0m     \u001b[39mraise\u001b[39;00m error_class(parsed_response, operation_name)\n\u001b[1;32m    961\u001b[0m \u001b[39melse\u001b[39;00m:\n\u001b[1;32m    962\u001b[0m     \u001b[39mreturn\u001b[39;00m parsed_response\n",
      "\u001b[0;31mValidationError\u001b[0m: An error occurred (ValidationError) when calling the InvokeEndpoint operation: Endpoint from-idea-to-prod-endpoint-19-17-47-47 does not support explanations. Please define an explainer in your endpoint configuration and try again."
     ]
    }
   ],
   "source": [
    "response = sagemaker_runtime_client.invoke_endpoint(\n",
    "    EndpointName=endpoint_name,\n",
    "    ContentType=\"text/csv\",\n",
    "    Body=csv_serializer.serialize(baseline),\n",
    "    EnableExplanations=\"`false`\",  # Do not provide explanations\n",
    ")\n",
    "json_object = json_deserializer.deserialize(response[\"Body\"], content_type=response[\"ContentType\"])\n",
    "expected_value = float(\n",
    "    pd.read_csv(io.StringIO(json_object[\"predictions\"][\"data\"]), header=None)\n",
    "    .astype(float)\n",
    "    .mean(axis=1)\n",
    ")\n",
    "print(f\"expected value: {expected_value}\")"
   ]
  },
  {
   "cell_type": "code",
   "execution_count": null,
   "id": "e88193c0",
   "metadata": {
    "tags": []
   },
   "outputs": [
    {
     "name": "stdout",
     "output_type": "stream",
     "text": [
      "Model Inference output: \n",
      "Record: 1\tModel Prediction: 0.0609480179846286\n",
      "Visualize the SHAP values for Record number 1 with Model Prediction: 0.0609480179846286\n"
     ]
    },
    {
     "data": {
      "image/png": "[encoded data removed]",
      "text/plain": [
       "<Figure size 2000x300 with 1 Axes>"
      ]
     },
     "metadata": {},
     "output_type": "display_data"
    }
   ],
   "source": [
    "import shap \n",
    "visualize_result(result, request_records, expected_value)"
   ]
  },
  {
   "cell_type": "markdown",
   "id": "7efc15f6-aa75-429f-9aed-c42572a06e7f",
   "metadata": {},
   "source": [
    "To create a transformer, use either option 1 or option 2."
   ]
  },
  {
   "cell_type": "markdown",
   "id": "2d7b222f-ee83-4c87-9019-cebcc7e56627",
   "metadata": {},
   "source": [
    "# Shutdown kernel and delete endpoint"
   ]
  },
  {
   "cell_type": "code",
   "execution_count": 148,
   "id": "7ff45382-f770-4e78-9387-7eef1a07e6d1",
   "metadata": {
    "tags": []
   },
   "outputs": [
    {
     "name": "stdout",
     "output_type": "stream",
     "text": [
      "True\n"
     ]
    }
   ],
   "source": [
    "# delete and endpoint that is running\n",
    "import boto3\n",
    "def delete_endpoint(endpoint_name):\n",
    "    client = boto3.client('sagemaker')\n",
    "    response = client.delete_endpoint(\n",
    "        EndpointName=endpoint_name\n",
    "    )\n",
    "    return response['ResponseMetadata']['HTTPStatusCode'] == 200\n",
    "\n",
    "endpoint_name =endpoint_name\n",
    "print(delete_endpoint(endpoint_name))"
   ]
  },
  {
   "cell_type": "code",
   "execution_count": 149,
   "id": "ae0b1f02-44b8-4749-a5e2-ce415fff7f78",
   "metadata": {
    "tags": []
   },
   "outputs": [
    {
     "data": {
      "text/html": [
       "\n",
       "<p><b>Shutting down your kernel for this notebook to release resources.</b></p>\n",
       "<button class=\"sm-command-button\" data-commandlinker-command=\"kernelmenu:shutdown\" style=\"display:none;\">Shutdown Kernel</button>\n",
       "        \n",
       "<script>\n",
       "try {\n",
       "    els = document.getElementsByClassName(\"sm-command-button\");\n",
       "    els[0].click();\n",
       "}\n",
       "catch(err) {\n",
       "    // NoOp\n",
       "}    \n",
       "</script>\n"
      ],
      "text/plain": [
       "<IPython.core.display.HTML object>"
      ]
     },
     "metadata": {},
     "output_type": "display_data"
    }
   ],
   "source": [
    "%%html\n",
    "\n",
    "<p><b>Shutting down your kernel for this notebook to release resources.</b></p>\n",
    "<button class=\"sm-command-button\" data-commandlinker-command=\"kernelmenu:shutdown\" style=\"display:none;\">Shutdown Kernel</button>\n",
    "        \n",
    "<script>\n",
    "try {\n",
    "    els = document.getElementsByClassName(\"sm-command-button\");\n",
    "    els[0].click();\n",
    "}\n",
    "catch(err) {\n",
    "    // NoOp\n",
    "}    \n",
    "</script>"
   ]
  },
  {
   "cell_type": "code",
   "execution_count": null,
   "id": "725f9d18-a550-46f6-9de8-9aeeed8171fd",
   "metadata": {},
   "outputs": [],
   "source": []
  }
 ],
 "metadata": {
  "availableInstances": [
   {
    "_defaultOrder": 0,
    "_isFastLaunch": true,
    "category": "General purpose",
    "gpuNum": 0,
    "hideHardwareSpecs": false,
    "memoryGiB": 4,
    "name": "ml.t3.medium",
    "vcpuNum": 2
   },
   {
    "_defaultOrder": 1,
    "_isFastLaunch": false,
    "category": "General purpose",
    "gpuNum": 0,
    "hideHardwareSpecs": false,
    "memoryGiB": 8,
    "name": "ml.t3.large",
    "vcpuNum": 2
   },
   {
    "_defaultOrder": 2,
    "_isFastLaunch": false,
    "category": "General purpose",
    "gpuNum": 0,
    "hideHardwareSpecs": false,
    "memoryGiB": 16,
    "name": "ml.t3.xlarge",
    "vcpuNum": 4
   },
   {
    "_defaultOrder": 3,
    "_isFastLaunch": false,
    "category": "General purpose",
    "gpuNum": 0,
    "hideHardwareSpecs": false,
    "memoryGiB": 32,
    "name": "ml.t3.2xlarge",
    "vcpuNum": 8
   },
   {
    "_defaultOrder": 4,
    "_isFastLaunch": true,
    "category": "General purpose",
    "gpuNum": 0,
    "hideHardwareSpecs": false,
    "memoryGiB": 8,
    "name": "ml.m5.large",
    "vcpuNum": 2
   },
   {
    "_defaultOrder": 5,
    "_isFastLaunch": false,
    "category": "General purpose",
    "gpuNum": 0,
    "hideHardwareSpecs": false,
    "memoryGiB": 16,
    "name": "ml.m5.xlarge",
    "vcpuNum": 4
   },
   {
    "_defaultOrder": 6,
    "_isFastLaunch": false,
    "category": "General purpose",
    "gpuNum": 0,
    "hideHardwareSpecs": false,
    "memoryGiB": 32,
    "name": "ml.m5.2xlarge",
    "vcpuNum": 8
   },
   {
    "_defaultOrder": 7,
    "_isFastLaunch": false,
    "category": "General purpose",
    "gpuNum": 0,
    "hideHardwareSpecs": false,
    "memoryGiB": 64,
    "name": "ml.m5.4xlarge",
    "vcpuNum": 16
   },
   {
    "_defaultOrder": 8,
    "_isFastLaunch": false,
    "category": "General purpose",
    "gpuNum": 0,
    "hideHardwareSpecs": false,
    "memoryGiB": 128,
    "name": "ml.m5.8xlarge",
    "vcpuNum": 32
   },
   {
    "_defaultOrder": 9,
    "_isFastLaunch": false,
    "category": "General purpose",
    "gpuNum": 0,
    "hideHardwareSpecs": false,
    "memoryGiB": 192,
    "name": "ml.m5.12xlarge",
    "vcpuNum": 48
   },
   {
    "_defaultOrder": 10,
    "_isFastLaunch": false,
    "category": "General purpose",
    "gpuNum": 0,
    "hideHardwareSpecs": false,
    "memoryGiB": 256,
    "name": "ml.m5.16xlarge",
    "vcpuNum": 64
   },
   {
    "_defaultOrder": 11,
    "_isFastLaunch": false,
    "category": "General purpose",
    "gpuNum": 0,
    "hideHardwareSpecs": false,
    "memoryGiB": 384,
    "name": "ml.m5.24xlarge",
    "vcpuNum": 96
   },
   {
    "_defaultOrder": 12,
    "_isFastLaunch": false,
    "category": "General purpose",
    "gpuNum": 0,
    "hideHardwareSpecs": false,
    "memoryGiB": 8,
    "name": "ml.m5d.large",
    "vcpuNum": 2
   },
   {
    "_defaultOrder": 13,
    "_isFastLaunch": false,
    "category": "General purpose",
    "gpuNum": 0,
    "hideHardwareSpecs": false,
    "memoryGiB": 16,
    "name": "ml.m5d.xlarge",
    "vcpuNum": 4
   },
   {
    "_defaultOrder": 14,
    "_isFastLaunch": false,
    "category": "General purpose",
    "gpuNum": 0,
    "hideHardwareSpecs": false,
    "memoryGiB": 32,
    "name": "ml.m5d.2xlarge",
    "vcpuNum": 8
   },
   {
    "_defaultOrder": 15,
    "_isFastLaunch": false,
    "category": "General purpose",
    "gpuNum": 0,
    "hideHardwareSpecs": false,
    "memoryGiB": 64,
    "name": "ml.m5d.4xlarge",
    "vcpuNum": 16
   },
   {
    "_defaultOrder": 16,
    "_isFastLaunch": false,
    "category": "General purpose",
    "gpuNum": 0,
    "hideHardwareSpecs": false,
    "memoryGiB": 128,
    "name": "ml.m5d.8xlarge",
    "vcpuNum": 32
   },
   {
    "_defaultOrder": 17,
    "_isFastLaunch": false,
    "category": "General purpose",
    "gpuNum": 0,
    "hideHardwareSpecs": false,
    "memoryGiB": 192,
    "name": "ml.m5d.12xlarge",
    "vcpuNum": 48
   },
   {
    "_defaultOrder": 18,
    "_isFastLaunch": false,
    "category": "General purpose",
    "gpuNum": 0,
    "hideHardwareSpecs": false,
    "memoryGiB": 256,
    "name": "ml.m5d.16xlarge",
    "vcpuNum": 64
   },
   {
    "_defaultOrder": 19,
    "_isFastLaunch": false,
    "category": "General purpose",
    "gpuNum": 0,
    "hideHardwareSpecs": false,
    "memoryGiB": 384,
    "name": "ml.m5d.24xlarge",
    "vcpuNum": 96
   },
   {
    "_defaultOrder": 20,
    "_isFastLaunch": false,
    "category": "General purpose",
    "gpuNum": 0,
    "hideHardwareSpecs": true,
    "memoryGiB": 0,
    "name": "ml.geospatial.interactive",
    "supportedImageNames": [
     "sagemaker-geospatial-v1-0"
    ],
    "vcpuNum": 0
   },
   {
    "_defaultOrder": 21,
    "_isFastLaunch": true,
    "category": "Compute optimized",
    "gpuNum": 0,
    "hideHardwareSpecs": false,
    "memoryGiB": 4,
    "name": "ml.c5.large",
    "vcpuNum": 2
   },
   {
    "_defaultOrder": 22,
    "_isFastLaunch": false,
    "category": "Compute optimized",
    "gpuNum": 0,
    "hideHardwareSpecs": false,
    "memoryGiB": 8,
    "name": "ml.c5.xlarge",
    "vcpuNum": 4
   },
   {
    "_defaultOrder": 23,
    "_isFastLaunch": false,
    "category": "Compute optimized",
    "gpuNum": 0,
    "hideHardwareSpecs": false,
    "memoryGiB": 16,
    "name": "ml.c5.2xlarge",
    "vcpuNum": 8
   },
   {
    "_defaultOrder": 24,
    "_isFastLaunch": false,
    "category": "Compute optimized",
    "gpuNum": 0,
    "hideHardwareSpecs": false,
    "memoryGiB": 32,
    "name": "ml.c5.4xlarge",
    "vcpuNum": 16
   },
   {
    "_defaultOrder": 25,
    "_isFastLaunch": false,
    "category": "Compute optimized",
    "gpuNum": 0,
    "hideHardwareSpecs": false,
    "memoryGiB": 72,
    "name": "ml.c5.9xlarge",
    "vcpuNum": 36
   },
   {
    "_defaultOrder": 26,
    "_isFastLaunch": false,
    "category": "Compute optimized",
    "gpuNum": 0,
    "hideHardwareSpecs": false,
    "memoryGiB": 96,
    "name": "ml.c5.12xlarge",
    "vcpuNum": 48
   },
   {
    "_defaultOrder": 27,
    "_isFastLaunch": false,
    "category": "Compute optimized",
    "gpuNum": 0,
    "hideHardwareSpecs": false,
    "memoryGiB": 144,
    "name": "ml.c5.18xlarge",
    "vcpuNum": 72
   },
   {
    "_defaultOrder": 28,
    "_isFastLaunch": false,
    "category": "Compute optimized",
    "gpuNum": 0,
    "hideHardwareSpecs": false,
    "memoryGiB": 192,
    "name": "ml.c5.24xlarge",
    "vcpuNum": 96
   },
   {
    "_defaultOrder": 29,
    "_isFastLaunch": true,
    "category": "Accelerated computing",
    "gpuNum": 1,
    "hideHardwareSpecs": false,
    "memoryGiB": 16,
    "name": "ml.g4dn.xlarge",
    "vcpuNum": 4
   },
   {
    "_defaultOrder": 30,
    "_isFastLaunch": false,
    "category": "Accelerated computing",
    "gpuNum": 1,
    "hideHardwareSpecs": false,
    "memoryGiB": 32,
    "name": "ml.g4dn.2xlarge",
    "vcpuNum": 8
   },
   {
    "_defaultOrder": 31,
    "_isFastLaunch": false,
    "category": "Accelerated computing",
    "gpuNum": 1,
    "hideHardwareSpecs": false,
    "memoryGiB": 64,
    "name": "ml.g4dn.4xlarge",
    "vcpuNum": 16
   },
   {
    "_defaultOrder": 32,
    "_isFastLaunch": false,
    "category": "Accelerated computing",
    "gpuNum": 1,
    "hideHardwareSpecs": false,
    "memoryGiB": 128,
    "name": "ml.g4dn.8xlarge",
    "vcpuNum": 32
   },
   {
    "_defaultOrder": 33,
    "_isFastLaunch": false,
    "category": "Accelerated computing",
    "gpuNum": 4,
    "hideHardwareSpecs": false,
    "memoryGiB": 192,
    "name": "ml.g4dn.12xlarge",
    "vcpuNum": 48
   },
   {
    "_defaultOrder": 34,
    "_isFastLaunch": false,
    "category": "Accelerated computing",
    "gpuNum": 1,
    "hideHardwareSpecs": false,
    "memoryGiB": 256,
    "name": "ml.g4dn.16xlarge",
    "vcpuNum": 64
   },
   {
    "_defaultOrder": 35,
    "_isFastLaunch": false,
    "category": "Accelerated computing",
    "gpuNum": 1,
    "hideHardwareSpecs": false,
    "memoryGiB": 61,
    "name": "ml.p3.2xlarge",
    "vcpuNum": 8
   },
   {
    "_defaultOrder": 36,
    "_isFastLaunch": false,
    "category": "Accelerated computing",
    "gpuNum": 4,
    "hideHardwareSpecs": false,
    "memoryGiB": 244,
    "name": "ml.p3.8xlarge",
    "vcpuNum": 32
   },
   {
    "_defaultOrder": 37,
    "_isFastLaunch": false,
    "category": "Accelerated computing",
    "gpuNum": 8,
    "hideHardwareSpecs": false,
    "memoryGiB": 488,
    "name": "ml.p3.16xlarge",
    "vcpuNum": 64
   },
   {
    "_defaultOrder": 38,
    "_isFastLaunch": false,
    "category": "Accelerated computing",
    "gpuNum": 8,
    "hideHardwareSpecs": false,
    "memoryGiB": 768,
    "name": "ml.p3dn.24xlarge",
    "vcpuNum": 96
   },
   {
    "_defaultOrder": 39,
    "_isFastLaunch": false,
    "category": "Memory Optimized",
    "gpuNum": 0,
    "hideHardwareSpecs": false,
    "memoryGiB": 16,
    "name": "ml.r5.large",
    "vcpuNum": 2
   },
   {
    "_defaultOrder": 40,
    "_isFastLaunch": false,
    "category": "Memory Optimized",
    "gpuNum": 0,
    "hideHardwareSpecs": false,
    "memoryGiB": 32,
    "name": "ml.r5.xlarge",
    "vcpuNum": 4
   },
   {
    "_defaultOrder": 41,
    "_isFastLaunch": false,
    "category": "Memory Optimized",
    "gpuNum": 0,
    "hideHardwareSpecs": false,
    "memoryGiB": 64,
    "name": "ml.r5.2xlarge",
    "vcpuNum": 8
   },
   {
    "_defaultOrder": 42,
    "_isFastLaunch": false,
    "category": "Memory Optimized",
    "gpuNum": 0,
    "hideHardwareSpecs": false,
    "memoryGiB": 128,
    "name": "ml.r5.4xlarge",
    "vcpuNum": 16
   },
   {
    "_defaultOrder": 43,
    "_isFastLaunch": false,
    "category": "Memory Optimized",
    "gpuNum": 0,
    "hideHardwareSpecs": false,
    "memoryGiB": 256,
    "name": "ml.r5.8xlarge",
    "vcpuNum": 32
   },
   {
    "_defaultOrder": 44,
    "_isFastLaunch": false,
    "category": "Memory Optimized",
    "gpuNum": 0,
    "hideHardwareSpecs": false,
    "memoryGiB": 384,
    "name": "ml.r5.12xlarge",
    "vcpuNum": 48
   },
   {
    "_defaultOrder": 45,
    "_isFastLaunch": false,
    "category": "Memory Optimized",
    "gpuNum": 0,
    "hideHardwareSpecs": false,
    "memoryGiB": 512,
    "name": "ml.r5.16xlarge",
    "vcpuNum": 64
   },
   {
    "_defaultOrder": 46,
    "_isFastLaunch": false,
    "category": "Memory Optimized",
    "gpuNum": 0,
    "hideHardwareSpecs": false,
    "memoryGiB": 768,
    "name": "ml.r5.24xlarge",
    "vcpuNum": 96
   },
   {
    "_defaultOrder": 47,
    "_isFastLaunch": false,
    "category": "Accelerated computing",
    "gpuNum": 1,
    "hideHardwareSpecs": false,
    "memoryGiB": 16,
    "name": "ml.g5.xlarge",
    "vcpuNum": 4
   },
   {
    "_defaultOrder": 48,
    "_isFastLaunch": false,
    "category": "Accelerated computing",
    "gpuNum": 1,
    "hideHardwareSpecs": false,
    "memoryGiB": 32,
    "name": "ml.g5.2xlarge",
    "vcpuNum": 8
   },
   {
    "_defaultOrder": 49,
    "_isFastLaunch": false,
    "category": "Accelerated computing",
    "gpuNum": 1,
    "hideHardwareSpecs": false,
    "memoryGiB": 64,
    "name": "ml.g5.4xlarge",
    "vcpuNum": 16
   },
   {
    "_defaultOrder": 50,
    "_isFastLaunch": false,
    "category": "Accelerated computing",
    "gpuNum": 1,
    "hideHardwareSpecs": false,
    "memoryGiB": 128,
    "name": "ml.g5.8xlarge",
    "vcpuNum": 32
   },
   {
    "_defaultOrder": 51,
    "_isFastLaunch": false,
    "category": "Accelerated computing",
    "gpuNum": 1,
    "hideHardwareSpecs": false,
    "memoryGiB": 256,
    "name": "ml.g5.16xlarge",
    "vcpuNum": 64
   },
   {
    "_defaultOrder": 52,
    "_isFastLaunch": false,
    "category": "Accelerated computing",
    "gpuNum": 4,
    "hideHardwareSpecs": false,
    "memoryGiB": 192,
    "name": "ml.g5.12xlarge",
    "vcpuNum": 48
   },
   {
    "_defaultOrder": 53,
    "_isFastLaunch": false,
    "category": "Accelerated computing",
    "gpuNum": 4,
    "hideHardwareSpecs": false,
    "memoryGiB": 384,
    "name": "ml.g5.24xlarge",
    "vcpuNum": 96
   },
   {
    "_defaultOrder": 54,
    "_isFastLaunch": false,
    "category": "Accelerated computing",
    "gpuNum": 8,
    "hideHardwareSpecs": false,
    "memoryGiB": 768,
    "name": "ml.g5.48xlarge",
    "vcpuNum": 192
   }
  ],
  "kernelspec": {
   "display_name": "datascience",
   "language": "python",
   "name": "python3"
  },
  "language_info": {
   "codemirror_mode": {
    "name": "ipython",
    "version": 3
   },
   "file_extension": ".py",
   "mimetype": "text/x-python",
   "name": "python",
   "nbconvert_exporter": "python",
   "pygments_lexer": "ipython3",
   "version": "3.9.16"
  }
 },
 "nbformat": 4,
 "nbformat_minor": 5
}
