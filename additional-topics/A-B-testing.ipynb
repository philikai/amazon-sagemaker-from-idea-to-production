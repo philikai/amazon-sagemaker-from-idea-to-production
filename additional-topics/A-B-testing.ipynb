{
 "cells": [
  {
   "cell_type": "markdown",
   "id": "d713160e-39df-4d13-98ac-2c4f779b7d7b",
   "metadata": {},
   "source": [
    "# Model Explainability, A/B testing and Shadow Testing \n",
    "\n",
    "Imagine you're a data scientist who has successfully developed a direct marketing AI model using Amazon SageMaker in the main section of this workshop. The model has shown promising results, and the value SageMakers ease of development and deployment has been proven to your manager. \n",
    "\n",
    "Based on that success, your manager has now tasked you with improving the model's accuracy and introducing A/B testing before putting it into production. Your call center agents have told you, that it is hard for them to know why the model has predicted the outcome and want to understand the \n",
    "\n",
    "As a data scientist, you recognize the importance of model explainability not only for improving model accuracy but also for providing insights that can help call center agents better tailor their message to customers. By providing explainable results, agents can better understand the factors driving a customer's likelihood to convert and adjust their messaging accordingly. \n",
    "\n",
    "In this notebook, we will explore how to incorporate explainability into the direct marketing AI model for the call center and provide a step-by-step guide for using A/B testing and shadow testing to evaluate the new model's performance. By doing so, we can ensure that the model is not only accurate but also transparent and understandable, empowering call center agents to effectively engage with customers and drive better outcomes."
   ]
  },
  {
   "cell_type": "markdown",
   "id": "c8fadcae-5bfe-47b3-91ee-6374eaa09512",
   "metadata": {},
   "source": [
    "## Prerequisites\n",
    "To run this notebook you must have:\n",
    "1. Complete the **Hyperparameter optimization** section from the [`02-sagemaker-containers`](../02-sagemaker-containers.ipynb) notebook\n",
    "\n",
    "Alternatively you can create a new model that you would like to A/B test against the model trained by the [`step 3`](../03-sagemaker-pipeline.ipynb) pipeline."
   ]
  },
  {
   "cell_type": "code",
   "execution_count": 65,
   "id": "f2e4073f-a368-4e7a-aef8-c8417c52ad5c",
   "metadata": {
    "collapsed": true,
    "jupyter": {
     "outputs_hidden": true
    },
    "tags": []
   },
   "outputs": [
    {
     "name": "stdout",
     "output_type": "stream",
     "text": [
      "Looking in indexes: https://pypi.org/simple, https://pip.repos.neuron.amazonaws.com\n",
      "Requirement already satisfied: boto3 in /home/ec2-user/anaconda3/envs/amazonei_pytorch_latest_p37/lib/python3.7/site-packages (1.26.71)\n",
      "Collecting boto3\n",
      "  Downloading boto3-1.26.101-py3-none-any.whl (135 kB)\n",
      "\u001b[2K     \u001b[90m━━━━━━━━━━━━━━━━━━━━━━━━━━━━━━━━━━━━━━\u001b[0m \u001b[32m135.5/135.5 kB\u001b[0m \u001b[31m18.1 MB/s\u001b[0m eta \u001b[36m0:00:00\u001b[0m\n",
      "\u001b[?25hRequirement already satisfied: sagemaker in /home/ec2-user/anaconda3/envs/amazonei_pytorch_latest_p37/lib/python3.7/site-packages (2.132.0)\n",
      "Collecting sagemaker\n",
      "  Downloading sagemaker-2.142.0.tar.gz (685 kB)\n",
      "\u001b[2K     \u001b[90m━━━━━━━━━━━━━━━━━━━━━━━━━━━━━━━━━━━━━━\u001b[0m \u001b[32m685.8/685.8 kB\u001b[0m \u001b[31m18.9 MB/s\u001b[0m eta \u001b[36m0:00:00\u001b[0m00:01\u001b[0m\n",
      "\u001b[?25h  Preparing metadata (setup.py) ... \u001b[?25ldone\n",
      "\u001b[?25hRequirement already satisfied: jmespath<2.0.0,>=0.7.1 in /home/ec2-user/anaconda3/envs/amazonei_pytorch_latest_p37/lib/python3.7/site-packages (from boto3) (1.0.1)\n",
      "Collecting botocore<1.30.0,>=1.29.101\n",
      "  Downloading botocore-1.29.101-py3-none-any.whl (10.6 MB)\n",
      "\u001b[2K     \u001b[90m━━━━━━━━━━━━━━━━━━━━━━━━━━━━━━━━━━━━━━━━\u001b[0m \u001b[32m10.6/10.6 MB\u001b[0m \u001b[31m47.7 MB/s\u001b[0m eta \u001b[36m0:00:00\u001b[0m00:01\u001b[0m00:01\u001b[0m\n",
      "\u001b[?25hRequirement already satisfied: s3transfer<0.7.0,>=0.6.0 in /home/ec2-user/anaconda3/envs/amazonei_pytorch_latest_p37/lib/python3.7/site-packages (from boto3) (0.6.0)\n",
      "Requirement already satisfied: attrs<23,>=20.3.0 in /home/ec2-user/anaconda3/envs/amazonei_pytorch_latest_p37/lib/python3.7/site-packages (from sagemaker) (22.2.0)\n",
      "Requirement already satisfied: google-pasta in /home/ec2-user/anaconda3/envs/amazonei_pytorch_latest_p37/lib/python3.7/site-packages (from sagemaker) (0.2.0)\n",
      "Requirement already satisfied: numpy<2.0,>=1.9.0 in /home/ec2-user/anaconda3/envs/amazonei_pytorch_latest_p37/lib/python3.7/site-packages (from sagemaker) (1.21.6)\n",
      "Requirement already satisfied: protobuf<4.0,>=3.1 in /home/ec2-user/anaconda3/envs/amazonei_pytorch_latest_p37/lib/python3.7/site-packages (from sagemaker) (3.20.3)\n",
      "Requirement already satisfied: protobuf3-to-dict<1.0,>=0.1.5 in /home/ec2-user/anaconda3/envs/amazonei_pytorch_latest_p37/lib/python3.7/site-packages (from sagemaker) (0.1.5)\n",
      "Requirement already satisfied: smdebug_rulesconfig==1.0.1 in /home/ec2-user/anaconda3/envs/amazonei_pytorch_latest_p37/lib/python3.7/site-packages (from sagemaker) (1.0.1)\n",
      "Requirement already satisfied: importlib-metadata<5.0,>=1.4.0 in /home/ec2-user/anaconda3/envs/amazonei_pytorch_latest_p37/lib/python3.7/site-packages (from sagemaker) (4.11.4)\n",
      "Requirement already satisfied: packaging>=20.0 in /home/ec2-user/anaconda3/envs/amazonei_pytorch_latest_p37/lib/python3.7/site-packages (from sagemaker) (21.3)\n",
      "Requirement already satisfied: pandas in /home/ec2-user/anaconda3/envs/amazonei_pytorch_latest_p37/lib/python3.7/site-packages (from sagemaker) (1.3.5)\n",
      "Requirement already satisfied: pathos in /home/ec2-user/anaconda3/envs/amazonei_pytorch_latest_p37/lib/python3.7/site-packages (from sagemaker) (0.3.0)\n",
      "Requirement already satisfied: schema in /home/ec2-user/anaconda3/envs/amazonei_pytorch_latest_p37/lib/python3.7/site-packages (from sagemaker) (0.7.5)\n",
      "Requirement already satisfied: urllib3<1.27,>=1.25.4 in /home/ec2-user/anaconda3/envs/amazonei_pytorch_latest_p37/lib/python3.7/site-packages (from botocore<1.30.0,>=1.29.101->boto3) (1.26.8)\n",
      "Requirement already satisfied: python-dateutil<3.0.0,>=2.1 in /home/ec2-user/anaconda3/envs/amazonei_pytorch_latest_p37/lib/python3.7/site-packages (from botocore<1.30.0,>=1.29.101->boto3) (2.8.2)\n",
      "Requirement already satisfied: typing-extensions>=3.6.4 in /home/ec2-user/anaconda3/envs/amazonei_pytorch_latest_p37/lib/python3.7/site-packages (from importlib-metadata<5.0,>=1.4.0->sagemaker) (4.4.0)\n",
      "Requirement already satisfied: zipp>=0.5 in /home/ec2-user/anaconda3/envs/amazonei_pytorch_latest_p37/lib/python3.7/site-packages (from importlib-metadata<5.0,>=1.4.0->sagemaker) (3.11.0)\n",
      "Requirement already satisfied: pyparsing!=3.0.5,>=2.0.2 in /home/ec2-user/anaconda3/envs/amazonei_pytorch_latest_p37/lib/python3.7/site-packages (from packaging>=20.0->sagemaker) (3.0.9)\n",
      "Requirement already satisfied: six in /home/ec2-user/anaconda3/envs/amazonei_pytorch_latest_p37/lib/python3.7/site-packages (from protobuf3-to-dict<1.0,>=0.1.5->sagemaker) (1.16.0)\n",
      "Requirement already satisfied: pytz>=2017.3 in /home/ec2-user/anaconda3/envs/amazonei_pytorch_latest_p37/lib/python3.7/site-packages (from pandas->sagemaker) (2022.7)\n",
      "Requirement already satisfied: ppft>=1.7.6.6 in /home/ec2-user/anaconda3/envs/amazonei_pytorch_latest_p37/lib/python3.7/site-packages (from pathos->sagemaker) (1.7.6.6)\n",
      "Requirement already satisfied: dill>=0.3.6 in /home/ec2-user/anaconda3/envs/amazonei_pytorch_latest_p37/lib/python3.7/site-packages (from pathos->sagemaker) (0.3.6)\n",
      "Requirement already satisfied: multiprocess>=0.70.14 in /home/ec2-user/anaconda3/envs/amazonei_pytorch_latest_p37/lib/python3.7/site-packages (from pathos->sagemaker) (0.70.14)\n",
      "Requirement already satisfied: pox>=0.3.2 in /home/ec2-user/anaconda3/envs/amazonei_pytorch_latest_p37/lib/python3.7/site-packages (from pathos->sagemaker) (0.3.2)\n",
      "Requirement already satisfied: contextlib2>=0.5.5 in /home/ec2-user/anaconda3/envs/amazonei_pytorch_latest_p37/lib/python3.7/site-packages (from schema->sagemaker) (21.6.0)\n",
      "Building wheels for collected packages: sagemaker\n",
      "  Building wheel for sagemaker (setup.py) ... \u001b[?25ldone\n",
      "\u001b[?25h  Created wheel for sagemaker: filename=sagemaker-2.142.0-py2.py3-none-any.whl size=927411 sha256=00d64b129efe143564673226d3ac8cac4c878d4469b316bd5e70d7e6a94281ef\n",
      "  Stored in directory: /home/ec2-user/.cache/pip/wheels/e4/d4/1e/42e1d45491d51e65e55a1e23336d621088e609d56497fe3b19\n",
      "Successfully built sagemaker\n",
      "Installing collected packages: botocore, boto3, sagemaker\n",
      "  Attempting uninstall: botocore\n",
      "    Found existing installation: botocore 1.27.59\n",
      "    Uninstalling botocore-1.27.59:\n",
      "      Successfully uninstalled botocore-1.27.59\n",
      "  Attempting uninstall: boto3\n",
      "    Found existing installation: boto3 1.26.71\n",
      "    Uninstalling boto3-1.26.71:\n",
      "      Successfully uninstalled boto3-1.26.71\n",
      "  Attempting uninstall: sagemaker\n",
      "    Found existing installation: sagemaker 2.132.0\n",
      "    Uninstalling sagemaker-2.132.0:\n",
      "      Successfully uninstalled sagemaker-2.132.0\n",
      "\u001b[31mERROR: pip's dependency resolver does not currently take into account all the packages that are installed. This behaviour is the source of the following dependency conflicts.\n",
      "awscli 1.27.71 requires botocore==1.29.71, but you have botocore 1.29.101 which is incompatible.\n",
      "aiobotocore 2.4.2 requires botocore<1.27.60,>=1.27.59, but you have botocore 1.29.101 which is incompatible.\u001b[0m\u001b[31m\n",
      "\u001b[0mSuccessfully installed boto3-1.26.101 botocore-1.29.101 sagemaker-2.142.0\n"
     ]
    }
   ],
   "source": [
    "# Run this cell if you are not using the latest SageMaker Python SDK\n",
    "\n",
    "# import sys\n",
    "# !{sys.executable} -m pip install --upgrade pip\n",
    "# !{sys.executable} -m pip install --upgrade boto3 sagemaker"
   ]
  },
  {
   "cell_type": "code",
   "execution_count": 1,
   "id": "f9eb82f2",
   "metadata": {
    "tags": []
   },
   "outputs": [
    {
     "data": {
      "text/plain": [
       "'2.142.0'"
      ]
     },
     "execution_count": 1,
     "metadata": {},
     "output_type": "execute_result"
    }
   ],
   "source": [
    "import time\n",
    "import os\n",
    "import json\n",
    "import boto3\n",
    "import numpy as np  \n",
    "import botocore\n",
    "import pandas as pd \n",
    "import sagemaker\n",
    "from time import gmtime, strftime, sleep\n",
    "from sklearn.metrics import roc_auc_score\n",
    "import sagemaker \n",
    "from time import gmtime, strftime, sleep\n",
    "from sagemaker.sklearn.processing import SKLearnProcessor\n",
    "from sagemaker.processing import ProcessingInput, ProcessingOutput\n",
    "from sklearn.metrics import roc_auc_score\n",
    "from sagemaker.experiments.run import Run, load_run\n",
    "from sagemaker import get_execution_role\n",
    "sagemaker.__version__"
   ]
  },
  {
   "cell_type": "code",
   "execution_count": 2,
   "id": "2a29a30a-f515-432a-852d-1978b7a8513c",
   "metadata": {
    "tags": []
   },
   "outputs": [
    {
     "name": "stdout",
     "output_type": "stream",
     "text": [
      "Stored variables and their in-db values:\n",
      "baseline_s3_url_catboost               -> 's3://sagemaker-us-east-1-510646607739/from-idea-t\n",
      "bucket_name                            -> 'sagemaker-us-east-1-510646607739'\n",
      "bucket_prefix                          -> 'from-idea-to-prod/xgboost'\n",
      "bucket_prefix_catboost                 -> 'from-idea-to-prod/catboost'\n",
      "domain_id                              -> None\n",
      "experiment_name                        -> 'Model-Improvement-Efforts-02-11-30-27'\n",
      "initialized                            -> True\n",
      "input_s3_url_catboost                  -> 's3://sagemaker-us-east-1-510646607739/from-idea-t\n",
      "output_s3_url                          -> 's3://sagemaker-us-east-1-510646607739/from-idea-t\n",
      "region                                 -> 'us-east-1'\n",
      "sm_role                                -> 'arn:aws:iam::510646607739:role/service-role/Amazo\n",
      "test_s3_url_catboost                   -> 's3://sagemaker-us-east-1-510646607739/from-idea-t\n",
      "train_s3_url_catboost                  -> 's3://sagemaker-us-east-1-510646607739/from-idea-t\n",
      "validation_s3_url_catboost             -> 's3://sagemaker-us-east-1-510646607739/from-idea-t\n"
     ]
    }
   ],
   "source": [
    "%store -r \n",
    "\n",
    "%store\n",
    "\n",
    "try:\n",
    "    initialized\n",
    "except NameError:\n",
    "    print(\"+++++++++++++++++++++++++++++++++++++++++++++++++\")\n",
    "    print(\"[ERROR] YOU HAVE TO RUN 00-start-here notebook   \")\n",
    "    print(\"+++++++++++++++++++++++++++++++++++++++++++++++++\")\n"
   ]
  },
  {
   "cell_type": "code",
   "execution_count": 3,
   "id": "0b5906db-2b5b-4980-9f6b-fdb8dcc552d1",
   "metadata": {
    "tags": []
   },
   "outputs": [
    {
     "name": "stderr",
     "output_type": "stream",
     "text": [
      "INFO:botocore.credentials:Found credentials in shared credentials file: ~/.aws/credentials\n",
      "INFO:botocore.credentials:Found credentials in shared credentials file: ~/.aws/credentials\n",
      "INFO:botocore.credentials:Found credentials in shared credentials file: ~/.aws/credentials\n",
      "INFO:botocore.credentials:Found credentials in shared credentials file: ~/.aws/credentials\n"
     ]
    },
    {
     "name": "stdout",
     "output_type": "stream",
     "text": [
      "Stored 'output_s3_url' (str)\n"
     ]
    },
    {
     "name": "stderr",
     "output_type": "stream",
     "text": [
      "WARNING:sagemaker:Couldn't call 'get_role' to get Role ARN from role name PhiliKaiAdmin to get Role path.\n"
     ]
    },
    {
     "name": "stdout",
     "output_type": "stream",
     "text": [
      "No SageMaker execution role found. Using default role. Looking in a for a config file named 'config.json' in the current directory.\n",
      "arn:aws:iam::510646607739:role/service-role/AmazonSageMaker-ExecutionRole-20220809T104176\n"
     ]
    }
   ],
   "source": [
    "boto_session = boto3.Session()\n",
    "region = boto_session.region_name\n",
    "sm_session = sagemaker.Session()\n",
    "sm = sm_session.sagemaker_client\n",
    "bucket_name = sm_session.default_bucket()\n",
    "bucket_prefix_xgboost = \"from-idea-to-prod/xgboost\"\n",
    "bucket_prefix_catboost = \"from-idea-to-prod/catboost\"\n",
    "# Define where the training job stores the model artifact\n",
    "output_s3_url = f\"s3://{bucket_name}/{bucket_prefix_catboost}/output\"\n",
    "\n",
    "%store output_s3_url\n",
    "sm_session = sagemaker.Session()\n",
    "sm_client = boto_session.client(\"sagemaker\")\n",
    "try:\n",
    "    sm_role = sagemaker.get_execution_role()\n",
    "except ValueError:\n",
    "    print(\"No SageMaker execution role found. Using default role. Looking in a for a config file named 'config.json' in the current directory.\")\n",
    "    import json\n",
    "\n",
    "    # Load the configuration file\n",
    "    with open('../config.json', 'r') as f:\n",
    "        config = json.load(f)\n",
    "\n",
    "    # Access the execution_role field\n",
    "    sm_role = config['sagemaker-execution-role']\n",
    "    \n",
    "\n",
    "initialized = True\n",
    "\n",
    "print(sm_role)"
   ]
  },
  {
   "cell_type": "code",
   "execution_count": 4,
   "id": "dfbc3aae-964c-42d1-bf88-990bd7e87bd4",
   "metadata": {
    "tags": []
   },
   "outputs": [
    {
     "data": {
      "text/html": [
       "<div>\n",
       "<style scoped>\n",
       "    .dataframe tbody tr th:only-of-type {\n",
       "        vertical-align: middle;\n",
       "    }\n",
       "\n",
       "    .dataframe tbody tr th {\n",
       "        vertical-align: top;\n",
       "    }\n",
       "\n",
       "    .dataframe thead th {\n",
       "        text-align: right;\n",
       "    }\n",
       "</style>\n",
       "<table border=\"1\" class=\"dataframe\">\n",
       "  <thead>\n",
       "    <tr style=\"text-align: right;\">\n",
       "      <th></th>\n",
       "      <th>age</th>\n",
       "      <th>job</th>\n",
       "      <th>marital</th>\n",
       "      <th>education</th>\n",
       "      <th>default</th>\n",
       "      <th>housing</th>\n",
       "      <th>loan</th>\n",
       "      <th>contact</th>\n",
       "      <th>month</th>\n",
       "      <th>day_of_week</th>\n",
       "      <th>duration</th>\n",
       "      <th>campaign</th>\n",
       "      <th>pdays</th>\n",
       "      <th>previous</th>\n",
       "      <th>poutcome</th>\n",
       "      <th>emp.var.rate</th>\n",
       "      <th>cons.price.idx</th>\n",
       "      <th>cons.conf.idx</th>\n",
       "      <th>euribor3m</th>\n",
       "      <th>nr.employed</th>\n",
       "      <th>y</th>\n",
       "    </tr>\n",
       "  </thead>\n",
       "  <tbody>\n",
       "    <tr>\n",
       "      <th>0</th>\n",
       "      <td>56</td>\n",
       "      <td>housemaid</td>\n",
       "      <td>married</td>\n",
       "      <td>basic.4y</td>\n",
       "      <td>no</td>\n",
       "      <td>no</td>\n",
       "      <td>no</td>\n",
       "      <td>telephone</td>\n",
       "      <td>may</td>\n",
       "      <td>mon</td>\n",
       "      <td>261</td>\n",
       "      <td>1</td>\n",
       "      <td>999</td>\n",
       "      <td>0</td>\n",
       "      <td>nonexistent</td>\n",
       "      <td>1.1</td>\n",
       "      <td>93.994</td>\n",
       "      <td>-36.4</td>\n",
       "      <td>4.857</td>\n",
       "      <td>5191.0</td>\n",
       "      <td>no</td>\n",
       "    </tr>\n",
       "    <tr>\n",
       "      <th>1</th>\n",
       "      <td>57</td>\n",
       "      <td>services</td>\n",
       "      <td>married</td>\n",
       "      <td>high.school</td>\n",
       "      <td>unknown</td>\n",
       "      <td>no</td>\n",
       "      <td>no</td>\n",
       "      <td>telephone</td>\n",
       "      <td>may</td>\n",
       "      <td>mon</td>\n",
       "      <td>149</td>\n",
       "      <td>1</td>\n",
       "      <td>999</td>\n",
       "      <td>0</td>\n",
       "      <td>nonexistent</td>\n",
       "      <td>1.1</td>\n",
       "      <td>93.994</td>\n",
       "      <td>-36.4</td>\n",
       "      <td>4.857</td>\n",
       "      <td>5191.0</td>\n",
       "      <td>no</td>\n",
       "    </tr>\n",
       "    <tr>\n",
       "      <th>2</th>\n",
       "      <td>37</td>\n",
       "      <td>services</td>\n",
       "      <td>married</td>\n",
       "      <td>high.school</td>\n",
       "      <td>no</td>\n",
       "      <td>yes</td>\n",
       "      <td>no</td>\n",
       "      <td>telephone</td>\n",
       "      <td>may</td>\n",
       "      <td>mon</td>\n",
       "      <td>226</td>\n",
       "      <td>1</td>\n",
       "      <td>999</td>\n",
       "      <td>0</td>\n",
       "      <td>nonexistent</td>\n",
       "      <td>1.1</td>\n",
       "      <td>93.994</td>\n",
       "      <td>-36.4</td>\n",
       "      <td>4.857</td>\n",
       "      <td>5191.0</td>\n",
       "      <td>no</td>\n",
       "    </tr>\n",
       "    <tr>\n",
       "      <th>3</th>\n",
       "      <td>40</td>\n",
       "      <td>admin.</td>\n",
       "      <td>married</td>\n",
       "      <td>basic.6y</td>\n",
       "      <td>no</td>\n",
       "      <td>no</td>\n",
       "      <td>no</td>\n",
       "      <td>telephone</td>\n",
       "      <td>may</td>\n",
       "      <td>mon</td>\n",
       "      <td>151</td>\n",
       "      <td>1</td>\n",
       "      <td>999</td>\n",
       "      <td>0</td>\n",
       "      <td>nonexistent</td>\n",
       "      <td>1.1</td>\n",
       "      <td>93.994</td>\n",
       "      <td>-36.4</td>\n",
       "      <td>4.857</td>\n",
       "      <td>5191.0</td>\n",
       "      <td>no</td>\n",
       "    </tr>\n",
       "    <tr>\n",
       "      <th>4</th>\n",
       "      <td>56</td>\n",
       "      <td>services</td>\n",
       "      <td>married</td>\n",
       "      <td>high.school</td>\n",
       "      <td>no</td>\n",
       "      <td>no</td>\n",
       "      <td>yes</td>\n",
       "      <td>telephone</td>\n",
       "      <td>may</td>\n",
       "      <td>mon</td>\n",
       "      <td>307</td>\n",
       "      <td>1</td>\n",
       "      <td>999</td>\n",
       "      <td>0</td>\n",
       "      <td>nonexistent</td>\n",
       "      <td>1.1</td>\n",
       "      <td>93.994</td>\n",
       "      <td>-36.4</td>\n",
       "      <td>4.857</td>\n",
       "      <td>5191.0</td>\n",
       "      <td>no</td>\n",
       "    </tr>\n",
       "    <tr>\n",
       "      <th>...</th>\n",
       "      <td>...</td>\n",
       "      <td>...</td>\n",
       "      <td>...</td>\n",
       "      <td>...</td>\n",
       "      <td>...</td>\n",
       "      <td>...</td>\n",
       "      <td>...</td>\n",
       "      <td>...</td>\n",
       "      <td>...</td>\n",
       "      <td>...</td>\n",
       "      <td>...</td>\n",
       "      <td>...</td>\n",
       "      <td>...</td>\n",
       "      <td>...</td>\n",
       "      <td>...</td>\n",
       "      <td>...</td>\n",
       "      <td>...</td>\n",
       "      <td>...</td>\n",
       "      <td>...</td>\n",
       "      <td>...</td>\n",
       "      <td>...</td>\n",
       "    </tr>\n",
       "    <tr>\n",
       "      <th>41183</th>\n",
       "      <td>73</td>\n",
       "      <td>retired</td>\n",
       "      <td>married</td>\n",
       "      <td>professional.course</td>\n",
       "      <td>no</td>\n",
       "      <td>yes</td>\n",
       "      <td>no</td>\n",
       "      <td>cellular</td>\n",
       "      <td>nov</td>\n",
       "      <td>fri</td>\n",
       "      <td>334</td>\n",
       "      <td>1</td>\n",
       "      <td>999</td>\n",
       "      <td>0</td>\n",
       "      <td>nonexistent</td>\n",
       "      <td>-1.1</td>\n",
       "      <td>94.767</td>\n",
       "      <td>-50.8</td>\n",
       "      <td>1.028</td>\n",
       "      <td>4963.6</td>\n",
       "      <td>yes</td>\n",
       "    </tr>\n",
       "    <tr>\n",
       "      <th>41184</th>\n",
       "      <td>46</td>\n",
       "      <td>blue-collar</td>\n",
       "      <td>married</td>\n",
       "      <td>professional.course</td>\n",
       "      <td>no</td>\n",
       "      <td>no</td>\n",
       "      <td>no</td>\n",
       "      <td>cellular</td>\n",
       "      <td>nov</td>\n",
       "      <td>fri</td>\n",
       "      <td>383</td>\n",
       "      <td>1</td>\n",
       "      <td>999</td>\n",
       "      <td>0</td>\n",
       "      <td>nonexistent</td>\n",
       "      <td>-1.1</td>\n",
       "      <td>94.767</td>\n",
       "      <td>-50.8</td>\n",
       "      <td>1.028</td>\n",
       "      <td>4963.6</td>\n",
       "      <td>no</td>\n",
       "    </tr>\n",
       "    <tr>\n",
       "      <th>41185</th>\n",
       "      <td>56</td>\n",
       "      <td>retired</td>\n",
       "      <td>married</td>\n",
       "      <td>university.degree</td>\n",
       "      <td>no</td>\n",
       "      <td>yes</td>\n",
       "      <td>no</td>\n",
       "      <td>cellular</td>\n",
       "      <td>nov</td>\n",
       "      <td>fri</td>\n",
       "      <td>189</td>\n",
       "      <td>2</td>\n",
       "      <td>999</td>\n",
       "      <td>0</td>\n",
       "      <td>nonexistent</td>\n",
       "      <td>-1.1</td>\n",
       "      <td>94.767</td>\n",
       "      <td>-50.8</td>\n",
       "      <td>1.028</td>\n",
       "      <td>4963.6</td>\n",
       "      <td>no</td>\n",
       "    </tr>\n",
       "    <tr>\n",
       "      <th>41186</th>\n",
       "      <td>44</td>\n",
       "      <td>technician</td>\n",
       "      <td>married</td>\n",
       "      <td>professional.course</td>\n",
       "      <td>no</td>\n",
       "      <td>no</td>\n",
       "      <td>no</td>\n",
       "      <td>cellular</td>\n",
       "      <td>nov</td>\n",
       "      <td>fri</td>\n",
       "      <td>442</td>\n",
       "      <td>1</td>\n",
       "      <td>999</td>\n",
       "      <td>0</td>\n",
       "      <td>nonexistent</td>\n",
       "      <td>-1.1</td>\n",
       "      <td>94.767</td>\n",
       "      <td>-50.8</td>\n",
       "      <td>1.028</td>\n",
       "      <td>4963.6</td>\n",
       "      <td>yes</td>\n",
       "    </tr>\n",
       "    <tr>\n",
       "      <th>41187</th>\n",
       "      <td>74</td>\n",
       "      <td>retired</td>\n",
       "      <td>married</td>\n",
       "      <td>professional.course</td>\n",
       "      <td>no</td>\n",
       "      <td>yes</td>\n",
       "      <td>no</td>\n",
       "      <td>cellular</td>\n",
       "      <td>nov</td>\n",
       "      <td>fri</td>\n",
       "      <td>239</td>\n",
       "      <td>3</td>\n",
       "      <td>999</td>\n",
       "      <td>1</td>\n",
       "      <td>failure</td>\n",
       "      <td>-1.1</td>\n",
       "      <td>94.767</td>\n",
       "      <td>-50.8</td>\n",
       "      <td>1.028</td>\n",
       "      <td>4963.6</td>\n",
       "      <td>no</td>\n",
       "    </tr>\n",
       "  </tbody>\n",
       "</table>\n",
       "<p>41188 rows × 21 columns</p>\n",
       "</div>"
      ],
      "text/plain": [
       "       age          job  marital            education  default housing loan  \\\n",
       "0       56    housemaid  married             basic.4y       no      no   no   \n",
       "1       57     services  married          high.school  unknown      no   no   \n",
       "2       37     services  married          high.school       no     yes   no   \n",
       "3       40       admin.  married             basic.6y       no      no   no   \n",
       "4       56     services  married          high.school       no      no  yes   \n",
       "...    ...          ...      ...                  ...      ...     ...  ...   \n",
       "41183   73      retired  married  professional.course       no     yes   no   \n",
       "41184   46  blue-collar  married  professional.course       no      no   no   \n",
       "41185   56      retired  married    university.degree       no     yes   no   \n",
       "41186   44   technician  married  professional.course       no      no   no   \n",
       "41187   74      retired  married  professional.course       no     yes   no   \n",
       "\n",
       "         contact month day_of_week  duration  campaign  pdays  previous  \\\n",
       "0      telephone   may         mon       261         1    999         0   \n",
       "1      telephone   may         mon       149         1    999         0   \n",
       "2      telephone   may         mon       226         1    999         0   \n",
       "3      telephone   may         mon       151         1    999         0   \n",
       "4      telephone   may         mon       307         1    999         0   \n",
       "...          ...   ...         ...       ...       ...    ...       ...   \n",
       "41183   cellular   nov         fri       334         1    999         0   \n",
       "41184   cellular   nov         fri       383         1    999         0   \n",
       "41185   cellular   nov         fri       189         2    999         0   \n",
       "41186   cellular   nov         fri       442         1    999         0   \n",
       "41187   cellular   nov         fri       239         3    999         1   \n",
       "\n",
       "          poutcome  emp.var.rate  cons.price.idx  cons.conf.idx  euribor3m  \\\n",
       "0      nonexistent           1.1          93.994          -36.4      4.857   \n",
       "1      nonexistent           1.1          93.994          -36.4      4.857   \n",
       "2      nonexistent           1.1          93.994          -36.4      4.857   \n",
       "3      nonexistent           1.1          93.994          -36.4      4.857   \n",
       "4      nonexistent           1.1          93.994          -36.4      4.857   \n",
       "...            ...           ...             ...            ...        ...   \n",
       "41183  nonexistent          -1.1          94.767          -50.8      1.028   \n",
       "41184  nonexistent          -1.1          94.767          -50.8      1.028   \n",
       "41185  nonexistent          -1.1          94.767          -50.8      1.028   \n",
       "41186  nonexistent          -1.1          94.767          -50.8      1.028   \n",
       "41187      failure          -1.1          94.767          -50.8      1.028   \n",
       "\n",
       "       nr.employed    y  \n",
       "0           5191.0   no  \n",
       "1           5191.0   no  \n",
       "2           5191.0   no  \n",
       "3           5191.0   no  \n",
       "4           5191.0   no  \n",
       "...            ...  ...  \n",
       "41183       4963.6  yes  \n",
       "41184       4963.6   no  \n",
       "41185       4963.6   no  \n",
       "41186       4963.6  yes  \n",
       "41187       4963.6   no  \n",
       "\n",
       "[41188 rows x 21 columns]"
      ]
     },
     "execution_count": 4,
     "metadata": {},
     "output_type": "execute_result"
    }
   ],
   "source": [
    "# This cell is tagged with `parameters` tag and will be overwritten if the notebook executed headlessly\n",
    "file_source = \"EFS\"\n",
    "file_name = \"bank-additional-full.csv\"\n",
    "input_path = \"../data/bank-additional\" \n",
    "output_path = \"./data\"\n",
    "\n",
    "df_data = pd.read_csv(os.path.join(input_path, file_name), sep=\";\")\n",
    "\n",
    "pd.set_option(\"display.max_columns\", 500)  # View all of the columns\n",
    "df_data  # show first 5 and last 5 rows of the dataframe"
   ]
  },
  {
   "cell_type": "code",
   "execution_count": 5,
   "id": "ccb91061-03f1-4d98-9609-95224f12de71",
   "metadata": {
    "tags": []
   },
   "outputs": [],
   "source": [
    "experiment_name = f\"Model-Improvement-Efforts-{strftime('%d-%H-%M-%S', gmtime())}\""
   ]
  },
  {
   "cell_type": "code",
   "execution_count": 6,
   "id": "4e684e72-21ba-4ded-b6c6-2eccedb8d008",
   "metadata": {
    "tags": []
   },
   "outputs": [
    {
     "name": "stdout",
     "output_type": "stream",
     "text": [
      "Stored 'experiment_name' (str)\n"
     ]
    }
   ],
   "source": [
    "%store experiment_name"
   ]
  },
  {
   "cell_type": "code",
   "execution_count": 7,
   "id": "c4c2fca1",
   "metadata": {
    "tags": []
   },
   "outputs": [
    {
     "data": {
      "image/png": "[encoded data removed]",
      "text/plain": [
       "<Figure size 500x500 with 1 Axes>"
      ]
     },
     "metadata": {},
     "output_type": "display_data"
    }
   ],
   "source": [
    "# plot the euribor data \n",
    "import matplotlib.pyplot as plt\n",
    "import seaborn as sns\n",
    "sns.set(style=\"darkgrid\")\n",
    "sns.set(rc={'figure.figsize':(5,5)})\n",
    "sns.histplot(df_data['euribor3m'], bins=30, kde=True, color='blue')\n",
    "# set the title, x and y labels\n",
    "plt.title('Euribor Distribution over the dataset')\n",
    "plt.xlabel('Euribor value [%]')\n",
    "plt.ylabel('Count')\n",
    "plt.show()"
   ]
  },
  {
   "cell_type": "markdown",
   "id": "eb3c4a7d",
   "metadata": {},
   "source": [
    "As can be seen, the Euribor (the interest rate set by the European central bank for lending money to the banks) has strong fluctution in the recorded time. Therefore, we will leave it as a macro-economic feature. "
   ]
  },
  {
   "cell_type": "markdown",
   "id": "3c4067b6",
   "metadata": {},
   "source": [
    "Furthermore, we will try to use a meaningful mapping wherever possible instead of just one-hot-encoding everything. As we already know how to use Processing Jobs, we will utilize it here directly."
   ]
  },
  {
   "cell_type": "code",
   "execution_count": 8,
   "id": "5e7c0c3e",
   "metadata": {
    "tags": []
   },
   "outputs": [],
   "source": [
    "train_s3_url_catboost = f\"s3://{bucket_name}/{bucket_prefix_catboost}/train\"\n",
    "validation_s3_url_catboost = f\"s3://{bucket_name}/{bucket_prefix_catboost}/validation\"\n",
    "test_s3_url_catboost = f\"s3://{bucket_name}/{bucket_prefix_catboost}/test\"\n",
    "baseline_s3_url_catboost = f\"s3://{bucket_name}/{bucket_prefix_catboost}/baseline\""
   ]
  },
  {
   "cell_type": "code",
   "execution_count": 9,
   "id": "10acb8e6",
   "metadata": {
    "tags": []
   },
   "outputs": [
    {
     "name": "stdout",
     "output_type": "stream",
     "text": [
      "Stored 'train_s3_url_catboost' (str)\n",
      "Stored 'validation_s3_url_catboost' (str)\n",
      "Stored 'test_s3_url_catboost' (str)\n",
      "Stored 'baseline_s3_url_catboost' (str)\n"
     ]
    }
   ],
   "source": [
    "%store train_s3_url_catboost\n",
    "%store validation_s3_url_catboost\n",
    "%store test_s3_url_catboost\n",
    "%store baseline_s3_url_catboost"
   ]
  },
  {
   "cell_type": "code",
   "execution_count": 10,
   "id": "a3a4777d-964f-42a7-abd3-175c060cd489",
   "metadata": {
    "collapsed": true,
    "jupyter": {
     "outputs_hidden": true
    },
    "tags": []
   },
   "outputs": [],
   "source": [
    "# !pip install s3fs"
   ]
  },
  {
   "cell_type": "code",
   "execution_count": 11,
   "id": "00971d6e-2775-4f24-b204-0c99d8f67ebb",
   "metadata": {
    "tags": []
   },
   "outputs": [
    {
     "data": {
      "text/plain": [
       "Index(['age', 'job', 'marital', 'education', 'default', 'housing', 'loan',\n",
       "       'contact', 'month', 'day_of_week', 'duration', 'campaign', 'pdays',\n",
       "       'previous', 'poutcome', 'emp.var.rate', 'cons.price.idx',\n",
       "       'cons.conf.idx', 'euribor3m', 'nr.employed', 'y'],\n",
       "      dtype='object')"
      ]
     },
     "execution_count": 11,
     "metadata": {},
     "output_type": "execute_result"
    }
   ],
   "source": [
    "df_data.columns"
   ]
  },
  {
   "cell_type": "code",
   "execution_count": 16,
   "id": "9dcf1021",
   "metadata": {
    "tags": []
   },
   "outputs": [
    {
     "name": "stdout",
     "output_type": "stream",
     "text": [
      "Overwriting preprocessing_catboost.py\n"
     ]
    }
   ],
   "source": [
    "%%writefile preprocessing_catboost.py\n",
    "\n",
    "import pandas as pd\n",
    "import numpy as np\n",
    "import argparse\n",
    "import os\n",
    "\n",
    "def _parse_args():\n",
    "    \n",
    "    parser = argparse.ArgumentParser()\n",
    "    # Data, model, and output directories\n",
    "    # model_dir is always passed in from SageMaker. By default this is a S3 path under the default bucket.\n",
    "    parser.add_argument('--filepath', type=str, default='/opt/ml/processing/input/')\n",
    "    parser.add_argument('--filename', type=str, default='bank-additional-full.csv')\n",
    "    parser.add_argument('--outputpath', type=str, default='/opt/ml/processing/output/')\n",
    "    \n",
    "    return parser.parse_known_args()\n",
    "\n",
    "\n",
    "if __name__==\"__main__\":\n",
    "    # Process arguments\n",
    "    args, _ = _parse_args()\n",
    "    \n",
    "    target_col = \"y\"\n",
    "    \n",
    "    # Load data\n",
    "    df_data = pd.read_csv(os.path.join(args.filepath, args.filename), sep=\";\")\n",
    "\n",
    "    # starting with the variables that have order and we want to map\n",
    "    targetMapping = {'no':0, 'yes':1}\n",
    "    educationMapping = {'illiterate':0, 'basic.4y':1, 'basic.6y':1, 'basic.9y':2,\n",
    "                        'high.school':3,'professional.course':4, 'university.degree':5,\n",
    "                        'unknown':-999}\n",
    "    jobMapping = {'unemployed':0, 'student':1, 'housemaid':1, 'services':2,\n",
    "                        'blue-collar':3,'technician':3, 'retired':3, 'self-employed':4,'management':5,  'entrepreneur':6,\n",
    "                        'unknown':-999}\n",
    "    maritalMapping = {'single':0, 'married':1, 'divorced':2,'unknown':-999}\n",
    "    dayMapping = {'mon':1, 'tue':2, 'wed':3, 'thu':4, 'fri':5}\n",
    "    monthMapping = {'jan': 1, 'feb': 2, 'mar':3, 'apr':4, 'may':5, 'jun':6, 'jul':7, 'aug':8, 'sep':9, 'oct':10, 'nov':11, 'dec':12}\n",
    "    defaultMapping = {\"no\":0,\"yes\":1,\"unknown\":-999}\n",
    "    housingMapping = {\"no\":0,\"yes\":1,\"unknown\":-999}\n",
    "    loanMapping = {\"no\":0,\"yes\":1,\"unknown\":-999}\n",
    "    poutcomeMapping = {\"failure\":0,\"nonexistent\":-999,\"success\":1}\n",
    "    contactMapping = {'telephone':0, 'cellular':1}\n",
    "\n",
    "    df = df_data.copy()\n",
    "    df['y'] = df['y'].map(targetMapping)\n",
    "    df['education'] = df['education'].map(educationMapping)\n",
    "    df['day_of_week'] = df['day_of_week'].map(dayMapping)\n",
    "    df['month'] = df['month'].map(monthMapping)\n",
    "    df['default'] = df['default'].map(defaultMapping)\n",
    "    df['housing'] = df['housing'].map(housingMapping)\n",
    "    df['loan'] = df['loan'].map(loanMapping)\n",
    "    df['poutcome'] = df['poutcome'].map(poutcomeMapping)\n",
    "    df['contact'] = df['contact'].map(contactMapping)\n",
    "    df['job'] = df['job'].map(jobMapping)\n",
    "    df['marital'] = df['marital'].map(maritalMapping)\n",
    "    df.drop('duration', axis = 1, inplace = True)\n",
    "    df=df.fillna(-999)\n",
    "    \n",
    "    # reordering the columns \n",
    "    cols = df.columns.tolist()\n",
    "    cols = [target_col] + [col for col in cols if col not in [target_col] ]\n",
    "    df = df[cols] \n",
    "    # Shuffle and splitting dataset\n",
    "    train_data, validation_data, test_data = np.split(\n",
    "        df.sample(frac=1, random_state=1729),\n",
    "        [int(0.7 * len(df)), int(0.9 * len(df))],\n",
    "    )\n",
    "    \n",
    "    print(f\"Data split > train:{train_data.shape} | validation:{validation_data.shape} | test:{test_data.shape}\")\n",
    "    \n",
    "    # Save datasets locally\n",
    "    train_data.to_csv(os.path.join(args.outputpath, 'train/train.csv'), index=False, header=False)\n",
    "    validation_data.to_csv(os.path.join(args.outputpath, 'validation/validation.csv'), index=False, header=False)\n",
    "    test_data[target_col].to_csv(os.path.join(args.outputpath, 'test/test_y.csv'), index=False, header=False)\n",
    "    test_data.drop([target_col], axis=1).to_csv(os.path.join(args.outputpath, 'test/test_x.csv'), index=False, header=False)\n",
    "    \n",
    "    # Save the baseline dataset for model monitoring\n",
    "    df.drop([target_col], axis=1).to_csv(os.path.join(args.outputpath, 'baseline/baseline.csv'), index=False, header=False)\n",
    "    \n",
    "    print(\"## Processing complete. Exiting.\")"
   ]
  },
  {
   "cell_type": "code",
   "execution_count": 17,
   "id": "99138061-255a-4fcd-8da8-807122d67a7b",
   "metadata": {
    "tags": []
   },
   "outputs": [
    {
     "name": "stdout",
     "output_type": "stream",
     "text": [
      "Stored 'input_s3_url_catboost' (str)\n"
     ]
    }
   ],
   "source": [
    "input_s3_url_catboost = sm_session.upload_data(\n",
    "    path=\"../data/bank-additional/bank-additional-full.csv\",\n",
    "    bucket=bucket_name,\n",
    "    key_prefix=f\"{bucket_prefix_catboost}\"\n",
    ")\n",
    "%store input_s3_url_catboost"
   ]
  },
  {
   "cell_type": "code",
   "execution_count": 20,
   "id": "7cc740b7",
   "metadata": {
    "tags": []
   },
   "outputs": [
    {
     "name": "stderr",
     "output_type": "stream",
     "text": [
      "INFO:sagemaker.image_uris:Defaulting to only available Python version: py3\n"
     ]
    }
   ],
   "source": [
    "framework_version = \"0.23-1\"\n",
    "processing_instance_type = \"ml.m5.large\"\n",
    "processing_instance_count = 1\n",
    "\n",
    "sklearn_processor = SKLearnProcessor(\n",
    "    framework_version=framework_version,\n",
    "    role=sm_role,\n",
    "    instance_type=processing_instance_type,\n",
    "    # instance_type=\"local\",\n",
    "    instance_count=processing_instance_count, \n",
    "    base_job_name='from-idea-to-prod-processing',\n",
    "    sagemaker_session=sm_session,\n",
    ")\n",
    "\n",
    "processing_inputs = [\n",
    "        ProcessingInput(\n",
    "            source=input_s3_url_catboost, \n",
    "            destination=\"/opt/ml/processing/input\",\n",
    "            s3_input_mode=\"File\",\n",
    "            # s3_data_distribution_type=\"ShardedByS3Key\"\n",
    "        )\n",
    "    ]\n",
    "\n",
    "processing_outputs = [\n",
    "        ProcessingOutput(\n",
    "            output_name=\"train_data\", \n",
    "            source=\"/opt/ml/processing/output/train\",\n",
    "            destination=train_s3_url_catboost,\n",
    "        ),\n",
    "        ProcessingOutput(\n",
    "            output_name=\"validation_data\", \n",
    "            source=\"/opt/ml/processing/output/validation\", \n",
    "            destination=validation_s3_url_catboost\n",
    "        ),\n",
    "        ProcessingOutput(\n",
    "            output_name=\"test_data\", \n",
    "            source=\"/opt/ml/processing/output/test\", \n",
    "            destination=test_s3_url_catboost\n",
    "        ),\n",
    "        ProcessingOutput(\n",
    "            output_name=\"baseline_data\", \n",
    "            source=\"/opt/ml/processing/output/baseline\", \n",
    "            destination=baseline_s3_url_catboost\n",
    "        ),\n",
    "    ]"
   ]
  },
  {
   "attachments": {},
   "cell_type": "markdown",
   "id": "eb62d87e",
   "metadata": {},
   "source": [
    "## Testing if we improved the model with the new encoding\n"
   ]
  },
  {
   "cell_type": "markdown",
   "id": "c9b53eaa",
   "metadata": {},
   "source": []
  },
  {
   "attachments": {},
   "cell_type": "markdown",
   "id": "a3717d1d",
   "metadata": {},
   "source": [
    "# Running a training job to get a baseline from catboost"
   ]
  },
  {
   "attachments": {},
   "cell_type": "markdown",
   "id": "f79bb710-5116-48e0-a874-8833ec4ac5cd",
   "metadata": {},
   "source": [
    "Lets create a training job to get a baseline of catboost to see how we are doing against xgboost. \n"
   ]
  },
  {
   "cell_type": "code",
   "execution_count": 22,
   "id": "927f04fc-b2ac-455c-9de1-1b25e757beba",
   "metadata": {
    "tags": []
   },
   "outputs": [
    {
     "name": "stderr",
     "output_type": "stream",
     "text": [
      "INFO:botocore.credentials:Found credentials in shared credentials file: ~/.aws/credentials\n",
      "INFO:sagemaker.image_uris:image_uri is not presented, retrieving image_uri based on instance_type, framework etc.\n"
     ]
    },
    {
     "name": "stdout",
     "output_type": "stream",
     "text": [
      "{'iterations': '500', 'early_stopping_rounds': '5', 'eval_metric': 'Auto', 'learning_rate': '0.03', 'depth': '6', 'l2_leaf_reg': '3', 'random_strength': '1.0', 'max_leaves': '31', 'rsm': '1', 'sampling_frequency': 'PerTreeLevel', 'min_data_in_leaf': '1', 'bagging_temperature': '1', 'boosting_type': 'Auto', 'scale_pos_weight': '1.0', 'max_bin': 'Auto', 'grow_policy': 'SymmetricTree', 'random_seed': '0', 'thread_count': '-1', 'verbose': '1'}\n"
     ]
    }
   ],
   "source": [
    "from sagemaker import image_uris, model_uris, script_uris\n",
    "from sagemaker.estimator import Estimator\n",
    "from sagemaker.utils import name_from_base\n",
    "from sagemaker import hyperparameters\n",
    "\n",
    "train_model_id, train_model_version, train_scope = \"catboost-classification-model\", \"*\", \"training\"\n",
    "training_instance_type = \"ml.m5.xlarge\"\n",
    "\n",
    "# Retrieve the docker image\n",
    "train_image_uri = image_uris.retrieve(\n",
    "    region=None,\n",
    "    framework=None,\n",
    "    model_id=train_model_id,\n",
    "    model_version=train_model_version,\n",
    "    image_scope=train_scope,\n",
    "    instance_type=training_instance_type\n",
    ")\n",
    "\n",
    "# Retrieve the training script\n",
    "train_source_uri = script_uris.retrieve(\n",
    "    model_id=train_model_id, model_version=train_model_version, script_scope=train_scope\n",
    ")\n",
    "\n",
    "train_model_uri = model_uris.retrieve(\n",
    "    model_id=train_model_id, model_version=train_model_version, model_scope=train_scope\n",
    ")\n",
    "\n",
    "training_job_name = name_from_base(f\"built-in-algo-{train_model_id}-training\")\n",
    "\n",
    "# Retrieve the default hyperparameters for training the model\n",
    "hyperparameters = hyperparameters.retrieve_default(\n",
    "    model_id=train_model_id, model_version=train_model_version\n",
    ")\n",
    "# [Optional] Override default hyperparameters with custom values\n",
    "hyperparameters[\n",
    "    \"iterations\"\n",
    "] = \"500\"\n",
    "print(hyperparameters)\n",
    "\n",
    "# Create SageMaker Estimator instance\n",
    "tabular_estimator = Estimator(\n",
    "    role=sm_role,\n",
    "    image_uri=train_image_uri,\n",
    "    source_dir=train_source_uri,\n",
    "    model_uri=train_model_uri,\n",
    "    entry_point=\"transfer_learning.py\",\n",
    "    instance_count=1,\n",
    "    instance_type=training_instance_type,\n",
    "    # instance_type=\"local\",\n",
    "    max_run=360000,\n",
    "    hyperparameters=hyperparameters,\n",
    "    output_path=output_s3_url\n",
    ")\n"
   ]
  },
  {
   "cell_type": "code",
   "execution_count": 23,
   "id": "3fc5239e-b3cc-4477-9712-5b6b53f55f17",
   "metadata": {
    "tags": []
   },
   "outputs": [
    {
     "name": "stderr",
     "output_type": "stream",
     "text": [
      "INFO:sagemaker:Creating training-job with name: built-in-algo-catboost-classification-m-2023-04-02-11-39-04-577\n"
     ]
    },
    {
     "name": "stdout",
     "output_type": "stream",
     "text": [
      "2023-04-02 11:39:07 Starting - Starting the training job...\n",
      "2023-04-02 11:39:21 Starting - Preparing the instances for training...\n",
      "2023-04-02 11:40:06 Downloading - Downloading input data...\n",
      "2023-04-02 11:40:27 Training - Downloading the training image..bash: cannot set terminal process group (-1): Inappropriate ioctl for device\n",
      "bash: no job control in this shell\n",
      "2023-04-02 11:41:03,598 sagemaker-training-toolkit INFO     Imported framework sagemaker_pytorch_container.training\n",
      "2023-04-02 11:41:03,600 sagemaker-training-toolkit INFO     No GPUs detected (normal if no gpus installed)\n",
      "2023-04-02 11:41:03,608 sagemaker_pytorch_container.training INFO     Block until all host DNS lookups succeed.\n",
      "2023-04-02 11:41:03,610 sagemaker_pytorch_container.training INFO     Invoking user training script.\n",
      "2023-04-02 11:41:04,615 sagemaker-training-toolkit INFO     Installing dependencies from requirements.txt:\n",
      "/opt/conda/bin/python3.8 -m pip install -r requirements.txt\n",
      "Processing ./lib/catboost/catboost-1.0.1-cp38-none-manylinux1_x86_64.whl\n",
      "Processing ./lib/graphviz/graphviz-0.17-py3-none-any.whl\n",
      "Processing ./lib/plotly/plotly-5.1.0-py2.py3-none-any.whl\n",
      "Processing ./lib/tenacity/tenacity-8.0.1-py3-none-any.whl\n",
      "Processing ./lib/sagemaker_jumpstart_script_utilities/sagemaker_jumpstart_script_utilities-1.0.1-py2.py3-none-any.whl\n",
      "Requirement already satisfied: six in /opt/conda/lib/python3.8/site-packages (from catboost==1.0.1->-r requirements.txt (line 1)) (1.16.0)\n",
      "Requirement already satisfied: pandas>=0.24.0 in /opt/conda/lib/python3.8/site-packages (from catboost==1.0.1->-r requirements.txt (line 1)) (1.2.4)\n",
      "Requirement already satisfied: matplotlib in /opt/conda/lib/python3.8/site-packages (from catboost==1.0.1->-r requirements.txt (line 1)) (3.4.3)\n",
      "Requirement already satisfied: numpy>=1.16.0 in /opt/conda/lib/python3.8/site-packages (from catboost==1.0.1->-r requirements.txt (line 1)) (1.19.1)\n",
      "Requirement already satisfied: scipy in /opt/conda/lib/python3.8/site-packages (from catboost==1.0.1->-r requirements.txt (line 1)) (1.7.1)\n",
      "Requirement already satisfied: python-dateutil>=2.7.3 in /opt/conda/lib/python3.8/site-packages (from pandas>=0.24.0->catboost==1.0.1->-r requirements.txt (line 1)) (2.8.2)\n",
      "Requirement already satisfied: pytz>=2017.3 in /opt/conda/lib/python3.8/site-packages (from pandas>=0.24.0->catboost==1.0.1->-r requirements.txt (line 1)) (2021.3)\n",
      "Requirement already satisfied: pyparsing>=2.2.1 in /opt/conda/lib/python3.8/site-packages (from matplotlib->catboost==1.0.1->-r requirements.txt (line 1)) (2.4.7)\n",
      "Requirement already satisfied: cycler>=0.10 in /opt/conda/lib/python3.8/site-packages (from matplotlib->catboost==1.0.1->-r requirements.txt (line 1)) (0.10.0)\n",
      "Requirement already satisfied: kiwisolver>=1.0.1 in /opt/conda/lib/python3.8/site-packages (from matplotlib->catboost==1.0.1->-r requirements.txt (line 1)) (1.3.2)\n",
      "Requirement already satisfied: pillow>=6.2.0 in /opt/conda/lib/python3.8/site-packages (from matplotlib->catboost==1.0.1->-r requirements.txt (line 1)) (8.3.2)\n",
      "tenacity is already installed with the same version as the provided wheel. Use --force-reinstall to force an installation of the wheel.\n",
      "Installing collected packages: plotly, graphviz, sagemaker-jumpstart-script-utilities, catboost\n",
      "Attempting uninstall: plotly\n",
      "Found existing installation: plotly 5.3.1\n",
      "Uninstalling plotly-5.3.1:\n",
      "\n",
      "2023-04-02 11:40:57 Training - Training image download completed. Training in progress.Successfully uninstalled plotly-5.3.1\n",
      "Successfully installed catboost-1.0.1 graphviz-0.17 plotly-5.1.0 sagemaker-jumpstart-script-utilities-1.0.1\n",
      "WARNING: Running pip as the 'root' user can result in broken permissions and conflicting behaviour with the system package manager. It is recommended to use a virtual environment instead: https://pip.pypa.io/warnings/venv\n",
      "2023-04-02 11:41:20,703 sagemaker-training-toolkit INFO     No GPUs detected (normal if no gpus installed)\n",
      "2023-04-02 11:41:20,714 sagemaker-training-toolkit INFO     No GPUs detected (normal if no gpus installed)\n",
      "2023-04-02 11:41:20,724 sagemaker-training-toolkit INFO     No GPUs detected (normal if no gpus installed)\n",
      "2023-04-02 11:41:20,732 sagemaker-training-toolkit INFO     Invoking user script\n",
      "Training Env:\n",
      "{\n",
      "    \"additional_framework_parameters\": {},\n",
      "    \"channel_input_dirs\": {\n",
      "        \"model\": \"/opt/ml/input/data/model\",\n",
      "        \"training\": \"/opt/ml/input/data/training\",\n",
      "        \"validation\": \"/opt/ml/input/data/validation\"\n",
      "    },\n",
      "    \"current_host\": \"algo-1\",\n",
      "    \"framework_module\": \"sagemaker_pytorch_container.training:main\",\n",
      "    \"hosts\": [\n",
      "        \"algo-1\"\n",
      "    ],\n",
      "    \"hyperparameters\": {\n",
      "        \"bagging_temperature\": \"1\",\n",
      "        \"boosting_type\": \"Auto\",\n",
      "        \"depth\": \"6\",\n",
      "        \"early_stopping_rounds\": \"5\",\n",
      "        \"eval_metric\": \"Auto\",\n",
      "        \"grow_policy\": \"SymmetricTree\",\n",
      "        \"iterations\": \"500\",\n",
      "        \"l2_leaf_reg\": \"3\",\n",
      "        \"learning_rate\": \"0.03\",\n",
      "        \"max_bin\": \"Auto\",\n",
      "        \"max_leaves\": \"31\",\n",
      "        \"min_data_in_leaf\": \"1\",\n",
      "        \"random_seed\": \"0\",\n",
      "        \"random_strength\": \"1.0\",\n",
      "        \"rsm\": \"1\",\n",
      "        \"sampling_frequency\": \"PerTreeLevel\",\n",
      "        \"scale_pos_weight\": \"1.0\",\n",
      "        \"thread_count\": \"-1\",\n",
      "        \"verbose\": \"1\"\n",
      "    },\n",
      "    \"input_config_dir\": \"/opt/ml/input/config\",\n",
      "    \"input_data_config\": {\n",
      "        \"model\": {\n",
      "            \"ContentType\": \"application/x-sagemaker-model\",\n",
      "            \"TrainingInputMode\": \"File\",\n",
      "            \"S3DistributionType\": \"FullyReplicated\",\n",
      "            \"RecordWrapperType\": \"None\"\n",
      "        },\n",
      "        \"training\": {\n",
      "            \"TrainingInputMode\": \"File\",\n",
      "            \"S3DistributionType\": \"FullyReplicated\",\n",
      "            \"RecordWrapperType\": \"None\"\n",
      "        },\n",
      "        \"validation\": {\n",
      "            \"TrainingInputMode\": \"File\",\n",
      "            \"S3DistributionType\": \"FullyReplicated\",\n",
      "            \"RecordWrapperType\": \"None\"\n",
      "        }\n",
      "    },\n",
      "    \"input_dir\": \"/opt/ml/input\",\n",
      "    \"is_master\": true,\n",
      "    \"job_name\": \"built-in-algo-catboost-classification-m-2023-04-02-11-39-04-577\",\n",
      "    \"log_level\": 20,\n",
      "    \"master_hostname\": \"algo-1\",\n",
      "    \"model_dir\": \"/opt/ml/model\",\n",
      "    \"module_dir\": \"s3://jumpstart-cache-prod-us-east-1/source-directory-tarballs/catboost/transfer_learning/classification/v1.1.7/sourcedir.tar.gz\",\n",
      "    \"module_name\": \"transfer_learning\",\n",
      "    \"network_interface_name\": \"eth0\",\n",
      "    \"num_cpus\": 4,\n",
      "    \"num_gpus\": 0,\n",
      "    \"output_data_dir\": \"/opt/ml/output/data\",\n",
      "    \"output_dir\": \"/opt/ml/output\",\n",
      "    \"output_intermediate_dir\": \"/opt/ml/output/intermediate\",\n",
      "    \"resource_config\": {\n",
      "        \"current_host\": \"algo-1\",\n",
      "        \"current_instance_type\": \"ml.m5.xlarge\",\n",
      "        \"current_group_name\": \"homogeneousCluster\",\n",
      "        \"hosts\": [\n",
      "            \"algo-1\"\n",
      "        ],\n",
      "        \"instance_groups\": [\n",
      "            {\n",
      "                \"instance_group_name\": \"homogeneousCluster\",\n",
      "                \"instance_type\": \"ml.m5.xlarge\",\n",
      "                \"hosts\": [\n",
      "                    \"algo-1\"\n",
      "                ]\n",
      "            }\n",
      "        ],\n",
      "        \"network_interface_name\": \"eth0\"\n",
      "    },\n",
      "    \"user_entry_point\": \"transfer_learning.py\"\n",
      "}\n",
      "Environment variables:\n",
      "SM_HOSTS=[\"algo-1\"]\n",
      "SM_NETWORK_INTERFACE_NAME=eth0\n",
      "SM_HPS={\"bagging_temperature\":\"1\",\"boosting_type\":\"Auto\",\"depth\":\"6\",\"early_stopping_rounds\":\"5\",\"eval_metric\":\"Auto\",\"grow_policy\":\"SymmetricTree\",\"iterations\":\"500\",\"l2_leaf_reg\":\"3\",\"learning_rate\":\"0.03\",\"max_bin\":\"Auto\",\"max_leaves\":\"31\",\"min_data_in_leaf\":\"1\",\"random_seed\":\"0\",\"random_strength\":\"1.0\",\"rsm\":\"1\",\"sampling_frequency\":\"PerTreeLevel\",\"scale_pos_weight\":\"1.0\",\"thread_count\":\"-1\",\"verbose\":\"1\"}\n",
      "SM_USER_ENTRY_POINT=transfer_learning.py\n",
      "SM_FRAMEWORK_PARAMS={}\n",
      "SM_RESOURCE_CONFIG={\"current_group_name\":\"homogeneousCluster\",\"current_host\":\"algo-1\",\"current_instance_type\":\"ml.m5.xlarge\",\"hosts\":[\"algo-1\"],\"instance_groups\":[{\"hosts\":[\"algo-1\"],\"instance_group_name\":\"homogeneousCluster\",\"instance_type\":\"ml.m5.xlarge\"}],\"network_interface_name\":\"eth0\"}\n",
      "SM_INPUT_DATA_CONFIG={\"model\":{\"ContentType\":\"application/x-sagemaker-model\",\"RecordWrapperType\":\"None\",\"S3DistributionType\":\"FullyReplicated\",\"TrainingInputMode\":\"File\"},\"training\":{\"RecordWrapperType\":\"None\",\"S3DistributionType\":\"FullyReplicated\",\"TrainingInputMode\":\"File\"},\"validation\":{\"RecordWrapperType\":\"None\",\"S3DistributionType\":\"FullyReplicated\",\"TrainingInputMode\":\"File\"}}\n",
      "SM_OUTPUT_DATA_DIR=/opt/ml/output/data\n",
      "SM_CHANNELS=[\"model\",\"training\",\"validation\"]\n",
      "SM_CURRENT_HOST=algo-1\n",
      "SM_MODULE_NAME=transfer_learning\n",
      "SM_LOG_LEVEL=20\n",
      "SM_FRAMEWORK_MODULE=sagemaker_pytorch_container.training:main\n",
      "SM_INPUT_DIR=/opt/ml/input\n",
      "SM_INPUT_CONFIG_DIR=/opt/ml/input/config\n",
      "SM_OUTPUT_DIR=/opt/ml/output\n",
      "SM_NUM_CPUS=4\n",
      "SM_NUM_GPUS=0\n",
      "SM_MODEL_DIR=/opt/ml/model\n",
      "SM_MODULE_DIR=s3://jumpstart-cache-prod-us-east-1/source-directory-tarballs/catboost/transfer_learning/classification/v1.1.7/sourcedir.tar.gz\n",
      "SM_TRAINING_ENV={\"additional_framework_parameters\":{},\"channel_input_dirs\":{\"model\":\"/opt/ml/input/data/model\",\"training\":\"/opt/ml/input/data/training\",\"validation\":\"/opt/ml/input/data/validation\"},\"current_host\":\"algo-1\",\"framework_module\":\"sagemaker_pytorch_container.training:main\",\"hosts\":[\"algo-1\"],\"hyperparameters\":{\"bagging_temperature\":\"1\",\"boosting_type\":\"Auto\",\"depth\":\"6\",\"early_stopping_rounds\":\"5\",\"eval_metric\":\"Auto\",\"grow_policy\":\"SymmetricTree\",\"iterations\":\"500\",\"l2_leaf_reg\":\"3\",\"learning_rate\":\"0.03\",\"max_bin\":\"Auto\",\"max_leaves\":\"31\",\"min_data_in_leaf\":\"1\",\"random_seed\":\"0\",\"random_strength\":\"1.0\",\"rsm\":\"1\",\"sampling_frequency\":\"PerTreeLevel\",\"scale_pos_weight\":\"1.0\",\"thread_count\":\"-1\",\"verbose\":\"1\"},\"input_config_dir\":\"/opt/ml/input/config\",\"input_data_config\":{\"model\":{\"ContentType\":\"application/x-sagemaker-model\",\"RecordWrapperType\":\"None\",\"S3DistributionType\":\"FullyReplicated\",\"TrainingInputMode\":\"File\"},\"training\":{\"RecordWrapperType\":\"None\",\"S3DistributionType\":\"FullyReplicated\",\"TrainingInputMode\":\"File\"},\"validation\":{\"RecordWrapperType\":\"None\",\"S3DistributionType\":\"FullyReplicated\",\"TrainingInputMode\":\"File\"}},\"input_dir\":\"/opt/ml/input\",\"is_master\":true,\"job_name\":\"built-in-algo-catboost-classification-m-2023-04-02-11-39-04-577\",\"log_level\":20,\"master_hostname\":\"algo-1\",\"model_dir\":\"/opt/ml/model\",\"module_dir\":\"s3://jumpstart-cache-prod-us-east-1/source-directory-tarballs/catboost/transfer_learning/classification/v1.1.7/sourcedir.tar.gz\",\"module_name\":\"transfer_learning\",\"network_interface_name\":\"eth0\",\"num_cpus\":4,\"num_gpus\":0,\"output_data_dir\":\"/opt/ml/output/data\",\"output_dir\":\"/opt/ml/output\",\"output_intermediate_dir\":\"/opt/ml/output/intermediate\",\"resource_config\":{\"current_group_name\":\"homogeneousCluster\",\"current_host\":\"algo-1\",\"current_instance_type\":\"ml.m5.xlarge\",\"hosts\":[\"algo-1\"],\"instance_groups\":[{\"hosts\":[\"algo-1\"],\"instance_group_name\":\"homogeneousCluster\",\"instance_type\":\"ml.m5.xlarge\"}],\"network_interface_name\":\"eth0\"},\"user_entry_point\":\"transfer_learning.py\"}\n",
      "SM_USER_ARGS=[\"--bagging_temperature\",\"1\",\"--boosting_type\",\"Auto\",\"--depth\",\"6\",\"--early_stopping_rounds\",\"5\",\"--eval_metric\",\"Auto\",\"--grow_policy\",\"SymmetricTree\",\"--iterations\",\"500\",\"--l2_leaf_reg\",\"3\",\"--learning_rate\",\"0.03\",\"--max_bin\",\"Auto\",\"--max_leaves\",\"31\",\"--min_data_in_leaf\",\"1\",\"--random_seed\",\"0\",\"--random_strength\",\"1.0\",\"--rsm\",\"1\",\"--sampling_frequency\",\"PerTreeLevel\",\"--scale_pos_weight\",\"1.0\",\"--thread_count\",\"-1\",\"--verbose\",\"1\"]\n",
      "SM_OUTPUT_INTERMEDIATE_DIR=/opt/ml/output/intermediate\n",
      "SM_CHANNEL_MODEL=/opt/ml/input/data/model\n",
      "SM_CHANNEL_TRAINING=/opt/ml/input/data/training\n",
      "SM_CHANNEL_VALIDATION=/opt/ml/input/data/validation\n",
      "SM_HP_BAGGING_TEMPERATURE=1\n",
      "SM_HP_BOOSTING_TYPE=Auto\n",
      "SM_HP_DEPTH=6\n",
      "SM_HP_EARLY_STOPPING_ROUNDS=5\n",
      "SM_HP_EVAL_METRIC=Auto\n",
      "SM_HP_GROW_POLICY=SymmetricTree\n",
      "SM_HP_ITERATIONS=500\n",
      "SM_HP_L2_LEAF_REG=3\n",
      "SM_HP_LEARNING_RATE=0.03\n",
      "SM_HP_MAX_BIN=Auto\n",
      "SM_HP_MAX_LEAVES=31\n",
      "SM_HP_MIN_DATA_IN_LEAF=1\n",
      "SM_HP_RANDOM_SEED=0\n",
      "SM_HP_RANDOM_STRENGTH=1.0\n",
      "SM_HP_RSM=1\n",
      "SM_HP_SAMPLING_FREQUENCY=PerTreeLevel\n",
      "SM_HP_SCALE_POS_WEIGHT=1.0\n",
      "SM_HP_THREAD_COUNT=-1\n",
      "SM_HP_VERBOSE=1\n",
      "PYTHONPATH=/opt/ml/code:/opt/conda/bin:/opt/conda/lib/python38.zip:/opt/conda/lib/python3.8:/opt/conda/lib/python3.8/lib-dynload:/opt/conda/lib/python3.8/site-packages\n",
      "Invoking script with the following command:\n",
      "/opt/conda/bin/python3.8 transfer_learning.py --bagging_temperature 1 --boosting_type Auto --depth 6 --early_stopping_rounds 5 --eval_metric Auto --grow_policy SymmetricTree --iterations 500 --l2_leaf_reg 3 --learning_rate 0.03 --max_bin Auto --max_leaves 31 --min_data_in_leaf 1 --random_seed 0 --random_strength 1.0 --rsm 1 --sampling_frequency PerTreeLevel --scale_pos_weight 1.0 --thread_count -1 --verbose 1\n",
      "INFO:root:Data in the validation channel is found. Reading the train and validation data from the training and validation channel, respectively.\n",
      "INFO:root:'_input_model_extracted/__models_info__.json' file could not be found.\n",
      "0:#011test: 0.7760511#011best: 0.7760511 (0)#011total: 54.1ms#011remaining: 27s\n",
      "1:#011test: 0.7787056#011best: 0.7787056 (1)#011total: 63.5ms#011remaining: 15.8s\n",
      "2:#011test: 0.7821297#011best: 0.7821297 (2)#011total: 72ms#011remaining: 11.9s\n",
      "3:#011test: 0.7871542#011best: 0.7871542 (3)#011total: 80.5ms#011remaining: 9.98s\n",
      "4:#011test: 0.7876130#011best: 0.7876130 (4)#011total: 89.5ms#011remaining: 8.86s\n",
      "5:#011test: 0.7897438#011best: 0.7897438 (5)#011total: 98.2ms#011remaining: 8.09s\n",
      "6:#011test: 0.7898347#011best: 0.7898347 (6)#011total: 107ms#011remaining: 7.55s\n",
      "7:#011test: 0.7901373#011best: 0.7901373 (7)#011total: 116ms#011remaining: 7.16s\n",
      "8:#011test: 0.7915519#011best: 0.7915519 (8)#011total: 124ms#011remaining: 6.76s\n",
      "9:#011test: 0.7923486#011best: 0.7923486 (9)#011total: 134ms#011remaining: 6.55s\n",
      "10:#011test: 0.7925698#011best: 0.7925698 (10)#011total: 144ms#011remaining: 6.38s\n",
      "11:#011test: 0.7924554#011best: 0.7925698 (10)#011total: 152ms#011remaining: 6.17s\n",
      "12:#011test: 0.7948886#011best: 0.7948886 (12)#011total: 161ms#011remaining: 6.03s\n",
      "13:#011test: 0.7949373#011best: 0.7949373 (13)#011total: 170ms#011remaining: 5.91s\n",
      "14:#011test: 0.7936906#011best: 0.7949373 (13)#011total: 180ms#011remaining: 5.82s\n",
      "15:#011test: 0.7940104#011best: 0.7949373 (13)#011total: 189ms#011remaining: 5.71s\n",
      "16:#011test: 0.7937432#011best: 0.7949373 (13)#011total: 199ms#011remaining: 5.65s\n",
      "17:#011test: 0.7933944#011best: 0.7949373 (13)#011total: 208ms#011remaining: 5.57s\n",
      "18:#011test: 0.7940545#011best: 0.7949373 (13)#011total: 217ms#011remaining: 5.49s\n",
      "Stopped by overfitting detector  (5 iterations wait)\n",
      "bestTest = 0.7949372755\n",
      "bestIteration = 13\n",
      "Shrink model to first 14 iterations.\n",
      "INFO:root:AUC: 0.7949372754622193\n",
      "INFO:root:Saving model...\n",
      "INFO:root:Info file not found at '_input_model_extracted/__models_info__.json'.\n",
      "2023-04-02 11:41:21,680 sagemaker-training-toolkit INFO     Reporting training SUCCESS\n",
      "\n",
      "2023-04-02 11:41:38 Uploading - Uploading generated training model\n",
      "2023-04-02 11:41:38 Completed - Training job completed\n",
      "Training seconds: 92\n",
      "Billable seconds: 92\n"
     ]
    }
   ],
   "source": [
    "# Launch a SageMaker Training job by passing the S3 path of the training data\n",
    "tabular_estimator.fit(\n",
    "    {\n",
    "        \"training\": train_s3_url_catboost,\n",
    "        \"validation\": validation_s3_url_catboost,\n",
    "    }, logs=True, job_name=training_job_name\n",
    ")"
   ]
  },
  {
   "cell_type": "code",
   "execution_count": 24,
   "id": "7067f537",
   "metadata": {},
   "outputs": [],
   "source": [
    "# create a confusion matrix for the model tested on the test dataset\n",
    "from sklearn.metrics import confusion_matrix\n",
    "import pandas as pd\n",
    "import numpy as np\n",
    "import matplotlib.pyplot as plt\n",
    "import seaborn as sns\n",
    "import boto3\n",
    "import os\n",
    "\n",
    "# Download the test dataset\n",
    "test_x_s3_url = os.path.join(test_s3_url_catboost, \"test_x.csv\")\n",
    "test_y_s3_url = os.path.join(test_s3_url_catboost, \"test_y.csv\")\n",
    "\n",
    "test_x_s3 = boto3.resource(\"s3\").Object(bucket_name, test_x_s3_url.replace(f\"s3://{bucket_name}/\", \"\"))\n",
    "test_x_s3.download_file(\"test_x.csv\")\n",
    "\n"
   ]
  },
  {
   "attachments": {},
   "cell_type": "markdown",
   "id": "60334d45",
   "metadata": {},
   "source": [
    "# Adding a HPO Job to find the best hyperparameters for the task at hand"
   ]
  },
  {
   "cell_type": "code",
   "execution_count": 25,
   "id": "163194f5-948e-4641-9c84-52842fe8b8e7",
   "metadata": {
    "tags": []
   },
   "outputs": [],
   "source": [
    "# import required HPO objects\n",
    "from sagemaker.tuner import (\n",
    "    CategoricalParameter,\n",
    "    ContinuousParameter,\n",
    "    HyperparameterTuner,\n",
    "    IntegerParameter,\n",
    ")"
   ]
  },
  {
   "cell_type": "code",
   "execution_count": 50,
   "id": "c1afe80a-df15-4d0e-a6df-51972c31c930",
   "metadata": {
    "tags": []
   },
   "outputs": [
    {
     "name": "stdout",
     "output_type": "stream",
     "text": [
      "Idea2ProdCatB-tuner\n"
     ]
    },
    {
     "name": "stderr",
     "output_type": "stream",
     "text": [
      "INFO:sagemaker:Creating hyperparameter tuning job with name: Idea2ProdCatB-tuner-230402-2019\n"
     ]
    },
    {
     "name": "stdout",
     "output_type": "stream",
     "text": [
      "..............................................................................!\n",
      "!\n"
     ]
    }
   ],
   "source": [
    "# set up hyperparameter ranges\n",
    "hyperparameter_ranges_cat = {\n",
    "    \"learning_rate\": ContinuousParameter(0.00001, 0.1, scaling_type=\"Logarithmic\"),\n",
    "    \"iterations\": IntegerParameter(50, 1000),\n",
    "    \"depth\": IntegerParameter(1, 10),\n",
    "    \"l2_leaf_reg\": IntegerParameter(1, 10),\n",
    "    \"random_strength\": ContinuousParameter(0.01, 10, scaling_type=\"Logarithmic\"),\n",
    "}\n",
    "# setting the name \n",
    "base_tuning_job_name = \"Idea2ProdCatB-tuner\"\n",
    "print(base_tuning_job_name)\n",
    "\n",
    "tuner = HyperparameterTuner(\n",
    "    tabular_estimator,\n",
    "    \"AUC\",\n",
    "    hyperparameter_ranges_cat,\n",
    "    [{\"Name\": \"AUC\", \"Regex\": \"bestTest = ([0-9\\\\.]+)\"}],\n",
    "    max_jobs=20,\n",
    "    max_parallel_jobs=5,\n",
    "    objective_type=\"Maximize\",\n",
    "    base_tuning_job_name=base_tuning_job_name,\n",
    ")\n",
    "\n",
    "tuner.fit({\"training\": train_s3_url_catboost}, logs=True)\n",
    "\n",
    "tuner.wait()"
   ]
  },
  {
   "cell_type": "code",
   "execution_count": 51,
   "id": "dbe8e76e",
   "metadata": {},
   "outputs": [
    {
     "data": {
      "text/plain": [
       "'Idea2ProdCatB-tuner-230402-2019'"
      ]
     },
     "execution_count": 51,
     "metadata": {},
     "output_type": "execute_result"
    }
   ],
   "source": [
    "# return the name of the hyperparameter tuning job name from the last run \n",
    "tuner.latest_tuning_job.name"
   ]
  },
  {
   "cell_type": "code",
   "execution_count": 57,
   "id": "bbbb6efc",
   "metadata": {},
   "outputs": [
    {
     "name": "stdout",
     "output_type": "stream",
     "text": [
      "Idea2ProdCatB-tuner-230402-2019\n",
      "20 training jobs have completed\n"
     ]
    }
   ],
   "source": [
    "tuning_job_name=tuner.latest_tuning_job.name\n",
    "print(tuning_job_name)\n",
    "# run this cell to check current status of hyperparameter tuning job\n",
    "tuning_job_result = sm_client.describe_hyper_parameter_tuning_job(\n",
    "    HyperParameterTuningJobName=tuner.latest_tuning_job.name\n",
    ")\n",
    "\n",
    "status = tuning_job_result[\"HyperParameterTuningJobStatus\"]\n",
    "if status != \"Completed\":\n",
    "    print(\"Reminder: the tuning job has not been completed.\")\n",
    "\n",
    "job_count = tuning_job_result[\"TrainingJobStatusCounters\"][\"Completed\"]\n",
    "print(\"%d training jobs have completed\" % job_count)\n",
    "\n",
    "objective = tuning_job_result[\"HyperParameterTuningJobConfig\"][\"HyperParameterTuningJobObjective\"]\n",
    "is_minimize = objective[\"Type\"] != \"Maximize\"\n",
    "objective_name = objective[\"MetricName\"]"
   ]
  },
  {
   "cell_type": "code",
   "execution_count": 58,
   "id": "9a4f1014-5dfe-404e-84cd-82f8b86646db",
   "metadata": {},
   "outputs": [
    {
     "name": "stdout",
     "output_type": "stream",
     "text": [
      "Best model found so far:\n",
      "{'CreationTime': datetime.datetime(2023, 4, 2, 20, 24, 44, tzinfo=tzlocal()),\n",
      " 'FinalHyperParameterTuningJobObjectiveMetric': {'MetricName': 'AUC',\n",
      "                                                 'Value': 0.8009076714515686},\n",
      " 'ObjectiveStatus': 'Succeeded',\n",
      " 'TrainingEndTime': datetime.datetime(2023, 4, 2, 20, 25, 33, tzinfo=tzlocal()),\n",
      " 'TrainingJobArn': 'arn:aws:sagemaker:us-east-1:555555555555:training-job/Idea2ProdCatB-tuner-230402-2019-019-d3c1589b',\n",
      " 'TrainingJobName': 'Idea2ProdCatB-tuner-230402-2019-019-d3c1589b',\n",
      " 'TrainingJobStatus': 'Completed',\n",
      " 'TrainingStartTime': datetime.datetime(2023, 4, 2, 20, 24, 51, tzinfo=tzlocal()),\n",
      " 'TunedHyperParameters': {'depth': '9',\n",
      "                          'iterations': '486',\n",
      "                          'l2_leaf_reg': '4',\n",
      "                          'learning_rate': '0.00024377077948554255',\n",
      "                          'random_strength': '0.05420707610695903'}}\n"
     ]
    }
   ],
   "source": [
    "from pprint import pprint\n",
    "\n",
    "if tuning_job_result.get(\"BestTrainingJob\", None):\n",
    "    print(\"Best model found so far:\")\n",
    "    pprint(tuning_job_result[\"BestTrainingJob\"])\n",
    "else:\n",
    "    print(\"No training jobs have reported results yet.\")"
   ]
  },
  {
   "cell_type": "code",
   "execution_count": 60,
   "id": "665f6700",
   "metadata": {},
   "outputs": [
    {
     "name": "stdout",
     "output_type": "stream",
     "text": [
      "Shape of the dataframe for all tuning jobs: (20, 11)\n",
      "Number of training jobs with valid objective: 20\n",
      "{'lowest': 0.7716031670570374, 'highest': 0.8009076714515686}\n"
     ]
    },
    {
     "data": {
      "text/html": [
       "<div>\n",
       "<style scoped>\n",
       "    .dataframe tbody tr th:only-of-type {\n",
       "        vertical-align: middle;\n",
       "    }\n",
       "\n",
       "    .dataframe tbody tr th {\n",
       "        vertical-align: top;\n",
       "    }\n",
       "\n",
       "    .dataframe thead th {\n",
       "        text-align: right;\n",
       "    }\n",
       "</style>\n",
       "<table border=\"1\" class=\"dataframe\">\n",
       "  <thead>\n",
       "    <tr style=\"text-align: right;\">\n",
       "      <th></th>\n",
       "      <th>depth</th>\n",
       "      <th>iterations</th>\n",
       "      <th>l2_leaf_reg</th>\n",
       "      <th>learning_rate</th>\n",
       "      <th>random_strength</th>\n",
       "      <th>TrainingJobName</th>\n",
       "      <th>TrainingJobStatus</th>\n",
       "      <th>FinalObjectiveValue</th>\n",
       "      <th>TrainingStartTime</th>\n",
       "      <th>TrainingEndTime</th>\n",
       "      <th>TrainingElapsedTimeSeconds</th>\n",
       "    </tr>\n",
       "  </thead>\n",
       "  <tbody>\n",
       "    <tr>\n",
       "      <th>1</th>\n",
       "      <td>9.0</td>\n",
       "      <td>486.0</td>\n",
       "      <td>4.0</td>\n",
       "      <td>0.000244</td>\n",
       "      <td>0.054207</td>\n",
       "      <td>Idea2ProdCatB-tuner-230402-2019-019-d3c1589b</td>\n",
       "      <td>Completed</td>\n",
       "      <td>0.800908</td>\n",
       "      <td>2023-04-02 20:24:51+02:00</td>\n",
       "      <td>2023-04-02 20:25:33+02:00</td>\n",
       "      <td>42.0</td>\n",
       "    </tr>\n",
       "    <tr>\n",
       "      <th>13</th>\n",
       "      <td>9.0</td>\n",
       "      <td>451.0</td>\n",
       "      <td>6.0</td>\n",
       "      <td>0.000489</td>\n",
       "      <td>0.044629</td>\n",
       "      <td>Idea2ProdCatB-tuner-230402-2019-007-2fab68a5</td>\n",
       "      <td>Completed</td>\n",
       "      <td>0.799091</td>\n",
       "      <td>2023-04-02 20:22:18+02:00</td>\n",
       "      <td>2023-04-02 20:23:05+02:00</td>\n",
       "      <td>47.0</td>\n",
       "    </tr>\n",
       "    <tr>\n",
       "      <th>2</th>\n",
       "      <td>8.0</td>\n",
       "      <td>539.0</td>\n",
       "      <td>3.0</td>\n",
       "      <td>0.000263</td>\n",
       "      <td>0.050836</td>\n",
       "      <td>Idea2ProdCatB-tuner-230402-2019-018-c1c4f014</td>\n",
       "      <td>Completed</td>\n",
       "      <td>0.799062</td>\n",
       "      <td>2023-04-02 20:25:12+02:00</td>\n",
       "      <td>2023-04-02 20:25:48+02:00</td>\n",
       "      <td>36.0</td>\n",
       "    </tr>\n",
       "    <tr>\n",
       "      <th>4</th>\n",
       "      <td>9.0</td>\n",
       "      <td>580.0</td>\n",
       "      <td>8.0</td>\n",
       "      <td>0.000485</td>\n",
       "      <td>0.063765</td>\n",
       "      <td>Idea2ProdCatB-tuner-230402-2019-016-c5546782</td>\n",
       "      <td>Completed</td>\n",
       "      <td>0.797897</td>\n",
       "      <td>2023-04-02 20:24:27+02:00</td>\n",
       "      <td>2023-04-02 20:25:14+02:00</td>\n",
       "      <td>47.0</td>\n",
       "    </tr>\n",
       "    <tr>\n",
       "      <th>15</th>\n",
       "      <td>9.0</td>\n",
       "      <td>695.0</td>\n",
       "      <td>2.0</td>\n",
       "      <td>0.000811</td>\n",
       "      <td>0.136229</td>\n",
       "      <td>Idea2ProdCatB-tuner-230402-2019-005-91a6d3de</td>\n",
       "      <td>Completed</td>\n",
       "      <td>0.797727</td>\n",
       "      <td>2023-04-02 20:20:21+02:00</td>\n",
       "      <td>2023-04-02 20:21:52+02:00</td>\n",
       "      <td>91.0</td>\n",
       "    </tr>\n",
       "  </tbody>\n",
       "</table>\n",
       "</div>"
      ],
      "text/plain": [
       "    depth  iterations  l2_leaf_reg  learning_rate  random_strength  \\\n",
       "1     9.0       486.0          4.0       0.000244         0.054207   \n",
       "13    9.0       451.0          6.0       0.000489         0.044629   \n",
       "2     8.0       539.0          3.0       0.000263         0.050836   \n",
       "4     9.0       580.0          8.0       0.000485         0.063765   \n",
       "15    9.0       695.0          2.0       0.000811         0.136229   \n",
       "\n",
       "                                 TrainingJobName TrainingJobStatus  \\\n",
       "1   Idea2ProdCatB-tuner-230402-2019-019-d3c1589b         Completed   \n",
       "13  Idea2ProdCatB-tuner-230402-2019-007-2fab68a5         Completed   \n",
       "2   Idea2ProdCatB-tuner-230402-2019-018-c1c4f014         Completed   \n",
       "4   Idea2ProdCatB-tuner-230402-2019-016-c5546782         Completed   \n",
       "15  Idea2ProdCatB-tuner-230402-2019-005-91a6d3de         Completed   \n",
       "\n",
       "    FinalObjectiveValue         TrainingStartTime           TrainingEndTime  \\\n",
       "1              0.800908 2023-04-02 20:24:51+02:00 2023-04-02 20:25:33+02:00   \n",
       "13             0.799091 2023-04-02 20:22:18+02:00 2023-04-02 20:23:05+02:00   \n",
       "2              0.799062 2023-04-02 20:25:12+02:00 2023-04-02 20:25:48+02:00   \n",
       "4              0.797897 2023-04-02 20:24:27+02:00 2023-04-02 20:25:14+02:00   \n",
       "15             0.797727 2023-04-02 20:20:21+02:00 2023-04-02 20:21:52+02:00   \n",
       "\n",
       "    TrainingElapsedTimeSeconds  \n",
       "1                         42.0  \n",
       "13                        47.0  \n",
       "2                         36.0  \n",
       "4                         47.0  \n",
       "15                        91.0  "
      ]
     },
     "execution_count": 60,
     "metadata": {},
     "output_type": "execute_result"
    }
   ],
   "source": [
    "full_df = sagemaker.HyperparameterTuningJobAnalytics(tuning_job_name).dataframe()\n",
    "print(f\"Shape of the dataframe for all tuning jobs: {full_df.shape}\")\n",
    "\n",
    "if len(full_df) > 0:\n",
    "    df = full_df[full_df[\"FinalObjectiveValue\"] > -float(\"inf\")]\n",
    "    if len(df) > 0:\n",
    "        df = df.sort_values(\"FinalObjectiveValue\", ascending=is_minimize)\n",
    "        print(\"Number of training jobs with valid objective: %d\" % len(df))\n",
    "        print({\"lowest\": min(df[\"FinalObjectiveValue\"]), \"highest\": max(df[\"FinalObjectiveValue\"])})\n",
    "        pd.set_option(\"display.max_colwidth\", None)  # Don't truncate TrainingJobName\n",
    "    else:\n",
    "        print(\"No training jobs have reported valid results yet.\")\n",
    "df.head()"
   ]
  },
  {
   "cell_type": "code",
   "execution_count": 61,
   "id": "2c44dbed",
   "metadata": {},
   "outputs": [
    {
     "name": "stdout",
     "output_type": "stream",
     "text": [
      "Best model: Idea2ProdCatB-tuner-230402-2019-019-d3c1589b\n"
     ]
    },
    {
     "ename": "KeyError",
     "evalue": "'TrainingJobDefinition'",
     "output_type": "error",
     "traceback": [
      "\u001b[0;31m---------------------------------------------------------------------------\u001b[0m",
      "\u001b[0;31mKeyError\u001b[0m                                  Traceback (most recent call last)",
      "Cell \u001b[0;32mIn[61], line 8\u001b[0m\n\u001b[1;32m      4\u001b[0m \u001b[39mprint\u001b[39m(\u001b[39m\"\u001b[39m\u001b[39mBest model: \u001b[39m\u001b[39m\"\u001b[39m \u001b[39m+\u001b[39m best_training_job_name)\n\u001b[1;32m      6\u001b[0m \u001b[39m# deploy the best performing model\u001b[39;00m\n\u001b[1;32m      7\u001b[0m best_model \u001b[39m=\u001b[39m sagemaker\u001b[39m.\u001b[39mmodel\u001b[39m.\u001b[39mModel(\n\u001b[0;32m----> 8\u001b[0m     image_uri\u001b[39m=\u001b[39mbest_training_job[\u001b[39m\"\u001b[39;49m\u001b[39mTrainingJobDefinition\u001b[39;49m\u001b[39m\"\u001b[39;49m][\u001b[39m\"\u001b[39m\u001b[39mAlgorithmSpecification\u001b[39m\u001b[39m\"\u001b[39m][\u001b[39m\"\u001b[39m\u001b[39mTrainingImage\u001b[39m\u001b[39m\"\u001b[39m],\n\u001b[1;32m      9\u001b[0m     model_data\u001b[39m=\u001b[39mbest_training_job[\u001b[39m\"\u001b[39m\u001b[39mTunedModelArtifacts\u001b[39m\u001b[39m\"\u001b[39m][\u001b[39m\"\u001b[39m\u001b[39mS3ModelArtifacts\u001b[39m\u001b[39m\"\u001b[39m],\n\u001b[1;32m     10\u001b[0m     role\u001b[39m=\u001b[39msm_role,\n\u001b[1;32m     11\u001b[0m     sagemaker_session\u001b[39m=\u001b[39msagemaker_session,\n\u001b[1;32m     12\u001b[0m )\n",
      "\u001b[0;31mKeyError\u001b[0m: 'TrainingJobDefinition'"
     ]
    }
   ],
   "source": [
    "# get the best performing model\n",
    "best_training_job = tuning_job_result[\"BestTrainingJob\"]\n",
    "best_training_job_name = best_training_job[\"TrainingJobName\"]\n",
    "print(\"Best model: \" + best_training_job_name)\n",
    "\n",
    "# deploy the best performing model\n",
    "best_model = sagemaker.model.Model(\n",
    "    image_uri=best_training_job[\"TrainingJobDefinition\"][\"AlgorithmSpecification\"][\"TrainingImage\"],\n",
    "    model_data=best_training_job[\"TunedModelArtifacts\"][\"S3ModelArtifacts\"],\n",
    "    role=sm_role,\n",
    "    sagemaker_session=sagemaker_session,\n",
    ")"
   ]
  },
  {
   "cell_type": "code",
   "execution_count": null,
   "id": "8aae644f",
   "metadata": {},
   "outputs": [],
   "source": [
    "\n",
    "predictor = best_model.deploy(\n",
    "    initial_instance_count=1,\n",
    "    instance_type=endpoint_instance_type,\n",
    "    endpoint_name=best_training_job_name,\n",
    ")\n",
    "\n",
    "# get the test dataset\n",
    "test_x_s3_url = os.path.join(test_s3_url_catboost, \"test_x.csv\")\n",
    "test_y_s3_url = os.path.join(test_s3_url_catboost, \"test_y.csv\")\n",
    "\n",
    "test_x_s3 = boto3.resource(\"s3\").Object(bucket_name, test_x_s3_url.replace(f\"s3://{bucket_name}/\", \"\"))\n",
    "test_x_s3.download_file(\"test_x.csv\")\n",
    "\n",
    "test_y_s3 = boto3.resource(\"s3\").Object(bucket_name, test_y_s3_url.replace(f\"s3://{bucket_name}/\", \"\"))\n",
    "test_y_s3.download_file(\"test_y.csv\")\n",
    "\n",
    "# load the test dataset\n",
    "test_x = pd.read_csv(\"test_x.csv\", index_col=0)\n",
    "test_y = pd.read_csv(\"test_y.csv\", index_col=0)\n",
    "\n",
    "# get predictions from the model\n",
    "predictions = predictor.predict(test_x)\n",
    "\n",
    "# convert predictions to a dataframe\n",
    "predictions = pd.DataFrame(predictions, columns=[\"prediction\"])\n",
    "\n",
    "# convert the predictions to a binary classification\n",
    "predictions[\"prediction\"] = predictions[\"prediction\"].apply(lambda x: 1 if x > 0.5 else 0)\n",
    "\n",
    "# get the confusion matrix\n",
    "confusion_matrix = confusion_matrix(test_y, predictions)\n",
    "\n",
    "# plot the confusion matrix\n",
    "sns.heatmap(confusion_matrix, annot=True, fmt=\"d\")\n",
    "plt.title(\"Confusion matrix\")\n",
    "plt.ylabel(\"Actual label\")\n",
    "plt.xlabel(\"Predicted label\")\n",
    "plt.show()\n"
   ]
  },
  {
   "attachments": {},
   "cell_type": "markdown",
   "id": "e910762b",
   "metadata": {},
   "source": [
    "### Setting up some visualisation functions"
   ]
  },
  {
   "cell_type": "code",
   "execution_count": 36,
   "id": "a78fef39",
   "metadata": {},
   "outputs": [],
   "source": [
    "def force_plot(expected_value, shap_values, feature_data, feature_headers):\n",
    "    \"\"\"\n",
    "    Visualize the given SHAP values with an additive force layout.\n",
    "\n",
    "    For more information: https://shap.readthedocs.io/en/latest/example_notebooks/tabular_examples/tree_based_models/Force%20Plot%20Colors.html\n",
    "    \"\"\"\n",
    "    force_plot_display = shap.plots.force(\n",
    "        base_value=expected_value,\n",
    "        shap_values=shap_values,\n",
    "        features=feature_data,\n",
    "        feature_names=feature_headers,\n",
    "        matplotlib=True,\n",
    "    )\n",
    "\n",
    "\n",
    "def display_plots(explanations, expected_value, request_records, predictions):\n",
    "    \"\"\"\n",
    "    Display the Model Explainability plots\n",
    "    \"\"\"\n",
    "    per_request_shap_values = OrderedDict()\n",
    "    feature_headers = []\n",
    "    for i, record_output in enumerate(explanations):\n",
    "        per_record_shap_values = []\n",
    "        if record_output is not None:\n",
    "            feature_headers = []\n",
    "            for feature_attribution in record_output:\n",
    "                per_record_shap_values.append(\n",
    "                    feature_attribution[\"attributions\"][0][\"attribution\"][0]\n",
    "                )\n",
    "                feature_headers.append(feature_attribution[\"feature_header\"])\n",
    "            per_request_shap_values[i] = per_record_shap_values\n",
    "\n",
    "    for record_index, shap_values in per_request_shap_values.items():\n",
    "        print(\n",
    "            f\"Visualize the SHAP values for Record number {record_index + 1} with Model Prediction: {predictions[record_index][0]}\"\n",
    "        )\n",
    "        force_plot(\n",
    "            expected_value,\n",
    "            np.array(shap_values),\n",
    "            request_records.iloc[record_index],\n",
    "            feature_headers,\n",
    "        )\n",
    "\n",
    "\n",
    "def visualize_result(result, request_records, expected_value):\n",
    "    \"\"\"\n",
    "    Visualize the output from the endpoint.\n",
    "    \"\"\"\n",
    "    predictions = pd.read_csv(io.StringIO(result[\"predictions\"][\"data\"]), header=None)\n",
    "    predictions = predictions.values.tolist()\n",
    "    print(f\"Model Inference output: \")\n",
    "    for i, model_output in enumerate(predictions):\n",
    "        print(f\"Record: {i + 1}\\tModel Prediction: {model_output[0]}\")\n",
    "\n",
    "    if \"kernel_shap\" in result[\"explanations\"]:\n",
    "        explanations = result[\"explanations\"][\"kernel_shap\"]\n",
    "        display_plots(explanations, expected_value, request_records, predictions)\n",
    "    else:\n",
    "        print(f\"No Clarify explanations for the record(s)\")\n"
   ]
  },
  {
   "cell_type": "code",
   "execution_count": null,
   "id": "827e0158",
   "metadata": {},
   "outputs": [],
   "source": []
  },
  {
   "cell_type": "code",
   "execution_count": null,
   "id": "63385bd9",
   "metadata": {},
   "outputs": [],
   "source": []
  },
  {
   "cell_type": "code",
   "execution_count": null,
   "id": "68e3e81a",
   "metadata": {},
   "outputs": [],
   "source": []
  },
  {
   "cell_type": "code",
   "execution_count": null,
   "id": "0cad0d25",
   "metadata": {},
   "outputs": [],
   "source": []
  },
  {
   "cell_type": "code",
   "execution_count": null,
   "id": "4ee3f37f",
   "metadata": {},
   "outputs": [],
   "source": []
  },
  {
   "cell_type": "code",
   "execution_count": 34,
   "id": "6cde203e",
   "metadata": {},
   "outputs": [
    {
     "data": {
      "text/html": [
       "<style>\n",
       "        .bk-notebook-logo {\n",
       "            display: block;\n",
       "            width: 20px;\n",
       "            height: 20px;\n",
       "            background-image: url(data:image/png;base64,iVBORw0KGgoAAAANSUhEUgAAABQAAAAUCAYAAACNiR0NAAAABHNCSVQICAgIfAhkiAAAAAlwSFlzAAALEgAACxIB0t1+/AAAABx0RVh0U29mdHdhcmUAQWRvYmUgRmlyZXdvcmtzIENTNui8sowAAAOkSURBVDiNjZRtaJVlGMd/1/08zzln5zjP1LWcU9N0NkN8m2CYjpgQYQXqSs0I84OLIC0hkEKoPtiH3gmKoiJDU7QpLgoLjLIQCpEsNJ1vqUOdO7ppbuec5+V+rj4ctwzd8IIbbi6u+8f1539dt3A78eXC7QizUF7gyV1fD1Yqg4JWz84yffhm0qkFqBogB9rM8tZdtwVsPUhWhGcFJngGeWrPzHm5oaMmkfEg1usvLFyc8jLRqDOMru7AyC8saQr7GG7f5fvDeH7Ej8CM66nIF+8yngt6HWaKh7k49Soy9nXurCi1o3qUbS3zWfrYeQDTB/Qj6kX6Ybhw4B+bOYoLKCC9H3Nu/leUTZ1JdRWkkn2ldcCamzrcf47KKXdAJllSlxAOkRgyHsGC/zRday5Qld9DyoM4/q/rUoy/CXh3jzOu3bHUVZeU+DEn8FInkPBFlu3+nW3Nw0mk6vCDiWg8CeJaxEwuHS3+z5RgY+YBR6V1Z1nxSOfoaPa4LASWxxdNp+VWTk7+4vzaou8v8PN+xo+KY2xsw6une2frhw05CTYOmQvsEhjhWjn0bmXPjpE1+kplmmkP3suftwTubK9Vq22qKmrBhpY4jvd5afdRA3wGjFAgcnTK2s4hY0/GPNIb0nErGMCRxWOOX64Z8RAC4oCXdklmEvcL8o0BfkNK4lUg9HTl+oPlQxdNo3Mg4Nv175e/1LDGzZen30MEjRUtmXSfiTVu1kK8W4txyV6BMKlbgk3lMwYCiusNy9fVfvvwMxv8Ynl6vxoByANLTWplvuj/nF9m2+PDtt1eiHPBr1oIfhCChQMBw6Aw0UulqTKZdfVvfG7VcfIqLG9bcldL/+pdWTLxLUy8Qq38heUIjh4XlzZxzQm19lLFlr8vdQ97rjZVOLf8nclzckbcD4wxXMidpX30sFd37Fv/GtwwhzhxGVAprjbg0gCAEeIgwCZyTV2Z1REEW8O4py0wsjeloKoMr6iCY6dP92H6Vw/oTyICIthibxjm/DfN9lVz8IqtqKYLUXfoKVMVQVVJOElGjrnnUt9T9wbgp8AyYKaGlqingHZU/uG2NTZSVqwHQTWkx9hxjkpWDaCg6Ckj5qebgBVbT3V3NNXMSiWSDdGV3hrtzla7J+duwPOToIg42ChPQOQjspnSlp1V+Gjdged7+8UN5CRAV7a5EdFNwCjEaBR27b3W890TE7g24NAP/mMDXRWrGoFPQI9ls/MWO2dWFAar/xcOIImbbpA3zgAAAABJRU5ErkJggg==);\n",
       "        }\n",
       "    </style>\n",
       "    <div>\n",
       "        <a href=\"https://bokeh.org\" target=\"_blank\" class=\"bk-notebook-logo\"></a>\n",
       "        <span id=\"p1011\">Loading BokehJS ...</span>\n",
       "    </div>\n"
      ]
     },
     "metadata": {},
     "output_type": "display_data"
    },
    {
     "data": {
      "application/javascript": "(function(root) {\n  function now() {\n    return new Date();\n  }\n\n  const force = true;\n\n  if (typeof root._bokeh_onload_callbacks === \"undefined\" || force === true) {\n    root._bokeh_onload_callbacks = [];\n    root._bokeh_is_loading = undefined;\n  }\n\nconst JS_MIME_TYPE = 'application/javascript';\n  const HTML_MIME_TYPE = 'text/html';\n  const EXEC_MIME_TYPE = 'application/vnd.bokehjs_exec.v0+json';\n  const CLASS_NAME = 'output_bokeh rendered_html';\n\n  /**\n   * Render data to the DOM node\n   */\n  function render(props, node) {\n    const script = document.createElement(\"script\");\n    node.appendChild(script);\n  }\n\n  /**\n   * Handle when an output is cleared or removed\n   */\n  function handleClearOutput(event, handle) {\n    const cell = handle.cell;\n\n    const id = cell.output_area._bokeh_element_id;\n    const server_id = cell.output_area._bokeh_server_id;\n    // Clean up Bokeh references\n    if (id != null && id in Bokeh.index) {\n      Bokeh.index[id].model.document.clear();\n      delete Bokeh.index[id];\n    }\n\n    if (server_id !== undefined) {\n      // Clean up Bokeh references\n      const cmd_clean = \"from bokeh.io.state import curstate; print(curstate().uuid_to_server['\" + server_id + \"'].get_sessions()[0].document.roots[0]._id)\";\n      cell.notebook.kernel.execute(cmd_clean, {\n        iopub: {\n          output: function(msg) {\n            const id = msg.content.text.trim();\n            if (id in Bokeh.index) {\n              Bokeh.index[id].model.document.clear();\n              delete Bokeh.index[id];\n            }\n          }\n        }\n      });\n      // Destroy server and session\n      const cmd_destroy = \"import bokeh.io.notebook as ion; ion.destroy_server('\" + server_id + \"')\";\n      cell.notebook.kernel.execute(cmd_destroy);\n    }\n  }\n\n  /**\n   * Handle when a new output is added\n   */\n  function handleAddOutput(event, handle) {\n    const output_area = handle.output_area;\n    const output = handle.output;\n\n    // limit handleAddOutput to display_data with EXEC_MIME_TYPE content only\n    if ((output.output_type != \"display_data\") || (!Object.prototype.hasOwnProperty.call(output.data, EXEC_MIME_TYPE))) {\n      return\n    }\n\n    const toinsert = output_area.element.find(\".\" + CLASS_NAME.split(' ')[0]);\n\n    if (output.metadata[EXEC_MIME_TYPE][\"id\"] !== undefined) {\n      toinsert[toinsert.length - 1].firstChild.textContent = output.data[JS_MIME_TYPE];\n      // store reference to embed id on output_area\n      output_area._bokeh_element_id = output.metadata[EXEC_MIME_TYPE][\"id\"];\n    }\n    if (output.metadata[EXEC_MIME_TYPE][\"server_id\"] !== undefined) {\n      const bk_div = document.createElement(\"div\");\n      bk_div.innerHTML = output.data[HTML_MIME_TYPE];\n      const script_attrs = bk_div.children[0].attributes;\n      for (let i = 0; i < script_attrs.length; i++) {\n        toinsert[toinsert.length - 1].firstChild.setAttribute(script_attrs[i].name, script_attrs[i].value);\n        toinsert[toinsert.length - 1].firstChild.textContent = bk_div.children[0].textContent\n      }\n      // store reference to server id on output_area\n      output_area._bokeh_server_id = output.metadata[EXEC_MIME_TYPE][\"server_id\"];\n    }\n  }\n\n  function register_renderer(events, OutputArea) {\n\n    function append_mime(data, metadata, element) {\n      // create a DOM node to render to\n      const toinsert = this.create_output_subarea(\n        metadata,\n        CLASS_NAME,\n        EXEC_MIME_TYPE\n      );\n      this.keyboard_manager.register_events(toinsert);\n      // Render to node\n      const props = {data: data, metadata: metadata[EXEC_MIME_TYPE]};\n      render(props, toinsert[toinsert.length - 1]);\n      element.append(toinsert);\n      return toinsert\n    }\n\n    /* Handle when an output is cleared or removed */\n    events.on('clear_output.CodeCell', handleClearOutput);\n    events.on('delete.Cell', handleClearOutput);\n\n    /* Handle when a new output is added */\n    events.on('output_added.OutputArea', handleAddOutput);\n\n    /**\n     * Register the mime type and append_mime function with output_area\n     */\n    OutputArea.prototype.register_mime_type(EXEC_MIME_TYPE, append_mime, {\n      /* Is output safe? */\n      safe: true,\n      /* Index of renderer in `output_area.display_order` */\n      index: 0\n    });\n  }\n\n  // register the mime type if in Jupyter Notebook environment and previously unregistered\n  if (root.Jupyter !== undefined) {\n    const events = require('base/js/events');\n    const OutputArea = require('notebook/js/outputarea').OutputArea;\n\n    if (OutputArea.prototype.mime_types().indexOf(EXEC_MIME_TYPE) == -1) {\n      register_renderer(events, OutputArea);\n    }\n  }\n  if (typeof (root._bokeh_timeout) === \"undefined\" || force === true) {\n    root._bokeh_timeout = Date.now() + 5000;\n    root._bokeh_failed_load = false;\n  }\n\n  const NB_LOAD_WARNING = {'data': {'text/html':\n     \"<div style='background-color: #fdd'>\\n\"+\n     \"<p>\\n\"+\n     \"BokehJS does not appear to have successfully loaded. If loading BokehJS from CDN, this \\n\"+\n     \"may be due to a slow or bad network connection. Possible fixes:\\n\"+\n     \"</p>\\n\"+\n     \"<ul>\\n\"+\n     \"<li>re-rerun `output_notebook()` to attempt to load from CDN again, or</li>\\n\"+\n     \"<li>use INLINE resources instead, as so:</li>\\n\"+\n     \"</ul>\\n\"+\n     \"<code>\\n\"+\n     \"from bokeh.resources import INLINE\\n\"+\n     \"output_notebook(resources=INLINE)\\n\"+\n     \"</code>\\n\"+\n     \"</div>\"}};\n\n  function display_loaded() {\n    const el = document.getElementById(\"p1011\");\n    if (el != null) {\n      el.textContent = \"BokehJS is loading...\";\n    }\n    if (root.Bokeh !== undefined) {\n      if (el != null) {\n        el.textContent = \"BokehJS \" + root.Bokeh.version + \" successfully loaded.\";\n      }\n    } else if (Date.now() < root._bokeh_timeout) {\n      setTimeout(display_loaded, 100)\n    }\n  }\n\n  function run_callbacks() {\n    try {\n      root._bokeh_onload_callbacks.forEach(function(callback) {\n        if (callback != null)\n          callback();\n      });\n    } finally {\n      delete root._bokeh_onload_callbacks\n    }\n    console.debug(\"Bokeh: all callbacks have finished\");\n  }\n\n  function load_libs(css_urls, js_urls, callback) {\n    if (css_urls == null) css_urls = [];\n    if (js_urls == null) js_urls = [];\n\n    root._bokeh_onload_callbacks.push(callback);\n    if (root._bokeh_is_loading > 0) {\n      console.debug(\"Bokeh: BokehJS is being loaded, scheduling callback at\", now());\n      return null;\n    }\n    if (js_urls == null || js_urls.length === 0) {\n      run_callbacks();\n      return null;\n    }\n    console.debug(\"Bokeh: BokehJS not loaded, scheduling load and callback at\", now());\n    root._bokeh_is_loading = css_urls.length + js_urls.length;\n\n    function on_load() {\n      root._bokeh_is_loading--;\n      if (root._bokeh_is_loading === 0) {\n        console.debug(\"Bokeh: all BokehJS libraries/stylesheets loaded\");\n        run_callbacks()\n      }\n    }\n\n    function on_error(url) {\n      console.error(\"failed to load \" + url);\n    }\n\n    for (let i = 0; i < css_urls.length; i++) {\n      const url = css_urls[i];\n      const element = document.createElement(\"link\");\n      element.onload = on_load;\n      element.onerror = on_error.bind(null, url);\n      element.rel = \"stylesheet\";\n      element.type = \"text/css\";\n      element.href = url;\n      console.debug(\"Bokeh: injecting link tag for BokehJS stylesheet: \", url);\n      document.body.appendChild(element);\n    }\n\n    for (let i = 0; i < js_urls.length; i++) {\n      const url = js_urls[i];\n      const element = document.createElement('script');\n      element.onload = on_load;\n      element.onerror = on_error.bind(null, url);\n      element.async = false;\n      element.src = url;\n      console.debug(\"Bokeh: injecting script tag for BokehJS library: \", url);\n      document.head.appendChild(element);\n    }\n  };\n\n  function inject_raw_css(css) {\n    const element = document.createElement(\"style\");\n    element.appendChild(document.createTextNode(css));\n    document.body.appendChild(element);\n  }\n\n  const js_urls = [\"https://cdn.bokeh.org/bokeh/release/bokeh-3.1.0.min.js\", \"https://cdn.bokeh.org/bokeh/release/bokeh-gl-3.1.0.min.js\", \"https://cdn.bokeh.org/bokeh/release/bokeh-widgets-3.1.0.min.js\", \"https://cdn.bokeh.org/bokeh/release/bokeh-tables-3.1.0.min.js\", \"https://cdn.bokeh.org/bokeh/release/bokeh-mathjax-3.1.0.min.js\"];\n  const css_urls = [];\n\n  const inline_js = [    function(Bokeh) {\n      Bokeh.set_log_level(\"info\");\n    },\nfunction(Bokeh) {\n    }\n  ];\n\n  function run_inline_js() {\n    if (root.Bokeh !== undefined || force === true) {\n          for (let i = 0; i < inline_js.length; i++) {\n      inline_js[i].call(root, root.Bokeh);\n    }\nif (force === true) {\n        display_loaded();\n      }} else if (Date.now() < root._bokeh_timeout) {\n      setTimeout(run_inline_js, 100);\n    } else if (!root._bokeh_failed_load) {\n      console.log(\"Bokeh: BokehJS failed to load within specified timeout.\");\n      root._bokeh_failed_load = true;\n    } else if (force !== true) {\n      const cell = $(document.getElementById(\"p1011\")).parents('.cell').data().cell;\n      cell.output_area.append_execute_result(NB_LOAD_WARNING)\n    }\n  }\n\n  if (root._bokeh_is_loading === 0) {\n    console.debug(\"Bokeh: BokehJS loaded, going straight to plotting\");\n    run_inline_js();\n  } else {\n    load_libs(css_urls, js_urls, function() {\n      console.debug(\"Bokeh: BokehJS plotting callback run at\", now());\n      run_inline_js();\n    });\n  }\n}(window));",
      "application/vnd.bokehjs_load.v0+json": ""
     },
     "metadata": {},
     "output_type": "display_data"
    },
    {
     "ename": "AttributeError",
     "evalue": "unexpected attribute 'plot_width' to figure, similar attributes are outer_width, width or min_width",
     "output_type": "error",
     "traceback": [
      "\u001b[0;31m---------------------------------------------------------------------------\u001b[0m",
      "\u001b[0;31mAttributeError\u001b[0m                            Traceback (most recent call last)",
      "Cell \u001b[0;32mIn[34], line 30\u001b[0m\n\u001b[1;32m     25\u001b[0m         \u001b[39mreturn\u001b[39;00m [\u001b[39mself\u001b[39m\u001b[39m.\u001b[39mhovertool(), standard_tools]\n\u001b[1;32m     28\u001b[0m hover \u001b[39m=\u001b[39m HoverHelper(tuner)\n\u001b[0;32m---> 30\u001b[0m p \u001b[39m=\u001b[39m figure(plot_width\u001b[39m=\u001b[39;49m\u001b[39m900\u001b[39;49m, plot_height\u001b[39m=\u001b[39;49m\u001b[39m400\u001b[39;49m, tools\u001b[39m=\u001b[39;49mhover\u001b[39m.\u001b[39;49mtools(), x_axis_type\u001b[39m=\u001b[39;49m\u001b[39m\"\u001b[39;49m\u001b[39mdatetime\u001b[39;49m\u001b[39m\"\u001b[39;49m)\n\u001b[1;32m     31\u001b[0m p\u001b[39m.\u001b[39mcircle(source\u001b[39m=\u001b[39mdf, x\u001b[39m=\u001b[39m\u001b[39m\"\u001b[39m\u001b[39mTrainingStartTime\u001b[39m\u001b[39m\"\u001b[39m, y\u001b[39m=\u001b[39m\u001b[39m\"\u001b[39m\u001b[39mFinalObjectiveValue\u001b[39m\u001b[39m\"\u001b[39m)\n\u001b[1;32m     32\u001b[0m show(p)\n",
      "File \u001b[0;32m~/opt/anaconda3/envs/datascience/lib/python3.9/site-packages/bokeh/plotting/_figure.py:190\u001b[0m, in \u001b[0;36mfigure.__init__\u001b[0;34m(self, *arg, **kw)\u001b[0m\n\u001b[1;32m    188\u001b[0m \u001b[39mfor\u001b[39;00m name \u001b[39min\u001b[39;00m kw\u001b[39m.\u001b[39mkeys():\n\u001b[1;32m    189\u001b[0m     \u001b[39mif\u001b[39;00m name \u001b[39mnot\u001b[39;00m \u001b[39min\u001b[39;00m names:\n\u001b[0;32m--> 190\u001b[0m         \u001b[39mself\u001b[39;49m\u001b[39m.\u001b[39;49m_raise_attribute_error_with_matches(name, names \u001b[39m|\u001b[39;49m opts\u001b[39m.\u001b[39;49mproperties())\n\u001b[1;32m    192\u001b[0m \u001b[39msuper\u001b[39m()\u001b[39m.\u001b[39m\u001b[39m__init__\u001b[39m(\u001b[39m*\u001b[39marg, \u001b[39m*\u001b[39m\u001b[39m*\u001b[39mkw)\n\u001b[1;32m    194\u001b[0m \u001b[39mself\u001b[39m\u001b[39m.\u001b[39mx_range \u001b[39m=\u001b[39m get_range(opts\u001b[39m.\u001b[39mx_range)\n",
      "File \u001b[0;32m~/opt/anaconda3/envs/datascience/lib/python3.9/site-packages/bokeh/core/has_props.py:368\u001b[0m, in \u001b[0;36mHasProps._raise_attribute_error_with_matches\u001b[0;34m(self, name, properties)\u001b[0m\n\u001b[1;32m    365\u001b[0m \u001b[39mif\u001b[39;00m \u001b[39mnot\u001b[39;00m matches:\n\u001b[1;32m    366\u001b[0m     matches, text \u001b[39m=\u001b[39m \u001b[39msorted\u001b[39m(properties), \u001b[39m\"\u001b[39m\u001b[39mpossible\u001b[39m\u001b[39m\"\u001b[39m\n\u001b[0;32m--> 368\u001b[0m \u001b[39mraise\u001b[39;00m \u001b[39mAttributeError\u001b[39;00m(\u001b[39mf\u001b[39m\u001b[39m\"\u001b[39m\u001b[39munexpected attribute \u001b[39m\u001b[39m{\u001b[39;00mname\u001b[39m!r}\u001b[39;00m\u001b[39m to \u001b[39m\u001b[39m{\u001b[39;00m\u001b[39mself\u001b[39m\u001b[39m.\u001b[39m\u001b[39m__class__\u001b[39m\u001b[39m.\u001b[39m\u001b[39m__name__\u001b[39m\u001b[39m}\u001b[39;00m\u001b[39m, \u001b[39m\u001b[39m{\u001b[39;00mtext\u001b[39m}\u001b[39;00m\u001b[39m attributes are \u001b[39m\u001b[39m{\u001b[39;00mnice_join(matches)\u001b[39m}\u001b[39;00m\u001b[39m\"\u001b[39m)\n",
      "\u001b[0;31mAttributeError\u001b[0m: unexpected attribute 'plot_width' to figure, similar attributes are outer_width, width or min_width"
     ]
    }
   ],
   "source": [
    "import bokeh\n",
    "import bokeh.io\n",
    "\n",
    "bokeh.io.output_notebook()\n",
    "from bokeh.plotting import figure, show\n",
    "from bokeh.models import HoverTool\n",
    "\n",
    "\n",
    "class HoverHelper:\n",
    "    def __init__(self, tuning_analytics):\n",
    "        self.tuner = tuning_analytics\n",
    "\n",
    "    def hovertool(self):\n",
    "        tooltips = [\n",
    "            (\"FinalObjectiveValue\", \"@FinalObjectiveValue\"),\n",
    "            (\"TrainingJobName\", \"@TrainingJobName\"),\n",
    "        ]\n",
    "        for k in self.tuner.tuning_ranges.keys():\n",
    "            tooltips.append((k, \"@{%s}\" % k))\n",
    "\n",
    "        ht = HoverTool(tooltips=tooltips)\n",
    "        return ht\n",
    "\n",
    "    def tools(self, standard_tools=\"pan,crosshair,wheel_zoom,zoom_in,zoom_out,undo,reset\"):\n",
    "        return [self.hovertool(), standard_tools]\n",
    "\n",
    "\n",
    "hover = HoverHelper(tuner)\n",
    "\n",
    "p = figure(plot_width=900, plot_height=400, tools=hover.tools(), x_axis_type=\"datetime\")\n",
    "p.circle(source=df, x=\"TrainingStartTime\", y=\"FinalObjectiveValue\")\n",
    "show(p)"
   ]
  },
  {
   "cell_type": "code",
   "execution_count": 35,
   "id": "d3a1fd37",
   "metadata": {},
   "outputs": [
    {
     "ename": "AttributeError",
     "evalue": "unexpected attribute 'plot_width' to figure, similar attributes are outer_width, width or min_width",
     "output_type": "error",
     "traceback": [
      "\u001b[0;31m---------------------------------------------------------------------------\u001b[0m",
      "\u001b[0;31mAttributeError\u001b[0m                            Traceback (most recent call last)",
      "Cell \u001b[0;32mIn[35], line 23\u001b[0m\n\u001b[1;32m     20\u001b[0m         categorical_args[\u001b[39m\"\u001b[39m\u001b[39mx_range\u001b[39m\u001b[39m\"\u001b[39m] \u001b[39m=\u001b[39m vals\n\u001b[1;32m     22\u001b[0m \u001b[39m# Now plot it\u001b[39;00m\n\u001b[0;32m---> 23\u001b[0m p \u001b[39m=\u001b[39m figure(\n\u001b[1;32m     24\u001b[0m     plot_width\u001b[39m=\u001b[39;49m\u001b[39m500\u001b[39;49m,\n\u001b[1;32m     25\u001b[0m     plot_height\u001b[39m=\u001b[39;49m\u001b[39m500\u001b[39;49m,\n\u001b[1;32m     26\u001b[0m     title\u001b[39m=\u001b[39;49m\u001b[39m\"\u001b[39;49m\u001b[39mObjective vs \u001b[39;49m\u001b[39m%s\u001b[39;49;00m\u001b[39m\"\u001b[39;49m \u001b[39m%\u001b[39;49m hp_name,\n\u001b[1;32m     27\u001b[0m     tools\u001b[39m=\u001b[39;49mhover\u001b[39m.\u001b[39;49mtools(),\n\u001b[1;32m     28\u001b[0m     x_axis_label\u001b[39m=\u001b[39;49mhp_name,\n\u001b[1;32m     29\u001b[0m     y_axis_label\u001b[39m=\u001b[39;49mobjective_name,\n\u001b[1;32m     30\u001b[0m     \u001b[39m*\u001b[39;49m\u001b[39m*\u001b[39;49mcategorical_args,\n\u001b[1;32m     31\u001b[0m )\n\u001b[1;32m     32\u001b[0m p\u001b[39m.\u001b[39mcircle(source\u001b[39m=\u001b[39mdf, x\u001b[39m=\u001b[39mhp_name, y\u001b[39m=\u001b[39m\u001b[39m\"\u001b[39m\u001b[39mFinalObjectiveValue\u001b[39m\u001b[39m\"\u001b[39m)\n\u001b[1;32m     33\u001b[0m figures\u001b[39m.\u001b[39mappend(p)\n",
      "File \u001b[0;32m~/opt/anaconda3/envs/datascience/lib/python3.9/site-packages/bokeh/plotting/_figure.py:190\u001b[0m, in \u001b[0;36mfigure.__init__\u001b[0;34m(self, *arg, **kw)\u001b[0m\n\u001b[1;32m    188\u001b[0m \u001b[39mfor\u001b[39;00m name \u001b[39min\u001b[39;00m kw\u001b[39m.\u001b[39mkeys():\n\u001b[1;32m    189\u001b[0m     \u001b[39mif\u001b[39;00m name \u001b[39mnot\u001b[39;00m \u001b[39min\u001b[39;00m names:\n\u001b[0;32m--> 190\u001b[0m         \u001b[39mself\u001b[39;49m\u001b[39m.\u001b[39;49m_raise_attribute_error_with_matches(name, names \u001b[39m|\u001b[39;49m opts\u001b[39m.\u001b[39;49mproperties())\n\u001b[1;32m    192\u001b[0m \u001b[39msuper\u001b[39m()\u001b[39m.\u001b[39m\u001b[39m__init__\u001b[39m(\u001b[39m*\u001b[39marg, \u001b[39m*\u001b[39m\u001b[39m*\u001b[39mkw)\n\u001b[1;32m    194\u001b[0m \u001b[39mself\u001b[39m\u001b[39m.\u001b[39mx_range \u001b[39m=\u001b[39m get_range(opts\u001b[39m.\u001b[39mx_range)\n",
      "File \u001b[0;32m~/opt/anaconda3/envs/datascience/lib/python3.9/site-packages/bokeh/core/has_props.py:368\u001b[0m, in \u001b[0;36mHasProps._raise_attribute_error_with_matches\u001b[0;34m(self, name, properties)\u001b[0m\n\u001b[1;32m    365\u001b[0m \u001b[39mif\u001b[39;00m \u001b[39mnot\u001b[39;00m matches:\n\u001b[1;32m    366\u001b[0m     matches, text \u001b[39m=\u001b[39m \u001b[39msorted\u001b[39m(properties), \u001b[39m\"\u001b[39m\u001b[39mpossible\u001b[39m\u001b[39m\"\u001b[39m\n\u001b[0;32m--> 368\u001b[0m \u001b[39mraise\u001b[39;00m \u001b[39mAttributeError\u001b[39;00m(\u001b[39mf\u001b[39m\u001b[39m\"\u001b[39m\u001b[39munexpected attribute \u001b[39m\u001b[39m{\u001b[39;00mname\u001b[39m!r}\u001b[39;00m\u001b[39m to \u001b[39m\u001b[39m{\u001b[39;00m\u001b[39mself\u001b[39m\u001b[39m.\u001b[39m\u001b[39m__class__\u001b[39m\u001b[39m.\u001b[39m\u001b[39m__name__\u001b[39m\u001b[39m}\u001b[39;00m\u001b[39m, \u001b[39m\u001b[39m{\u001b[39;00mtext\u001b[39m}\u001b[39;00m\u001b[39m attributes are \u001b[39m\u001b[39m{\u001b[39;00mnice_join(matches)\u001b[39m}\u001b[39;00m\u001b[39m\"\u001b[39m)\n",
      "\u001b[0;31mAttributeError\u001b[0m: unexpected attribute 'plot_width' to figure, similar attributes are outer_width, width or min_width"
     ]
    }
   ],
   "source": [
    "ranges = tuner.tuning_ranges\n",
    "figures = []\n",
    "for hp_name, hp_range in ranges.items():\n",
    "    categorical_args = {}\n",
    "    if hp_range.get(\"Values\"):\n",
    "        # This is marked as categorical.  Check if all options are actually numbers.\n",
    "        def is_num(x):\n",
    "            try:\n",
    "                float(x)\n",
    "                return 1\n",
    "            except:\n",
    "                return 0\n",
    "\n",
    "        vals = hp_range[\"Values\"]\n",
    "        if sum([is_num(x) for x in vals]) == len(vals):\n",
    "            # Bokeh has issues plotting a \"categorical\" range that's actually numeric, so plot as numeric\n",
    "            print(\"Hyperparameter %s is tuned as categorical, but all values are numeric\" % hp_name)\n",
    "        else:\n",
    "            # Set up extra options for plotting categoricals.  A bit tricky when they're actually numbers.\n",
    "            categorical_args[\"x_range\"] = vals\n",
    "\n",
    "    # Now plot it\n",
    "    p = figure(\n",
    "        plot_width=500,\n",
    "        plot_height=500,\n",
    "        title=\"Objective vs %s\" % hp_name,\n",
    "        tools=hover.tools(),\n",
    "        x_axis_label=hp_name,\n",
    "        y_axis_label=objective_name,\n",
    "        **categorical_args,\n",
    "    )\n",
    "    p.circle(source=df, x=hp_name, y=\"FinalObjectiveValue\")\n",
    "    figures.append(p)\n",
    "show(bokeh.layouts.Column(*figures))"
   ]
  },
  {
   "cell_type": "code",
   "execution_count": null,
   "id": "5da5d4cc",
   "metadata": {},
   "outputs": [],
   "source": [
    "print(f\"Data split > train:{train_data.shape} | validation:{validation_data.shape} | test:{test_data.shape}\")\n",
    "    \n",
    "# Save datasets locally\n",
    "train_data.to_csv(os.path.join(args.outputpath, 'train/train.csv'), index=False, header=False)\n",
    "validation_data.to_csv(os.path.join(args.outputpath, 'validation/validation.csv'), index=False, header=False)\n",
    "test_data[target_col].to_csv(os.path.join(args.outputpath, 'test/test_y.csv'), index=False, header=False)\n",
    "test_data.drop([target_col], axis=1).to_csv(os.path.join(args.outputpath, 'test/test_x.csv'), index=False, header=False)\n",
    "\n",
    "# Save the baseline dataset for model monitoring\n",
    "df_model_data.drop([target_col], axis=1).to_csv(os.path.join(args.outputpath, 'baseline/baseline.csv'), index=False, header=False)\n",
    "\n",
    "print(\"## Processing complete. Exiting.\")"
   ]
  },
  {
   "cell_type": "code",
   "execution_count": null,
   "id": "c03abd45",
   "metadata": {},
   "outputs": [],
   "source": []
  },
  {
   "cell_type": "code",
   "execution_count": null,
   "id": "cc65545a",
   "metadata": {},
   "outputs": [],
   "source": []
  },
  {
   "cell_type": "code",
   "execution_count": null,
   "id": "3a3d5487",
   "metadata": {},
   "outputs": [],
   "source": []
  },
  {
   "cell_type": "code",
   "execution_count": null,
   "id": "a0ea02ee",
   "metadata": {},
   "outputs": [],
   "source": []
  },
  {
   "cell_type": "code",
   "execution_count": null,
   "id": "77a9ae96",
   "metadata": {},
   "outputs": [],
   "source": []
  },
  {
   "cell_type": "code",
   "execution_count": 41,
   "id": "70fb036f",
   "metadata": {},
   "outputs": [
    {
     "data": {
      "text/plain": [
       "<AxesSubplot: title={'center': 'Duration of calls histogram [sec]'}, ylabel='Frequency'>"
      ]
     },
     "execution_count": 41,
     "metadata": {},
     "output_type": "execute_result"
    },
    {
     "data": {
      "image/png": "[encoded data removed]",
      "text/plain": [
       "<Figure size 500x500 with 1 Axes>"
      ]
     },
     "metadata": {},
     "output_type": "display_data"
    }
   ],
   "source": [
    "# plot the duration data and color it by the target variable\n",
    "df.duration.plot(kind='hist', bins=100, title='Duration of calls histogram [sec]')"
   ]
  },
  {
   "cell_type": "code",
   "execution_count": 54,
   "id": "7c44e1a7",
   "metadata": {},
   "outputs": [
    {
     "data": {
      "text/plain": [
       "count    4640.000000\n",
       "mean        9.219853\n",
       "std         6.686198\n",
       "min         0.616667\n",
       "25%         4.216667\n",
       "50%         7.483333\n",
       "75%        12.354167\n",
       "max        69.983333\n",
       "Name: duration, dtype: float64"
      ]
     },
     "execution_count": 54,
     "metadata": {},
     "output_type": "execute_result"
    }
   ],
   "source": [
    "# how long does a call usually take if the call was not successful? \n",
    "(df.loc[(df[\"duration\"]>0) & (df[\"y\"]==1)].duration/60).describe()"
   ]
  },
  {
   "cell_type": "code",
   "execution_count": 55,
   "id": "f7d278e1",
   "metadata": {},
   "outputs": [
    {
     "data": {
      "text/plain": [
       "count    36544.000000\n",
       "mean         3.681150\n",
       "std          3.451579\n",
       "min          0.016667\n",
       "25%          1.583333\n",
       "50%          2.733333\n",
       "75%          4.650000\n",
       "max         81.966667\n",
       "Name: duration, dtype: float64"
      ]
     },
     "execution_count": 55,
     "metadata": {},
     "output_type": "execute_result"
    }
   ],
   "source": [
    "# how long does a call usually take if the call was not successful? \n",
    "(df.loc[(df[\"duration\"]>0) & (df[\"y\"]==0)].duration/60).describe()"
   ]
  },
  {
   "cell_type": "markdown",
   "id": "a54dbde5-15a2-4cf1-b2a8-6874fe36d6da",
   "metadata": {},
   "source": [
    "## Further development ideas for your real-world projects"
   ]
  },
  {
   "cell_type": "markdown",
   "id": "4b5b8d21-26cc-49a8-a4f3-51d911c734d3",
   "metadata": {},
   "source": [
    "## Additional resources\n",
    "- [Safely validate models in production](https://docs.aws.amazon.com/sagemaker/latest/dg/model-validation.html)\n",
    "- [A/B Testing with Amazon SageMaker](https://sagemaker-examples.readthedocs.io/en/latest/sagemaker_endpoints/a_b_testing/a_b_testing.html)\n",
    "- [A/B Testing ML models in production using Amazon SageMaker](https://aws.amazon.com/blogs/machine-learning/a-b-testing-ml-models-in-production-using-amazon-sagemaker/)"
   ]
  },
  {
   "cell_type": "markdown",
   "id": "07855d7c-b8c5-4dcb-92dd-827826598bd4",
   "metadata": {
    "tags": []
   },
   "source": [
    "# Shutdown kernel"
   ]
  },
  {
   "cell_type": "code",
   "execution_count": null,
   "id": "839acc36-64ce-4a05-b15b-2c203e6184c1",
   "metadata": {},
   "outputs": [],
   "source": [
    "%%html\n",
    "\n",
    "<p><b>Shutting down your kernel for this notebook to release resources.</b></p>\n",
    "<button class=\"sm-command-button\" data-commandlinker-command=\"kernelmenu:shutdown\" style=\"display:none;\">Shutdown Kernel</button>\n",
    "        \n",
    "<script>\n",
    "try {\n",
    "    els = document.getElementsByClassName(\"sm-command-button\");\n",
    "    els[0].click();\n",
    "}\n",
    "catch(err) {\n",
    "    // NoOp\n",
    "}    \n",
    "</script>"
   ]
  },
  {
   "cell_type": "code",
   "execution_count": null,
   "id": "1064f4c0",
   "metadata": {},
   "outputs": [],
   "source": []
  }
 ],
 "metadata": {
  "instance_type": "ml.t3.medium",
  "kernelspec": {
   "display_name": "datascience",
   "language": "python",
   "name": "python3"
  },
  "language_info": {
   "codemirror_mode": {
    "name": "ipython",
    "version": 3
   },
   "file_extension": ".py",
   "mimetype": "text/x-python",
   "name": "python",
   "nbconvert_exporter": "python",
   "pygments_lexer": "ipython3",
   "version": "3.9.16"
  }
 },
 "nbformat": 4,
 "nbformat_minor": 5
}
